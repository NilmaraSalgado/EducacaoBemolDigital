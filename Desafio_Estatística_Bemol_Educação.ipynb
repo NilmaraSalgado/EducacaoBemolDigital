{
  "nbformat": 4,
  "nbformat_minor": 0,
  "metadata": {
    "colab": {
      "name": "Desafio_Estatística_Bemol_Educação.ipynb",
      "provenance": [],
      "collapsed_sections": [],
      "include_colab_link": true
    },
    "kernelspec": {
      "name": "python3",
      "display_name": "Python 3"
    },
    "language_info": {
      "name": "python"
    }
  },
  "cells": [
    {
      "cell_type": "markdown",
      "metadata": {
        "id": "view-in-github",
        "colab_type": "text"
      },
      "source": [
        "<a href=\"https://colab.research.google.com/github/NilmaraSalgado/EducacaoBemolDigital/blob/cursoEstatistica/Desafio_Estat%C3%ADstica_Bemol_Educa%C3%A7%C3%A3o.ipynb\" target=\"_parent\"><img src=\"https://colab.research.google.com/assets/colab-badge.svg\" alt=\"Open In Colab\"/></a>"
      ]
    },
    {
      "cell_type": "markdown",
      "metadata": {
        "id": "gEZCuji075uI"
      },
      "source": [
        "# **DESAFIO CURSO ESTATÍSTICA**\n",
        "\n",
        "Nilmara Salgado"
      ]
    },
    {
      "cell_type": "markdown",
      "metadata": {
        "id": "eTMBoTFiaB-s"
      },
      "source": [
        "## **1 Definição do Objetivo da Análise**"
      ]
    },
    {
      "cell_type": "markdown",
      "metadata": {
        "id": "RdT9ZMqMIG5l"
      },
      "source": [
        "**Fazer uma análise da performance de vendas de lojas físicas X bol (vendas onlines) para o segundo semestre de 2020 - Manaus.**\n"
      ]
    },
    {
      "cell_type": "markdown",
      "metadata": {
        "id": "KHBFAbNtWbTh"
      },
      "source": [
        "### 1.1 Entender o problema\n",
        "\n",
        "* Olhar o número de vendas por loja; \n",
        "* Separar por tipo de negócio: lojas físicas X bol (online)"
      ]
    },
    {
      "cell_type": "markdown",
      "metadata": {
        "id": "kvAbxdbAaOc3"
      },
      "source": [
        "### 1.2 Coletar os dados"
      ]
    },
    {
      "cell_type": "markdown",
      "metadata": {
        "id": "xWXn_SjXIPcV"
      },
      "source": [
        "* Arquivo utilizado: dados_vendas_lojas.csv\n",
        "  \n",
        " - **DATA**: data da compra\n",
        " - **ID_LOJA**: loja em que foi realizada a compra\n",
        " - **SEGMENTO**: segmento Bemol (Varejo ou Farma) e se é loja física ou online\n",
        " - **QUANTIDADE_PARCELAS**: quantidade de parcelas para pagamento da compra\n",
        " - **VALOR_PARCELA**: valor de cada parcela a ser paga\n",
        " - **FORMA_PAGAMENTO**: forma de pagamento da compra (cartão Bemol, dinheiro, débito, crédito, vale-crédito, bônus...)\n",
        " - **VALOR_COMPRA**: valor em R$ da compra\n",
        " -  **NOME_LOJA_CURTO**: Nome da Loja\n",
        " -\t**ENDERECO**: Endereço da loja\n",
        " -\t**BAIRRO**: Bairro da loja\n",
        " - \t**CIDADE**: Cidade da loja\n",
        " - \t**UF**: UF da loja\n",
        " -\t**CEP**: CEP do endereço da loja\n",
        " -  **lat_lon**: latitude e longitude do endereço da loja"
      ]
    },
    {
      "cell_type": "markdown",
      "metadata": {
        "id": "2d9lGwgmZe_K"
      },
      "source": [
        "## **2 Carregamento dos dados no ambiente de análise**"
      ]
    },
    {
      "cell_type": "markdown",
      "metadata": {
        "id": "WEgXha21oY0q"
      },
      "source": [
        "###2.1 Leitura de Arquivos"
      ]
    },
    {
      "cell_type": "code",
      "metadata": {
        "id": "BFdR1OgedN3Y"
      },
      "source": [
        "#realizar importações de bibliotecas\n",
        "import pandas as pd\n",
        "import numpy as np\n",
        "import seaborn as sns\n",
        "import plotly.express as px\n",
        "import datetime"
      ],
      "execution_count": null,
      "outputs": []
    },
    {
      "cell_type": "code",
      "metadata": {
        "id": "N7XJhKGKrrmF"
      },
      "source": [
        "#ler o arquivo de dados, tipo CSV.\n",
        "df_vendas =  pd.read_csv('/content/dados_vendas_lojas.csv', sep = ';')"
      ],
      "execution_count": null,
      "outputs": []
    },
    {
      "cell_type": "markdown",
      "metadata": {
        "id": "8PGBiGinoiG7"
      },
      "source": [
        "###2.2 Visualização de DataFrames"
      ]
    },
    {
      "cell_type": "code",
      "metadata": {
        "colab": {
          "base_uri": "https://localhost:8080/"
        },
        "id": "Pls5GtCNr4a1",
        "outputId": "b661ac16-138b-412a-db3c-369f70e101a2"
      },
      "source": [
        "#identificar quantidade de linhas e colunas dos dados\n",
        "df_vendas.shape"
      ],
      "execution_count": null,
      "outputs": [
        {
          "output_type": "execute_result",
          "data": {
            "text/plain": [
              "(229803, 16)"
            ]
          },
          "metadata": {
            "tags": []
          },
          "execution_count": 3
        }
      ]
    },
    {
      "cell_type": "code",
      "metadata": {
        "colab": {
          "base_uri": "https://localhost:8080/"
        },
        "id": "HSrU7IcWmG9j",
        "outputId": "392f7c43-0beb-4269-b834-ba0073b05b92"
      },
      "source": [
        "#visualizar informações das colunas\n",
        "df_vendas.info()"
      ],
      "execution_count": null,
      "outputs": [
        {
          "output_type": "stream",
          "text": [
            "<class 'pandas.core.frame.DataFrame'>\n",
            "RangeIndex: 229803 entries, 0 to 229802\n",
            "Data columns (total 16 columns):\n",
            " #   Column               Non-Null Count   Dtype  \n",
            "---  ------               --------------   -----  \n",
            " 0   DATA                 229803 non-null  object \n",
            " 1   ANO                  229803 non-null  int64  \n",
            " 2   ID_LOJA              229803 non-null  int64  \n",
            " 3   SEGMENTO             229803 non-null  object \n",
            " 4   QUANTIDADE_PARCELAS  229803 non-null  int64  \n",
            " 5   VALOR_PARCELA        229803 non-null  float64\n",
            " 6   FORMA_PAGAMENTO      229803 non-null  object \n",
            " 7   VALOR_COMPRA         229803 non-null  float64\n",
            " 8   NOME_LOJA_CURTO      229803 non-null  object \n",
            " 9   ENDERECO             229803 non-null  object \n",
            " 10  BAIRRO               229803 non-null  object \n",
            " 11  CIDADE               229803 non-null  object \n",
            " 12  UF                   229803 non-null  object \n",
            " 13  CEP                  229803 non-null  object \n",
            " 14  latitude             229803 non-null  object \n",
            " 15  longitude            229803 non-null  object \n",
            "dtypes: float64(2), int64(3), object(11)\n",
            "memory usage: 28.1+ MB\n"
          ],
          "name": "stdout"
        }
      ]
    },
    {
      "cell_type": "code",
      "metadata": {
        "colab": {
          "base_uri": "https://localhost:8080/",
          "height": 351
        },
        "id": "3-pylW2lr5MM",
        "outputId": "a179047f-4573-44cf-fc0e-cfe1c1b8e41f"
      },
      "source": [
        "#visualizar base\n",
        "df_vendas.head(10)"
      ],
      "execution_count": null,
      "outputs": [
        {
          "output_type": "execute_result",
          "data": {
            "text/html": [
              "<div>\n",
              "<style scoped>\n",
              "    .dataframe tbody tr th:only-of-type {\n",
              "        vertical-align: middle;\n",
              "    }\n",
              "\n",
              "    .dataframe tbody tr th {\n",
              "        vertical-align: top;\n",
              "    }\n",
              "\n",
              "    .dataframe thead th {\n",
              "        text-align: right;\n",
              "    }\n",
              "</style>\n",
              "<table border=\"1\" class=\"dataframe\">\n",
              "  <thead>\n",
              "    <tr style=\"text-align: right;\">\n",
              "      <th></th>\n",
              "      <th>DATA</th>\n",
              "      <th>ANO</th>\n",
              "      <th>ID_LOJA</th>\n",
              "      <th>SEGMENTO</th>\n",
              "      <th>QUANTIDADE_PARCELAS</th>\n",
              "      <th>VALOR_PARCELA</th>\n",
              "      <th>FORMA_PAGAMENTO</th>\n",
              "      <th>VALOR_COMPRA</th>\n",
              "      <th>NOME_LOJA_CURTO</th>\n",
              "      <th>ENDERECO</th>\n",
              "      <th>BAIRRO</th>\n",
              "      <th>CIDADE</th>\n",
              "      <th>UF</th>\n",
              "      <th>CEP</th>\n",
              "      <th>latitude</th>\n",
              "      <th>longitude</th>\n",
              "    </tr>\n",
              "  </thead>\n",
              "  <tbody>\n",
              "    <tr>\n",
              "      <th>0</th>\n",
              "      <td>18/01/2019</td>\n",
              "      <td>2019</td>\n",
              "      <td>606</td>\n",
              "      <td>LOJA_FARMA</td>\n",
              "      <td>0</td>\n",
              "      <td>0.00</td>\n",
              "      <td>Credito</td>\n",
              "      <td>58.90</td>\n",
              "      <td>FARMACIA SHOP.P.NEGR</td>\n",
              "      <td>AV. CEL TEIXEIRA, 5705 LJ 40 E 41 1ºPISO</td>\n",
              "      <td>PONTA NEGRA</td>\n",
              "      <td>MANAUS</td>\n",
              "      <td>AM</td>\n",
              "      <td>69037-000</td>\n",
              "      <td>'-3.0847158'</td>\n",
              "      <td>'-60.0745733'</td>\n",
              "    </tr>\n",
              "    <tr>\n",
              "      <th>1</th>\n",
              "      <td>22/09/2019</td>\n",
              "      <td>2019</td>\n",
              "      <td>114</td>\n",
              "      <td>LOJA_VAREJO</td>\n",
              "      <td>4</td>\n",
              "      <td>222.55</td>\n",
              "      <td>Cartao_Bemol</td>\n",
              "      <td>1099.01</td>\n",
              "      <td>PONTA NEGRA</td>\n",
              "      <td>AV CORONEL TEIXEIRA, 7687 LJ 29</td>\n",
              "      <td>NOVA ESPERANÇA</td>\n",
              "      <td>MANAUS</td>\n",
              "      <td>AM</td>\n",
              "      <td>69037-473</td>\n",
              "      <td>-3.0887474'</td>\n",
              "      <td>' -60.0609608'</td>\n",
              "    </tr>\n",
              "    <tr>\n",
              "      <th>2</th>\n",
              "      <td>16/08/2019</td>\n",
              "      <td>2019</td>\n",
              "      <td>103</td>\n",
              "      <td>LOJA_VAREJO</td>\n",
              "      <td>0</td>\n",
              "      <td>0.00</td>\n",
              "      <td>Dinheiro</td>\n",
              "      <td>84.00</td>\n",
              "      <td>AVENIDA</td>\n",
              "      <td>AV. EDUARDO RIBEIRO, 423</td>\n",
              "      <td>CENTRO</td>\n",
              "      <td>MANAUS</td>\n",
              "      <td>AM</td>\n",
              "      <td>69010-001</td>\n",
              "      <td>'-3.1348972'</td>\n",
              "      <td>' -60.0241542'</td>\n",
              "    </tr>\n",
              "    <tr>\n",
              "      <th>3</th>\n",
              "      <td>30/10/2019</td>\n",
              "      <td>2019</td>\n",
              "      <td>115</td>\n",
              "      <td>LOJA_VAREJO</td>\n",
              "      <td>4</td>\n",
              "      <td>257.80</td>\n",
              "      <td>Cartao_Bemol</td>\n",
              "      <td>1289.00</td>\n",
              "      <td>CIDADE NOVA</td>\n",
              "      <td>AV. NOEL NUTELS, 1762 LJ 2</td>\n",
              "      <td>CIDADE NOVA</td>\n",
              "      <td>MANAUS</td>\n",
              "      <td>AM</td>\n",
              "      <td>69095-000</td>\n",
              "      <td>'-3.0357045'</td>\n",
              "      <td>' -59.9981643'</td>\n",
              "    </tr>\n",
              "    <tr>\n",
              "      <th>4</th>\n",
              "      <td>06/09/2019</td>\n",
              "      <td>2019</td>\n",
              "      <td>114</td>\n",
              "      <td>LOJA_VAREJO</td>\n",
              "      <td>0</td>\n",
              "      <td>0.00</td>\n",
              "      <td>Credito</td>\n",
              "      <td>1343.00</td>\n",
              "      <td>PONTA NEGRA</td>\n",
              "      <td>AV CORONEL TEIXEIRA, 7687 LJ 29</td>\n",
              "      <td>NOVA ESPERANÇA</td>\n",
              "      <td>MANAUS</td>\n",
              "      <td>AM</td>\n",
              "      <td>69037-473</td>\n",
              "      <td>'-3.0887474'</td>\n",
              "      <td>' -60.0609608'</td>\n",
              "    </tr>\n",
              "    <tr>\n",
              "      <th>5</th>\n",
              "      <td>29/06/2019</td>\n",
              "      <td>2019</td>\n",
              "      <td>105</td>\n",
              "      <td>LOJA_VAREJO</td>\n",
              "      <td>0</td>\n",
              "      <td>0.00</td>\n",
              "      <td>Credito</td>\n",
              "      <td>81.00</td>\n",
              "      <td>EDUCANDOS</td>\n",
              "      <td>AV. LEOPOLDO PERES, 199</td>\n",
              "      <td>EDUCANDOS</td>\n",
              "      <td>MANAUS</td>\n",
              "      <td>AM</td>\n",
              "      <td>69070-250</td>\n",
              "      <td>'-3.1396747'</td>\n",
              "      <td>' -60.0082218'</td>\n",
              "    </tr>\n",
              "    <tr>\n",
              "      <th>6</th>\n",
              "      <td>30/01/2019</td>\n",
              "      <td>2019</td>\n",
              "      <td>117</td>\n",
              "      <td>LOJA_VAREJO</td>\n",
              "      <td>0</td>\n",
              "      <td>0.00</td>\n",
              "      <td>Credito</td>\n",
              "      <td>148.00</td>\n",
              "      <td>MILLENNIUM</td>\n",
              "      <td>AV. DJALMA BATISTA, 1661 LJ 260</td>\n",
              "      <td>CHAPADA</td>\n",
              "      <td>MANAUS</td>\n",
              "      <td>AM</td>\n",
              "      <td>69050-010</td>\n",
              "      <td>'-3.0980445'</td>\n",
              "      <td>' -60.0241655'</td>\n",
              "    </tr>\n",
              "    <tr>\n",
              "      <th>7</th>\n",
              "      <td>29/08/2019</td>\n",
              "      <td>2019</td>\n",
              "      <td>119</td>\n",
              "      <td>LOJA_VAREJO</td>\n",
              "      <td>6</td>\n",
              "      <td>280.58</td>\n",
              "      <td>Cartao_Bemol</td>\n",
              "      <td>1964.02</td>\n",
              "      <td>MANAUARA</td>\n",
              "      <td>AV. MARIO YPIRANGA, 1300 LJ 5/6</td>\n",
              "      <td>ADRIANOPOLIS</td>\n",
              "      <td>MANAUS</td>\n",
              "      <td>AM</td>\n",
              "      <td>69057-002</td>\n",
              "      <td>'-3.1039422'</td>\n",
              "      <td>' -60.0135939'</td>\n",
              "    </tr>\n",
              "    <tr>\n",
              "      <th>8</th>\n",
              "      <td>29/07/2019</td>\n",
              "      <td>2019</td>\n",
              "      <td>120</td>\n",
              "      <td>LOJA_VAREJO</td>\n",
              "      <td>0</td>\n",
              "      <td>0.00</td>\n",
              "      <td>Credito</td>\n",
              "      <td>7001.28</td>\n",
              "      <td>PONTA NEGRA SHOPPING</td>\n",
              "      <td>AV. CEL TEIXEIRA, 5705 LJ 39 1º PISO</td>\n",
              "      <td>PONTA NEGRA</td>\n",
              "      <td>MANAUS</td>\n",
              "      <td>AM</td>\n",
              "      <td>69037-000</td>\n",
              "      <td>'-3.0847158'</td>\n",
              "      <td>'-60.0745733'</td>\n",
              "    </tr>\n",
              "    <tr>\n",
              "      <th>9</th>\n",
              "      <td>24/05/2019</td>\n",
              "      <td>2019</td>\n",
              "      <td>106</td>\n",
              "      <td>LOJA_FARMA</td>\n",
              "      <td>0</td>\n",
              "      <td>0.00</td>\n",
              "      <td>Credito</td>\n",
              "      <td>19.00</td>\n",
              "      <td>SHOPPING</td>\n",
              "      <td>AV. DJALMA BATISTA, 482</td>\n",
              "      <td>CHAPADA</td>\n",
              "      <td>MANAUS</td>\n",
              "      <td>AM</td>\n",
              "      <td>69050-010</td>\n",
              "      <td>'-3.0980445'</td>\n",
              "      <td>' -60.0241655'</td>\n",
              "    </tr>\n",
              "  </tbody>\n",
              "</table>\n",
              "</div>"
            ],
            "text/plain": [
              "         DATA   ANO  ID_LOJA  ...        CEP      latitude        longitude\n",
              "0  18/01/2019  2019      606  ...  69037-000  '-3.0847158'    '-60.0745733'\n",
              "1  22/09/2019  2019      114  ...  69037-473   -3.0887474'   ' -60.0609608'\n",
              "2  16/08/2019  2019      103  ...  69010-001  '-3.1348972'   ' -60.0241542'\n",
              "3  30/10/2019  2019      115  ...  69095-000  '-3.0357045'   ' -59.9981643'\n",
              "4  06/09/2019  2019      114  ...  69037-473  '-3.0887474'   ' -60.0609608'\n",
              "5  29/06/2019  2019      105  ...  69070-250  '-3.1396747'   ' -60.0082218'\n",
              "6  30/01/2019  2019      117  ...  69050-010  '-3.0980445'   ' -60.0241655'\n",
              "7  29/08/2019  2019      119  ...  69057-002  '-3.1039422'   ' -60.0135939'\n",
              "8  29/07/2019  2019      120  ...  69037-000  '-3.0847158'    '-60.0745733'\n",
              "9  24/05/2019  2019      106  ...  69050-010  '-3.0980445'   ' -60.0241655'\n",
              "\n",
              "[10 rows x 16 columns]"
            ]
          },
          "metadata": {
            "tags": []
          },
          "execution_count": 5
        }
      ]
    },
    {
      "cell_type": "markdown",
      "metadata": {
        "id": "NOZyqrcOoyE0"
      },
      "source": [
        "### 2.3 Tratamento de Dados"
      ]
    },
    {
      "cell_type": "code",
      "metadata": {
        "colab": {
          "base_uri": "https://localhost:8080/"
        },
        "id": "w21d4zWur441",
        "outputId": "f972f29c-a7c5-4e6b-b932-3326446690af"
      },
      "source": [
        "#verificar quantos valores nulos por colunas.\n",
        "df_vendas.isna().sum()"
      ],
      "execution_count": null,
      "outputs": [
        {
          "output_type": "execute_result",
          "data": {
            "text/plain": [
              "DATA                   0\n",
              "ANO                    0\n",
              "ID_LOJA                0\n",
              "SEGMENTO               0\n",
              "QUANTIDADE_PARCELAS    0\n",
              "VALOR_PARCELA          0\n",
              "FORMA_PAGAMENTO        0\n",
              "VALOR_COMPRA           0\n",
              "NOME_LOJA_CURTO        0\n",
              "ENDERECO               0\n",
              "BAIRRO                 0\n",
              "CIDADE                 0\n",
              "UF                     0\n",
              "CEP                    0\n",
              "latitude               0\n",
              "longitude              0\n",
              "dtype: int64"
            ]
          },
          "metadata": {
            "tags": []
          },
          "execution_count": 6
        }
      ]
    },
    {
      "cell_type": "code",
      "metadata": {
        "id": "rIazxxgIViDS"
      },
      "source": [
        "# usando o datetime para formatar a coluna 'DATA'\n",
        "df_vendas['DATA'] = pd.to_datetime(df_vendas['DATA'])\n",
        "df_vendas['MES'] = df_vendas['DATA'].apply(lambda x: str(x)[5:7])"
      ],
      "execution_count": null,
      "outputs": []
    },
    {
      "cell_type": "code",
      "metadata": {
        "colab": {
          "base_uri": "https://localhost:8080/"
        },
        "id": "Y-tQqrveW3lV",
        "outputId": "ec7af66a-1490-4aad-f9e6-ba8cb27e97db"
      },
      "source": [
        "#visualizar informações das colunas após alteração do tipo data\n",
        "df_vendas.info()"
      ],
      "execution_count": null,
      "outputs": [
        {
          "output_type": "stream",
          "text": [
            "<class 'pandas.core.frame.DataFrame'>\n",
            "RangeIndex: 229803 entries, 0 to 229802\n",
            "Data columns (total 17 columns):\n",
            " #   Column               Non-Null Count   Dtype         \n",
            "---  ------               --------------   -----         \n",
            " 0   DATA                 229803 non-null  datetime64[ns]\n",
            " 1   ANO                  229803 non-null  int64         \n",
            " 2   ID_LOJA              229803 non-null  int64         \n",
            " 3   SEGMENTO             229803 non-null  object        \n",
            " 4   QUANTIDADE_PARCELAS  229803 non-null  int64         \n",
            " 5   VALOR_PARCELA        229803 non-null  float64       \n",
            " 6   FORMA_PAGAMENTO      229803 non-null  object        \n",
            " 7   VALOR_COMPRA         229803 non-null  float64       \n",
            " 8   NOME_LOJA_CURTO      229803 non-null  object        \n",
            " 9   ENDERECO             229803 non-null  object        \n",
            " 10  BAIRRO               229803 non-null  object        \n",
            " 11  CIDADE               229803 non-null  object        \n",
            " 12  UF                   229803 non-null  object        \n",
            " 13  CEP                  229803 non-null  object        \n",
            " 14  latitude             229803 non-null  object        \n",
            " 15  longitude            229803 non-null  object        \n",
            " 16  MES                  229803 non-null  object        \n",
            "dtypes: datetime64[ns](1), float64(2), int64(3), object(11)\n",
            "memory usage: 29.8+ MB\n"
          ],
          "name": "stdout"
        }
      ]
    },
    {
      "cell_type": "markdown",
      "metadata": {
        "id": "1113Q7-gVOAz"
      },
      "source": [
        "## **3 Análise dos Dados**"
      ]
    },
    {
      "cell_type": "code",
      "metadata": {
        "colab": {
          "base_uri": "https://localhost:8080/"
        },
        "id": "5SZ-QYBisjng",
        "outputId": "91ef524d-6e88-4d38-c333-e4ffcf1513ed"
      },
      "source": [
        "#verificar quantidade de venda por segmento\n",
        "df_vendas['SEGMENTO'].value_counts()"
      ],
      "execution_count": null,
      "outputs": [
        {
          "output_type": "execute_result",
          "data": {
            "text/plain": [
              "LOJA_VAREJO    158083\n",
              "BOL_VAREJO      50927\n",
              "LOJA_FARMA      20446\n",
              "BOL_FARMA         347\n",
              "Name: SEGMENTO, dtype: int64"
            ]
          },
          "metadata": {
            "tags": []
          },
          "execution_count": 9
        }
      ]
    },
    {
      "cell_type": "code",
      "metadata": {
        "id": "xd8_A8kDbCeR"
      },
      "source": [
        "#visualizar por nome de loja\n",
        "df_vendas['NOME_LOJA_CURTO'].value_counts()"
      ],
      "execution_count": null,
      "outputs": []
    },
    {
      "cell_type": "code",
      "metadata": {
        "colab": {
          "base_uri": "https://localhost:8080/",
          "height": 200
        },
        "id": "hhzX1uzZXMNl",
        "outputId": "104d3e77-bdcd-41bc-c330-07814c576645"
      },
      "source": [
        "#criar dataframe com os dados de 2020, sendo loja física. \n",
        "df_vendas_fisica_varejo_2020 = df_vendas[(df_vendas['ANO']==2020) & (df_vendas['SEGMENTO']=='LOJA_VAREJO')]\n",
        "df_vendas_fisica_varejo_2020.head()"
      ],
      "execution_count": null,
      "outputs": [
        {
          "output_type": "execute_result",
          "data": {
            "text/html": [
              "<div>\n",
              "<style scoped>\n",
              "    .dataframe tbody tr th:only-of-type {\n",
              "        vertical-align: middle;\n",
              "    }\n",
              "\n",
              "    .dataframe tbody tr th {\n",
              "        vertical-align: top;\n",
              "    }\n",
              "\n",
              "    .dataframe thead th {\n",
              "        text-align: right;\n",
              "    }\n",
              "</style>\n",
              "<table border=\"1\" class=\"dataframe\">\n",
              "  <thead>\n",
              "    <tr style=\"text-align: right;\">\n",
              "      <th></th>\n",
              "      <th>DATA</th>\n",
              "      <th>ANO</th>\n",
              "      <th>ID_LOJA</th>\n",
              "      <th>SEGMENTO</th>\n",
              "      <th>QUANTIDADE_PARCELAS</th>\n",
              "      <th>VALOR_PARCELA</th>\n",
              "      <th>FORMA_PAGAMENTO</th>\n",
              "      <th>VALOR_COMPRA</th>\n",
              "      <th>NOME_LOJA_CURTO</th>\n",
              "      <th>ENDERECO</th>\n",
              "      <th>BAIRRO</th>\n",
              "      <th>CIDADE</th>\n",
              "      <th>UF</th>\n",
              "      <th>CEP</th>\n",
              "      <th>latitude</th>\n",
              "      <th>longitude</th>\n",
              "      <th>MES</th>\n",
              "    </tr>\n",
              "  </thead>\n",
              "  <tbody>\n",
              "    <tr>\n",
              "      <th>8871</th>\n",
              "      <td>2020-07-13</td>\n",
              "      <td>2020</td>\n",
              "      <td>114</td>\n",
              "      <td>LOJA_VAREJO</td>\n",
              "      <td>4</td>\n",
              "      <td>240.49</td>\n",
              "      <td>Cartao_Bemol</td>\n",
              "      <td>1158.99</td>\n",
              "      <td>PONTA NEGRA</td>\n",
              "      <td>AV CORONEL TEIXEIRA, 7687 LJ 29</td>\n",
              "      <td>NOVA ESPERANÇA</td>\n",
              "      <td>MANAUS</td>\n",
              "      <td>AM</td>\n",
              "      <td>69037-473</td>\n",
              "      <td>'-3.0887474'</td>\n",
              "      <td>' -60.0609608'</td>\n",
              "      <td>07</td>\n",
              "    </tr>\n",
              "    <tr>\n",
              "      <th>8873</th>\n",
              "      <td>2020-05-06</td>\n",
              "      <td>2020</td>\n",
              "      <td>103</td>\n",
              "      <td>LOJA_VAREJO</td>\n",
              "      <td>0</td>\n",
              "      <td>0.00</td>\n",
              "      <td>Bonus</td>\n",
              "      <td>20.00</td>\n",
              "      <td>AVENIDA</td>\n",
              "      <td>AV. EDUARDO RIBEIRO, 423</td>\n",
              "      <td>CENTRO</td>\n",
              "      <td>MANAUS</td>\n",
              "      <td>AM</td>\n",
              "      <td>69010-001</td>\n",
              "      <td>'-3.1348972'</td>\n",
              "      <td>' -60.0241542'</td>\n",
              "      <td>05</td>\n",
              "    </tr>\n",
              "    <tr>\n",
              "      <th>8874</th>\n",
              "      <td>2020-09-30</td>\n",
              "      <td>2020</td>\n",
              "      <td>500</td>\n",
              "      <td>LOJA_VAREJO</td>\n",
              "      <td>12</td>\n",
              "      <td>224.38</td>\n",
              "      <td>Cartao_Bemol</td>\n",
              "      <td>2692.56</td>\n",
              "      <td>TORQUATO</td>\n",
              "      <td>AV. TORQUATO TAPAJOS, 8253</td>\n",
              "      <td>TARUMA</td>\n",
              "      <td>MANAUS</td>\n",
              "      <td>AM</td>\n",
              "      <td>69041-025</td>\n",
              "      <td>'-3.0015138'</td>\n",
              "      <td>' -60.0318389'</td>\n",
              "      <td>09</td>\n",
              "    </tr>\n",
              "    <tr>\n",
              "      <th>8875</th>\n",
              "      <td>2020-09-28</td>\n",
              "      <td>2020</td>\n",
              "      <td>121</td>\n",
              "      <td>LOJA_VAREJO</td>\n",
              "      <td>0</td>\n",
              "      <td>0.00</td>\n",
              "      <td>Credito</td>\n",
              "      <td>1199.00</td>\n",
              "      <td>NOVA CIDADE</td>\n",
              "      <td>AVENIDA MARGARITA, 1359</td>\n",
              "      <td>NOVA CIDADE</td>\n",
              "      <td>MANAUS</td>\n",
              "      <td>AM</td>\n",
              "      <td>69097-305</td>\n",
              "      <td>'-3.0107021'</td>\n",
              "      <td>' -59.9702454'</td>\n",
              "      <td>09</td>\n",
              "    </tr>\n",
              "    <tr>\n",
              "      <th>8877</th>\n",
              "      <td>2020-11-03</td>\n",
              "      <td>2020</td>\n",
              "      <td>103</td>\n",
              "      <td>LOJA_VAREJO</td>\n",
              "      <td>0</td>\n",
              "      <td>0.00</td>\n",
              "      <td>Credito</td>\n",
              "      <td>200.92</td>\n",
              "      <td>AVENIDA</td>\n",
              "      <td>AV. EDUARDO RIBEIRO, 423</td>\n",
              "      <td>CENTRO</td>\n",
              "      <td>MANAUS</td>\n",
              "      <td>AM</td>\n",
              "      <td>69010-001</td>\n",
              "      <td>'-3.1348972'</td>\n",
              "      <td>' -60.0241542'</td>\n",
              "      <td>11</td>\n",
              "    </tr>\n",
              "  </tbody>\n",
              "</table>\n",
              "</div>"
            ],
            "text/plain": [
              "           DATA   ANO  ID_LOJA  ...      latitude        longitude  MES\n",
              "8871 2020-07-13  2020      114  ...  '-3.0887474'   ' -60.0609608'   07\n",
              "8873 2020-05-06  2020      103  ...  '-3.1348972'   ' -60.0241542'   05\n",
              "8874 2020-09-30  2020      500  ...  '-3.0015138'   ' -60.0318389'   09\n",
              "8875 2020-09-28  2020      121  ...  '-3.0107021'   ' -59.9702454'   09\n",
              "8877 2020-11-03  2020      103  ...  '-3.1348972'   ' -60.0241542'   11\n",
              "\n",
              "[5 rows x 17 columns]"
            ]
          },
          "metadata": {
            "tags": []
          },
          "execution_count": 11
        }
      ]
    },
    {
      "cell_type": "code",
      "metadata": {
        "colab": {
          "base_uri": "https://localhost:8080/",
          "height": 200
        },
        "id": "wCqu_rbPYKi-",
        "outputId": "a7f6fe8a-f7f4-48db-eac0-ee5480bd2c31"
      },
      "source": [
        "#criar dataframe com os dados de 2020, sendo farma física. \n",
        "df_vendas_fisica_farma_2020 = df_vendas[(df_vendas['ANO']==2020) & (df_vendas['SEGMENTO']=='LOJA_FARMA')]\n",
        "df_vendas_fisica_farma_2020.head()"
      ],
      "execution_count": null,
      "outputs": [
        {
          "output_type": "execute_result",
          "data": {
            "text/html": [
              "<div>\n",
              "<style scoped>\n",
              "    .dataframe tbody tr th:only-of-type {\n",
              "        vertical-align: middle;\n",
              "    }\n",
              "\n",
              "    .dataframe tbody tr th {\n",
              "        vertical-align: top;\n",
              "    }\n",
              "\n",
              "    .dataframe thead th {\n",
              "        text-align: right;\n",
              "    }\n",
              "</style>\n",
              "<table border=\"1\" class=\"dataframe\">\n",
              "  <thead>\n",
              "    <tr style=\"text-align: right;\">\n",
              "      <th></th>\n",
              "      <th>DATA</th>\n",
              "      <th>ANO</th>\n",
              "      <th>ID_LOJA</th>\n",
              "      <th>SEGMENTO</th>\n",
              "      <th>QUANTIDADE_PARCELAS</th>\n",
              "      <th>VALOR_PARCELA</th>\n",
              "      <th>FORMA_PAGAMENTO</th>\n",
              "      <th>VALOR_COMPRA</th>\n",
              "      <th>NOME_LOJA_CURTO</th>\n",
              "      <th>ENDERECO</th>\n",
              "      <th>BAIRRO</th>\n",
              "      <th>CIDADE</th>\n",
              "      <th>UF</th>\n",
              "      <th>CEP</th>\n",
              "      <th>latitude</th>\n",
              "      <th>longitude</th>\n",
              "      <th>MES</th>\n",
              "    </tr>\n",
              "  </thead>\n",
              "  <tbody>\n",
              "    <tr>\n",
              "      <th>8881</th>\n",
              "      <td>2020-11-07</td>\n",
              "      <td>2020</td>\n",
              "      <td>116</td>\n",
              "      <td>LOJA_FARMA</td>\n",
              "      <td>0</td>\n",
              "      <td>0.00</td>\n",
              "      <td>Debito</td>\n",
              "      <td>329.00</td>\n",
              "      <td>STUDIO5</td>\n",
              "      <td>AV. RODRIGO OTAVIO JORDAO, 3555 LJ 61</td>\n",
              "      <td>D.INDUSTRIAL</td>\n",
              "      <td>MANAUS</td>\n",
              "      <td>AM</td>\n",
              "      <td>69077-000</td>\n",
              "      <td>'-3.1244871'</td>\n",
              "      <td>'-59.9854295'</td>\n",
              "      <td>11</td>\n",
              "    </tr>\n",
              "    <tr>\n",
              "      <th>8887</th>\n",
              "      <td>2020-08-12</td>\n",
              "      <td>2020</td>\n",
              "      <td>606</td>\n",
              "      <td>LOJA_FARMA</td>\n",
              "      <td>0</td>\n",
              "      <td>0.00</td>\n",
              "      <td>Debito</td>\n",
              "      <td>21.60</td>\n",
              "      <td>FARMACIA SHOP.P.NEGR</td>\n",
              "      <td>AV. CEL TEIXEIRA, 5705 LJ 40 E 41 1ºPISO</td>\n",
              "      <td>PONTA NEGRA</td>\n",
              "      <td>MANAUS</td>\n",
              "      <td>AM</td>\n",
              "      <td>69037-000</td>\n",
              "      <td>'-3.0847158'</td>\n",
              "      <td>'-60.0745733'</td>\n",
              "      <td>08</td>\n",
              "    </tr>\n",
              "    <tr>\n",
              "      <th>8889</th>\n",
              "      <td>2020-09-26</td>\n",
              "      <td>2020</td>\n",
              "      <td>106</td>\n",
              "      <td>LOJA_FARMA</td>\n",
              "      <td>0</td>\n",
              "      <td>0.00</td>\n",
              "      <td>Dinheiro</td>\n",
              "      <td>126.00</td>\n",
              "      <td>SHOPPING</td>\n",
              "      <td>AV. DJALMA BATISTA, 482</td>\n",
              "      <td>CHAPADA</td>\n",
              "      <td>MANAUS</td>\n",
              "      <td>AM</td>\n",
              "      <td>69050-010</td>\n",
              "      <td>'-3.0980445'</td>\n",
              "      <td>' -60.0241655'</td>\n",
              "      <td>09</td>\n",
              "    </tr>\n",
              "    <tr>\n",
              "      <th>8891</th>\n",
              "      <td>2020-11-15</td>\n",
              "      <td>2020</td>\n",
              "      <td>106</td>\n",
              "      <td>LOJA_FARMA</td>\n",
              "      <td>4</td>\n",
              "      <td>200.57</td>\n",
              "      <td>Cartao_Bemol</td>\n",
              "      <td>1099.01</td>\n",
              "      <td>SHOPPING</td>\n",
              "      <td>AV. DJALMA BATISTA, 482</td>\n",
              "      <td>CHAPADA</td>\n",
              "      <td>MANAUS</td>\n",
              "      <td>AM</td>\n",
              "      <td>69050-010</td>\n",
              "      <td>'-3.0980445'</td>\n",
              "      <td>' -60.0241655'</td>\n",
              "      <td>11</td>\n",
              "    </tr>\n",
              "    <tr>\n",
              "      <th>8892</th>\n",
              "      <td>2020-10-10</td>\n",
              "      <td>2020</td>\n",
              "      <td>106</td>\n",
              "      <td>LOJA_FARMA</td>\n",
              "      <td>2</td>\n",
              "      <td>49.67</td>\n",
              "      <td>Cartao_Bemol</td>\n",
              "      <td>149.01</td>\n",
              "      <td>SHOPPING</td>\n",
              "      <td>AV. DJALMA BATISTA, 482</td>\n",
              "      <td>CHAPADA</td>\n",
              "      <td>MANAUS</td>\n",
              "      <td>AM</td>\n",
              "      <td>69050-010</td>\n",
              "      <td>'-3.0980445'</td>\n",
              "      <td>' -60.0241655'</td>\n",
              "      <td>10</td>\n",
              "    </tr>\n",
              "  </tbody>\n",
              "</table>\n",
              "</div>"
            ],
            "text/plain": [
              "           DATA   ANO  ID_LOJA  ...      latitude        longitude  MES\n",
              "8881 2020-11-07  2020      116  ...  '-3.1244871'    '-59.9854295'   11\n",
              "8887 2020-08-12  2020      606  ...  '-3.0847158'    '-60.0745733'   08\n",
              "8889 2020-09-26  2020      106  ...  '-3.0980445'   ' -60.0241655'   09\n",
              "8891 2020-11-15  2020      106  ...  '-3.0980445'   ' -60.0241655'   11\n",
              "8892 2020-10-10  2020      106  ...  '-3.0980445'   ' -60.0241655'   10\n",
              "\n",
              "[5 rows x 17 columns]"
            ]
          },
          "metadata": {
            "tags": []
          },
          "execution_count": 12
        }
      ]
    },
    {
      "cell_type": "code",
      "metadata": {
        "colab": {
          "base_uri": "https://localhost:8080/",
          "height": 200
        },
        "id": "bDWYSb2UjSWc",
        "outputId": "e98c81c3-bb97-498f-c6f2-8bb077e969db"
      },
      "source": [
        "#criar dataframe com os dados de 2020, sendo varejo online. \n",
        "df_vendas_bol_varejo_2020 = df_vendas[(df_vendas['ANO']==2020) & (df_vendas['SEGMENTO']=='BOL_VAREJO')]\n",
        "df_vendas_bol_varejo_2020.head()"
      ],
      "execution_count": null,
      "outputs": [
        {
          "output_type": "execute_result",
          "data": {
            "text/html": [
              "<div>\n",
              "<style scoped>\n",
              "    .dataframe tbody tr th:only-of-type {\n",
              "        vertical-align: middle;\n",
              "    }\n",
              "\n",
              "    .dataframe tbody tr th {\n",
              "        vertical-align: top;\n",
              "    }\n",
              "\n",
              "    .dataframe thead th {\n",
              "        text-align: right;\n",
              "    }\n",
              "</style>\n",
              "<table border=\"1\" class=\"dataframe\">\n",
              "  <thead>\n",
              "    <tr style=\"text-align: right;\">\n",
              "      <th></th>\n",
              "      <th>DATA</th>\n",
              "      <th>ANO</th>\n",
              "      <th>ID_LOJA</th>\n",
              "      <th>SEGMENTO</th>\n",
              "      <th>QUANTIDADE_PARCELAS</th>\n",
              "      <th>VALOR_PARCELA</th>\n",
              "      <th>FORMA_PAGAMENTO</th>\n",
              "      <th>VALOR_COMPRA</th>\n",
              "      <th>NOME_LOJA_CURTO</th>\n",
              "      <th>ENDERECO</th>\n",
              "      <th>BAIRRO</th>\n",
              "      <th>CIDADE</th>\n",
              "      <th>UF</th>\n",
              "      <th>CEP</th>\n",
              "      <th>latitude</th>\n",
              "      <th>longitude</th>\n",
              "      <th>MES</th>\n",
              "    </tr>\n",
              "  </thead>\n",
              "  <tbody>\n",
              "    <tr>\n",
              "      <th>8872</th>\n",
              "      <td>2020-06-05</td>\n",
              "      <td>2020</td>\n",
              "      <td>102</td>\n",
              "      <td>BOL_VAREJO</td>\n",
              "      <td>4</td>\n",
              "      <td>333.50</td>\n",
              "      <td>Cartao_Bemol</td>\n",
              "      <td>1334.00</td>\n",
              "      <td>ONLINE</td>\n",
              "      <td>RUA MIRANDA LEAO, 41</td>\n",
              "      <td>CENTRO</td>\n",
              "      <td>MANAUS</td>\n",
              "      <td>AM</td>\n",
              "      <td>69005-901</td>\n",
              "      <td>'-3.1391782'</td>\n",
              "      <td>' -60.0220588'</td>\n",
              "      <td>06</td>\n",
              "    </tr>\n",
              "    <tr>\n",
              "      <th>8876</th>\n",
              "      <td>2020-06-02</td>\n",
              "      <td>2020</td>\n",
              "      <td>102</td>\n",
              "      <td>BOL_VAREJO</td>\n",
              "      <td>4</td>\n",
              "      <td>30.19</td>\n",
              "      <td>Cartao_Bemol</td>\n",
              "      <td>120.76</td>\n",
              "      <td>ONLINE</td>\n",
              "      <td>RUA MIRANDA LEAO, 41</td>\n",
              "      <td>CENTRO</td>\n",
              "      <td>MANAUS</td>\n",
              "      <td>AM</td>\n",
              "      <td>69005-901</td>\n",
              "      <td>'-3.1391782'</td>\n",
              "      <td>' -60.0220588'</td>\n",
              "      <td>06</td>\n",
              "    </tr>\n",
              "    <tr>\n",
              "      <th>8880</th>\n",
              "      <td>2020-09-05</td>\n",
              "      <td>2020</td>\n",
              "      <td>102</td>\n",
              "      <td>BOL_VAREJO</td>\n",
              "      <td>4</td>\n",
              "      <td>83.00</td>\n",
              "      <td>Cartao_Bemol</td>\n",
              "      <td>332.00</td>\n",
              "      <td>ONLINE</td>\n",
              "      <td>RUA MIRANDA LEAO, 41</td>\n",
              "      <td>CENTRO</td>\n",
              "      <td>MANAUS</td>\n",
              "      <td>AM</td>\n",
              "      <td>69005-901</td>\n",
              "      <td>'-3.1391782'</td>\n",
              "      <td>' -60.0220588'</td>\n",
              "      <td>09</td>\n",
              "    </tr>\n",
              "    <tr>\n",
              "      <th>8894</th>\n",
              "      <td>2020-06-16</td>\n",
              "      <td>2020</td>\n",
              "      <td>102</td>\n",
              "      <td>BOL_VAREJO</td>\n",
              "      <td>4</td>\n",
              "      <td>167.01</td>\n",
              "      <td>Cartao_Bemol</td>\n",
              "      <td>668.04</td>\n",
              "      <td>ONLINE</td>\n",
              "      <td>RUA MIRANDA LEAO, 41</td>\n",
              "      <td>CENTRO</td>\n",
              "      <td>MANAUS</td>\n",
              "      <td>AM</td>\n",
              "      <td>69005-901</td>\n",
              "      <td>'-3.1391782'</td>\n",
              "      <td>' -60.0220588'</td>\n",
              "      <td>06</td>\n",
              "    </tr>\n",
              "    <tr>\n",
              "      <th>8913</th>\n",
              "      <td>2020-05-05</td>\n",
              "      <td>2020</td>\n",
              "      <td>102</td>\n",
              "      <td>BOL_VAREJO</td>\n",
              "      <td>0</td>\n",
              "      <td>0.00</td>\n",
              "      <td>Credito</td>\n",
              "      <td>724.00</td>\n",
              "      <td>ONLINE</td>\n",
              "      <td>RUA MIRANDA LEAO, 41</td>\n",
              "      <td>CENTRO</td>\n",
              "      <td>MANAUS</td>\n",
              "      <td>AM</td>\n",
              "      <td>69005-901</td>\n",
              "      <td>'-3.1391782'</td>\n",
              "      <td>' -60.0220588'</td>\n",
              "      <td>05</td>\n",
              "    </tr>\n",
              "  </tbody>\n",
              "</table>\n",
              "</div>"
            ],
            "text/plain": [
              "           DATA   ANO  ID_LOJA  ...      latitude        longitude  MES\n",
              "8872 2020-06-05  2020      102  ...  '-3.1391782'   ' -60.0220588'   06\n",
              "8876 2020-06-02  2020      102  ...  '-3.1391782'   ' -60.0220588'   06\n",
              "8880 2020-09-05  2020      102  ...  '-3.1391782'   ' -60.0220588'   09\n",
              "8894 2020-06-16  2020      102  ...  '-3.1391782'   ' -60.0220588'   06\n",
              "8913 2020-05-05  2020      102  ...  '-3.1391782'   ' -60.0220588'   05\n",
              "\n",
              "[5 rows x 17 columns]"
            ]
          },
          "metadata": {
            "tags": []
          },
          "execution_count": 13
        }
      ]
    },
    {
      "cell_type": "code",
      "metadata": {
        "colab": {
          "base_uri": "https://localhost:8080/",
          "height": 200
        },
        "id": "ZrKjnElGi9Zb",
        "outputId": "04e1d429-180f-4187-8f28-552ff64c298b"
      },
      "source": [
        "#criar dataframe com os dados de 2020, sendo farmna online. \n",
        "df_vendas_bol_farma_2020 = df_vendas[(df_vendas['ANO']==2020) & (df_vendas['SEGMENTO']=='BOL_FARMA')]\n",
        "df_vendas_bol_farma_2020.head()"
      ],
      "execution_count": null,
      "outputs": [
        {
          "output_type": "execute_result",
          "data": {
            "text/html": [
              "<div>\n",
              "<style scoped>\n",
              "    .dataframe tbody tr th:only-of-type {\n",
              "        vertical-align: middle;\n",
              "    }\n",
              "\n",
              "    .dataframe tbody tr th {\n",
              "        vertical-align: top;\n",
              "    }\n",
              "\n",
              "    .dataframe thead th {\n",
              "        text-align: right;\n",
              "    }\n",
              "</style>\n",
              "<table border=\"1\" class=\"dataframe\">\n",
              "  <thead>\n",
              "    <tr style=\"text-align: right;\">\n",
              "      <th></th>\n",
              "      <th>DATA</th>\n",
              "      <th>ANO</th>\n",
              "      <th>ID_LOJA</th>\n",
              "      <th>SEGMENTO</th>\n",
              "      <th>QUANTIDADE_PARCELAS</th>\n",
              "      <th>VALOR_PARCELA</th>\n",
              "      <th>FORMA_PAGAMENTO</th>\n",
              "      <th>VALOR_COMPRA</th>\n",
              "      <th>NOME_LOJA_CURTO</th>\n",
              "      <th>ENDERECO</th>\n",
              "      <th>BAIRRO</th>\n",
              "      <th>CIDADE</th>\n",
              "      <th>UF</th>\n",
              "      <th>CEP</th>\n",
              "      <th>latitude</th>\n",
              "      <th>longitude</th>\n",
              "      <th>MES</th>\n",
              "    </tr>\n",
              "  </thead>\n",
              "  <tbody>\n",
              "    <tr>\n",
              "      <th>9468</th>\n",
              "      <td>2020-07-07</td>\n",
              "      <td>2020</td>\n",
              "      <td>600</td>\n",
              "      <td>BOL_FARMA</td>\n",
              "      <td>0</td>\n",
              "      <td>0.0</td>\n",
              "      <td>Credito</td>\n",
              "      <td>280.0</td>\n",
              "      <td>FARMACIA ONLINE</td>\n",
              "      <td>AV. TORQUATO TAPAJOS, 8253B</td>\n",
              "      <td>TARUMA</td>\n",
              "      <td>MANAUS</td>\n",
              "      <td>AM</td>\n",
              "      <td>69041-025</td>\n",
              "      <td>'-3.0015138'</td>\n",
              "      <td>' -60.0318389'</td>\n",
              "      <td>07</td>\n",
              "    </tr>\n",
              "    <tr>\n",
              "      <th>9857</th>\n",
              "      <td>2020-08-08</td>\n",
              "      <td>2020</td>\n",
              "      <td>600</td>\n",
              "      <td>BOL_FARMA</td>\n",
              "      <td>0</td>\n",
              "      <td>0.0</td>\n",
              "      <td>Debito</td>\n",
              "      <td>4.0</td>\n",
              "      <td>FARMACIA ONLINE</td>\n",
              "      <td>AV. TORQUATO TAPAJOS, 8253B</td>\n",
              "      <td>TARUMA</td>\n",
              "      <td>MANAUS</td>\n",
              "      <td>AM</td>\n",
              "      <td>69041-025</td>\n",
              "      <td>'-3.0015138'</td>\n",
              "      <td>' -60.0318389'</td>\n",
              "      <td>08</td>\n",
              "    </tr>\n",
              "    <tr>\n",
              "      <th>9944</th>\n",
              "      <td>2020-11-17</td>\n",
              "      <td>2020</td>\n",
              "      <td>600</td>\n",
              "      <td>BOL_FARMA</td>\n",
              "      <td>0</td>\n",
              "      <td>0.0</td>\n",
              "      <td>Debito</td>\n",
              "      <td>16.9</td>\n",
              "      <td>FARMACIA ONLINE</td>\n",
              "      <td>AV. TORQUATO TAPAJOS, 8253B</td>\n",
              "      <td>TARUMA</td>\n",
              "      <td>MANAUS</td>\n",
              "      <td>AM</td>\n",
              "      <td>69041-025</td>\n",
              "      <td>'-3.0015138'</td>\n",
              "      <td>' -60.0318389'</td>\n",
              "      <td>11</td>\n",
              "    </tr>\n",
              "    <tr>\n",
              "      <th>11066</th>\n",
              "      <td>2020-12-22</td>\n",
              "      <td>2020</td>\n",
              "      <td>600</td>\n",
              "      <td>BOL_FARMA</td>\n",
              "      <td>0</td>\n",
              "      <td>0.0</td>\n",
              "      <td>Debito</td>\n",
              "      <td>17.0</td>\n",
              "      <td>FARMACIA ONLINE</td>\n",
              "      <td>AV. TORQUATO TAPAJOS, 8253B</td>\n",
              "      <td>TARUMA</td>\n",
              "      <td>MANAUS</td>\n",
              "      <td>AM</td>\n",
              "      <td>69041-025</td>\n",
              "      <td>'-3.0015138'</td>\n",
              "      <td>' -60.0318389'</td>\n",
              "      <td>12</td>\n",
              "    </tr>\n",
              "    <tr>\n",
              "      <th>11101</th>\n",
              "      <td>2020-09-17</td>\n",
              "      <td>2020</td>\n",
              "      <td>600</td>\n",
              "      <td>BOL_FARMA</td>\n",
              "      <td>0</td>\n",
              "      <td>0.0</td>\n",
              "      <td>Bonus</td>\n",
              "      <td>12.0</td>\n",
              "      <td>FARMACIA ONLINE</td>\n",
              "      <td>AV. TORQUATO TAPAJOS, 8253B</td>\n",
              "      <td>TARUMA</td>\n",
              "      <td>MANAUS</td>\n",
              "      <td>AM</td>\n",
              "      <td>69041-025</td>\n",
              "      <td>'-3.0015138'</td>\n",
              "      <td>' -60.0318389'</td>\n",
              "      <td>09</td>\n",
              "    </tr>\n",
              "  </tbody>\n",
              "</table>\n",
              "</div>"
            ],
            "text/plain": [
              "            DATA   ANO  ID_LOJA  ...      latitude        longitude  MES\n",
              "9468  2020-07-07  2020      600  ...  '-3.0015138'   ' -60.0318389'   07\n",
              "9857  2020-08-08  2020      600  ...  '-3.0015138'   ' -60.0318389'   08\n",
              "9944  2020-11-17  2020      600  ...  '-3.0015138'   ' -60.0318389'   11\n",
              "11066 2020-12-22  2020      600  ...  '-3.0015138'   ' -60.0318389'   12\n",
              "11101 2020-09-17  2020      600  ...  '-3.0015138'   ' -60.0318389'   09\n",
              "\n",
              "[5 rows x 17 columns]"
            ]
          },
          "metadata": {
            "tags": []
          },
          "execution_count": 14
        }
      ]
    },
    {
      "cell_type": "code",
      "metadata": {
        "colab": {
          "base_uri": "https://localhost:8080/",
          "height": 200
        },
        "id": "snRdPfSDY8iV",
        "outputId": "7ed873ac-129a-47a6-cedd-587536214fcb"
      },
      "source": [
        "#criar dataframe com os dados de 2020, sendo os segmentos de vendas físicas\n",
        "df_vendas_fisica_2020 =  df_vendas[df_vendas[\"SEGMENTO\"].isin([\"LOJA_VAREJO\", \"LOJA_FARMA\"]) & (df_vendas['ANO']==2020)]\n",
        "df_vendas_fisica_2020.head()\n",
        "                       "
      ],
      "execution_count": null,
      "outputs": [
        {
          "output_type": "execute_result",
          "data": {
            "text/html": [
              "<div>\n",
              "<style scoped>\n",
              "    .dataframe tbody tr th:only-of-type {\n",
              "        vertical-align: middle;\n",
              "    }\n",
              "\n",
              "    .dataframe tbody tr th {\n",
              "        vertical-align: top;\n",
              "    }\n",
              "\n",
              "    .dataframe thead th {\n",
              "        text-align: right;\n",
              "    }\n",
              "</style>\n",
              "<table border=\"1\" class=\"dataframe\">\n",
              "  <thead>\n",
              "    <tr style=\"text-align: right;\">\n",
              "      <th></th>\n",
              "      <th>DATA</th>\n",
              "      <th>ANO</th>\n",
              "      <th>ID_LOJA</th>\n",
              "      <th>SEGMENTO</th>\n",
              "      <th>QUANTIDADE_PARCELAS</th>\n",
              "      <th>VALOR_PARCELA</th>\n",
              "      <th>FORMA_PAGAMENTO</th>\n",
              "      <th>VALOR_COMPRA</th>\n",
              "      <th>NOME_LOJA_CURTO</th>\n",
              "      <th>ENDERECO</th>\n",
              "      <th>BAIRRO</th>\n",
              "      <th>CIDADE</th>\n",
              "      <th>UF</th>\n",
              "      <th>CEP</th>\n",
              "      <th>latitude</th>\n",
              "      <th>longitude</th>\n",
              "      <th>MES</th>\n",
              "    </tr>\n",
              "  </thead>\n",
              "  <tbody>\n",
              "    <tr>\n",
              "      <th>8871</th>\n",
              "      <td>2020-07-13</td>\n",
              "      <td>2020</td>\n",
              "      <td>114</td>\n",
              "      <td>LOJA_VAREJO</td>\n",
              "      <td>4</td>\n",
              "      <td>240.49</td>\n",
              "      <td>Cartao_Bemol</td>\n",
              "      <td>1158.99</td>\n",
              "      <td>PONTA NEGRA</td>\n",
              "      <td>AV CORONEL TEIXEIRA, 7687 LJ 29</td>\n",
              "      <td>NOVA ESPERANÇA</td>\n",
              "      <td>MANAUS</td>\n",
              "      <td>AM</td>\n",
              "      <td>69037-473</td>\n",
              "      <td>'-3.0887474'</td>\n",
              "      <td>' -60.0609608'</td>\n",
              "      <td>07</td>\n",
              "    </tr>\n",
              "    <tr>\n",
              "      <th>8873</th>\n",
              "      <td>2020-05-06</td>\n",
              "      <td>2020</td>\n",
              "      <td>103</td>\n",
              "      <td>LOJA_VAREJO</td>\n",
              "      <td>0</td>\n",
              "      <td>0.00</td>\n",
              "      <td>Bonus</td>\n",
              "      <td>20.00</td>\n",
              "      <td>AVENIDA</td>\n",
              "      <td>AV. EDUARDO RIBEIRO, 423</td>\n",
              "      <td>CENTRO</td>\n",
              "      <td>MANAUS</td>\n",
              "      <td>AM</td>\n",
              "      <td>69010-001</td>\n",
              "      <td>'-3.1348972'</td>\n",
              "      <td>' -60.0241542'</td>\n",
              "      <td>05</td>\n",
              "    </tr>\n",
              "    <tr>\n",
              "      <th>8874</th>\n",
              "      <td>2020-09-30</td>\n",
              "      <td>2020</td>\n",
              "      <td>500</td>\n",
              "      <td>LOJA_VAREJO</td>\n",
              "      <td>12</td>\n",
              "      <td>224.38</td>\n",
              "      <td>Cartao_Bemol</td>\n",
              "      <td>2692.56</td>\n",
              "      <td>TORQUATO</td>\n",
              "      <td>AV. TORQUATO TAPAJOS, 8253</td>\n",
              "      <td>TARUMA</td>\n",
              "      <td>MANAUS</td>\n",
              "      <td>AM</td>\n",
              "      <td>69041-025</td>\n",
              "      <td>'-3.0015138'</td>\n",
              "      <td>' -60.0318389'</td>\n",
              "      <td>09</td>\n",
              "    </tr>\n",
              "    <tr>\n",
              "      <th>8875</th>\n",
              "      <td>2020-09-28</td>\n",
              "      <td>2020</td>\n",
              "      <td>121</td>\n",
              "      <td>LOJA_VAREJO</td>\n",
              "      <td>0</td>\n",
              "      <td>0.00</td>\n",
              "      <td>Credito</td>\n",
              "      <td>1199.00</td>\n",
              "      <td>NOVA CIDADE</td>\n",
              "      <td>AVENIDA MARGARITA, 1359</td>\n",
              "      <td>NOVA CIDADE</td>\n",
              "      <td>MANAUS</td>\n",
              "      <td>AM</td>\n",
              "      <td>69097-305</td>\n",
              "      <td>'-3.0107021'</td>\n",
              "      <td>' -59.9702454'</td>\n",
              "      <td>09</td>\n",
              "    </tr>\n",
              "    <tr>\n",
              "      <th>8877</th>\n",
              "      <td>2020-11-03</td>\n",
              "      <td>2020</td>\n",
              "      <td>103</td>\n",
              "      <td>LOJA_VAREJO</td>\n",
              "      <td>0</td>\n",
              "      <td>0.00</td>\n",
              "      <td>Credito</td>\n",
              "      <td>200.92</td>\n",
              "      <td>AVENIDA</td>\n",
              "      <td>AV. EDUARDO RIBEIRO, 423</td>\n",
              "      <td>CENTRO</td>\n",
              "      <td>MANAUS</td>\n",
              "      <td>AM</td>\n",
              "      <td>69010-001</td>\n",
              "      <td>'-3.1348972'</td>\n",
              "      <td>' -60.0241542'</td>\n",
              "      <td>11</td>\n",
              "    </tr>\n",
              "  </tbody>\n",
              "</table>\n",
              "</div>"
            ],
            "text/plain": [
              "           DATA   ANO  ID_LOJA  ...      latitude        longitude  MES\n",
              "8871 2020-07-13  2020      114  ...  '-3.0887474'   ' -60.0609608'   07\n",
              "8873 2020-05-06  2020      103  ...  '-3.1348972'   ' -60.0241542'   05\n",
              "8874 2020-09-30  2020      500  ...  '-3.0015138'   ' -60.0318389'   09\n",
              "8875 2020-09-28  2020      121  ...  '-3.0107021'   ' -59.9702454'   09\n",
              "8877 2020-11-03  2020      103  ...  '-3.1348972'   ' -60.0241542'   11\n",
              "\n",
              "[5 rows x 17 columns]"
            ]
          },
          "metadata": {
            "tags": []
          },
          "execution_count": 15
        }
      ]
    },
    {
      "cell_type": "code",
      "metadata": {
        "colab": {
          "base_uri": "https://localhost:8080/",
          "height": 200
        },
        "id": "rGYYJd8UbKav",
        "outputId": "7e15fc44-61b1-4ac7-cbf9-c172b315fb74"
      },
      "source": [
        "#criar dataframe com os dados de 2020, sendo os segmentos de vendas on-line\n",
        "df_vendas_bol_2020 =  df_vendas[df_vendas[\"SEGMENTO\"].isin([\"BOL_VAREJO\", \"BOL_FARMA\"]) & (df_vendas['ANO']==2020)]\n",
        "df_vendas_bol_2020.head()"
      ],
      "execution_count": null,
      "outputs": [
        {
          "output_type": "execute_result",
          "data": {
            "text/html": [
              "<div>\n",
              "<style scoped>\n",
              "    .dataframe tbody tr th:only-of-type {\n",
              "        vertical-align: middle;\n",
              "    }\n",
              "\n",
              "    .dataframe tbody tr th {\n",
              "        vertical-align: top;\n",
              "    }\n",
              "\n",
              "    .dataframe thead th {\n",
              "        text-align: right;\n",
              "    }\n",
              "</style>\n",
              "<table border=\"1\" class=\"dataframe\">\n",
              "  <thead>\n",
              "    <tr style=\"text-align: right;\">\n",
              "      <th></th>\n",
              "      <th>DATA</th>\n",
              "      <th>ANO</th>\n",
              "      <th>ID_LOJA</th>\n",
              "      <th>SEGMENTO</th>\n",
              "      <th>QUANTIDADE_PARCELAS</th>\n",
              "      <th>VALOR_PARCELA</th>\n",
              "      <th>FORMA_PAGAMENTO</th>\n",
              "      <th>VALOR_COMPRA</th>\n",
              "      <th>NOME_LOJA_CURTO</th>\n",
              "      <th>ENDERECO</th>\n",
              "      <th>BAIRRO</th>\n",
              "      <th>CIDADE</th>\n",
              "      <th>UF</th>\n",
              "      <th>CEP</th>\n",
              "      <th>latitude</th>\n",
              "      <th>longitude</th>\n",
              "      <th>MES</th>\n",
              "    </tr>\n",
              "  </thead>\n",
              "  <tbody>\n",
              "    <tr>\n",
              "      <th>8872</th>\n",
              "      <td>2020-06-05</td>\n",
              "      <td>2020</td>\n",
              "      <td>102</td>\n",
              "      <td>BOL_VAREJO</td>\n",
              "      <td>4</td>\n",
              "      <td>333.50</td>\n",
              "      <td>Cartao_Bemol</td>\n",
              "      <td>1334.00</td>\n",
              "      <td>ONLINE</td>\n",
              "      <td>RUA MIRANDA LEAO, 41</td>\n",
              "      <td>CENTRO</td>\n",
              "      <td>MANAUS</td>\n",
              "      <td>AM</td>\n",
              "      <td>69005-901</td>\n",
              "      <td>'-3.1391782'</td>\n",
              "      <td>' -60.0220588'</td>\n",
              "      <td>06</td>\n",
              "    </tr>\n",
              "    <tr>\n",
              "      <th>8876</th>\n",
              "      <td>2020-06-02</td>\n",
              "      <td>2020</td>\n",
              "      <td>102</td>\n",
              "      <td>BOL_VAREJO</td>\n",
              "      <td>4</td>\n",
              "      <td>30.19</td>\n",
              "      <td>Cartao_Bemol</td>\n",
              "      <td>120.76</td>\n",
              "      <td>ONLINE</td>\n",
              "      <td>RUA MIRANDA LEAO, 41</td>\n",
              "      <td>CENTRO</td>\n",
              "      <td>MANAUS</td>\n",
              "      <td>AM</td>\n",
              "      <td>69005-901</td>\n",
              "      <td>'-3.1391782'</td>\n",
              "      <td>' -60.0220588'</td>\n",
              "      <td>06</td>\n",
              "    </tr>\n",
              "    <tr>\n",
              "      <th>8880</th>\n",
              "      <td>2020-09-05</td>\n",
              "      <td>2020</td>\n",
              "      <td>102</td>\n",
              "      <td>BOL_VAREJO</td>\n",
              "      <td>4</td>\n",
              "      <td>83.00</td>\n",
              "      <td>Cartao_Bemol</td>\n",
              "      <td>332.00</td>\n",
              "      <td>ONLINE</td>\n",
              "      <td>RUA MIRANDA LEAO, 41</td>\n",
              "      <td>CENTRO</td>\n",
              "      <td>MANAUS</td>\n",
              "      <td>AM</td>\n",
              "      <td>69005-901</td>\n",
              "      <td>'-3.1391782'</td>\n",
              "      <td>' -60.0220588'</td>\n",
              "      <td>09</td>\n",
              "    </tr>\n",
              "    <tr>\n",
              "      <th>8894</th>\n",
              "      <td>2020-06-16</td>\n",
              "      <td>2020</td>\n",
              "      <td>102</td>\n",
              "      <td>BOL_VAREJO</td>\n",
              "      <td>4</td>\n",
              "      <td>167.01</td>\n",
              "      <td>Cartao_Bemol</td>\n",
              "      <td>668.04</td>\n",
              "      <td>ONLINE</td>\n",
              "      <td>RUA MIRANDA LEAO, 41</td>\n",
              "      <td>CENTRO</td>\n",
              "      <td>MANAUS</td>\n",
              "      <td>AM</td>\n",
              "      <td>69005-901</td>\n",
              "      <td>'-3.1391782'</td>\n",
              "      <td>' -60.0220588'</td>\n",
              "      <td>06</td>\n",
              "    </tr>\n",
              "    <tr>\n",
              "      <th>8913</th>\n",
              "      <td>2020-05-05</td>\n",
              "      <td>2020</td>\n",
              "      <td>102</td>\n",
              "      <td>BOL_VAREJO</td>\n",
              "      <td>0</td>\n",
              "      <td>0.00</td>\n",
              "      <td>Credito</td>\n",
              "      <td>724.00</td>\n",
              "      <td>ONLINE</td>\n",
              "      <td>RUA MIRANDA LEAO, 41</td>\n",
              "      <td>CENTRO</td>\n",
              "      <td>MANAUS</td>\n",
              "      <td>AM</td>\n",
              "      <td>69005-901</td>\n",
              "      <td>'-3.1391782'</td>\n",
              "      <td>' -60.0220588'</td>\n",
              "      <td>05</td>\n",
              "    </tr>\n",
              "  </tbody>\n",
              "</table>\n",
              "</div>"
            ],
            "text/plain": [
              "           DATA   ANO  ID_LOJA  ...      latitude        longitude  MES\n",
              "8872 2020-06-05  2020      102  ...  '-3.1391782'   ' -60.0220588'   06\n",
              "8876 2020-06-02  2020      102  ...  '-3.1391782'   ' -60.0220588'   06\n",
              "8880 2020-09-05  2020      102  ...  '-3.1391782'   ' -60.0220588'   09\n",
              "8894 2020-06-16  2020      102  ...  '-3.1391782'   ' -60.0220588'   06\n",
              "8913 2020-05-05  2020      102  ...  '-3.1391782'   ' -60.0220588'   05\n",
              "\n",
              "[5 rows x 17 columns]"
            ]
          },
          "metadata": {
            "tags": []
          },
          "execution_count": 20
        }
      ]
    },
    {
      "cell_type": "markdown",
      "metadata": {
        "id": "fzSmTwy1Y5gO"
      },
      "source": [
        "##**4 Análise Estatística**"
      ]
    },
    {
      "cell_type": "code",
      "metadata": {
        "id": "5hewyJHBY_Be"
      },
      "source": [
        "# Elaborar tabela de frequencias\n",
        "def freq_tab(x: pd.Series):\n",
        "    contagem = x.value_counts()\n",
        "    percentual = round((x.value_counts() / x.shape[0]) * 100, 3)\n",
        "    res = pd.DataFrame({'freq_abs': contagem, 'freq_relativa': percentual})\n",
        "    return res"
      ],
      "execution_count": null,
      "outputs": []
    },
    {
      "cell_type": "code",
      "metadata": {
        "colab": {
          "base_uri": "https://localhost:8080/",
          "height": 1000
        },
        "id": "2EqJJSdakpkQ",
        "outputId": "e8ded55e-c57d-4dad-faa0-b05659d93492"
      },
      "source": [
        "#Tabela de vendas ano 2020, sendo os segmentos de vendas físicas (Loja e Farma)\n",
        "tabelaVendasFisica = freq_tab(df_vendas_fisica_2020['NOME_LOJA_CURTO'])\n",
        "tabelaVendasFisica"
      ],
      "execution_count": null,
      "outputs": [
        {
          "output_type": "execute_result",
          "data": {
            "text/html": [
              "<div>\n",
              "<style scoped>\n",
              "    .dataframe tbody tr th:only-of-type {\n",
              "        vertical-align: middle;\n",
              "    }\n",
              "\n",
              "    .dataframe tbody tr th {\n",
              "        vertical-align: top;\n",
              "    }\n",
              "\n",
              "    .dataframe thead th {\n",
              "        text-align: right;\n",
              "    }\n",
              "</style>\n",
              "<table border=\"1\" class=\"dataframe\">\n",
              "  <thead>\n",
              "    <tr style=\"text-align: right;\">\n",
              "      <th></th>\n",
              "      <th>freq_abs</th>\n",
              "      <th>freq_relativa</th>\n",
              "    </tr>\n",
              "  </thead>\n",
              "  <tbody>\n",
              "    <tr>\n",
              "      <th>CIDADE NOVA</th>\n",
              "      <td>6921</td>\n",
              "      <td>6.529</td>\n",
              "    </tr>\n",
              "    <tr>\n",
              "      <th>CAMAPUA</th>\n",
              "      <td>6776</td>\n",
              "      <td>6.392</td>\n",
              "    </tr>\n",
              "    <tr>\n",
              "      <th>SHOPPING</th>\n",
              "      <td>6272</td>\n",
              "      <td>5.917</td>\n",
              "    </tr>\n",
              "    <tr>\n",
              "      <th>AVENIDA</th>\n",
              "      <td>5749</td>\n",
              "      <td>5.424</td>\n",
              "    </tr>\n",
              "    <tr>\n",
              "      <th>MANAUARA</th>\n",
              "      <td>5693</td>\n",
              "      <td>5.371</td>\n",
              "    </tr>\n",
              "    <tr>\n",
              "      <th>GRANDE CIRCULAR</th>\n",
              "      <td>5417</td>\n",
              "      <td>5.110</td>\n",
              "    </tr>\n",
              "    <tr>\n",
              "      <th>PONTA NEGRA</th>\n",
              "      <td>5222</td>\n",
              "      <td>4.926</td>\n",
              "    </tr>\n",
              "    <tr>\n",
              "      <th>TORQUATO</th>\n",
              "      <td>4495</td>\n",
              "      <td>4.241</td>\n",
              "    </tr>\n",
              "    <tr>\n",
              "      <th>NOVA CIDADE</th>\n",
              "      <td>4464</td>\n",
              "      <td>4.211</td>\n",
              "    </tr>\n",
              "    <tr>\n",
              "      <th>MATRIZ</th>\n",
              "      <td>3900</td>\n",
              "      <td>3.679</td>\n",
              "    </tr>\n",
              "    <tr>\n",
              "      <th>PORTO VELHO</th>\n",
              "      <td>3683</td>\n",
              "      <td>3.475</td>\n",
              "    </tr>\n",
              "    <tr>\n",
              "      <th>EDUCANDOS</th>\n",
              "      <td>2988</td>\n",
              "      <td>2.819</td>\n",
              "    </tr>\n",
              "    <tr>\n",
              "      <th>BOA VISTA</th>\n",
              "      <td>2958</td>\n",
              "      <td>2.791</td>\n",
              "    </tr>\n",
              "    <tr>\n",
              "      <th>ITACOATIARA</th>\n",
              "      <td>2803</td>\n",
              "      <td>2.644</td>\n",
              "    </tr>\n",
              "    <tr>\n",
              "      <th>PONTA NEGRA SHOPPING</th>\n",
              "      <td>2719</td>\n",
              "      <td>2.565</td>\n",
              "    </tr>\n",
              "    <tr>\n",
              "      <th>STUDIO5</th>\n",
              "      <td>2711</td>\n",
              "      <td>2.558</td>\n",
              "    </tr>\n",
              "    <tr>\n",
              "      <th>MANACAPURU</th>\n",
              "      <td>2681</td>\n",
              "      <td>2.529</td>\n",
              "    </tr>\n",
              "    <tr>\n",
              "      <th>RIO BRANCO</th>\n",
              "      <td>2384</td>\n",
              "      <td>2.249</td>\n",
              "    </tr>\n",
              "    <tr>\n",
              "      <th>PORTO VELHO SHOPPING</th>\n",
              "      <td>2371</td>\n",
              "      <td>2.237</td>\n",
              "    </tr>\n",
              "    <tr>\n",
              "      <th>FARMACIA SHOPPING</th>\n",
              "      <td>1707</td>\n",
              "      <td>1.610</td>\n",
              "    </tr>\n",
              "    <tr>\n",
              "      <th>FARMACIA TORQUATO</th>\n",
              "      <td>1689</td>\n",
              "      <td>1.593</td>\n",
              "    </tr>\n",
              "    <tr>\n",
              "      <th>JATUARANA</th>\n",
              "      <td>1622</td>\n",
              "      <td>1.530</td>\n",
              "    </tr>\n",
              "    <tr>\n",
              "      <th>FARMACIA NOVA CIDADE</th>\n",
              "      <td>1511</td>\n",
              "      <td>1.425</td>\n",
              "    </tr>\n",
              "    <tr>\n",
              "      <th>PRESIDENTE FIGUEIRED</th>\n",
              "      <td>1501</td>\n",
              "      <td>1.416</td>\n",
              "    </tr>\n",
              "    <tr>\n",
              "      <th>ARIQUEMES</th>\n",
              "      <td>1498</td>\n",
              "      <td>1.413</td>\n",
              "    </tr>\n",
              "    <tr>\n",
              "      <th>JI-PARANA</th>\n",
              "      <td>1495</td>\n",
              "      <td>1.410</td>\n",
              "    </tr>\n",
              "    <tr>\n",
              "      <th>MILLENNIUM</th>\n",
              "      <td>1436</td>\n",
              "      <td>1.355</td>\n",
              "    </tr>\n",
              "    <tr>\n",
              "      <th>FARMACIA CAMAPUA</th>\n",
              "      <td>1234</td>\n",
              "      <td>1.164</td>\n",
              "    </tr>\n",
              "    <tr>\n",
              "      <th>FARMACIA G.CIRCULAR</th>\n",
              "      <td>1144</td>\n",
              "      <td>1.079</td>\n",
              "    </tr>\n",
              "    <tr>\n",
              "      <th>FARMACIA MATRIZ</th>\n",
              "      <td>1088</td>\n",
              "      <td>1.026</td>\n",
              "    </tr>\n",
              "    <tr>\n",
              "      <th>FARMACIA SHOP.P.NEGR</th>\n",
              "      <td>1065</td>\n",
              "      <td>1.005</td>\n",
              "    </tr>\n",
              "    <tr>\n",
              "      <th>FARMACIA PONTA NEGRA</th>\n",
              "      <td>985</td>\n",
              "      <td>0.929</td>\n",
              "    </tr>\n",
              "    <tr>\n",
              "      <th>FARMACIA DJALMA</th>\n",
              "      <td>954</td>\n",
              "      <td>0.900</td>\n",
              "    </tr>\n",
              "    <tr>\n",
              "      <th>FARMACIA MANAUARA</th>\n",
              "      <td>935</td>\n",
              "      <td>0.882</td>\n",
              "    </tr>\n",
              "    <tr>\n",
              "      <th>FARMACIA AVENIDA</th>\n",
              "      <td>934</td>\n",
              "      <td>0.881</td>\n",
              "    </tr>\n",
              "    <tr>\n",
              "      <th>FARMACIA P.FIGUEIRED</th>\n",
              "      <td>821</td>\n",
              "      <td>0.775</td>\n",
              "    </tr>\n",
              "    <tr>\n",
              "      <th>FARMACIA ITACOATIARA</th>\n",
              "      <td>800</td>\n",
              "      <td>0.755</td>\n",
              "    </tr>\n",
              "    <tr>\n",
              "      <th>FARMACIA STUDIO 5</th>\n",
              "      <td>536</td>\n",
              "      <td>0.506</td>\n",
              "    </tr>\n",
              "    <tr>\n",
              "      <th>BARROSO</th>\n",
              "      <td>493</td>\n",
              "      <td>0.465</td>\n",
              "    </tr>\n",
              "    <tr>\n",
              "      <th>FARMACIA MILLENNIUM</th>\n",
              "      <td>405</td>\n",
              "      <td>0.382</td>\n",
              "    </tr>\n",
              "    <tr>\n",
              "      <th>FARMACIA JI-PARANA</th>\n",
              "      <td>397</td>\n",
              "      <td>0.375</td>\n",
              "    </tr>\n",
              "    <tr>\n",
              "      <th>FARMACIA BOA VISTA</th>\n",
              "      <td>391</td>\n",
              "      <td>0.369</td>\n",
              "    </tr>\n",
              "    <tr>\n",
              "      <th>FARMACIA PORTO VELHO</th>\n",
              "      <td>348</td>\n",
              "      <td>0.328</td>\n",
              "    </tr>\n",
              "    <tr>\n",
              "      <th>FARMACIA ARIQUEMES</th>\n",
              "      <td>326</td>\n",
              "      <td>0.308</td>\n",
              "    </tr>\n",
              "    <tr>\n",
              "      <th>FARMACIA CIDADE NOVA</th>\n",
              "      <td>200</td>\n",
              "      <td>0.189</td>\n",
              "    </tr>\n",
              "    <tr>\n",
              "      <th>FARMACIA JATUARANA</th>\n",
              "      <td>152</td>\n",
              "      <td>0.143</td>\n",
              "    </tr>\n",
              "    <tr>\n",
              "      <th>MERCADO CAMAPUA</th>\n",
              "      <td>126</td>\n",
              "      <td>0.119</td>\n",
              "    </tr>\n",
              "  </tbody>\n",
              "</table>\n",
              "</div>"
            ],
            "text/plain": [
              "                      freq_abs  freq_relativa\n",
              "CIDADE NOVA               6921          6.529\n",
              "CAMAPUA                   6776          6.392\n",
              "SHOPPING                  6272          5.917\n",
              "AVENIDA                   5749          5.424\n",
              "MANAUARA                  5693          5.371\n",
              "GRANDE CIRCULAR           5417          5.110\n",
              "PONTA NEGRA               5222          4.926\n",
              "TORQUATO                  4495          4.241\n",
              "NOVA CIDADE               4464          4.211\n",
              "MATRIZ                    3900          3.679\n",
              "PORTO VELHO               3683          3.475\n",
              "EDUCANDOS                 2988          2.819\n",
              "BOA VISTA                 2958          2.791\n",
              "ITACOATIARA               2803          2.644\n",
              "PONTA NEGRA SHOPPING      2719          2.565\n",
              "STUDIO5                   2711          2.558\n",
              "MANACAPURU                2681          2.529\n",
              "RIO BRANCO                2384          2.249\n",
              "PORTO VELHO SHOPPING      2371          2.237\n",
              "FARMACIA SHOPPING         1707          1.610\n",
              "FARMACIA TORQUATO         1689          1.593\n",
              "JATUARANA                 1622          1.530\n",
              "FARMACIA NOVA CIDADE      1511          1.425\n",
              "PRESIDENTE FIGUEIRED      1501          1.416\n",
              "ARIQUEMES                 1498          1.413\n",
              "JI-PARANA                 1495          1.410\n",
              "MILLENNIUM                1436          1.355\n",
              "FARMACIA CAMAPUA          1234          1.164\n",
              "FARMACIA G.CIRCULAR       1144          1.079\n",
              "FARMACIA MATRIZ           1088          1.026\n",
              "FARMACIA SHOP.P.NEGR      1065          1.005\n",
              "FARMACIA PONTA NEGRA       985          0.929\n",
              "FARMACIA DJALMA            954          0.900\n",
              "FARMACIA MANAUARA          935          0.882\n",
              "FARMACIA AVENIDA           934          0.881\n",
              "FARMACIA P.FIGUEIRED       821          0.775\n",
              "FARMACIA ITACOATIARA       800          0.755\n",
              "FARMACIA STUDIO 5          536          0.506\n",
              "BARROSO                    493          0.465\n",
              "FARMACIA MILLENNIUM        405          0.382\n",
              "FARMACIA JI-PARANA         397          0.375\n",
              "FARMACIA BOA VISTA         391          0.369\n",
              "FARMACIA PORTO VELHO       348          0.328\n",
              "FARMACIA ARIQUEMES         326          0.308\n",
              "FARMACIA CIDADE NOVA       200          0.189\n",
              "FARMACIA JATUARANA         152          0.143\n",
              "MERCADO CAMAPUA            126          0.119"
            ]
          },
          "metadata": {
            "tags": []
          },
          "execution_count": 18
        }
      ]
    },
    {
      "cell_type": "code",
      "metadata": {
        "colab": {
          "base_uri": "https://localhost:8080/",
          "height": 108
        },
        "id": "5Xt2Bg2oONmk",
        "outputId": "324bf2ef-043e-4753-beba-34b6488beccd"
      },
      "source": [
        "#Tabela de vendas ano 2020, sendo os segmentos de vendas físicas (Loja e Farma).\n",
        "tabelaVendasOnline = freq_tab(df_vendas_bol_2020['NOME_LOJA_CURTO'])\n",
        "tabelaVendasOnline"
      ],
      "execution_count": null,
      "outputs": [
        {
          "output_type": "execute_result",
          "data": {
            "text/html": [
              "<div>\n",
              "<style scoped>\n",
              "    .dataframe tbody tr th:only-of-type {\n",
              "        vertical-align: middle;\n",
              "    }\n",
              "\n",
              "    .dataframe tbody tr th {\n",
              "        vertical-align: top;\n",
              "    }\n",
              "\n",
              "    .dataframe thead th {\n",
              "        text-align: right;\n",
              "    }\n",
              "</style>\n",
              "<table border=\"1\" class=\"dataframe\">\n",
              "  <thead>\n",
              "    <tr style=\"text-align: right;\">\n",
              "      <th></th>\n",
              "      <th>freq_abs</th>\n",
              "      <th>freq_relativa</th>\n",
              "    </tr>\n",
              "  </thead>\n",
              "  <tbody>\n",
              "    <tr>\n",
              "      <th>ONLINE</th>\n",
              "      <td>37854</td>\n",
              "      <td>99.37</td>\n",
              "    </tr>\n",
              "    <tr>\n",
              "      <th>FARMACIA ONLINE</th>\n",
              "      <td>240</td>\n",
              "      <td>0.63</td>\n",
              "    </tr>\n",
              "  </tbody>\n",
              "</table>\n",
              "</div>"
            ],
            "text/plain": [
              "                 freq_abs  freq_relativa\n",
              "ONLINE              37854          99.37\n",
              "FARMACIA ONLINE       240           0.63"
            ]
          },
          "metadata": {
            "tags": []
          },
          "execution_count": 19
        }
      ]
    },
    {
      "cell_type": "markdown",
      "metadata": {
        "id": "tpoidxnjOuXy"
      },
      "source": [
        "## Analisar o comportamento de vendas por loja em cada mês: \n",
        " - Média\n",
        " - Mediana\n",
        " - Desvio Padrão"
      ]
    },
    {
      "cell_type": "code",
      "metadata": {
        "id": "pI18EYe8OyHc"
      },
      "source": [
        "# Calculando a quantidade de vendas de cada loja por mês\n",
        "quant_compras_fisica_mes = pd.DataFrame(df_vendas_fisica_2020.groupby(['MES', 'NOME_LOJA_CURTO']).agg({'DATA':'count'})).rename(columns={'DATA':'QUANT_VENDAS'}).reset_index()"
      ],
      "execution_count": null,
      "outputs": []
    },
    {
      "cell_type": "code",
      "metadata": {
        "id": "53KJyK3Sz39V"
      },
      "source": [
        "# Calculando as medidas\n",
        "medidas_quant_compras_fisica_mes = quant_compras_fisica_mes.groupby('NOME_LOJA_CURTO').agg({'QUANT_VENDAS':['mean','median','std','min','max']}).rename(columns={'QUANTIDADE_VENDAS':['MEDIA_VENDAS_MES','MEDIANA_VENDAS_MES']})\n",
        "medidas_quant_compras_fisica_mes"
      ],
      "execution_count": null,
      "outputs": []
    },
    {
      "cell_type": "code",
      "metadata": {
        "id": "DT3PJUEc0h1f"
      },
      "source": [
        "# Calculando a quantidade de vendas  bol por mês\n",
        "quant_compras_bol_mes = pd.DataFrame(df_vendas_bol_2020.groupby(['MES', 'NOME_LOJA_CURTO']).agg({'DATA':'count'})).rename(columns={'DATA':'QUANT_VENDAS'}).reset_index()"
      ],
      "execution_count": null,
      "outputs": []
    },
    {
      "cell_type": "code",
      "metadata": {
        "colab": {
          "base_uri": "https://localhost:8080/",
          "height": 170
        },
        "id": "8hmRPDY10wA9",
        "outputId": "59ebffb1-dc42-4cf9-d5ef-3ffc4fe5096d"
      },
      "source": [
        "# Calculando as medidas\n",
        "medidas_quant_compras_bol_mes = quant_compras_bol_mes.groupby('NOME_LOJA_CURTO').agg({'QUANT_VENDAS':['mean','median','std','min','max']}).rename(columns={'QUANTIDADE_VENDAS':['MEDIA_VENDAS_MES','MEDIANA_VENDAS_MES']})\n",
        "medidas_quant_compras_bol_mes"
      ],
      "execution_count": null,
      "outputs": [
        {
          "output_type": "execute_result",
          "data": {
            "text/html": [
              "<div>\n",
              "<style scoped>\n",
              "    .dataframe tbody tr th:only-of-type {\n",
              "        vertical-align: middle;\n",
              "    }\n",
              "\n",
              "    .dataframe tbody tr th {\n",
              "        vertical-align: top;\n",
              "    }\n",
              "\n",
              "    .dataframe thead tr th {\n",
              "        text-align: left;\n",
              "    }\n",
              "\n",
              "    .dataframe thead tr:last-of-type th {\n",
              "        text-align: right;\n",
              "    }\n",
              "</style>\n",
              "<table border=\"1\" class=\"dataframe\">\n",
              "  <thead>\n",
              "    <tr>\n",
              "      <th></th>\n",
              "      <th colspan=\"5\" halign=\"left\">QUANT_VENDAS</th>\n",
              "    </tr>\n",
              "    <tr>\n",
              "      <th></th>\n",
              "      <th>mean</th>\n",
              "      <th>median</th>\n",
              "      <th>std</th>\n",
              "      <th>min</th>\n",
              "      <th>max</th>\n",
              "    </tr>\n",
              "    <tr>\n",
              "      <th>NOME_LOJA_CURTO</th>\n",
              "      <th></th>\n",
              "      <th></th>\n",
              "      <th></th>\n",
              "      <th></th>\n",
              "      <th></th>\n",
              "    </tr>\n",
              "  </thead>\n",
              "  <tbody>\n",
              "    <tr>\n",
              "      <th>FARMACIA ONLINE</th>\n",
              "      <td>20.0</td>\n",
              "      <td>17.5</td>\n",
              "      <td>15.141754</td>\n",
              "      <td>4</td>\n",
              "      <td>48</td>\n",
              "    </tr>\n",
              "    <tr>\n",
              "      <th>ONLINE</th>\n",
              "      <td>3154.5</td>\n",
              "      <td>2922.0</td>\n",
              "      <td>1136.887977</td>\n",
              "      <td>1692</td>\n",
              "      <td>5760</td>\n",
              "    </tr>\n",
              "  </tbody>\n",
              "</table>\n",
              "</div>"
            ],
            "text/plain": [
              "                QUANT_VENDAS                                 \n",
              "                        mean  median          std   min   max\n",
              "NOME_LOJA_CURTO                                              \n",
              "FARMACIA ONLINE         20.0    17.5    15.141754     4    48\n",
              "ONLINE                3154.5  2922.0  1136.887977  1692  5760"
            ]
          },
          "metadata": {
            "tags": []
          },
          "execution_count": 24
        }
      ]
    },
    {
      "cell_type": "markdown",
      "metadata": {
        "id": "R5X2UnGrLthI"
      },
      "source": [
        "## Análise Gráfica"
      ]
    },
    {
      "cell_type": "code",
      "metadata": {
        "id": "fhWHhX7V1Mi_"
      },
      "source": [
        "total_vendas = quant_compras_fisica_mes.groupby('NOME_LOJA_CURTO').agg({'QUANT_VENDAS':'sum'}).rename(columns={'QUANT_VENDAS':'TOTAL_VENDAS'}).reset_index()"
      ],
      "execution_count": null,
      "outputs": []
    },
    {
      "cell_type": "code",
      "metadata": {
        "colab": {
          "base_uri": "https://localhost:8080/",
          "height": 542
        },
        "id": "dCaPR2xV1WTH",
        "outputId": "1d493f8f-ee3c-451c-bbd5-ed5dc386e09f"
      },
      "source": [
        "bar2 = px.bar(total_vendas, x = 'NOME_LOJA_CURTO', y = 'TOTAL_VENDAS', title='TOTAL VENDAS FÍSICA')\n",
        "bar2.show()"
      ],
      "execution_count": null,
      "outputs": [
        {
          "output_type": "display_data",
          "data": {
            "text/html": [
              "<html>\n",
              "<head><meta charset=\"utf-8\" /></head>\n",
              "<body>\n",
              "    <div>\n",
              "            <script src=\"https://cdnjs.cloudflare.com/ajax/libs/mathjax/2.7.5/MathJax.js?config=TeX-AMS-MML_SVG\"></script><script type=\"text/javascript\">if (window.MathJax) {MathJax.Hub.Config({SVG: {font: \"STIX-Web\"}});}</script>\n",
              "                <script type=\"text/javascript\">window.PlotlyConfig = {MathJaxConfig: 'local'};</script>\n",
              "        <script src=\"https://cdn.plot.ly/plotly-latest.min.js\"></script>    \n",
              "            <div id=\"158cabf8-438c-4060-98a7-0ea0b5c4c8a9\" class=\"plotly-graph-div\" style=\"height:525px; width:100%;\"></div>\n",
              "            <script type=\"text/javascript\">\n",
              "                \n",
              "                    window.PLOTLYENV=window.PLOTLYENV || {};\n",
              "                    \n",
              "                if (document.getElementById(\"158cabf8-438c-4060-98a7-0ea0b5c4c8a9\")) {\n",
              "                    Plotly.newPlot(\n",
              "                        '158cabf8-438c-4060-98a7-0ea0b5c4c8a9',\n",
              "                        [{\"alignmentgroup\": \"True\", \"hoverlabel\": {\"namelength\": 0}, \"hovertemplate\": \"NOME_LOJA_CURTO=%{x}<br>TOTAL_VENDAS=%{y}\", \"legendgroup\": \"\", \"marker\": {\"color\": \"#636efa\"}, \"name\": \"\", \"offsetgroup\": \"\", \"orientation\": \"v\", \"showlegend\": false, \"textposition\": \"auto\", \"type\": \"bar\", \"x\": [\"ARIQUEMES\", \"AVENIDA\", \"BARROSO\", \"BOA VISTA\", \"CAMAPUA\", \"CIDADE NOVA\", \"EDUCANDOS\", \"FARMACIA ARIQUEMES\", \"FARMACIA AVENIDA\", \"FARMACIA BOA VISTA\", \"FARMACIA CAMAPUA\", \"FARMACIA CIDADE NOVA\", \"FARMACIA DJALMA\", \"FARMACIA G.CIRCULAR\", \"FARMACIA ITACOATIARA\", \"FARMACIA JATUARANA\", \"FARMACIA JI-PARANA\", \"FARMACIA MANAUARA\", \"FARMACIA MATRIZ\", \"FARMACIA MILLENNIUM\", \"FARMACIA NOVA CIDADE\", \"FARMACIA P.FIGUEIRED\", \"FARMACIA PONTA NEGRA\", \"FARMACIA PORTO VELHO\", \"FARMACIA SHOP.P.NEGR\", \"FARMACIA SHOPPING\", \"FARMACIA STUDIO 5\", \"FARMACIA TORQUATO\", \"GRANDE CIRCULAR\", \"ITACOATIARA\", \"JATUARANA\", \"JI-PARANA\", \"MANACAPURU\", \"MANAUARA\", \"MATRIZ\", \"MERCADO CAMAPUA\", \"MILLENNIUM\", \"NOVA CIDADE\", \"PONTA NEGRA\", \"PONTA NEGRA SHOPPING\", \"PORTO VELHO\", \"PORTO VELHO SHOPPING\", \"PRESIDENTE FIGUEIRED\", \"RIO BRANCO\", \"SHOPPING\", \"STUDIO5\", \"TORQUATO\"], \"xaxis\": \"x\", \"y\": [1498, 5749, 493, 2958, 6776, 6921, 2988, 326, 934, 391, 1234, 200, 954, 1144, 800, 152, 397, 935, 1088, 405, 1511, 821, 985, 348, 1065, 1707, 536, 1689, 5417, 2803, 1622, 1495, 2681, 5693, 3900, 126, 1436, 4464, 5222, 2719, 3683, 2371, 1501, 2384, 6272, 2711, 4495], \"yaxis\": \"y\"}],\n",
              "                        {\"barmode\": \"relative\", \"legend\": {\"tracegroupgap\": 0}, \"template\": {\"data\": {\"bar\": [{\"error_x\": {\"color\": \"#2a3f5f\"}, \"error_y\": {\"color\": \"#2a3f5f\"}, \"marker\": {\"line\": {\"color\": \"#E5ECF6\", \"width\": 0.5}}, \"type\": \"bar\"}], \"barpolar\": [{\"marker\": {\"line\": {\"color\": \"#E5ECF6\", \"width\": 0.5}}, \"type\": \"barpolar\"}], \"carpet\": [{\"aaxis\": {\"endlinecolor\": \"#2a3f5f\", \"gridcolor\": \"white\", \"linecolor\": \"white\", \"minorgridcolor\": \"white\", \"startlinecolor\": \"#2a3f5f\"}, \"baxis\": {\"endlinecolor\": \"#2a3f5f\", \"gridcolor\": \"white\", \"linecolor\": \"white\", \"minorgridcolor\": \"white\", \"startlinecolor\": \"#2a3f5f\"}, \"type\": \"carpet\"}], \"choropleth\": [{\"colorbar\": {\"outlinewidth\": 0, \"ticks\": \"\"}, \"type\": \"choropleth\"}], \"contour\": [{\"colorbar\": {\"outlinewidth\": 0, \"ticks\": \"\"}, \"colorscale\": [[0.0, \"#0d0887\"], [0.1111111111111111, \"#46039f\"], [0.2222222222222222, \"#7201a8\"], [0.3333333333333333, \"#9c179e\"], [0.4444444444444444, \"#bd3786\"], [0.5555555555555556, \"#d8576b\"], [0.6666666666666666, \"#ed7953\"], [0.7777777777777778, \"#fb9f3a\"], [0.8888888888888888, \"#fdca26\"], [1.0, \"#f0f921\"]], \"type\": \"contour\"}], \"contourcarpet\": [{\"colorbar\": {\"outlinewidth\": 0, \"ticks\": \"\"}, \"type\": \"contourcarpet\"}], \"heatmap\": [{\"colorbar\": {\"outlinewidth\": 0, \"ticks\": \"\"}, \"colorscale\": [[0.0, \"#0d0887\"], [0.1111111111111111, \"#46039f\"], [0.2222222222222222, \"#7201a8\"], [0.3333333333333333, \"#9c179e\"], [0.4444444444444444, \"#bd3786\"], [0.5555555555555556, \"#d8576b\"], [0.6666666666666666, \"#ed7953\"], [0.7777777777777778, \"#fb9f3a\"], [0.8888888888888888, \"#fdca26\"], [1.0, \"#f0f921\"]], \"type\": \"heatmap\"}], \"heatmapgl\": [{\"colorbar\": {\"outlinewidth\": 0, \"ticks\": \"\"}, \"colorscale\": [[0.0, \"#0d0887\"], [0.1111111111111111, \"#46039f\"], [0.2222222222222222, \"#7201a8\"], [0.3333333333333333, \"#9c179e\"], [0.4444444444444444, \"#bd3786\"], [0.5555555555555556, \"#d8576b\"], [0.6666666666666666, \"#ed7953\"], [0.7777777777777778, \"#fb9f3a\"], [0.8888888888888888, \"#fdca26\"], [1.0, \"#f0f921\"]], \"type\": \"heatmapgl\"}], \"histogram\": [{\"marker\": {\"colorbar\": {\"outlinewidth\": 0, \"ticks\": \"\"}}, \"type\": \"histogram\"}], \"histogram2d\": [{\"colorbar\": {\"outlinewidth\": 0, \"ticks\": \"\"}, \"colorscale\": [[0.0, \"#0d0887\"], [0.1111111111111111, \"#46039f\"], [0.2222222222222222, \"#7201a8\"], [0.3333333333333333, \"#9c179e\"], [0.4444444444444444, \"#bd3786\"], [0.5555555555555556, \"#d8576b\"], [0.6666666666666666, \"#ed7953\"], [0.7777777777777778, \"#fb9f3a\"], [0.8888888888888888, \"#fdca26\"], [1.0, \"#f0f921\"]], \"type\": \"histogram2d\"}], \"histogram2dcontour\": [{\"colorbar\": {\"outlinewidth\": 0, \"ticks\": \"\"}, \"colorscale\": [[0.0, \"#0d0887\"], [0.1111111111111111, \"#46039f\"], [0.2222222222222222, \"#7201a8\"], [0.3333333333333333, \"#9c179e\"], [0.4444444444444444, \"#bd3786\"], [0.5555555555555556, \"#d8576b\"], [0.6666666666666666, \"#ed7953\"], [0.7777777777777778, \"#fb9f3a\"], [0.8888888888888888, \"#fdca26\"], [1.0, \"#f0f921\"]], \"type\": \"histogram2dcontour\"}], \"mesh3d\": [{\"colorbar\": {\"outlinewidth\": 0, \"ticks\": \"\"}, \"type\": \"mesh3d\"}], \"parcoords\": [{\"line\": {\"colorbar\": {\"outlinewidth\": 0, \"ticks\": \"\"}}, \"type\": \"parcoords\"}], \"pie\": [{\"automargin\": true, \"type\": \"pie\"}], \"scatter\": [{\"marker\": {\"colorbar\": {\"outlinewidth\": 0, \"ticks\": \"\"}}, \"type\": \"scatter\"}], \"scatter3d\": [{\"line\": {\"colorbar\": {\"outlinewidth\": 0, \"ticks\": \"\"}}, \"marker\": {\"colorbar\": {\"outlinewidth\": 0, \"ticks\": \"\"}}, \"type\": \"scatter3d\"}], \"scattercarpet\": [{\"marker\": {\"colorbar\": {\"outlinewidth\": 0, \"ticks\": \"\"}}, \"type\": \"scattercarpet\"}], \"scattergeo\": [{\"marker\": {\"colorbar\": {\"outlinewidth\": 0, \"ticks\": \"\"}}, \"type\": \"scattergeo\"}], \"scattergl\": [{\"marker\": {\"colorbar\": {\"outlinewidth\": 0, \"ticks\": \"\"}}, \"type\": \"scattergl\"}], \"scattermapbox\": [{\"marker\": {\"colorbar\": {\"outlinewidth\": 0, \"ticks\": \"\"}}, \"type\": \"scattermapbox\"}], \"scatterpolar\": [{\"marker\": {\"colorbar\": {\"outlinewidth\": 0, \"ticks\": \"\"}}, \"type\": \"scatterpolar\"}], \"scatterpolargl\": [{\"marker\": {\"colorbar\": {\"outlinewidth\": 0, \"ticks\": \"\"}}, \"type\": \"scatterpolargl\"}], \"scatterternary\": [{\"marker\": {\"colorbar\": {\"outlinewidth\": 0, \"ticks\": \"\"}}, \"type\": \"scatterternary\"}], \"surface\": [{\"colorbar\": {\"outlinewidth\": 0, \"ticks\": \"\"}, \"colorscale\": [[0.0, \"#0d0887\"], [0.1111111111111111, \"#46039f\"], [0.2222222222222222, \"#7201a8\"], [0.3333333333333333, \"#9c179e\"], [0.4444444444444444, \"#bd3786\"], [0.5555555555555556, \"#d8576b\"], [0.6666666666666666, \"#ed7953\"], [0.7777777777777778, \"#fb9f3a\"], [0.8888888888888888, \"#fdca26\"], [1.0, \"#f0f921\"]], \"type\": \"surface\"}], \"table\": [{\"cells\": {\"fill\": {\"color\": \"#EBF0F8\"}, \"line\": {\"color\": \"white\"}}, \"header\": {\"fill\": {\"color\": \"#C8D4E3\"}, \"line\": {\"color\": \"white\"}}, \"type\": \"table\"}]}, \"layout\": {\"annotationdefaults\": {\"arrowcolor\": \"#2a3f5f\", \"arrowhead\": 0, \"arrowwidth\": 1}, \"coloraxis\": {\"colorbar\": {\"outlinewidth\": 0, \"ticks\": \"\"}}, \"colorscale\": {\"diverging\": [[0, \"#8e0152\"], [0.1, \"#c51b7d\"], [0.2, \"#de77ae\"], [0.3, \"#f1b6da\"], [0.4, \"#fde0ef\"], [0.5, \"#f7f7f7\"], [0.6, \"#e6f5d0\"], [0.7, \"#b8e186\"], [0.8, \"#7fbc41\"], [0.9, \"#4d9221\"], [1, \"#276419\"]], \"sequential\": [[0.0, \"#0d0887\"], [0.1111111111111111, \"#46039f\"], [0.2222222222222222, \"#7201a8\"], [0.3333333333333333, \"#9c179e\"], [0.4444444444444444, \"#bd3786\"], [0.5555555555555556, \"#d8576b\"], [0.6666666666666666, \"#ed7953\"], [0.7777777777777778, \"#fb9f3a\"], [0.8888888888888888, \"#fdca26\"], [1.0, \"#f0f921\"]], \"sequentialminus\": [[0.0, \"#0d0887\"], [0.1111111111111111, \"#46039f\"], [0.2222222222222222, \"#7201a8\"], [0.3333333333333333, \"#9c179e\"], [0.4444444444444444, \"#bd3786\"], [0.5555555555555556, \"#d8576b\"], [0.6666666666666666, \"#ed7953\"], [0.7777777777777778, \"#fb9f3a\"], [0.8888888888888888, \"#fdca26\"], [1.0, \"#f0f921\"]]}, \"colorway\": [\"#636efa\", \"#EF553B\", \"#00cc96\", \"#ab63fa\", \"#FFA15A\", \"#19d3f3\", \"#FF6692\", \"#B6E880\", \"#FF97FF\", \"#FECB52\"], \"font\": {\"color\": \"#2a3f5f\"}, \"geo\": {\"bgcolor\": \"white\", \"lakecolor\": \"white\", \"landcolor\": \"#E5ECF6\", \"showlakes\": true, \"showland\": true, \"subunitcolor\": \"white\"}, \"hoverlabel\": {\"align\": \"left\"}, \"hovermode\": \"closest\", \"mapbox\": {\"style\": \"light\"}, \"paper_bgcolor\": \"white\", \"plot_bgcolor\": \"#E5ECF6\", \"polar\": {\"angularaxis\": {\"gridcolor\": \"white\", \"linecolor\": \"white\", \"ticks\": \"\"}, \"bgcolor\": \"#E5ECF6\", \"radialaxis\": {\"gridcolor\": \"white\", \"linecolor\": \"white\", \"ticks\": \"\"}}, \"scene\": {\"xaxis\": {\"backgroundcolor\": \"#E5ECF6\", \"gridcolor\": \"white\", \"gridwidth\": 2, \"linecolor\": \"white\", \"showbackground\": true, \"ticks\": \"\", \"zerolinecolor\": \"white\"}, \"yaxis\": {\"backgroundcolor\": \"#E5ECF6\", \"gridcolor\": \"white\", \"gridwidth\": 2, \"linecolor\": \"white\", \"showbackground\": true, \"ticks\": \"\", \"zerolinecolor\": \"white\"}, \"zaxis\": {\"backgroundcolor\": \"#E5ECF6\", \"gridcolor\": \"white\", \"gridwidth\": 2, \"linecolor\": \"white\", \"showbackground\": true, \"ticks\": \"\", \"zerolinecolor\": \"white\"}}, \"shapedefaults\": {\"line\": {\"color\": \"#2a3f5f\"}}, \"ternary\": {\"aaxis\": {\"gridcolor\": \"white\", \"linecolor\": \"white\", \"ticks\": \"\"}, \"baxis\": {\"gridcolor\": \"white\", \"linecolor\": \"white\", \"ticks\": \"\"}, \"bgcolor\": \"#E5ECF6\", \"caxis\": {\"gridcolor\": \"white\", \"linecolor\": \"white\", \"ticks\": \"\"}}, \"title\": {\"x\": 0.05}, \"xaxis\": {\"automargin\": true, \"gridcolor\": \"white\", \"linecolor\": \"white\", \"ticks\": \"\", \"title\": {\"standoff\": 15}, \"zerolinecolor\": \"white\", \"zerolinewidth\": 2}, \"yaxis\": {\"automargin\": true, \"gridcolor\": \"white\", \"linecolor\": \"white\", \"ticks\": \"\", \"title\": {\"standoff\": 15}, \"zerolinecolor\": \"white\", \"zerolinewidth\": 2}}}, \"title\": {\"text\": \"TOTAL VENDAS F\\u00cdSICA\"}, \"xaxis\": {\"anchor\": \"y\", \"domain\": [0.0, 1.0], \"title\": {\"text\": \"NOME_LOJA_CURTO\"}}, \"yaxis\": {\"anchor\": \"x\", \"domain\": [0.0, 1.0], \"title\": {\"text\": \"TOTAL_VENDAS\"}}},\n",
              "                        {\"responsive\": true}\n",
              "                    ).then(function(){\n",
              "                            \n",
              "var gd = document.getElementById('158cabf8-438c-4060-98a7-0ea0b5c4c8a9');\n",
              "var x = new MutationObserver(function (mutations, observer) {{\n",
              "        var display = window.getComputedStyle(gd).display;\n",
              "        if (!display || display === 'none') {{\n",
              "            console.log([gd, 'removed!']);\n",
              "            Plotly.purge(gd);\n",
              "            observer.disconnect();\n",
              "        }}\n",
              "}});\n",
              "\n",
              "// Listen for the removal of the full notebook cells\n",
              "var notebookContainer = gd.closest('#notebook-container');\n",
              "if (notebookContainer) {{\n",
              "    x.observe(notebookContainer, {childList: true});\n",
              "}}\n",
              "\n",
              "// Listen for the clearing of the current output cell\n",
              "var outputEl = gd.closest('.output');\n",
              "if (outputEl) {{\n",
              "    x.observe(outputEl, {childList: true});\n",
              "}}\n",
              "\n",
              "                        })\n",
              "                };\n",
              "                \n",
              "            </script>\n",
              "        </div>\n",
              "</body>\n",
              "</html>"
            ]
          },
          "metadata": {
            "tags": []
          }
        }
      ]
    },
    {
      "cell_type": "code",
      "metadata": {
        "id": "SETWnwH313Mw"
      },
      "source": [
        "total_vendas_bol = quant_compras_bol_mes.groupby('NOME_LOJA_CURTO').agg({'QUANT_VENDAS':'sum'}).rename(columns={'QUANT_VENDAS':'TOTAL_VENDAS'}).reset_index()"
      ],
      "execution_count": null,
      "outputs": []
    },
    {
      "cell_type": "code",
      "metadata": {
        "colab": {
          "base_uri": "https://localhost:8080/",
          "height": 542
        },
        "id": "zSJE1mlb19VI",
        "outputId": "3cccec15-0431-4bb5-8209-374721403de6"
      },
      "source": [
        "bar3 = px.bar(total_vendas_bol, x = 'NOME_LOJA_CURTO', y = 'TOTAL_VENDAS', title='TOTAL VENDAS ONLINE')\n",
        "bar3.show()"
      ],
      "execution_count": null,
      "outputs": [
        {
          "output_type": "display_data",
          "data": {
            "text/html": [
              "<html>\n",
              "<head><meta charset=\"utf-8\" /></head>\n",
              "<body>\n",
              "    <div>\n",
              "            <script src=\"https://cdnjs.cloudflare.com/ajax/libs/mathjax/2.7.5/MathJax.js?config=TeX-AMS-MML_SVG\"></script><script type=\"text/javascript\">if (window.MathJax) {MathJax.Hub.Config({SVG: {font: \"STIX-Web\"}});}</script>\n",
              "                <script type=\"text/javascript\">window.PlotlyConfig = {MathJaxConfig: 'local'};</script>\n",
              "        <script src=\"https://cdn.plot.ly/plotly-latest.min.js\"></script>    \n",
              "            <div id=\"2f787aa1-a798-42cf-b52d-90bbe50f13f5\" class=\"plotly-graph-div\" style=\"height:525px; width:100%;\"></div>\n",
              "            <script type=\"text/javascript\">\n",
              "                \n",
              "                    window.PLOTLYENV=window.PLOTLYENV || {};\n",
              "                    \n",
              "                if (document.getElementById(\"2f787aa1-a798-42cf-b52d-90bbe50f13f5\")) {\n",
              "                    Plotly.newPlot(\n",
              "                        '2f787aa1-a798-42cf-b52d-90bbe50f13f5',\n",
              "                        [{\"alignmentgroup\": \"True\", \"hoverlabel\": {\"namelength\": 0}, \"hovertemplate\": \"NOME_LOJA_CURTO=%{x}<br>TOTAL_VENDAS=%{y}\", \"legendgroup\": \"\", \"marker\": {\"color\": \"#636efa\"}, \"name\": \"\", \"offsetgroup\": \"\", \"orientation\": \"v\", \"showlegend\": false, \"textposition\": \"auto\", \"type\": \"bar\", \"x\": [\"FARMACIA ONLINE\", \"ONLINE\"], \"xaxis\": \"x\", \"y\": [240, 37854], \"yaxis\": \"y\"}],\n",
              "                        {\"barmode\": \"relative\", \"legend\": {\"tracegroupgap\": 0}, \"template\": {\"data\": {\"bar\": [{\"error_x\": {\"color\": \"#2a3f5f\"}, \"error_y\": {\"color\": \"#2a3f5f\"}, \"marker\": {\"line\": {\"color\": \"#E5ECF6\", \"width\": 0.5}}, \"type\": \"bar\"}], \"barpolar\": [{\"marker\": {\"line\": {\"color\": \"#E5ECF6\", \"width\": 0.5}}, \"type\": \"barpolar\"}], \"carpet\": [{\"aaxis\": {\"endlinecolor\": \"#2a3f5f\", \"gridcolor\": \"white\", \"linecolor\": \"white\", \"minorgridcolor\": \"white\", \"startlinecolor\": \"#2a3f5f\"}, \"baxis\": {\"endlinecolor\": \"#2a3f5f\", \"gridcolor\": \"white\", \"linecolor\": \"white\", \"minorgridcolor\": \"white\", \"startlinecolor\": \"#2a3f5f\"}, \"type\": \"carpet\"}], \"choropleth\": [{\"colorbar\": {\"outlinewidth\": 0, \"ticks\": \"\"}, \"type\": \"choropleth\"}], \"contour\": [{\"colorbar\": {\"outlinewidth\": 0, \"ticks\": \"\"}, \"colorscale\": [[0.0, \"#0d0887\"], [0.1111111111111111, \"#46039f\"], [0.2222222222222222, \"#7201a8\"], [0.3333333333333333, \"#9c179e\"], [0.4444444444444444, \"#bd3786\"], [0.5555555555555556, \"#d8576b\"], [0.6666666666666666, \"#ed7953\"], [0.7777777777777778, \"#fb9f3a\"], [0.8888888888888888, \"#fdca26\"], [1.0, \"#f0f921\"]], \"type\": \"contour\"}], \"contourcarpet\": [{\"colorbar\": {\"outlinewidth\": 0, \"ticks\": \"\"}, \"type\": \"contourcarpet\"}], \"heatmap\": [{\"colorbar\": {\"outlinewidth\": 0, \"ticks\": \"\"}, \"colorscale\": [[0.0, \"#0d0887\"], [0.1111111111111111, \"#46039f\"], [0.2222222222222222, \"#7201a8\"], [0.3333333333333333, \"#9c179e\"], [0.4444444444444444, \"#bd3786\"], [0.5555555555555556, \"#d8576b\"], [0.6666666666666666, \"#ed7953\"], [0.7777777777777778, \"#fb9f3a\"], [0.8888888888888888, \"#fdca26\"], [1.0, \"#f0f921\"]], \"type\": \"heatmap\"}], \"heatmapgl\": [{\"colorbar\": {\"outlinewidth\": 0, \"ticks\": \"\"}, \"colorscale\": [[0.0, \"#0d0887\"], [0.1111111111111111, \"#46039f\"], [0.2222222222222222, \"#7201a8\"], [0.3333333333333333, \"#9c179e\"], [0.4444444444444444, \"#bd3786\"], [0.5555555555555556, \"#d8576b\"], [0.6666666666666666, \"#ed7953\"], [0.7777777777777778, \"#fb9f3a\"], [0.8888888888888888, \"#fdca26\"], [1.0, \"#f0f921\"]], \"type\": \"heatmapgl\"}], \"histogram\": [{\"marker\": {\"colorbar\": {\"outlinewidth\": 0, \"ticks\": \"\"}}, \"type\": \"histogram\"}], \"histogram2d\": [{\"colorbar\": {\"outlinewidth\": 0, \"ticks\": \"\"}, \"colorscale\": [[0.0, \"#0d0887\"], [0.1111111111111111, \"#46039f\"], [0.2222222222222222, \"#7201a8\"], [0.3333333333333333, \"#9c179e\"], [0.4444444444444444, \"#bd3786\"], [0.5555555555555556, \"#d8576b\"], [0.6666666666666666, \"#ed7953\"], [0.7777777777777778, \"#fb9f3a\"], [0.8888888888888888, \"#fdca26\"], [1.0, \"#f0f921\"]], \"type\": \"histogram2d\"}], \"histogram2dcontour\": [{\"colorbar\": {\"outlinewidth\": 0, \"ticks\": \"\"}, \"colorscale\": [[0.0, \"#0d0887\"], [0.1111111111111111, \"#46039f\"], [0.2222222222222222, \"#7201a8\"], [0.3333333333333333, \"#9c179e\"], [0.4444444444444444, \"#bd3786\"], [0.5555555555555556, \"#d8576b\"], [0.6666666666666666, \"#ed7953\"], [0.7777777777777778, \"#fb9f3a\"], [0.8888888888888888, \"#fdca26\"], [1.0, \"#f0f921\"]], \"type\": \"histogram2dcontour\"}], \"mesh3d\": [{\"colorbar\": {\"outlinewidth\": 0, \"ticks\": \"\"}, \"type\": \"mesh3d\"}], \"parcoords\": [{\"line\": {\"colorbar\": {\"outlinewidth\": 0, \"ticks\": \"\"}}, \"type\": \"parcoords\"}], \"pie\": [{\"automargin\": true, \"type\": \"pie\"}], \"scatter\": [{\"marker\": {\"colorbar\": {\"outlinewidth\": 0, \"ticks\": \"\"}}, \"type\": \"scatter\"}], \"scatter3d\": [{\"line\": {\"colorbar\": {\"outlinewidth\": 0, \"ticks\": \"\"}}, \"marker\": {\"colorbar\": {\"outlinewidth\": 0, \"ticks\": \"\"}}, \"type\": \"scatter3d\"}], \"scattercarpet\": [{\"marker\": {\"colorbar\": {\"outlinewidth\": 0, \"ticks\": \"\"}}, \"type\": \"scattercarpet\"}], \"scattergeo\": [{\"marker\": {\"colorbar\": {\"outlinewidth\": 0, \"ticks\": \"\"}}, \"type\": \"scattergeo\"}], \"scattergl\": [{\"marker\": {\"colorbar\": {\"outlinewidth\": 0, \"ticks\": \"\"}}, \"type\": \"scattergl\"}], \"scattermapbox\": [{\"marker\": {\"colorbar\": {\"outlinewidth\": 0, \"ticks\": \"\"}}, \"type\": \"scattermapbox\"}], \"scatterpolar\": [{\"marker\": {\"colorbar\": {\"outlinewidth\": 0, \"ticks\": \"\"}}, \"type\": \"scatterpolar\"}], \"scatterpolargl\": [{\"marker\": {\"colorbar\": {\"outlinewidth\": 0, \"ticks\": \"\"}}, \"type\": \"scatterpolargl\"}], \"scatterternary\": [{\"marker\": {\"colorbar\": {\"outlinewidth\": 0, \"ticks\": \"\"}}, \"type\": \"scatterternary\"}], \"surface\": [{\"colorbar\": {\"outlinewidth\": 0, \"ticks\": \"\"}, \"colorscale\": [[0.0, \"#0d0887\"], [0.1111111111111111, \"#46039f\"], [0.2222222222222222, \"#7201a8\"], [0.3333333333333333, \"#9c179e\"], [0.4444444444444444, \"#bd3786\"], [0.5555555555555556, \"#d8576b\"], [0.6666666666666666, \"#ed7953\"], [0.7777777777777778, \"#fb9f3a\"], [0.8888888888888888, \"#fdca26\"], [1.0, \"#f0f921\"]], \"type\": \"surface\"}], \"table\": [{\"cells\": {\"fill\": {\"color\": \"#EBF0F8\"}, \"line\": {\"color\": \"white\"}}, \"header\": {\"fill\": {\"color\": \"#C8D4E3\"}, \"line\": {\"color\": \"white\"}}, \"type\": \"table\"}]}, \"layout\": {\"annotationdefaults\": {\"arrowcolor\": \"#2a3f5f\", \"arrowhead\": 0, \"arrowwidth\": 1}, \"coloraxis\": {\"colorbar\": {\"outlinewidth\": 0, \"ticks\": \"\"}}, \"colorscale\": {\"diverging\": [[0, \"#8e0152\"], [0.1, \"#c51b7d\"], [0.2, \"#de77ae\"], [0.3, \"#f1b6da\"], [0.4, \"#fde0ef\"], [0.5, \"#f7f7f7\"], [0.6, \"#e6f5d0\"], [0.7, \"#b8e186\"], [0.8, \"#7fbc41\"], [0.9, \"#4d9221\"], [1, \"#276419\"]], \"sequential\": [[0.0, \"#0d0887\"], [0.1111111111111111, \"#46039f\"], [0.2222222222222222, \"#7201a8\"], [0.3333333333333333, \"#9c179e\"], [0.4444444444444444, \"#bd3786\"], [0.5555555555555556, \"#d8576b\"], [0.6666666666666666, \"#ed7953\"], [0.7777777777777778, \"#fb9f3a\"], [0.8888888888888888, \"#fdca26\"], [1.0, \"#f0f921\"]], \"sequentialminus\": [[0.0, \"#0d0887\"], [0.1111111111111111, \"#46039f\"], [0.2222222222222222, \"#7201a8\"], [0.3333333333333333, \"#9c179e\"], [0.4444444444444444, \"#bd3786\"], [0.5555555555555556, \"#d8576b\"], [0.6666666666666666, \"#ed7953\"], [0.7777777777777778, \"#fb9f3a\"], [0.8888888888888888, \"#fdca26\"], [1.0, \"#f0f921\"]]}, \"colorway\": [\"#636efa\", \"#EF553B\", \"#00cc96\", \"#ab63fa\", \"#FFA15A\", \"#19d3f3\", \"#FF6692\", \"#B6E880\", \"#FF97FF\", \"#FECB52\"], \"font\": {\"color\": \"#2a3f5f\"}, \"geo\": {\"bgcolor\": \"white\", \"lakecolor\": \"white\", \"landcolor\": \"#E5ECF6\", \"showlakes\": true, \"showland\": true, \"subunitcolor\": \"white\"}, \"hoverlabel\": {\"align\": \"left\"}, \"hovermode\": \"closest\", \"mapbox\": {\"style\": \"light\"}, \"paper_bgcolor\": \"white\", \"plot_bgcolor\": \"#E5ECF6\", \"polar\": {\"angularaxis\": {\"gridcolor\": \"white\", \"linecolor\": \"white\", \"ticks\": \"\"}, \"bgcolor\": \"#E5ECF6\", \"radialaxis\": {\"gridcolor\": \"white\", \"linecolor\": \"white\", \"ticks\": \"\"}}, \"scene\": {\"xaxis\": {\"backgroundcolor\": \"#E5ECF6\", \"gridcolor\": \"white\", \"gridwidth\": 2, \"linecolor\": \"white\", \"showbackground\": true, \"ticks\": \"\", \"zerolinecolor\": \"white\"}, \"yaxis\": {\"backgroundcolor\": \"#E5ECF6\", \"gridcolor\": \"white\", \"gridwidth\": 2, \"linecolor\": \"white\", \"showbackground\": true, \"ticks\": \"\", \"zerolinecolor\": \"white\"}, \"zaxis\": {\"backgroundcolor\": \"#E5ECF6\", \"gridcolor\": \"white\", \"gridwidth\": 2, \"linecolor\": \"white\", \"showbackground\": true, \"ticks\": \"\", \"zerolinecolor\": \"white\"}}, \"shapedefaults\": {\"line\": {\"color\": \"#2a3f5f\"}}, \"ternary\": {\"aaxis\": {\"gridcolor\": \"white\", \"linecolor\": \"white\", \"ticks\": \"\"}, \"baxis\": {\"gridcolor\": \"white\", \"linecolor\": \"white\", \"ticks\": \"\"}, \"bgcolor\": \"#E5ECF6\", \"caxis\": {\"gridcolor\": \"white\", \"linecolor\": \"white\", \"ticks\": \"\"}}, \"title\": {\"x\": 0.05}, \"xaxis\": {\"automargin\": true, \"gridcolor\": \"white\", \"linecolor\": \"white\", \"ticks\": \"\", \"title\": {\"standoff\": 15}, \"zerolinecolor\": \"white\", \"zerolinewidth\": 2}, \"yaxis\": {\"automargin\": true, \"gridcolor\": \"white\", \"linecolor\": \"white\", \"ticks\": \"\", \"title\": {\"standoff\": 15}, \"zerolinecolor\": \"white\", \"zerolinewidth\": 2}}}, \"title\": {\"text\": \"TOTAL VENDAS ONLINE\"}, \"xaxis\": {\"anchor\": \"y\", \"domain\": [0.0, 1.0], \"title\": {\"text\": \"NOME_LOJA_CURTO\"}}, \"yaxis\": {\"anchor\": \"x\", \"domain\": [0.0, 1.0], \"title\": {\"text\": \"TOTAL_VENDAS\"}}},\n",
              "                        {\"responsive\": true}\n",
              "                    ).then(function(){\n",
              "                            \n",
              "var gd = document.getElementById('2f787aa1-a798-42cf-b52d-90bbe50f13f5');\n",
              "var x = new MutationObserver(function (mutations, observer) {{\n",
              "        var display = window.getComputedStyle(gd).display;\n",
              "        if (!display || display === 'none') {{\n",
              "            console.log([gd, 'removed!']);\n",
              "            Plotly.purge(gd);\n",
              "            observer.disconnect();\n",
              "        }}\n",
              "}});\n",
              "\n",
              "// Listen for the removal of the full notebook cells\n",
              "var notebookContainer = gd.closest('#notebook-container');\n",
              "if (notebookContainer) {{\n",
              "    x.observe(notebookContainer, {childList: true});\n",
              "}}\n",
              "\n",
              "// Listen for the clearing of the current output cell\n",
              "var outputEl = gd.closest('.output');\n",
              "if (outputEl) {{\n",
              "    x.observe(outputEl, {childList: true});\n",
              "}}\n",
              "\n",
              "                        })\n",
              "                };\n",
              "                \n",
              "            </script>\n",
              "        </div>\n",
              "</body>\n",
              "</html>"
            ]
          },
          "metadata": {
            "tags": []
          }
        }
      ]
    },
    {
      "cell_type": "code",
      "metadata": {
        "colab": {
          "base_uri": "https://localhost:8080/",
          "height": 542
        },
        "id": "T54p54143Rzz",
        "outputId": "2a362f11-114c-4e7b-a064-3e18b0b50a66"
      },
      "source": [
        "#Nesse caso somente treinamento o comando. Para uma análise é inviável observar determinadas lojas, como por exemplo Farmacia Boa Vista\n",
        "box_geral_venda_fisica = px.box(quant_compras_fisica_mes, x = 'NOME_LOJA_CURTO', y='QUANT_VENDAS' )\n",
        "box_geral_venda_fisica.show()"
      ],
      "execution_count": null,
      "outputs": [
        {
          "output_type": "display_data",
          "data": {
            "text/html": [
              "<html>\n",
              "<head><meta charset=\"utf-8\" /></head>\n",
              "<body>\n",
              "    <div>\n",
              "            <script src=\"https://cdnjs.cloudflare.com/ajax/libs/mathjax/2.7.5/MathJax.js?config=TeX-AMS-MML_SVG\"></script><script type=\"text/javascript\">if (window.MathJax) {MathJax.Hub.Config({SVG: {font: \"STIX-Web\"}});}</script>\n",
              "                <script type=\"text/javascript\">window.PlotlyConfig = {MathJaxConfig: 'local'};</script>\n",
              "        <script src=\"https://cdn.plot.ly/plotly-latest.min.js\"></script>    \n",
              "            <div id=\"a00e5b8e-f166-4119-9744-eedf241e8696\" class=\"plotly-graph-div\" style=\"height:525px; width:100%;\"></div>\n",
              "            <script type=\"text/javascript\">\n",
              "                \n",
              "                    window.PLOTLYENV=window.PLOTLYENV || {};\n",
              "                    \n",
              "                if (document.getElementById(\"a00e5b8e-f166-4119-9744-eedf241e8696\")) {\n",
              "                    Plotly.newPlot(\n",
              "                        'a00e5b8e-f166-4119-9744-eedf241e8696',\n",
              "                        [{\"alignmentgroup\": \"True\", \"hoverlabel\": {\"namelength\": 0}, \"hovertemplate\": \"NOME_LOJA_CURTO=%{x}<br>QUANT_VENDAS=%{y}\", \"legendgroup\": \"\", \"marker\": {\"color\": \"#636efa\"}, \"name\": \"\", \"notched\": false, \"offsetgroup\": \"\", \"orientation\": \"v\", \"showlegend\": false, \"type\": \"box\", \"x\": [\"ARIQUEMES\", \"AVENIDA\", \"BARROSO\", \"BOA VISTA\", \"CAMAPUA\", \"CIDADE NOVA\", \"EDUCANDOS\", \"FARMACIA ARIQUEMES\", \"FARMACIA AVENIDA\", \"FARMACIA BOA VISTA\", \"FARMACIA CAMAPUA\", \"FARMACIA CIDADE NOVA\", \"FARMACIA DJALMA\", \"FARMACIA G.CIRCULAR\", \"FARMACIA ITACOATIARA\", \"FARMACIA JATUARANA\", \"FARMACIA JI-PARANA\", \"FARMACIA MANAUARA\", \"FARMACIA MATRIZ\", \"FARMACIA MILLENNIUM\", \"FARMACIA NOVA CIDADE\", \"FARMACIA P.FIGUEIRED\", \"FARMACIA PONTA NEGRA\", \"FARMACIA PORTO VELHO\", \"FARMACIA SHOP.P.NEGR\", \"FARMACIA SHOPPING\", \"FARMACIA STUDIO 5\", \"FARMACIA TORQUATO\", \"GRANDE CIRCULAR\", \"ITACOATIARA\", \"JATUARANA\", \"JI-PARANA\", \"MANACAPURU\", \"MANAUARA\", \"MATRIZ\", \"MERCADO CAMAPUA\", \"MILLENNIUM\", \"NOVA CIDADE\", \"PONTA NEGRA\", \"PONTA NEGRA SHOPPING\", \"PORTO VELHO\", \"PORTO VELHO SHOPPING\", \"PRESIDENTE FIGUEIRED\", \"RIO BRANCO\", \"SHOPPING\", \"STUDIO5\", \"TORQUATO\", \"ARIQUEMES\", \"AVENIDA\", \"BARROSO\", \"BOA VISTA\", \"CAMAPUA\", \"CIDADE NOVA\", \"EDUCANDOS\", \"FARMACIA ARIQUEMES\", \"FARMACIA AVENIDA\", \"FARMACIA BOA VISTA\", \"FARMACIA CAMAPUA\", \"FARMACIA CIDADE NOVA\", \"FARMACIA DJALMA\", \"FARMACIA G.CIRCULAR\", \"FARMACIA ITACOATIARA\", \"FARMACIA JATUARANA\", \"FARMACIA JI-PARANA\", \"FARMACIA MANAUARA\", \"FARMACIA MATRIZ\", \"FARMACIA MILLENNIUM\", \"FARMACIA NOVA CIDADE\", \"FARMACIA P.FIGUEIRED\", \"FARMACIA PONTA NEGRA\", \"FARMACIA PORTO VELHO\", \"FARMACIA SHOP.P.NEGR\", \"FARMACIA SHOPPING\", \"FARMACIA STUDIO 5\", \"FARMACIA TORQUATO\", \"GRANDE CIRCULAR\", \"ITACOATIARA\", \"JATUARANA\", \"JI-PARANA\", \"MANACAPURU\", \"MANAUARA\", \"MATRIZ\", \"MERCADO CAMAPUA\", \"MILLENNIUM\", \"NOVA CIDADE\", \"PONTA NEGRA\", \"PONTA NEGRA SHOPPING\", \"PORTO VELHO\", \"PORTO VELHO SHOPPING\", \"PRESIDENTE FIGUEIRED\", \"RIO BRANCO\", \"SHOPPING\", \"STUDIO5\", \"TORQUATO\", \"ARIQUEMES\", \"AVENIDA\", \"BARROSO\", \"BOA VISTA\", \"CAMAPUA\", \"CIDADE NOVA\", \"EDUCANDOS\", \"FARMACIA ARIQUEMES\", \"FARMACIA AVENIDA\", \"FARMACIA BOA VISTA\", \"FARMACIA CAMAPUA\", \"FARMACIA CIDADE NOVA\", \"FARMACIA DJALMA\", \"FARMACIA G.CIRCULAR\", \"FARMACIA ITACOATIARA\", \"FARMACIA JATUARANA\", \"FARMACIA JI-PARANA\", \"FARMACIA MANAUARA\", \"FARMACIA MATRIZ\", \"FARMACIA MILLENNIUM\", \"FARMACIA NOVA CIDADE\", \"FARMACIA P.FIGUEIRED\", \"FARMACIA PONTA NEGRA\", \"FARMACIA PORTO VELHO\", \"FARMACIA SHOP.P.NEGR\", \"FARMACIA SHOPPING\", \"FARMACIA STUDIO 5\", \"FARMACIA TORQUATO\", \"GRANDE CIRCULAR\", \"ITACOATIARA\", \"JATUARANA\", \"JI-PARANA\", \"MANACAPURU\", \"MANAUARA\", \"MATRIZ\", \"MERCADO CAMAPUA\", \"MILLENNIUM\", \"NOVA CIDADE\", \"PONTA NEGRA\", \"PONTA NEGRA SHOPPING\", \"PORTO VELHO\", \"PORTO VELHO SHOPPING\", \"PRESIDENTE FIGUEIRED\", \"RIO BRANCO\", \"SHOPPING\", \"STUDIO5\", \"TORQUATO\", \"ARIQUEMES\", \"AVENIDA\", \"BARROSO\", \"BOA VISTA\", \"CAMAPUA\", \"CIDADE NOVA\", \"EDUCANDOS\", \"FARMACIA ARIQUEMES\", \"FARMACIA AVENIDA\", \"FARMACIA BOA VISTA\", \"FARMACIA CAMAPUA\", \"FARMACIA CIDADE NOVA\", \"FARMACIA DJALMA\", \"FARMACIA G.CIRCULAR\", \"FARMACIA ITACOATIARA\", \"FARMACIA JATUARANA\", \"FARMACIA JI-PARANA\", \"FARMACIA MANAUARA\", \"FARMACIA MATRIZ\", \"FARMACIA MILLENNIUM\", \"FARMACIA NOVA CIDADE\", \"FARMACIA P.FIGUEIRED\", \"FARMACIA PONTA NEGRA\", \"FARMACIA PORTO VELHO\", \"FARMACIA SHOP.P.NEGR\", \"FARMACIA SHOPPING\", \"FARMACIA STUDIO 5\", \"FARMACIA TORQUATO\", \"GRANDE CIRCULAR\", \"ITACOATIARA\", \"JATUARANA\", \"JI-PARANA\", \"MANACAPURU\", \"MANAUARA\", \"MATRIZ\", \"MERCADO CAMAPUA\", \"MILLENNIUM\", \"NOVA CIDADE\", \"PONTA NEGRA\", \"PONTA NEGRA SHOPPING\", \"PORTO VELHO\", \"PORTO VELHO SHOPPING\", \"PRESIDENTE FIGUEIRED\", \"RIO BRANCO\", \"SHOPPING\", \"STUDIO5\", \"TORQUATO\", \"ARIQUEMES\", \"AVENIDA\", \"BARROSO\", \"BOA VISTA\", \"CAMAPUA\", \"CIDADE NOVA\", \"EDUCANDOS\", \"FARMACIA ARIQUEMES\", \"FARMACIA AVENIDA\", \"FARMACIA BOA VISTA\", \"FARMACIA CAMAPUA\", \"FARMACIA CIDADE NOVA\", \"FARMACIA DJALMA\", \"FARMACIA G.CIRCULAR\", \"FARMACIA ITACOATIARA\", \"FARMACIA JATUARANA\", \"FARMACIA JI-PARANA\", \"FARMACIA MANAUARA\", \"FARMACIA MATRIZ\", \"FARMACIA MILLENNIUM\", \"FARMACIA NOVA CIDADE\", \"FARMACIA P.FIGUEIRED\", \"FARMACIA PONTA NEGRA\", \"FARMACIA PORTO VELHO\", \"FARMACIA SHOP.P.NEGR\", \"FARMACIA SHOPPING\", \"FARMACIA STUDIO 5\", \"FARMACIA TORQUATO\", \"GRANDE CIRCULAR\", \"ITACOATIARA\", \"JATUARANA\", \"JI-PARANA\", \"MANACAPURU\", \"MANAUARA\", \"MATRIZ\", \"MERCADO CAMAPUA\", \"MILLENNIUM\", \"NOVA CIDADE\", \"PONTA NEGRA\", \"PONTA NEGRA SHOPPING\", \"PORTO VELHO\", \"PORTO VELHO SHOPPING\", \"PRESIDENTE FIGUEIRED\", \"RIO BRANCO\", \"SHOPPING\", \"STUDIO5\", \"TORQUATO\", \"ARIQUEMES\", \"AVENIDA\", \"BARROSO\", \"BOA VISTA\", \"CAMAPUA\", \"CIDADE NOVA\", \"EDUCANDOS\", \"FARMACIA ARIQUEMES\", \"FARMACIA AVENIDA\", \"FARMACIA BOA VISTA\", \"FARMACIA CAMAPUA\", \"FARMACIA CIDADE NOVA\", \"FARMACIA DJALMA\", \"FARMACIA G.CIRCULAR\", \"FARMACIA ITACOATIARA\", \"FARMACIA JATUARANA\", \"FARMACIA JI-PARANA\", \"FARMACIA MANAUARA\", \"FARMACIA MATRIZ\", \"FARMACIA MILLENNIUM\", \"FARMACIA NOVA CIDADE\", \"FARMACIA P.FIGUEIRED\", \"FARMACIA PONTA NEGRA\", \"FARMACIA PORTO VELHO\", \"FARMACIA SHOP.P.NEGR\", \"FARMACIA SHOPPING\", \"FARMACIA STUDIO 5\", \"FARMACIA TORQUATO\", \"GRANDE CIRCULAR\", \"ITACOATIARA\", \"JATUARANA\", \"JI-PARANA\", \"MANACAPURU\", \"MANAUARA\", \"MATRIZ\", \"MERCADO CAMAPUA\", \"MILLENNIUM\", \"NOVA CIDADE\", \"PONTA NEGRA\", \"PONTA NEGRA SHOPPING\", \"PORTO VELHO\", \"PORTO VELHO SHOPPING\", \"PRESIDENTE FIGUEIRED\", \"RIO BRANCO\", \"SHOPPING\", \"STUDIO5\", \"TORQUATO\", \"ARIQUEMES\", \"AVENIDA\", \"BARROSO\", \"BOA VISTA\", \"CAMAPUA\", \"CIDADE NOVA\", \"EDUCANDOS\", \"FARMACIA ARIQUEMES\", \"FARMACIA AVENIDA\", \"FARMACIA BOA VISTA\", \"FARMACIA CAMAPUA\", \"FARMACIA CIDADE NOVA\", \"FARMACIA DJALMA\", \"FARMACIA G.CIRCULAR\", \"FARMACIA ITACOATIARA\", \"FARMACIA JATUARANA\", \"FARMACIA JI-PARANA\", \"FARMACIA MANAUARA\", \"FARMACIA MATRIZ\", \"FARMACIA MILLENNIUM\", \"FARMACIA NOVA CIDADE\", \"FARMACIA P.FIGUEIRED\", \"FARMACIA PONTA NEGRA\", \"FARMACIA PORTO VELHO\", \"FARMACIA SHOP.P.NEGR\", \"FARMACIA SHOPPING\", \"FARMACIA STUDIO 5\", \"FARMACIA TORQUATO\", \"GRANDE CIRCULAR\", \"ITACOATIARA\", \"JATUARANA\", \"JI-PARANA\", \"MANACAPURU\", \"MANAUARA\", \"MATRIZ\", \"MERCADO CAMAPUA\", \"MILLENNIUM\", \"NOVA CIDADE\", \"PONTA NEGRA\", \"PONTA NEGRA SHOPPING\", \"PORTO VELHO\", \"PORTO VELHO SHOPPING\", \"PRESIDENTE FIGUEIRED\", \"RIO BRANCO\", \"SHOPPING\", \"STUDIO5\", \"TORQUATO\", \"ARIQUEMES\", \"AVENIDA\", \"BARROSO\", \"BOA VISTA\", \"CAMAPUA\", \"CIDADE NOVA\", \"EDUCANDOS\", \"FARMACIA ARIQUEMES\", \"FARMACIA AVENIDA\", \"FARMACIA BOA VISTA\", \"FARMACIA CAMAPUA\", \"FARMACIA CIDADE NOVA\", \"FARMACIA DJALMA\", \"FARMACIA G.CIRCULAR\", \"FARMACIA ITACOATIARA\", \"FARMACIA JATUARANA\", \"FARMACIA JI-PARANA\", \"FARMACIA MANAUARA\", \"FARMACIA MATRIZ\", \"FARMACIA MILLENNIUM\", \"FARMACIA NOVA CIDADE\", \"FARMACIA P.FIGUEIRED\", \"FARMACIA PONTA NEGRA\", \"FARMACIA PORTO VELHO\", \"FARMACIA SHOP.P.NEGR\", \"FARMACIA SHOPPING\", \"FARMACIA STUDIO 5\", \"FARMACIA TORQUATO\", \"GRANDE CIRCULAR\", \"ITACOATIARA\", \"JATUARANA\", \"JI-PARANA\", \"MANACAPURU\", \"MANAUARA\", \"MATRIZ\", \"MERCADO CAMAPUA\", \"MILLENNIUM\", \"NOVA CIDADE\", \"PONTA NEGRA\", \"PONTA NEGRA SHOPPING\", \"PORTO VELHO\", \"PORTO VELHO SHOPPING\", \"PRESIDENTE FIGUEIRED\", \"RIO BRANCO\", \"SHOPPING\", \"STUDIO5\", \"TORQUATO\", \"ARIQUEMES\", \"AVENIDA\", \"BARROSO\", \"BOA VISTA\", \"CAMAPUA\", \"CIDADE NOVA\", \"EDUCANDOS\", \"FARMACIA ARIQUEMES\", \"FARMACIA AVENIDA\", \"FARMACIA BOA VISTA\", \"FARMACIA CAMAPUA\", \"FARMACIA CIDADE NOVA\", \"FARMACIA DJALMA\", \"FARMACIA G.CIRCULAR\", \"FARMACIA ITACOATIARA\", \"FARMACIA JATUARANA\", \"FARMACIA JI-PARANA\", \"FARMACIA MANAUARA\", \"FARMACIA MATRIZ\", \"FARMACIA MILLENNIUM\", \"FARMACIA NOVA CIDADE\", \"FARMACIA P.FIGUEIRED\", \"FARMACIA PONTA NEGRA\", \"FARMACIA PORTO VELHO\", \"FARMACIA SHOP.P.NEGR\", \"FARMACIA SHOPPING\", \"FARMACIA STUDIO 5\", \"FARMACIA TORQUATO\", \"GRANDE CIRCULAR\", \"ITACOATIARA\", \"JATUARANA\", \"JI-PARANA\", \"MANACAPURU\", \"MANAUARA\", \"MATRIZ\", \"MERCADO CAMAPUA\", \"MILLENNIUM\", \"NOVA CIDADE\", \"PONTA NEGRA\", \"PONTA NEGRA SHOPPING\", \"PORTO VELHO\", \"PORTO VELHO SHOPPING\", \"PRESIDENTE FIGUEIRED\", \"RIO BRANCO\", \"SHOPPING\", \"STUDIO5\", \"TORQUATO\", \"ARIQUEMES\", \"AVENIDA\", \"BARROSO\", \"BOA VISTA\", \"CAMAPUA\", \"CIDADE NOVA\", \"EDUCANDOS\", \"FARMACIA ARIQUEMES\", \"FARMACIA AVENIDA\", \"FARMACIA BOA VISTA\", \"FARMACIA CAMAPUA\", \"FARMACIA CIDADE NOVA\", \"FARMACIA DJALMA\", \"FARMACIA G.CIRCULAR\", \"FARMACIA ITACOATIARA\", \"FARMACIA JATUARANA\", \"FARMACIA JI-PARANA\", \"FARMACIA MANAUARA\", \"FARMACIA MATRIZ\", \"FARMACIA MILLENNIUM\", \"FARMACIA NOVA CIDADE\", \"FARMACIA P.FIGUEIRED\", \"FARMACIA PONTA NEGRA\", \"FARMACIA PORTO VELHO\", \"FARMACIA SHOP.P.NEGR\", \"FARMACIA SHOPPING\", \"FARMACIA STUDIO 5\", \"FARMACIA TORQUATO\", \"GRANDE CIRCULAR\", \"ITACOATIARA\", \"JATUARANA\", \"JI-PARANA\", \"MANACAPURU\", \"MANAUARA\", \"MATRIZ\", \"MERCADO CAMAPUA\", \"MILLENNIUM\", \"NOVA CIDADE\", \"PONTA NEGRA\", \"PONTA NEGRA SHOPPING\", \"PORTO VELHO\", \"PORTO VELHO SHOPPING\", \"PRESIDENTE FIGUEIRED\", \"RIO BRANCO\", \"SHOPPING\", \"STUDIO5\", \"TORQUATO\", \"ARIQUEMES\", \"AVENIDA\", \"BARROSO\", \"BOA VISTA\", \"CAMAPUA\", \"CIDADE NOVA\", \"EDUCANDOS\", \"FARMACIA ARIQUEMES\", \"FARMACIA AVENIDA\", \"FARMACIA BOA VISTA\", \"FARMACIA CAMAPUA\", \"FARMACIA CIDADE NOVA\", \"FARMACIA DJALMA\", \"FARMACIA G.CIRCULAR\", \"FARMACIA ITACOATIARA\", \"FARMACIA JATUARANA\", \"FARMACIA JI-PARANA\", \"FARMACIA MANAUARA\", \"FARMACIA MATRIZ\", \"FARMACIA MILLENNIUM\", \"FARMACIA NOVA CIDADE\", \"FARMACIA P.FIGUEIRED\", \"FARMACIA PONTA NEGRA\", \"FARMACIA PORTO VELHO\", \"FARMACIA SHOP.P.NEGR\", \"FARMACIA SHOPPING\", \"FARMACIA STUDIO 5\", \"FARMACIA TORQUATO\", \"GRANDE CIRCULAR\", \"ITACOATIARA\", \"JATUARANA\", \"JI-PARANA\", \"MANACAPURU\", \"MANAUARA\", \"MATRIZ\", \"MERCADO CAMAPUA\", \"MILLENNIUM\", \"NOVA CIDADE\", \"PONTA NEGRA\", \"PONTA NEGRA SHOPPING\", \"PORTO VELHO\", \"PORTO VELHO SHOPPING\", \"PRESIDENTE FIGUEIRED\", \"RIO BRANCO\", \"SHOPPING\", \"STUDIO5\", \"TORQUATO\", \"ARIQUEMES\", \"AVENIDA\", \"BARROSO\", \"BOA VISTA\", \"CAMAPUA\", \"CIDADE NOVA\", \"EDUCANDOS\", \"FARMACIA ARIQUEMES\", \"FARMACIA AVENIDA\", \"FARMACIA BOA VISTA\", \"FARMACIA CAMAPUA\", \"FARMACIA CIDADE NOVA\", \"FARMACIA DJALMA\", \"FARMACIA G.CIRCULAR\", \"FARMACIA ITACOATIARA\", \"FARMACIA JATUARANA\", \"FARMACIA JI-PARANA\", \"FARMACIA MANAUARA\", \"FARMACIA MATRIZ\", \"FARMACIA MILLENNIUM\", \"FARMACIA NOVA CIDADE\", \"FARMACIA P.FIGUEIRED\", \"FARMACIA PONTA NEGRA\", \"FARMACIA PORTO VELHO\", \"FARMACIA SHOP.P.NEGR\", \"FARMACIA SHOPPING\", \"FARMACIA STUDIO 5\", \"FARMACIA TORQUATO\", \"GRANDE CIRCULAR\", \"ITACOATIARA\", \"JATUARANA\", \"JI-PARANA\", \"MANACAPURU\", \"MANAUARA\", \"MATRIZ\", \"MERCADO CAMAPUA\", \"MILLENNIUM\", \"NOVA CIDADE\", \"PONTA NEGRA\", \"PONTA NEGRA SHOPPING\", \"PORTO VELHO\", \"PORTO VELHO SHOPPING\", \"PRESIDENTE FIGUEIRED\", \"RIO BRANCO\", \"SHOPPING\", \"STUDIO5\", \"TORQUATO\"], \"x0\": \" \", \"xaxis\": \"x\", \"y\": [101, 509, 111, 210, 546, 588, 261, 23, 30, 31, 101, 5, 72, 104, 80, 6, 24, 85, 91, 52, 118, 49, 69, 32, 75, 148, 57, 130, 456, 208, 45, 101, 192, 552, 300, 8, 138, 380, 437, 241, 272, 230, 121, 193, 541, 274, 335, 103, 433, 113, 197, 455, 556, 216, 26, 86, 31, 90, 6, 62, 105, 60, 3, 29, 92, 103, 35, 119, 51, 73, 33, 76, 124, 45, 99, 400, 226, 41, 97, 173, 469, 273, 3, 100, 325, 377, 194, 258, 205, 90, 178, 503, 243, 320, 80, 386, 72, 142, 403, 399, 197, 18, 75, 26, 117, 2, 90, 80, 68, 11, 38, 55, 79, 34, 138, 65, 84, 34, 75, 117, 40, 149, 334, 207, 103, 72, 160, 321, 216, 7, 86, 246, 345, 144, 217, 132, 90, 123, 367, 164, 299, 69, 291, 32, 175, 361, 314, 111, 34, 90, 24, 114, 11, 93, 43, 59, 17, 23, 31, 85, 10, 112, 88, 110, 25, 75, 141, 23, 254, 189, 136, 108, 105, 156, 215, 213, 6, 66, 185, 219, 121, 296, 103, 96, 107, 288, 113, 242, 144, 269, 20, 215, 375, 325, 105, 23, 56, 28, 86, 8, 106, 44, 71, 14, 22, 34, 77, 11, 102, 78, 93, 32, 80, 112, 16, 170, 190, 155, 123, 141, 152, 211, 281, 2, 40, 202, 255, 129, 205, 104, 102, 131, 269, 91, 240, 134, 537, 29, 232, 711, 701, 309, 24, 81, 26, 91, 9, 64, 70, 45, 20, 38, 77, 74, 31, 121, 70, 73, 21, 85, 132, 43, 146, 542, 327, 169, 140, 278, 536, 378, 2, 157, 452, 523, 277, 384, 168, 148, 131, 590, 267, 461, 159, 598, 24, 246, 717, 727, 349, 25, 74, 38, 112, 8, 79, 97, 75, 12, 40, 78, 98, 29, 130, 79, 83, 22, 82, 156, 48, 123, 586, 268, 219, 144, 280, 510, 431, 9, 147, 477, 569, 270, 426, 240, 161, 259, 626, 267, 470, 146, 576, 19, 301, 709, 706, 337, 28, 85, 30, 105, 7, 84, 124, 91, 10, 37, 81, 92, 32, 117, 75, 89, 25, 101, 160, 50, 121, 595, 274, 159, 105, 278, 618, 387, 2, 138, 474, 536, 274, 336, 251, 143, 226, 643, 293, 485, 143, 536, 15, 268, 592, 608, 273, 36, 88, 28, 116, 5, 63, 116, 57, 16, 43, 80, 81, 40, 147, 59, 79, 30, 112, 150, 48, 127, 530, 227, 168, 126, 248, 533, 315, 7, 131, 428, 478, 209, 318, 197, 107, 233, 589, 237, 408, 113, 508, 27, 308, 631, 630, 270, 30, 83, 35, 113, 27, 82, 112, 66, 10, 31, 108, 97, 49, 142, 73, 63, 28, 88, 147, 59, 123, 464, 262, 149, 128, 249, 512, 368, 28, 146, 408, 454, 248, 332, 203, 138, 221, 559, 218, 383, 145, 565, 24, 371, 703, 749, 290, 32, 105, 60, 95, 65, 75, 139, 67, 15, 30, 94, 102, 33, 140, 66, 89, 35, 112, 150, 55, 133, 623, 272, 178, 166, 295, 621, 396, 27, 144, 479, 539, 300, 337, 262, 152, 299, 716, 273, 433, 161, 541, 7, 293, 573, 618, 270, 27, 81, 34, 94, 47, 84, 110, 61, 18, 42, 120, 109, 49, 125, 68, 80, 31, 104, 170, 52, 114, 508, 241, 160, 170, 220, 595, 342, 25, 143, 408, 490, 312, 302, 276, 153, 283, 581, 271, 419], \"y0\": \" \", \"yaxis\": \"y\"}],\n",
              "                        {\"boxmode\": \"group\", \"legend\": {\"tracegroupgap\": 0}, \"margin\": {\"t\": 60}, \"template\": {\"data\": {\"bar\": [{\"error_x\": {\"color\": \"#2a3f5f\"}, \"error_y\": {\"color\": \"#2a3f5f\"}, \"marker\": {\"line\": {\"color\": \"#E5ECF6\", \"width\": 0.5}}, \"type\": \"bar\"}], \"barpolar\": [{\"marker\": {\"line\": {\"color\": \"#E5ECF6\", \"width\": 0.5}}, \"type\": \"barpolar\"}], \"carpet\": [{\"aaxis\": {\"endlinecolor\": \"#2a3f5f\", \"gridcolor\": \"white\", \"linecolor\": \"white\", \"minorgridcolor\": \"white\", \"startlinecolor\": \"#2a3f5f\"}, \"baxis\": {\"endlinecolor\": \"#2a3f5f\", \"gridcolor\": \"white\", \"linecolor\": \"white\", \"minorgridcolor\": \"white\", \"startlinecolor\": \"#2a3f5f\"}, \"type\": \"carpet\"}], \"choropleth\": [{\"colorbar\": {\"outlinewidth\": 0, \"ticks\": \"\"}, \"type\": \"choropleth\"}], \"contour\": [{\"colorbar\": {\"outlinewidth\": 0, \"ticks\": \"\"}, \"colorscale\": [[0.0, \"#0d0887\"], [0.1111111111111111, \"#46039f\"], [0.2222222222222222, \"#7201a8\"], [0.3333333333333333, \"#9c179e\"], [0.4444444444444444, \"#bd3786\"], [0.5555555555555556, \"#d8576b\"], [0.6666666666666666, \"#ed7953\"], [0.7777777777777778, \"#fb9f3a\"], [0.8888888888888888, \"#fdca26\"], [1.0, \"#f0f921\"]], \"type\": \"contour\"}], \"contourcarpet\": [{\"colorbar\": {\"outlinewidth\": 0, \"ticks\": \"\"}, \"type\": \"contourcarpet\"}], \"heatmap\": [{\"colorbar\": {\"outlinewidth\": 0, \"ticks\": \"\"}, \"colorscale\": [[0.0, \"#0d0887\"], [0.1111111111111111, \"#46039f\"], [0.2222222222222222, \"#7201a8\"], [0.3333333333333333, \"#9c179e\"], [0.4444444444444444, \"#bd3786\"], [0.5555555555555556, \"#d8576b\"], [0.6666666666666666, \"#ed7953\"], [0.7777777777777778, \"#fb9f3a\"], [0.8888888888888888, \"#fdca26\"], [1.0, \"#f0f921\"]], \"type\": \"heatmap\"}], \"heatmapgl\": [{\"colorbar\": {\"outlinewidth\": 0, \"ticks\": \"\"}, \"colorscale\": [[0.0, \"#0d0887\"], [0.1111111111111111, \"#46039f\"], [0.2222222222222222, \"#7201a8\"], [0.3333333333333333, \"#9c179e\"], [0.4444444444444444, \"#bd3786\"], [0.5555555555555556, \"#d8576b\"], [0.6666666666666666, \"#ed7953\"], [0.7777777777777778, \"#fb9f3a\"], [0.8888888888888888, \"#fdca26\"], [1.0, \"#f0f921\"]], \"type\": \"heatmapgl\"}], \"histogram\": [{\"marker\": {\"colorbar\": {\"outlinewidth\": 0, \"ticks\": \"\"}}, \"type\": \"histogram\"}], \"histogram2d\": [{\"colorbar\": {\"outlinewidth\": 0, \"ticks\": \"\"}, \"colorscale\": [[0.0, \"#0d0887\"], [0.1111111111111111, \"#46039f\"], [0.2222222222222222, \"#7201a8\"], [0.3333333333333333, \"#9c179e\"], [0.4444444444444444, \"#bd3786\"], [0.5555555555555556, \"#d8576b\"], [0.6666666666666666, \"#ed7953\"], [0.7777777777777778, \"#fb9f3a\"], [0.8888888888888888, \"#fdca26\"], [1.0, \"#f0f921\"]], \"type\": \"histogram2d\"}], \"histogram2dcontour\": [{\"colorbar\": {\"outlinewidth\": 0, \"ticks\": \"\"}, \"colorscale\": [[0.0, \"#0d0887\"], [0.1111111111111111, \"#46039f\"], [0.2222222222222222, \"#7201a8\"], [0.3333333333333333, \"#9c179e\"], [0.4444444444444444, \"#bd3786\"], [0.5555555555555556, \"#d8576b\"], [0.6666666666666666, \"#ed7953\"], [0.7777777777777778, \"#fb9f3a\"], [0.8888888888888888, \"#fdca26\"], [1.0, \"#f0f921\"]], \"type\": \"histogram2dcontour\"}], \"mesh3d\": [{\"colorbar\": {\"outlinewidth\": 0, \"ticks\": \"\"}, \"type\": \"mesh3d\"}], \"parcoords\": [{\"line\": {\"colorbar\": {\"outlinewidth\": 0, \"ticks\": \"\"}}, \"type\": \"parcoords\"}], \"pie\": [{\"automargin\": true, \"type\": \"pie\"}], \"scatter\": [{\"marker\": {\"colorbar\": {\"outlinewidth\": 0, \"ticks\": \"\"}}, \"type\": \"scatter\"}], \"scatter3d\": [{\"line\": {\"colorbar\": {\"outlinewidth\": 0, \"ticks\": \"\"}}, \"marker\": {\"colorbar\": {\"outlinewidth\": 0, \"ticks\": \"\"}}, \"type\": \"scatter3d\"}], \"scattercarpet\": [{\"marker\": {\"colorbar\": {\"outlinewidth\": 0, \"ticks\": \"\"}}, \"type\": \"scattercarpet\"}], \"scattergeo\": [{\"marker\": {\"colorbar\": {\"outlinewidth\": 0, \"ticks\": \"\"}}, \"type\": \"scattergeo\"}], \"scattergl\": [{\"marker\": {\"colorbar\": {\"outlinewidth\": 0, \"ticks\": \"\"}}, \"type\": \"scattergl\"}], \"scattermapbox\": [{\"marker\": {\"colorbar\": {\"outlinewidth\": 0, \"ticks\": \"\"}}, \"type\": \"scattermapbox\"}], \"scatterpolar\": [{\"marker\": {\"colorbar\": {\"outlinewidth\": 0, \"ticks\": \"\"}}, \"type\": \"scatterpolar\"}], \"scatterpolargl\": [{\"marker\": {\"colorbar\": {\"outlinewidth\": 0, \"ticks\": \"\"}}, \"type\": \"scatterpolargl\"}], \"scatterternary\": [{\"marker\": {\"colorbar\": {\"outlinewidth\": 0, \"ticks\": \"\"}}, \"type\": \"scatterternary\"}], \"surface\": [{\"colorbar\": {\"outlinewidth\": 0, \"ticks\": \"\"}, \"colorscale\": [[0.0, \"#0d0887\"], [0.1111111111111111, \"#46039f\"], [0.2222222222222222, \"#7201a8\"], [0.3333333333333333, \"#9c179e\"], [0.4444444444444444, \"#bd3786\"], [0.5555555555555556, \"#d8576b\"], [0.6666666666666666, \"#ed7953\"], [0.7777777777777778, \"#fb9f3a\"], [0.8888888888888888, \"#fdca26\"], [1.0, \"#f0f921\"]], \"type\": \"surface\"}], \"table\": [{\"cells\": {\"fill\": {\"color\": \"#EBF0F8\"}, \"line\": {\"color\": \"white\"}}, \"header\": {\"fill\": {\"color\": \"#C8D4E3\"}, \"line\": {\"color\": \"white\"}}, \"type\": \"table\"}]}, \"layout\": {\"annotationdefaults\": {\"arrowcolor\": \"#2a3f5f\", \"arrowhead\": 0, \"arrowwidth\": 1}, \"coloraxis\": {\"colorbar\": {\"outlinewidth\": 0, \"ticks\": \"\"}}, \"colorscale\": {\"diverging\": [[0, \"#8e0152\"], [0.1, \"#c51b7d\"], [0.2, \"#de77ae\"], [0.3, \"#f1b6da\"], [0.4, \"#fde0ef\"], [0.5, \"#f7f7f7\"], [0.6, \"#e6f5d0\"], [0.7, \"#b8e186\"], [0.8, \"#7fbc41\"], [0.9, \"#4d9221\"], [1, \"#276419\"]], \"sequential\": [[0.0, \"#0d0887\"], [0.1111111111111111, \"#46039f\"], [0.2222222222222222, \"#7201a8\"], [0.3333333333333333, \"#9c179e\"], [0.4444444444444444, \"#bd3786\"], [0.5555555555555556, \"#d8576b\"], [0.6666666666666666, \"#ed7953\"], [0.7777777777777778, \"#fb9f3a\"], [0.8888888888888888, \"#fdca26\"], [1.0, \"#f0f921\"]], \"sequentialminus\": [[0.0, \"#0d0887\"], [0.1111111111111111, \"#46039f\"], [0.2222222222222222, \"#7201a8\"], [0.3333333333333333, \"#9c179e\"], [0.4444444444444444, \"#bd3786\"], [0.5555555555555556, \"#d8576b\"], [0.6666666666666666, \"#ed7953\"], [0.7777777777777778, \"#fb9f3a\"], [0.8888888888888888, \"#fdca26\"], [1.0, \"#f0f921\"]]}, \"colorway\": [\"#636efa\", \"#EF553B\", \"#00cc96\", \"#ab63fa\", \"#FFA15A\", \"#19d3f3\", \"#FF6692\", \"#B6E880\", \"#FF97FF\", \"#FECB52\"], \"font\": {\"color\": \"#2a3f5f\"}, \"geo\": {\"bgcolor\": \"white\", \"lakecolor\": \"white\", \"landcolor\": \"#E5ECF6\", \"showlakes\": true, \"showland\": true, \"subunitcolor\": \"white\"}, \"hoverlabel\": {\"align\": \"left\"}, \"hovermode\": \"closest\", \"mapbox\": {\"style\": \"light\"}, \"paper_bgcolor\": \"white\", \"plot_bgcolor\": \"#E5ECF6\", \"polar\": {\"angularaxis\": {\"gridcolor\": \"white\", \"linecolor\": \"white\", \"ticks\": \"\"}, \"bgcolor\": \"#E5ECF6\", \"radialaxis\": {\"gridcolor\": \"white\", \"linecolor\": \"white\", \"ticks\": \"\"}}, \"scene\": {\"xaxis\": {\"backgroundcolor\": \"#E5ECF6\", \"gridcolor\": \"white\", \"gridwidth\": 2, \"linecolor\": \"white\", \"showbackground\": true, \"ticks\": \"\", \"zerolinecolor\": \"white\"}, \"yaxis\": {\"backgroundcolor\": \"#E5ECF6\", \"gridcolor\": \"white\", \"gridwidth\": 2, \"linecolor\": \"white\", \"showbackground\": true, \"ticks\": \"\", \"zerolinecolor\": \"white\"}, \"zaxis\": {\"backgroundcolor\": \"#E5ECF6\", \"gridcolor\": \"white\", \"gridwidth\": 2, \"linecolor\": \"white\", \"showbackground\": true, \"ticks\": \"\", \"zerolinecolor\": \"white\"}}, \"shapedefaults\": {\"line\": {\"color\": \"#2a3f5f\"}}, \"ternary\": {\"aaxis\": {\"gridcolor\": \"white\", \"linecolor\": \"white\", \"ticks\": \"\"}, \"baxis\": {\"gridcolor\": \"white\", \"linecolor\": \"white\", \"ticks\": \"\"}, \"bgcolor\": \"#E5ECF6\", \"caxis\": {\"gridcolor\": \"white\", \"linecolor\": \"white\", \"ticks\": \"\"}}, \"title\": {\"x\": 0.05}, \"xaxis\": {\"automargin\": true, \"gridcolor\": \"white\", \"linecolor\": \"white\", \"ticks\": \"\", \"title\": {\"standoff\": 15}, \"zerolinecolor\": \"white\", \"zerolinewidth\": 2}, \"yaxis\": {\"automargin\": true, \"gridcolor\": \"white\", \"linecolor\": \"white\", \"ticks\": \"\", \"title\": {\"standoff\": 15}, \"zerolinecolor\": \"white\", \"zerolinewidth\": 2}}}, \"xaxis\": {\"anchor\": \"y\", \"domain\": [0.0, 1.0], \"title\": {\"text\": \"NOME_LOJA_CURTO\"}}, \"yaxis\": {\"anchor\": \"x\", \"domain\": [0.0, 1.0], \"title\": {\"text\": \"QUANT_VENDAS\"}}},\n",
              "                        {\"responsive\": true}\n",
              "                    ).then(function(){\n",
              "                            \n",
              "var gd = document.getElementById('a00e5b8e-f166-4119-9744-eedf241e8696');\n",
              "var x = new MutationObserver(function (mutations, observer) {{\n",
              "        var display = window.getComputedStyle(gd).display;\n",
              "        if (!display || display === 'none') {{\n",
              "            console.log([gd, 'removed!']);\n",
              "            Plotly.purge(gd);\n",
              "            observer.disconnect();\n",
              "        }}\n",
              "}});\n",
              "\n",
              "// Listen for the removal of the full notebook cells\n",
              "var notebookContainer = gd.closest('#notebook-container');\n",
              "if (notebookContainer) {{\n",
              "    x.observe(notebookContainer, {childList: true});\n",
              "}}\n",
              "\n",
              "// Listen for the clearing of the current output cell\n",
              "var outputEl = gd.closest('.output');\n",
              "if (outputEl) {{\n",
              "    x.observe(outputEl, {childList: true});\n",
              "}}\n",
              "\n",
              "                        })\n",
              "                };\n",
              "                \n",
              "            </script>\n",
              "        </div>\n",
              "</body>\n",
              "</html>"
            ]
          },
          "metadata": {
            "tags": []
          }
        }
      ]
    },
    {
      "cell_type": "code",
      "metadata": {
        "colab": {
          "base_uri": "https://localhost:8080/",
          "height": 542
        },
        "id": "Pb5b3kdV3vD8",
        "outputId": "861f21fa-bdc9-499d-8cfd-002f43eb72bf"
      },
      "source": [
        "#Aqui observamos a mesma situação do comando anterior. Para um comparação entre Vendas On-line de Farmacia e Vendas On-line de Varejo é inviável.\n",
        "box_geral_venda_bol = px.box(quant_compras_bol_mes, x = 'NOME_LOJA_CURTO', y='QUANT_VENDAS' )\n",
        "box_geral_venda_bol.show()"
      ],
      "execution_count": null,
      "outputs": [
        {
          "output_type": "display_data",
          "data": {
            "text/html": [
              "<html>\n",
              "<head><meta charset=\"utf-8\" /></head>\n",
              "<body>\n",
              "    <div>\n",
              "            <script src=\"https://cdnjs.cloudflare.com/ajax/libs/mathjax/2.7.5/MathJax.js?config=TeX-AMS-MML_SVG\"></script><script type=\"text/javascript\">if (window.MathJax) {MathJax.Hub.Config({SVG: {font: \"STIX-Web\"}});}</script>\n",
              "                <script type=\"text/javascript\">window.PlotlyConfig = {MathJaxConfig: 'local'};</script>\n",
              "        <script src=\"https://cdn.plot.ly/plotly-latest.min.js\"></script>    \n",
              "            <div id=\"67c8e9e7-7fa4-4170-ac23-31d8b875e48a\" class=\"plotly-graph-div\" style=\"height:525px; width:100%;\"></div>\n",
              "            <script type=\"text/javascript\">\n",
              "                \n",
              "                    window.PLOTLYENV=window.PLOTLYENV || {};\n",
              "                    \n",
              "                if (document.getElementById(\"67c8e9e7-7fa4-4170-ac23-31d8b875e48a\")) {\n",
              "                    Plotly.newPlot(\n",
              "                        '67c8e9e7-7fa4-4170-ac23-31d8b875e48a',\n",
              "                        [{\"alignmentgroup\": \"True\", \"hoverlabel\": {\"namelength\": 0}, \"hovertemplate\": \"NOME_LOJA_CURTO=%{x}<br>QUANT_VENDAS=%{y}\", \"legendgroup\": \"\", \"marker\": {\"color\": \"#636efa\"}, \"name\": \"\", \"notched\": false, \"offsetgroup\": \"\", \"orientation\": \"v\", \"showlegend\": false, \"type\": \"box\", \"x\": [\"FARMACIA ONLINE\", \"ONLINE\", \"FARMACIA ONLINE\", \"ONLINE\", \"FARMACIA ONLINE\", \"ONLINE\", \"FARMACIA ONLINE\", \"ONLINE\", \"FARMACIA ONLINE\", \"ONLINE\", \"FARMACIA ONLINE\", \"ONLINE\", \"FARMACIA ONLINE\", \"ONLINE\", \"FARMACIA ONLINE\", \"ONLINE\", \"FARMACIA ONLINE\", \"ONLINE\", \"FARMACIA ONLINE\", \"ONLINE\", \"FARMACIA ONLINE\", \"ONLINE\", \"FARMACIA ONLINE\", \"ONLINE\"], \"x0\": \" \", \"xaxis\": \"x\", \"y\": [5, 1692, 7, 1825, 10, 2258, 4, 4513, 6, 5760, 7, 3440, 48, 3208, 31, 2814, 36, 2951, 31, 2728, 25, 3772, 30, 2893], \"y0\": \" \", \"yaxis\": \"y\"}],\n",
              "                        {\"boxmode\": \"group\", \"legend\": {\"tracegroupgap\": 0}, \"margin\": {\"t\": 60}, \"template\": {\"data\": {\"bar\": [{\"error_x\": {\"color\": \"#2a3f5f\"}, \"error_y\": {\"color\": \"#2a3f5f\"}, \"marker\": {\"line\": {\"color\": \"#E5ECF6\", \"width\": 0.5}}, \"type\": \"bar\"}], \"barpolar\": [{\"marker\": {\"line\": {\"color\": \"#E5ECF6\", \"width\": 0.5}}, \"type\": \"barpolar\"}], \"carpet\": [{\"aaxis\": {\"endlinecolor\": \"#2a3f5f\", \"gridcolor\": \"white\", \"linecolor\": \"white\", \"minorgridcolor\": \"white\", \"startlinecolor\": \"#2a3f5f\"}, \"baxis\": {\"endlinecolor\": \"#2a3f5f\", \"gridcolor\": \"white\", \"linecolor\": \"white\", \"minorgridcolor\": \"white\", \"startlinecolor\": \"#2a3f5f\"}, \"type\": \"carpet\"}], \"choropleth\": [{\"colorbar\": {\"outlinewidth\": 0, \"ticks\": \"\"}, \"type\": \"choropleth\"}], \"contour\": [{\"colorbar\": {\"outlinewidth\": 0, \"ticks\": \"\"}, \"colorscale\": [[0.0, \"#0d0887\"], [0.1111111111111111, \"#46039f\"], [0.2222222222222222, \"#7201a8\"], [0.3333333333333333, \"#9c179e\"], [0.4444444444444444, \"#bd3786\"], [0.5555555555555556, \"#d8576b\"], [0.6666666666666666, \"#ed7953\"], [0.7777777777777778, \"#fb9f3a\"], [0.8888888888888888, \"#fdca26\"], [1.0, \"#f0f921\"]], \"type\": \"contour\"}], \"contourcarpet\": [{\"colorbar\": {\"outlinewidth\": 0, \"ticks\": \"\"}, \"type\": \"contourcarpet\"}], \"heatmap\": [{\"colorbar\": {\"outlinewidth\": 0, \"ticks\": \"\"}, \"colorscale\": [[0.0, \"#0d0887\"], [0.1111111111111111, \"#46039f\"], [0.2222222222222222, \"#7201a8\"], [0.3333333333333333, \"#9c179e\"], [0.4444444444444444, \"#bd3786\"], [0.5555555555555556, \"#d8576b\"], [0.6666666666666666, \"#ed7953\"], [0.7777777777777778, \"#fb9f3a\"], [0.8888888888888888, \"#fdca26\"], [1.0, \"#f0f921\"]], \"type\": \"heatmap\"}], \"heatmapgl\": [{\"colorbar\": {\"outlinewidth\": 0, \"ticks\": \"\"}, \"colorscale\": [[0.0, \"#0d0887\"], [0.1111111111111111, \"#46039f\"], [0.2222222222222222, \"#7201a8\"], [0.3333333333333333, \"#9c179e\"], [0.4444444444444444, \"#bd3786\"], [0.5555555555555556, \"#d8576b\"], [0.6666666666666666, \"#ed7953\"], [0.7777777777777778, \"#fb9f3a\"], [0.8888888888888888, \"#fdca26\"], [1.0, \"#f0f921\"]], \"type\": \"heatmapgl\"}], \"histogram\": [{\"marker\": {\"colorbar\": {\"outlinewidth\": 0, \"ticks\": \"\"}}, \"type\": \"histogram\"}], \"histogram2d\": [{\"colorbar\": {\"outlinewidth\": 0, \"ticks\": \"\"}, \"colorscale\": [[0.0, \"#0d0887\"], [0.1111111111111111, \"#46039f\"], [0.2222222222222222, \"#7201a8\"], [0.3333333333333333, \"#9c179e\"], [0.4444444444444444, \"#bd3786\"], [0.5555555555555556, \"#d8576b\"], [0.6666666666666666, \"#ed7953\"], [0.7777777777777778, \"#fb9f3a\"], [0.8888888888888888, \"#fdca26\"], [1.0, \"#f0f921\"]], \"type\": \"histogram2d\"}], \"histogram2dcontour\": [{\"colorbar\": {\"outlinewidth\": 0, \"ticks\": \"\"}, \"colorscale\": [[0.0, \"#0d0887\"], [0.1111111111111111, \"#46039f\"], [0.2222222222222222, \"#7201a8\"], [0.3333333333333333, \"#9c179e\"], [0.4444444444444444, \"#bd3786\"], [0.5555555555555556, \"#d8576b\"], [0.6666666666666666, \"#ed7953\"], [0.7777777777777778, \"#fb9f3a\"], [0.8888888888888888, \"#fdca26\"], [1.0, \"#f0f921\"]], \"type\": \"histogram2dcontour\"}], \"mesh3d\": [{\"colorbar\": {\"outlinewidth\": 0, \"ticks\": \"\"}, \"type\": \"mesh3d\"}], \"parcoords\": [{\"line\": {\"colorbar\": {\"outlinewidth\": 0, \"ticks\": \"\"}}, \"type\": \"parcoords\"}], \"pie\": [{\"automargin\": true, \"type\": \"pie\"}], \"scatter\": [{\"marker\": {\"colorbar\": {\"outlinewidth\": 0, \"ticks\": \"\"}}, \"type\": \"scatter\"}], \"scatter3d\": [{\"line\": {\"colorbar\": {\"outlinewidth\": 0, \"ticks\": \"\"}}, \"marker\": {\"colorbar\": {\"outlinewidth\": 0, \"ticks\": \"\"}}, \"type\": \"scatter3d\"}], \"scattercarpet\": [{\"marker\": {\"colorbar\": {\"outlinewidth\": 0, \"ticks\": \"\"}}, \"type\": \"scattercarpet\"}], \"scattergeo\": [{\"marker\": {\"colorbar\": {\"outlinewidth\": 0, \"ticks\": \"\"}}, \"type\": \"scattergeo\"}], \"scattergl\": [{\"marker\": {\"colorbar\": {\"outlinewidth\": 0, \"ticks\": \"\"}}, \"type\": \"scattergl\"}], \"scattermapbox\": [{\"marker\": {\"colorbar\": {\"outlinewidth\": 0, \"ticks\": \"\"}}, \"type\": \"scattermapbox\"}], \"scatterpolar\": [{\"marker\": {\"colorbar\": {\"outlinewidth\": 0, \"ticks\": \"\"}}, \"type\": \"scatterpolar\"}], \"scatterpolargl\": [{\"marker\": {\"colorbar\": {\"outlinewidth\": 0, \"ticks\": \"\"}}, \"type\": \"scatterpolargl\"}], \"scatterternary\": [{\"marker\": {\"colorbar\": {\"outlinewidth\": 0, \"ticks\": \"\"}}, \"type\": \"scatterternary\"}], \"surface\": [{\"colorbar\": {\"outlinewidth\": 0, \"ticks\": \"\"}, \"colorscale\": [[0.0, \"#0d0887\"], [0.1111111111111111, \"#46039f\"], [0.2222222222222222, \"#7201a8\"], [0.3333333333333333, \"#9c179e\"], [0.4444444444444444, \"#bd3786\"], [0.5555555555555556, \"#d8576b\"], [0.6666666666666666, \"#ed7953\"], [0.7777777777777778, \"#fb9f3a\"], [0.8888888888888888, \"#fdca26\"], [1.0, \"#f0f921\"]], \"type\": \"surface\"}], \"table\": [{\"cells\": {\"fill\": {\"color\": \"#EBF0F8\"}, \"line\": {\"color\": \"white\"}}, \"header\": {\"fill\": {\"color\": \"#C8D4E3\"}, \"line\": {\"color\": \"white\"}}, \"type\": \"table\"}]}, \"layout\": {\"annotationdefaults\": {\"arrowcolor\": \"#2a3f5f\", \"arrowhead\": 0, \"arrowwidth\": 1}, \"coloraxis\": {\"colorbar\": {\"outlinewidth\": 0, \"ticks\": \"\"}}, \"colorscale\": {\"diverging\": [[0, \"#8e0152\"], [0.1, \"#c51b7d\"], [0.2, \"#de77ae\"], [0.3, \"#f1b6da\"], [0.4, \"#fde0ef\"], [0.5, \"#f7f7f7\"], [0.6, \"#e6f5d0\"], [0.7, \"#b8e186\"], [0.8, \"#7fbc41\"], [0.9, \"#4d9221\"], [1, \"#276419\"]], \"sequential\": [[0.0, \"#0d0887\"], [0.1111111111111111, \"#46039f\"], [0.2222222222222222, \"#7201a8\"], [0.3333333333333333, \"#9c179e\"], [0.4444444444444444, \"#bd3786\"], [0.5555555555555556, \"#d8576b\"], [0.6666666666666666, \"#ed7953\"], [0.7777777777777778, \"#fb9f3a\"], [0.8888888888888888, \"#fdca26\"], [1.0, \"#f0f921\"]], \"sequentialminus\": [[0.0, \"#0d0887\"], [0.1111111111111111, \"#46039f\"], [0.2222222222222222, \"#7201a8\"], [0.3333333333333333, \"#9c179e\"], [0.4444444444444444, \"#bd3786\"], [0.5555555555555556, \"#d8576b\"], [0.6666666666666666, \"#ed7953\"], [0.7777777777777778, \"#fb9f3a\"], [0.8888888888888888, \"#fdca26\"], [1.0, \"#f0f921\"]]}, \"colorway\": [\"#636efa\", \"#EF553B\", \"#00cc96\", \"#ab63fa\", \"#FFA15A\", \"#19d3f3\", \"#FF6692\", \"#B6E880\", \"#FF97FF\", \"#FECB52\"], \"font\": {\"color\": \"#2a3f5f\"}, \"geo\": {\"bgcolor\": \"white\", \"lakecolor\": \"white\", \"landcolor\": \"#E5ECF6\", \"showlakes\": true, \"showland\": true, \"subunitcolor\": \"white\"}, \"hoverlabel\": {\"align\": \"left\"}, \"hovermode\": \"closest\", \"mapbox\": {\"style\": \"light\"}, \"paper_bgcolor\": \"white\", \"plot_bgcolor\": \"#E5ECF6\", \"polar\": {\"angularaxis\": {\"gridcolor\": \"white\", \"linecolor\": \"white\", \"ticks\": \"\"}, \"bgcolor\": \"#E5ECF6\", \"radialaxis\": {\"gridcolor\": \"white\", \"linecolor\": \"white\", \"ticks\": \"\"}}, \"scene\": {\"xaxis\": {\"backgroundcolor\": \"#E5ECF6\", \"gridcolor\": \"white\", \"gridwidth\": 2, \"linecolor\": \"white\", \"showbackground\": true, \"ticks\": \"\", \"zerolinecolor\": \"white\"}, \"yaxis\": {\"backgroundcolor\": \"#E5ECF6\", \"gridcolor\": \"white\", \"gridwidth\": 2, \"linecolor\": \"white\", \"showbackground\": true, \"ticks\": \"\", \"zerolinecolor\": \"white\"}, \"zaxis\": {\"backgroundcolor\": \"#E5ECF6\", \"gridcolor\": \"white\", \"gridwidth\": 2, \"linecolor\": \"white\", \"showbackground\": true, \"ticks\": \"\", \"zerolinecolor\": \"white\"}}, \"shapedefaults\": {\"line\": {\"color\": \"#2a3f5f\"}}, \"ternary\": {\"aaxis\": {\"gridcolor\": \"white\", \"linecolor\": \"white\", \"ticks\": \"\"}, \"baxis\": {\"gridcolor\": \"white\", \"linecolor\": \"white\", \"ticks\": \"\"}, \"bgcolor\": \"#E5ECF6\", \"caxis\": {\"gridcolor\": \"white\", \"linecolor\": \"white\", \"ticks\": \"\"}}, \"title\": {\"x\": 0.05}, \"xaxis\": {\"automargin\": true, \"gridcolor\": \"white\", \"linecolor\": \"white\", \"ticks\": \"\", \"title\": {\"standoff\": 15}, \"zerolinecolor\": \"white\", \"zerolinewidth\": 2}, \"yaxis\": {\"automargin\": true, \"gridcolor\": \"white\", \"linecolor\": \"white\", \"ticks\": \"\", \"title\": {\"standoff\": 15}, \"zerolinecolor\": \"white\", \"zerolinewidth\": 2}}}, \"xaxis\": {\"anchor\": \"y\", \"domain\": [0.0, 1.0], \"title\": {\"text\": \"NOME_LOJA_CURTO\"}}, \"yaxis\": {\"anchor\": \"x\", \"domain\": [0.0, 1.0], \"title\": {\"text\": \"QUANT_VENDAS\"}}},\n",
              "                        {\"responsive\": true}\n",
              "                    ).then(function(){\n",
              "                            \n",
              "var gd = document.getElementById('67c8e9e7-7fa4-4170-ac23-31d8b875e48a');\n",
              "var x = new MutationObserver(function (mutations, observer) {{\n",
              "        var display = window.getComputedStyle(gd).display;\n",
              "        if (!display || display === 'none') {{\n",
              "            console.log([gd, 'removed!']);\n",
              "            Plotly.purge(gd);\n",
              "            observer.disconnect();\n",
              "        }}\n",
              "}});\n",
              "\n",
              "// Listen for the removal of the full notebook cells\n",
              "var notebookContainer = gd.closest('#notebook-container');\n",
              "if (notebookContainer) {{\n",
              "    x.observe(notebookContainer, {childList: true});\n",
              "}}\n",
              "\n",
              "// Listen for the clearing of the current output cell\n",
              "var outputEl = gd.closest('.output');\n",
              "if (outputEl) {{\n",
              "    x.observe(outputEl, {childList: true});\n",
              "}}\n",
              "\n",
              "                        })\n",
              "                };\n",
              "                \n",
              "            </script>\n",
              "        </div>\n",
              "</body>\n",
              "</html>"
            ]
          },
          "metadata": {
            "tags": []
          }
        }
      ]
    },
    {
      "cell_type": "code",
      "metadata": {
        "colab": {
          "base_uri": "https://localhost:8080/",
          "height": 542
        },
        "id": "kmmArkrX4wQb",
        "outputId": "3ed3adf4-7b0c-41fd-84af-961db6197587"
      },
      "source": [
        "graf_lin_quant_fisica = px.line(quant_compras_fisica_mes, x='MES', y='QUANT_VENDAS', color='NOME_LOJA_CURTO', title='Quantidade de vendas por mês')\n",
        "graf_lin_quant_fisica.show()"
      ],
      "execution_count": null,
      "outputs": [
        {
          "output_type": "display_data",
          "data": {
            "text/html": [
              "<html>\n",
              "<head><meta charset=\"utf-8\" /></head>\n",
              "<body>\n",
              "    <div>\n",
              "            <script src=\"https://cdnjs.cloudflare.com/ajax/libs/mathjax/2.7.5/MathJax.js?config=TeX-AMS-MML_SVG\"></script><script type=\"text/javascript\">if (window.MathJax) {MathJax.Hub.Config({SVG: {font: \"STIX-Web\"}});}</script>\n",
              "                <script type=\"text/javascript\">window.PlotlyConfig = {MathJaxConfig: 'local'};</script>\n",
              "        <script src=\"https://cdn.plot.ly/plotly-latest.min.js\"></script>    \n",
              "            <div id=\"7338470f-b461-445b-9f9b-9466c3b5b95c\" class=\"plotly-graph-div\" style=\"height:525px; width:100%;\"></div>\n",
              "            <script type=\"text/javascript\">\n",
              "                \n",
              "                    window.PLOTLYENV=window.PLOTLYENV || {};\n",
              "                    \n",
              "                if (document.getElementById(\"7338470f-b461-445b-9f9b-9466c3b5b95c\")) {\n",
              "                    Plotly.newPlot(\n",
              "                        '7338470f-b461-445b-9f9b-9466c3b5b95c',\n",
              "                        [{\"hoverlabel\": {\"namelength\": 0}, \"hovertemplate\": \"NOME_LOJA_CURTO=ARIQUEMES<br>MES=%{x}<br>QUANT_VENDAS=%{y}\", \"legendgroup\": \"NOME_LOJA_CURTO=ARIQUEMES\", \"line\": {\"color\": \"#636efa\", \"dash\": \"solid\"}, \"mode\": \"lines\", \"name\": \"NOME_LOJA_CURTO=ARIQUEMES\", \"showlegend\": true, \"type\": \"scatter\", \"x\": [\"01\", \"02\", \"03\", \"04\", \"05\", \"06\", \"07\", \"08\", \"09\", \"10\", \"11\", \"12\"], \"xaxis\": \"x\", \"y\": [101, 103, 80, 69, 144, 134, 159, 146, 143, 113, 145, 161], \"yaxis\": \"y\"}, {\"hoverlabel\": {\"namelength\": 0}, \"hovertemplate\": \"NOME_LOJA_CURTO=AVENIDA<br>MES=%{x}<br>QUANT_VENDAS=%{y}\", \"legendgroup\": \"NOME_LOJA_CURTO=AVENIDA\", \"line\": {\"color\": \"#EF553B\", \"dash\": \"solid\"}, \"mode\": \"lines\", \"name\": \"NOME_LOJA_CURTO=AVENIDA\", \"showlegend\": true, \"type\": \"scatter\", \"x\": [\"01\", \"02\", \"03\", \"04\", \"05\", \"06\", \"07\", \"08\", \"09\", \"10\", \"11\", \"12\"], \"xaxis\": \"x\", \"y\": [509, 433, 386, 291, 269, 537, 598, 576, 536, 508, 565, 541], \"yaxis\": \"y\"}, {\"hoverlabel\": {\"namelength\": 0}, \"hovertemplate\": \"NOME_LOJA_CURTO=BARROSO<br>MES=%{x}<br>QUANT_VENDAS=%{y}\", \"legendgroup\": \"NOME_LOJA_CURTO=BARROSO\", \"line\": {\"color\": \"#00cc96\", \"dash\": \"solid\"}, \"mode\": \"lines\", \"name\": \"NOME_LOJA_CURTO=BARROSO\", \"showlegend\": true, \"type\": \"scatter\", \"x\": [\"01\", \"02\", \"03\", \"04\", \"05\", \"06\", \"07\", \"08\", \"09\", \"10\", \"11\", \"12\"], \"xaxis\": \"x\", \"y\": [111, 113, 72, 32, 20, 29, 24, 19, 15, 27, 24, 7], \"yaxis\": \"y\"}, {\"hoverlabel\": {\"namelength\": 0}, \"hovertemplate\": \"NOME_LOJA_CURTO=BOA VISTA<br>MES=%{x}<br>QUANT_VENDAS=%{y}\", \"legendgroup\": \"NOME_LOJA_CURTO=BOA VISTA\", \"line\": {\"color\": \"#ab63fa\", \"dash\": \"solid\"}, \"mode\": \"lines\", \"name\": \"NOME_LOJA_CURTO=BOA VISTA\", \"showlegend\": true, \"type\": \"scatter\", \"x\": [\"01\", \"02\", \"03\", \"04\", \"05\", \"06\", \"07\", \"08\", \"09\", \"10\", \"11\", \"12\"], \"xaxis\": \"x\", \"y\": [210, 197, 142, 175, 215, 232, 246, 301, 268, 308, 371, 293], \"yaxis\": \"y\"}, {\"hoverlabel\": {\"namelength\": 0}, \"hovertemplate\": \"NOME_LOJA_CURTO=CAMAPUA<br>MES=%{x}<br>QUANT_VENDAS=%{y}\", \"legendgroup\": \"NOME_LOJA_CURTO=CAMAPUA\", \"line\": {\"color\": \"#FFA15A\", \"dash\": \"solid\"}, \"mode\": \"lines\", \"name\": \"NOME_LOJA_CURTO=CAMAPUA\", \"showlegend\": true, \"type\": \"scatter\", \"x\": [\"01\", \"02\", \"03\", \"04\", \"05\", \"06\", \"07\", \"08\", \"09\", \"10\", \"11\", \"12\"], \"xaxis\": \"x\", \"y\": [546, 455, 403, 361, 375, 711, 717, 709, 592, 631, 703, 573], \"yaxis\": \"y\"}, {\"hoverlabel\": {\"namelength\": 0}, \"hovertemplate\": \"NOME_LOJA_CURTO=CIDADE NOVA<br>MES=%{x}<br>QUANT_VENDAS=%{y}\", \"legendgroup\": \"NOME_LOJA_CURTO=CIDADE NOVA\", \"line\": {\"color\": \"#19d3f3\", \"dash\": \"solid\"}, \"mode\": \"lines\", \"name\": \"NOME_LOJA_CURTO=CIDADE NOVA\", \"showlegend\": true, \"type\": \"scatter\", \"x\": [\"01\", \"02\", \"03\", \"04\", \"05\", \"06\", \"07\", \"08\", \"09\", \"10\", \"11\", \"12\"], \"xaxis\": \"x\", \"y\": [588, 556, 399, 314, 325, 701, 727, 706, 608, 630, 749, 618], \"yaxis\": \"y\"}, {\"hoverlabel\": {\"namelength\": 0}, \"hovertemplate\": \"NOME_LOJA_CURTO=EDUCANDOS<br>MES=%{x}<br>QUANT_VENDAS=%{y}\", \"legendgroup\": \"NOME_LOJA_CURTO=EDUCANDOS\", \"line\": {\"color\": \"#FF6692\", \"dash\": \"solid\"}, \"mode\": \"lines\", \"name\": \"NOME_LOJA_CURTO=EDUCANDOS\", \"showlegend\": true, \"type\": \"scatter\", \"x\": [\"01\", \"02\", \"03\", \"04\", \"05\", \"06\", \"07\", \"08\", \"09\", \"10\", \"11\", \"12\"], \"xaxis\": \"x\", \"y\": [261, 216, 197, 111, 105, 309, 349, 337, 273, 270, 290, 270], \"yaxis\": \"y\"}, {\"hoverlabel\": {\"namelength\": 0}, \"hovertemplate\": \"NOME_LOJA_CURTO=FARMACIA ARIQUEMES<br>MES=%{x}<br>QUANT_VENDAS=%{y}\", \"legendgroup\": \"NOME_LOJA_CURTO=FARMACIA ARIQUEMES\", \"line\": {\"color\": \"#B6E880\", \"dash\": \"solid\"}, \"mode\": \"lines\", \"name\": \"NOME_LOJA_CURTO=FARMACIA ARIQUEMES\", \"showlegend\": true, \"type\": \"scatter\", \"x\": [\"01\", \"02\", \"03\", \"04\", \"05\", \"06\", \"07\", \"08\", \"09\", \"10\", \"11\", \"12\"], \"xaxis\": \"x\", \"y\": [23, 26, 18, 34, 23, 24, 25, 28, 36, 30, 32, 27], \"yaxis\": \"y\"}, {\"hoverlabel\": {\"namelength\": 0}, \"hovertemplate\": \"NOME_LOJA_CURTO=FARMACIA AVENIDA<br>MES=%{x}<br>QUANT_VENDAS=%{y}\", \"legendgroup\": \"NOME_LOJA_CURTO=FARMACIA AVENIDA\", \"line\": {\"color\": \"#FF97FF\", \"dash\": \"solid\"}, \"mode\": \"lines\", \"name\": \"NOME_LOJA_CURTO=FARMACIA AVENIDA\", \"showlegend\": true, \"type\": \"scatter\", \"x\": [\"01\", \"02\", \"03\", \"04\", \"05\", \"06\", \"07\", \"08\", \"09\", \"10\", \"11\", \"12\"], \"xaxis\": \"x\", \"y\": [30, 86, 75, 90, 56, 81, 74, 85, 88, 83, 105, 81], \"yaxis\": \"y\"}, {\"hoverlabel\": {\"namelength\": 0}, \"hovertemplate\": \"NOME_LOJA_CURTO=FARMACIA BOA VISTA<br>MES=%{x}<br>QUANT_VENDAS=%{y}\", \"legendgroup\": \"NOME_LOJA_CURTO=FARMACIA BOA VISTA\", \"line\": {\"color\": \"#FECB52\", \"dash\": \"solid\"}, \"mode\": \"lines\", \"name\": \"NOME_LOJA_CURTO=FARMACIA BOA VISTA\", \"showlegend\": true, \"type\": \"scatter\", \"x\": [\"01\", \"02\", \"03\", \"04\", \"05\", \"06\", \"07\", \"08\", \"09\", \"10\", \"11\", \"12\"], \"xaxis\": \"x\", \"y\": [31, 31, 26, 24, 28, 26, 38, 30, 28, 35, 60, 34], \"yaxis\": \"y\"}, {\"hoverlabel\": {\"namelength\": 0}, \"hovertemplate\": \"NOME_LOJA_CURTO=FARMACIA CAMAPUA<br>MES=%{x}<br>QUANT_VENDAS=%{y}\", \"legendgroup\": \"NOME_LOJA_CURTO=FARMACIA CAMAPUA\", \"line\": {\"color\": \"#636efa\", \"dash\": \"solid\"}, \"mode\": \"lines\", \"name\": \"NOME_LOJA_CURTO=FARMACIA CAMAPUA\", \"showlegend\": true, \"type\": \"scatter\", \"x\": [\"01\", \"02\", \"03\", \"04\", \"05\", \"06\", \"07\", \"08\", \"09\", \"10\", \"11\", \"12\"], \"xaxis\": \"x\", \"y\": [101, 90, 117, 114, 86, 91, 112, 105, 116, 113, 95, 94], \"yaxis\": \"y\"}, {\"hoverlabel\": {\"namelength\": 0}, \"hovertemplate\": \"NOME_LOJA_CURTO=FARMACIA CIDADE NOVA<br>MES=%{x}<br>QUANT_VENDAS=%{y}\", \"legendgroup\": \"NOME_LOJA_CURTO=FARMACIA CIDADE NOVA\", \"line\": {\"color\": \"#EF553B\", \"dash\": \"solid\"}, \"mode\": \"lines\", \"name\": \"NOME_LOJA_CURTO=FARMACIA CIDADE NOVA\", \"showlegend\": true, \"type\": \"scatter\", \"x\": [\"01\", \"02\", \"03\", \"04\", \"05\", \"06\", \"07\", \"08\", \"09\", \"10\", \"11\", \"12\"], \"xaxis\": \"x\", \"y\": [5, 6, 2, 11, 8, 9, 8, 7, 5, 27, 65, 47], \"yaxis\": \"y\"}, {\"hoverlabel\": {\"namelength\": 0}, \"hovertemplate\": \"NOME_LOJA_CURTO=FARMACIA DJALMA<br>MES=%{x}<br>QUANT_VENDAS=%{y}\", \"legendgroup\": \"NOME_LOJA_CURTO=FARMACIA DJALMA\", \"line\": {\"color\": \"#00cc96\", \"dash\": \"solid\"}, \"mode\": \"lines\", \"name\": \"NOME_LOJA_CURTO=FARMACIA DJALMA\", \"showlegend\": true, \"type\": \"scatter\", \"x\": [\"01\", \"02\", \"03\", \"04\", \"05\", \"06\", \"07\", \"08\", \"09\", \"10\", \"11\", \"12\"], \"xaxis\": \"x\", \"y\": [72, 62, 90, 93, 106, 64, 79, 84, 63, 82, 75, 84], \"yaxis\": \"y\"}, {\"hoverlabel\": {\"namelength\": 0}, \"hovertemplate\": \"NOME_LOJA_CURTO=FARMACIA G.CIRCULAR<br>MES=%{x}<br>QUANT_VENDAS=%{y}\", \"legendgroup\": \"NOME_LOJA_CURTO=FARMACIA G.CIRCULAR\", \"line\": {\"color\": \"#ab63fa\", \"dash\": \"solid\"}, \"mode\": \"lines\", \"name\": \"NOME_LOJA_CURTO=FARMACIA G.CIRCULAR\", \"showlegend\": true, \"type\": \"scatter\", \"x\": [\"01\", \"02\", \"03\", \"04\", \"05\", \"06\", \"07\", \"08\", \"09\", \"10\", \"11\", \"12\"], \"xaxis\": \"x\", \"y\": [104, 105, 80, 43, 44, 70, 97, 124, 116, 112, 139, 110], \"yaxis\": \"y\"}, {\"hoverlabel\": {\"namelength\": 0}, \"hovertemplate\": \"NOME_LOJA_CURTO=FARMACIA ITACOATIARA<br>MES=%{x}<br>QUANT_VENDAS=%{y}\", \"legendgroup\": \"NOME_LOJA_CURTO=FARMACIA ITACOATIARA\", \"line\": {\"color\": \"#FFA15A\", \"dash\": \"solid\"}, \"mode\": \"lines\", \"name\": \"NOME_LOJA_CURTO=FARMACIA ITACOATIARA\", \"showlegend\": true, \"type\": \"scatter\", \"x\": [\"01\", \"02\", \"03\", \"04\", \"05\", \"06\", \"07\", \"08\", \"09\", \"10\", \"11\", \"12\"], \"xaxis\": \"x\", \"y\": [80, 60, 68, 59, 71, 45, 75, 91, 57, 66, 67, 61], \"yaxis\": \"y\"}, {\"hoverlabel\": {\"namelength\": 0}, \"hovertemplate\": \"NOME_LOJA_CURTO=FARMACIA JATUARANA<br>MES=%{x}<br>QUANT_VENDAS=%{y}\", \"legendgroup\": \"NOME_LOJA_CURTO=FARMACIA JATUARANA\", \"line\": {\"color\": \"#19d3f3\", \"dash\": \"solid\"}, \"mode\": \"lines\", \"name\": \"NOME_LOJA_CURTO=FARMACIA JATUARANA\", \"showlegend\": true, \"type\": \"scatter\", \"x\": [\"01\", \"02\", \"03\", \"04\", \"05\", \"06\", \"07\", \"08\", \"09\", \"10\", \"11\", \"12\"], \"xaxis\": \"x\", \"y\": [6, 3, 11, 17, 14, 20, 12, 10, 16, 10, 15, 18], \"yaxis\": \"y\"}, {\"hoverlabel\": {\"namelength\": 0}, \"hovertemplate\": \"NOME_LOJA_CURTO=FARMACIA JI-PARANA<br>MES=%{x}<br>QUANT_VENDAS=%{y}\", \"legendgroup\": \"NOME_LOJA_CURTO=FARMACIA JI-PARANA\", \"line\": {\"color\": \"#FF6692\", \"dash\": \"solid\"}, \"mode\": \"lines\", \"name\": \"NOME_LOJA_CURTO=FARMACIA JI-PARANA\", \"showlegend\": true, \"type\": \"scatter\", \"x\": [\"01\", \"02\", \"03\", \"04\", \"05\", \"06\", \"07\", \"08\", \"09\", \"10\", \"11\", \"12\"], \"xaxis\": \"x\", \"y\": [24, 29, 38, 23, 22, 38, 40, 37, 43, 31, 30, 42], \"yaxis\": \"y\"}, {\"hoverlabel\": {\"namelength\": 0}, \"hovertemplate\": \"NOME_LOJA_CURTO=FARMACIA MANAUARA<br>MES=%{x}<br>QUANT_VENDAS=%{y}\", \"legendgroup\": \"NOME_LOJA_CURTO=FARMACIA MANAUARA\", \"line\": {\"color\": \"#B6E880\", \"dash\": \"solid\"}, \"mode\": \"lines\", \"name\": \"NOME_LOJA_CURTO=FARMACIA MANAUARA\", \"showlegend\": true, \"type\": \"scatter\", \"x\": [\"01\", \"02\", \"03\", \"04\", \"05\", \"06\", \"07\", \"08\", \"09\", \"10\", \"11\", \"12\"], \"xaxis\": \"x\", \"y\": [85, 92, 55, 31, 34, 77, 78, 81, 80, 108, 94, 120], \"yaxis\": \"y\"}, {\"hoverlabel\": {\"namelength\": 0}, \"hovertemplate\": \"NOME_LOJA_CURTO=FARMACIA MATRIZ<br>MES=%{x}<br>QUANT_VENDAS=%{y}\", \"legendgroup\": \"NOME_LOJA_CURTO=FARMACIA MATRIZ\", \"line\": {\"color\": \"#FF97FF\", \"dash\": \"solid\"}, \"mode\": \"lines\", \"name\": \"NOME_LOJA_CURTO=FARMACIA MATRIZ\", \"showlegend\": true, \"type\": \"scatter\", \"x\": [\"01\", \"02\", \"03\", \"04\", \"05\", \"06\", \"07\", \"08\", \"09\", \"10\", \"11\", \"12\"], \"xaxis\": \"x\", \"y\": [91, 103, 79, 85, 77, 74, 98, 92, 81, 97, 102, 109], \"yaxis\": \"y\"}, {\"hoverlabel\": {\"namelength\": 0}, \"hovertemplate\": \"NOME_LOJA_CURTO=FARMACIA MILLENNIUM<br>MES=%{x}<br>QUANT_VENDAS=%{y}\", \"legendgroup\": \"NOME_LOJA_CURTO=FARMACIA MILLENNIUM\", \"line\": {\"color\": \"#FECB52\", \"dash\": \"solid\"}, \"mode\": \"lines\", \"name\": \"NOME_LOJA_CURTO=FARMACIA MILLENNIUM\", \"showlegend\": true, \"type\": \"scatter\", \"x\": [\"01\", \"02\", \"03\", \"04\", \"05\", \"06\", \"07\", \"08\", \"09\", \"10\", \"11\", \"12\"], \"xaxis\": \"x\", \"y\": [52, 35, 34, 10, 11, 31, 29, 32, 40, 49, 33, 49], \"yaxis\": \"y\"}, {\"hoverlabel\": {\"namelength\": 0}, \"hovertemplate\": \"NOME_LOJA_CURTO=FARMACIA NOVA CIDADE<br>MES=%{x}<br>QUANT_VENDAS=%{y}\", \"legendgroup\": \"NOME_LOJA_CURTO=FARMACIA NOVA CIDADE\", \"line\": {\"color\": \"#636efa\", \"dash\": \"solid\"}, \"mode\": \"lines\", \"name\": \"NOME_LOJA_CURTO=FARMACIA NOVA CIDADE\", \"showlegend\": true, \"type\": \"scatter\", \"x\": [\"01\", \"02\", \"03\", \"04\", \"05\", \"06\", \"07\", \"08\", \"09\", \"10\", \"11\", \"12\"], \"xaxis\": \"x\", \"y\": [118, 119, 138, 112, 102, 121, 130, 117, 147, 142, 140, 125], \"yaxis\": \"y\"}, {\"hoverlabel\": {\"namelength\": 0}, \"hovertemplate\": \"NOME_LOJA_CURTO=FARMACIA P.FIGUEIRED<br>MES=%{x}<br>QUANT_VENDAS=%{y}\", \"legendgroup\": \"NOME_LOJA_CURTO=FARMACIA P.FIGUEIRED\", \"line\": {\"color\": \"#EF553B\", \"dash\": \"solid\"}, \"mode\": \"lines\", \"name\": \"NOME_LOJA_CURTO=FARMACIA P.FIGUEIRED\", \"showlegend\": true, \"type\": \"scatter\", \"x\": [\"01\", \"02\", \"03\", \"04\", \"05\", \"06\", \"07\", \"08\", \"09\", \"10\", \"11\", \"12\"], \"xaxis\": \"x\", \"y\": [49, 51, 65, 88, 78, 70, 79, 75, 59, 73, 66, 68], \"yaxis\": \"y\"}, {\"hoverlabel\": {\"namelength\": 0}, \"hovertemplate\": \"NOME_LOJA_CURTO=FARMACIA PONTA NEGRA<br>MES=%{x}<br>QUANT_VENDAS=%{y}\", \"legendgroup\": \"NOME_LOJA_CURTO=FARMACIA PONTA NEGRA\", \"line\": {\"color\": \"#00cc96\", \"dash\": \"solid\"}, \"mode\": \"lines\", \"name\": \"NOME_LOJA_CURTO=FARMACIA PONTA NEGRA\", \"showlegend\": true, \"type\": \"scatter\", \"x\": [\"01\", \"02\", \"03\", \"04\", \"05\", \"06\", \"07\", \"08\", \"09\", \"10\", \"11\", \"12\"], \"xaxis\": \"x\", \"y\": [69, 73, 84, 110, 93, 73, 83, 89, 79, 63, 89, 80], \"yaxis\": \"y\"}, {\"hoverlabel\": {\"namelength\": 0}, \"hovertemplate\": \"NOME_LOJA_CURTO=FARMACIA PORTO VELHO<br>MES=%{x}<br>QUANT_VENDAS=%{y}\", \"legendgroup\": \"NOME_LOJA_CURTO=FARMACIA PORTO VELHO\", \"line\": {\"color\": \"#ab63fa\", \"dash\": \"solid\"}, \"mode\": \"lines\", \"name\": \"NOME_LOJA_CURTO=FARMACIA PORTO VELHO\", \"showlegend\": true, \"type\": \"scatter\", \"x\": [\"01\", \"02\", \"03\", \"04\", \"05\", \"06\", \"07\", \"08\", \"09\", \"10\", \"11\", \"12\"], \"xaxis\": \"x\", \"y\": [32, 33, 34, 25, 32, 21, 22, 25, 30, 28, 35, 31], \"yaxis\": \"y\"}, {\"hoverlabel\": {\"namelength\": 0}, \"hovertemplate\": \"NOME_LOJA_CURTO=FARMACIA SHOP.P.NEGR<br>MES=%{x}<br>QUANT_VENDAS=%{y}\", \"legendgroup\": \"NOME_LOJA_CURTO=FARMACIA SHOP.P.NEGR\", \"line\": {\"color\": \"#FFA15A\", \"dash\": \"solid\"}, \"mode\": \"lines\", \"name\": \"NOME_LOJA_CURTO=FARMACIA SHOP.P.NEGR\", \"showlegend\": true, \"type\": \"scatter\", \"x\": [\"01\", \"02\", \"03\", \"04\", \"05\", \"06\", \"07\", \"08\", \"09\", \"10\", \"11\", \"12\"], \"xaxis\": \"x\", \"y\": [75, 76, 75, 75, 80, 85, 82, 101, 112, 88, 112, 104], \"yaxis\": \"y\"}, {\"hoverlabel\": {\"namelength\": 0}, \"hovertemplate\": \"NOME_LOJA_CURTO=FARMACIA SHOPPING<br>MES=%{x}<br>QUANT_VENDAS=%{y}\", \"legendgroup\": \"NOME_LOJA_CURTO=FARMACIA SHOPPING\", \"line\": {\"color\": \"#19d3f3\", \"dash\": \"solid\"}, \"mode\": \"lines\", \"name\": \"NOME_LOJA_CURTO=FARMACIA SHOPPING\", \"showlegend\": true, \"type\": \"scatter\", \"x\": [\"01\", \"02\", \"03\", \"04\", \"05\", \"06\", \"07\", \"08\", \"09\", \"10\", \"11\", \"12\"], \"xaxis\": \"x\", \"y\": [148, 124, 117, 141, 112, 132, 156, 160, 150, 147, 150, 170], \"yaxis\": \"y\"}, {\"hoverlabel\": {\"namelength\": 0}, \"hovertemplate\": \"NOME_LOJA_CURTO=FARMACIA STUDIO 5<br>MES=%{x}<br>QUANT_VENDAS=%{y}\", \"legendgroup\": \"NOME_LOJA_CURTO=FARMACIA STUDIO 5\", \"line\": {\"color\": \"#FF6692\", \"dash\": \"solid\"}, \"mode\": \"lines\", \"name\": \"NOME_LOJA_CURTO=FARMACIA STUDIO 5\", \"showlegend\": true, \"type\": \"scatter\", \"x\": [\"01\", \"02\", \"03\", \"04\", \"05\", \"06\", \"07\", \"08\", \"09\", \"10\", \"11\", \"12\"], \"xaxis\": \"x\", \"y\": [57, 45, 40, 23, 16, 43, 48, 50, 48, 59, 55, 52], \"yaxis\": \"y\"}, {\"hoverlabel\": {\"namelength\": 0}, \"hovertemplate\": \"NOME_LOJA_CURTO=FARMACIA TORQUATO<br>MES=%{x}<br>QUANT_VENDAS=%{y}\", \"legendgroup\": \"NOME_LOJA_CURTO=FARMACIA TORQUATO\", \"line\": {\"color\": \"#B6E880\", \"dash\": \"solid\"}, \"mode\": \"lines\", \"name\": \"NOME_LOJA_CURTO=FARMACIA TORQUATO\", \"showlegend\": true, \"type\": \"scatter\", \"x\": [\"01\", \"02\", \"03\", \"04\", \"05\", \"06\", \"07\", \"08\", \"09\", \"10\", \"11\", \"12\"], \"xaxis\": \"x\", \"y\": [130, 99, 149, 254, 170, 146, 123, 121, 127, 123, 133, 114], \"yaxis\": \"y\"}, {\"hoverlabel\": {\"namelength\": 0}, \"hovertemplate\": \"NOME_LOJA_CURTO=GRANDE CIRCULAR<br>MES=%{x}<br>QUANT_VENDAS=%{y}\", \"legendgroup\": \"NOME_LOJA_CURTO=GRANDE CIRCULAR\", \"line\": {\"color\": \"#FF97FF\", \"dash\": \"solid\"}, \"mode\": \"lines\", \"name\": \"NOME_LOJA_CURTO=GRANDE CIRCULAR\", \"showlegend\": true, \"type\": \"scatter\", \"x\": [\"01\", \"02\", \"03\", \"04\", \"05\", \"06\", \"07\", \"08\", \"09\", \"10\", \"11\", \"12\"], \"xaxis\": \"x\", \"y\": [456, 400, 334, 189, 190, 542, 586, 595, 530, 464, 623, 508], \"yaxis\": \"y\"}, {\"hoverlabel\": {\"namelength\": 0}, \"hovertemplate\": \"NOME_LOJA_CURTO=ITACOATIARA<br>MES=%{x}<br>QUANT_VENDAS=%{y}\", \"legendgroup\": \"NOME_LOJA_CURTO=ITACOATIARA\", \"line\": {\"color\": \"#FECB52\", \"dash\": \"solid\"}, \"mode\": \"lines\", \"name\": \"NOME_LOJA_CURTO=ITACOATIARA\", \"showlegend\": true, \"type\": \"scatter\", \"x\": [\"01\", \"02\", \"03\", \"04\", \"05\", \"06\", \"07\", \"08\", \"09\", \"10\", \"11\", \"12\"], \"xaxis\": \"x\", \"y\": [208, 226, 207, 136, 155, 327, 268, 274, 227, 262, 272, 241], \"yaxis\": \"y\"}, {\"hoverlabel\": {\"namelength\": 0}, \"hovertemplate\": \"NOME_LOJA_CURTO=JATUARANA<br>MES=%{x}<br>QUANT_VENDAS=%{y}\", \"legendgroup\": \"NOME_LOJA_CURTO=JATUARANA\", \"line\": {\"color\": \"#636efa\", \"dash\": \"solid\"}, \"mode\": \"lines\", \"name\": \"NOME_LOJA_CURTO=JATUARANA\", \"showlegend\": true, \"type\": \"scatter\", \"x\": [\"01\", \"02\", \"03\", \"04\", \"05\", \"06\", \"07\", \"08\", \"09\", \"10\", \"11\", \"12\"], \"xaxis\": \"x\", \"y\": [45, 41, 103, 108, 123, 169, 219, 159, 168, 149, 178, 160], \"yaxis\": \"y\"}, {\"hoverlabel\": {\"namelength\": 0}, \"hovertemplate\": \"NOME_LOJA_CURTO=JI-PARANA<br>MES=%{x}<br>QUANT_VENDAS=%{y}\", \"legendgroup\": \"NOME_LOJA_CURTO=JI-PARANA\", \"line\": {\"color\": \"#EF553B\", \"dash\": \"solid\"}, \"mode\": \"lines\", \"name\": \"NOME_LOJA_CURTO=JI-PARANA\", \"showlegend\": true, \"type\": \"scatter\", \"x\": [\"01\", \"02\", \"03\", \"04\", \"05\", \"06\", \"07\", \"08\", \"09\", \"10\", \"11\", \"12\"], \"xaxis\": \"x\", \"y\": [101, 97, 72, 105, 141, 140, 144, 105, 126, 128, 166, 170], \"yaxis\": \"y\"}, {\"hoverlabel\": {\"namelength\": 0}, \"hovertemplate\": \"NOME_LOJA_CURTO=MANACAPURU<br>MES=%{x}<br>QUANT_VENDAS=%{y}\", \"legendgroup\": \"NOME_LOJA_CURTO=MANACAPURU\", \"line\": {\"color\": \"#00cc96\", \"dash\": \"solid\"}, \"mode\": \"lines\", \"name\": \"NOME_LOJA_CURTO=MANACAPURU\", \"showlegend\": true, \"type\": \"scatter\", \"x\": [\"01\", \"02\", \"03\", \"04\", \"05\", \"06\", \"07\", \"08\", \"09\", \"10\", \"11\", \"12\"], \"xaxis\": \"x\", \"y\": [192, 173, 160, 156, 152, 278, 280, 278, 248, 249, 295, 220], \"yaxis\": \"y\"}, {\"hoverlabel\": {\"namelength\": 0}, \"hovertemplate\": \"NOME_LOJA_CURTO=MANAUARA<br>MES=%{x}<br>QUANT_VENDAS=%{y}\", \"legendgroup\": \"NOME_LOJA_CURTO=MANAUARA\", \"line\": {\"color\": \"#ab63fa\", \"dash\": \"solid\"}, \"mode\": \"lines\", \"name\": \"NOME_LOJA_CURTO=MANAUARA\", \"showlegend\": true, \"type\": \"scatter\", \"x\": [\"01\", \"02\", \"03\", \"04\", \"05\", \"06\", \"07\", \"08\", \"09\", \"10\", \"11\", \"12\"], \"xaxis\": \"x\", \"y\": [552, 469, 321, 215, 211, 536, 510, 618, 533, 512, 621, 595], \"yaxis\": \"y\"}, {\"hoverlabel\": {\"namelength\": 0}, \"hovertemplate\": \"NOME_LOJA_CURTO=MATRIZ<br>MES=%{x}<br>QUANT_VENDAS=%{y}\", \"legendgroup\": \"NOME_LOJA_CURTO=MATRIZ\", \"line\": {\"color\": \"#FFA15A\", \"dash\": \"solid\"}, \"mode\": \"lines\", \"name\": \"NOME_LOJA_CURTO=MATRIZ\", \"showlegend\": true, \"type\": \"scatter\", \"x\": [\"01\", \"02\", \"03\", \"04\", \"05\", \"06\", \"07\", \"08\", \"09\", \"10\", \"11\", \"12\"], \"xaxis\": \"x\", \"y\": [300, 273, 216, 213, 281, 378, 431, 387, 315, 368, 396, 342], \"yaxis\": \"y\"}, {\"hoverlabel\": {\"namelength\": 0}, \"hovertemplate\": \"NOME_LOJA_CURTO=MERCADO CAMAPUA<br>MES=%{x}<br>QUANT_VENDAS=%{y}\", \"legendgroup\": \"NOME_LOJA_CURTO=MERCADO CAMAPUA\", \"line\": {\"color\": \"#19d3f3\", \"dash\": \"solid\"}, \"mode\": \"lines\", \"name\": \"NOME_LOJA_CURTO=MERCADO CAMAPUA\", \"showlegend\": true, \"type\": \"scatter\", \"x\": [\"01\", \"02\", \"03\", \"04\", \"05\", \"06\", \"07\", \"08\", \"09\", \"10\", \"11\", \"12\"], \"xaxis\": \"x\", \"y\": [8, 3, 7, 6, 2, 2, 9, 2, 7, 28, 27, 25], \"yaxis\": \"y\"}, {\"hoverlabel\": {\"namelength\": 0}, \"hovertemplate\": \"NOME_LOJA_CURTO=MILLENNIUM<br>MES=%{x}<br>QUANT_VENDAS=%{y}\", \"legendgroup\": \"NOME_LOJA_CURTO=MILLENNIUM\", \"line\": {\"color\": \"#FF6692\", \"dash\": \"solid\"}, \"mode\": \"lines\", \"name\": \"NOME_LOJA_CURTO=MILLENNIUM\", \"showlegend\": true, \"type\": \"scatter\", \"x\": [\"01\", \"02\", \"03\", \"04\", \"05\", \"06\", \"07\", \"08\", \"09\", \"10\", \"11\", \"12\"], \"xaxis\": \"x\", \"y\": [138, 100, 86, 66, 40, 157, 147, 138, 131, 146, 144, 143], \"yaxis\": \"y\"}, {\"hoverlabel\": {\"namelength\": 0}, \"hovertemplate\": \"NOME_LOJA_CURTO=NOVA CIDADE<br>MES=%{x}<br>QUANT_VENDAS=%{y}\", \"legendgroup\": \"NOME_LOJA_CURTO=NOVA CIDADE\", \"line\": {\"color\": \"#B6E880\", \"dash\": \"solid\"}, \"mode\": \"lines\", \"name\": \"NOME_LOJA_CURTO=NOVA CIDADE\", \"showlegend\": true, \"type\": \"scatter\", \"x\": [\"01\", \"02\", \"03\", \"04\", \"05\", \"06\", \"07\", \"08\", \"09\", \"10\", \"11\", \"12\"], \"xaxis\": \"x\", \"y\": [380, 325, 246, 185, 202, 452, 477, 474, 428, 408, 479, 408], \"yaxis\": \"y\"}, {\"hoverlabel\": {\"namelength\": 0}, \"hovertemplate\": \"NOME_LOJA_CURTO=PONTA NEGRA<br>MES=%{x}<br>QUANT_VENDAS=%{y}\", \"legendgroup\": \"NOME_LOJA_CURTO=PONTA NEGRA\", \"line\": {\"color\": \"#FF97FF\", \"dash\": \"solid\"}, \"mode\": \"lines\", \"name\": \"NOME_LOJA_CURTO=PONTA NEGRA\", \"showlegend\": true, \"type\": \"scatter\", \"x\": [\"01\", \"02\", \"03\", \"04\", \"05\", \"06\", \"07\", \"08\", \"09\", \"10\", \"11\", \"12\"], \"xaxis\": \"x\", \"y\": [437, 377, 345, 219, 255, 523, 569, 536, 478, 454, 539, 490], \"yaxis\": \"y\"}, {\"hoverlabel\": {\"namelength\": 0}, \"hovertemplate\": \"NOME_LOJA_CURTO=PONTA NEGRA SHOPPING<br>MES=%{x}<br>QUANT_VENDAS=%{y}\", \"legendgroup\": \"NOME_LOJA_CURTO=PONTA NEGRA SHOPPING\", \"line\": {\"color\": \"#FECB52\", \"dash\": \"solid\"}, \"mode\": \"lines\", \"name\": \"NOME_LOJA_CURTO=PONTA NEGRA SHOPPING\", \"showlegend\": true, \"type\": \"scatter\", \"x\": [\"01\", \"02\", \"03\", \"04\", \"05\", \"06\", \"07\", \"08\", \"09\", \"10\", \"11\", \"12\"], \"xaxis\": \"x\", \"y\": [241, 194, 144, 121, 129, 277, 270, 274, 209, 248, 300, 312], \"yaxis\": \"y\"}, {\"hoverlabel\": {\"namelength\": 0}, \"hovertemplate\": \"NOME_LOJA_CURTO=PORTO VELHO<br>MES=%{x}<br>QUANT_VENDAS=%{y}\", \"legendgroup\": \"NOME_LOJA_CURTO=PORTO VELHO\", \"line\": {\"color\": \"#636efa\", \"dash\": \"solid\"}, \"mode\": \"lines\", \"name\": \"NOME_LOJA_CURTO=PORTO VELHO\", \"showlegend\": true, \"type\": \"scatter\", \"x\": [\"01\", \"02\", \"03\", \"04\", \"05\", \"06\", \"07\", \"08\", \"09\", \"10\", \"11\", \"12\"], \"xaxis\": \"x\", \"y\": [272, 258, 217, 296, 205, 384, 426, 336, 318, 332, 337, 302], \"yaxis\": \"y\"}, {\"hoverlabel\": {\"namelength\": 0}, \"hovertemplate\": \"NOME_LOJA_CURTO=PORTO VELHO SHOPPING<br>MES=%{x}<br>QUANT_VENDAS=%{y}\", \"legendgroup\": \"NOME_LOJA_CURTO=PORTO VELHO SHOPPING\", \"line\": {\"color\": \"#EF553B\", \"dash\": \"solid\"}, \"mode\": \"lines\", \"name\": \"NOME_LOJA_CURTO=PORTO VELHO SHOPPING\", \"showlegend\": true, \"type\": \"scatter\", \"x\": [\"01\", \"02\", \"03\", \"04\", \"05\", \"06\", \"07\", \"08\", \"09\", \"10\", \"11\", \"12\"], \"xaxis\": \"x\", \"y\": [230, 205, 132, 103, 104, 168, 240, 251, 197, 203, 262, 276], \"yaxis\": \"y\"}, {\"hoverlabel\": {\"namelength\": 0}, \"hovertemplate\": \"NOME_LOJA_CURTO=PRESIDENTE FIGUEIRED<br>MES=%{x}<br>QUANT_VENDAS=%{y}\", \"legendgroup\": \"NOME_LOJA_CURTO=PRESIDENTE FIGUEIRED\", \"line\": {\"color\": \"#00cc96\", \"dash\": \"solid\"}, \"mode\": \"lines\", \"name\": \"NOME_LOJA_CURTO=PRESIDENTE FIGUEIRED\", \"showlegend\": true, \"type\": \"scatter\", \"x\": [\"01\", \"02\", \"03\", \"04\", \"05\", \"06\", \"07\", \"08\", \"09\", \"10\", \"11\", \"12\"], \"xaxis\": \"x\", \"y\": [121, 90, 90, 96, 102, 148, 161, 143, 107, 138, 152, 153], \"yaxis\": \"y\"}, {\"hoverlabel\": {\"namelength\": 0}, \"hovertemplate\": \"NOME_LOJA_CURTO=RIO BRANCO<br>MES=%{x}<br>QUANT_VENDAS=%{y}\", \"legendgroup\": \"NOME_LOJA_CURTO=RIO BRANCO\", \"line\": {\"color\": \"#ab63fa\", \"dash\": \"solid\"}, \"mode\": \"lines\", \"name\": \"NOME_LOJA_CURTO=RIO BRANCO\", \"showlegend\": true, \"type\": \"scatter\", \"x\": [\"01\", \"02\", \"03\", \"04\", \"05\", \"06\", \"07\", \"08\", \"09\", \"10\", \"11\", \"12\"], \"xaxis\": \"x\", \"y\": [193, 178, 123, 107, 131, 131, 259, 226, 233, 221, 299, 283], \"yaxis\": \"y\"}, {\"hoverlabel\": {\"namelength\": 0}, \"hovertemplate\": \"NOME_LOJA_CURTO=SHOPPING<br>MES=%{x}<br>QUANT_VENDAS=%{y}\", \"legendgroup\": \"NOME_LOJA_CURTO=SHOPPING\", \"line\": {\"color\": \"#FFA15A\", \"dash\": \"solid\"}, \"mode\": \"lines\", \"name\": \"NOME_LOJA_CURTO=SHOPPING\", \"showlegend\": true, \"type\": \"scatter\", \"x\": [\"01\", \"02\", \"03\", \"04\", \"05\", \"06\", \"07\", \"08\", \"09\", \"10\", \"11\", \"12\"], \"xaxis\": \"x\", \"y\": [541, 503, 367, 288, 269, 590, 626, 643, 589, 559, 716, 581], \"yaxis\": \"y\"}, {\"hoverlabel\": {\"namelength\": 0}, \"hovertemplate\": \"NOME_LOJA_CURTO=STUDIO5<br>MES=%{x}<br>QUANT_VENDAS=%{y}\", \"legendgroup\": \"NOME_LOJA_CURTO=STUDIO5\", \"line\": {\"color\": \"#19d3f3\", \"dash\": \"solid\"}, \"mode\": \"lines\", \"name\": \"NOME_LOJA_CURTO=STUDIO5\", \"showlegend\": true, \"type\": \"scatter\", \"x\": [\"01\", \"02\", \"03\", \"04\", \"05\", \"06\", \"07\", \"08\", \"09\", \"10\", \"11\", \"12\"], \"xaxis\": \"x\", \"y\": [274, 243, 164, 113, 91, 267, 267, 293, 237, 218, 273, 271], \"yaxis\": \"y\"}, {\"hoverlabel\": {\"namelength\": 0}, \"hovertemplate\": \"NOME_LOJA_CURTO=TORQUATO<br>MES=%{x}<br>QUANT_VENDAS=%{y}\", \"legendgroup\": \"NOME_LOJA_CURTO=TORQUATO\", \"line\": {\"color\": \"#FF6692\", \"dash\": \"solid\"}, \"mode\": \"lines\", \"name\": \"NOME_LOJA_CURTO=TORQUATO\", \"showlegend\": true, \"type\": \"scatter\", \"x\": [\"01\", \"02\", \"03\", \"04\", \"05\", \"06\", \"07\", \"08\", \"09\", \"10\", \"11\", \"12\"], \"xaxis\": \"x\", \"y\": [335, 320, 299, 242, 240, 461, 470, 485, 408, 383, 433, 419], \"yaxis\": \"y\"}],\n",
              "                        {\"legend\": {\"tracegroupgap\": 0}, \"template\": {\"data\": {\"bar\": [{\"error_x\": {\"color\": \"#2a3f5f\"}, \"error_y\": {\"color\": \"#2a3f5f\"}, \"marker\": {\"line\": {\"color\": \"#E5ECF6\", \"width\": 0.5}}, \"type\": \"bar\"}], \"barpolar\": [{\"marker\": {\"line\": {\"color\": \"#E5ECF6\", \"width\": 0.5}}, \"type\": \"barpolar\"}], \"carpet\": [{\"aaxis\": {\"endlinecolor\": \"#2a3f5f\", \"gridcolor\": \"white\", \"linecolor\": \"white\", \"minorgridcolor\": \"white\", \"startlinecolor\": \"#2a3f5f\"}, \"baxis\": {\"endlinecolor\": \"#2a3f5f\", \"gridcolor\": \"white\", \"linecolor\": \"white\", \"minorgridcolor\": \"white\", \"startlinecolor\": \"#2a3f5f\"}, \"type\": \"carpet\"}], \"choropleth\": [{\"colorbar\": {\"outlinewidth\": 0, \"ticks\": \"\"}, \"type\": \"choropleth\"}], \"contour\": [{\"colorbar\": {\"outlinewidth\": 0, \"ticks\": \"\"}, \"colorscale\": [[0.0, \"#0d0887\"], [0.1111111111111111, \"#46039f\"], [0.2222222222222222, \"#7201a8\"], [0.3333333333333333, \"#9c179e\"], [0.4444444444444444, \"#bd3786\"], [0.5555555555555556, \"#d8576b\"], [0.6666666666666666, \"#ed7953\"], [0.7777777777777778, \"#fb9f3a\"], [0.8888888888888888, \"#fdca26\"], [1.0, \"#f0f921\"]], \"type\": \"contour\"}], \"contourcarpet\": [{\"colorbar\": {\"outlinewidth\": 0, \"ticks\": \"\"}, \"type\": \"contourcarpet\"}], \"heatmap\": [{\"colorbar\": {\"outlinewidth\": 0, \"ticks\": \"\"}, \"colorscale\": [[0.0, \"#0d0887\"], [0.1111111111111111, \"#46039f\"], [0.2222222222222222, \"#7201a8\"], [0.3333333333333333, \"#9c179e\"], [0.4444444444444444, \"#bd3786\"], [0.5555555555555556, \"#d8576b\"], [0.6666666666666666, \"#ed7953\"], [0.7777777777777778, \"#fb9f3a\"], [0.8888888888888888, \"#fdca26\"], [1.0, \"#f0f921\"]], \"type\": \"heatmap\"}], \"heatmapgl\": [{\"colorbar\": {\"outlinewidth\": 0, \"ticks\": \"\"}, \"colorscale\": [[0.0, \"#0d0887\"], [0.1111111111111111, \"#46039f\"], [0.2222222222222222, \"#7201a8\"], [0.3333333333333333, \"#9c179e\"], [0.4444444444444444, \"#bd3786\"], [0.5555555555555556, \"#d8576b\"], [0.6666666666666666, \"#ed7953\"], [0.7777777777777778, \"#fb9f3a\"], [0.8888888888888888, \"#fdca26\"], [1.0, \"#f0f921\"]], \"type\": \"heatmapgl\"}], \"histogram\": [{\"marker\": {\"colorbar\": {\"outlinewidth\": 0, \"ticks\": \"\"}}, \"type\": \"histogram\"}], \"histogram2d\": [{\"colorbar\": {\"outlinewidth\": 0, \"ticks\": \"\"}, \"colorscale\": [[0.0, \"#0d0887\"], [0.1111111111111111, \"#46039f\"], [0.2222222222222222, \"#7201a8\"], [0.3333333333333333, \"#9c179e\"], [0.4444444444444444, \"#bd3786\"], [0.5555555555555556, \"#d8576b\"], [0.6666666666666666, \"#ed7953\"], [0.7777777777777778, \"#fb9f3a\"], [0.8888888888888888, \"#fdca26\"], [1.0, \"#f0f921\"]], \"type\": \"histogram2d\"}], \"histogram2dcontour\": [{\"colorbar\": {\"outlinewidth\": 0, \"ticks\": \"\"}, \"colorscale\": [[0.0, \"#0d0887\"], [0.1111111111111111, \"#46039f\"], [0.2222222222222222, \"#7201a8\"], [0.3333333333333333, \"#9c179e\"], [0.4444444444444444, \"#bd3786\"], [0.5555555555555556, \"#d8576b\"], [0.6666666666666666, \"#ed7953\"], [0.7777777777777778, \"#fb9f3a\"], [0.8888888888888888, \"#fdca26\"], [1.0, \"#f0f921\"]], \"type\": \"histogram2dcontour\"}], \"mesh3d\": [{\"colorbar\": {\"outlinewidth\": 0, \"ticks\": \"\"}, \"type\": \"mesh3d\"}], \"parcoords\": [{\"line\": {\"colorbar\": {\"outlinewidth\": 0, \"ticks\": \"\"}}, \"type\": \"parcoords\"}], \"pie\": [{\"automargin\": true, \"type\": \"pie\"}], \"scatter\": [{\"marker\": {\"colorbar\": {\"outlinewidth\": 0, \"ticks\": \"\"}}, \"type\": \"scatter\"}], \"scatter3d\": [{\"line\": {\"colorbar\": {\"outlinewidth\": 0, \"ticks\": \"\"}}, \"marker\": {\"colorbar\": {\"outlinewidth\": 0, \"ticks\": \"\"}}, \"type\": \"scatter3d\"}], \"scattercarpet\": [{\"marker\": {\"colorbar\": {\"outlinewidth\": 0, \"ticks\": \"\"}}, \"type\": \"scattercarpet\"}], \"scattergeo\": [{\"marker\": {\"colorbar\": {\"outlinewidth\": 0, \"ticks\": \"\"}}, \"type\": \"scattergeo\"}], \"scattergl\": [{\"marker\": {\"colorbar\": {\"outlinewidth\": 0, \"ticks\": \"\"}}, \"type\": \"scattergl\"}], \"scattermapbox\": [{\"marker\": {\"colorbar\": {\"outlinewidth\": 0, \"ticks\": \"\"}}, \"type\": \"scattermapbox\"}], \"scatterpolar\": [{\"marker\": {\"colorbar\": {\"outlinewidth\": 0, \"ticks\": \"\"}}, \"type\": \"scatterpolar\"}], \"scatterpolargl\": [{\"marker\": {\"colorbar\": {\"outlinewidth\": 0, \"ticks\": \"\"}}, \"type\": \"scatterpolargl\"}], \"scatterternary\": [{\"marker\": {\"colorbar\": {\"outlinewidth\": 0, \"ticks\": \"\"}}, \"type\": \"scatterternary\"}], \"surface\": [{\"colorbar\": {\"outlinewidth\": 0, \"ticks\": \"\"}, \"colorscale\": [[0.0, \"#0d0887\"], [0.1111111111111111, \"#46039f\"], [0.2222222222222222, \"#7201a8\"], [0.3333333333333333, \"#9c179e\"], [0.4444444444444444, \"#bd3786\"], [0.5555555555555556, \"#d8576b\"], [0.6666666666666666, \"#ed7953\"], [0.7777777777777778, \"#fb9f3a\"], [0.8888888888888888, \"#fdca26\"], [1.0, \"#f0f921\"]], \"type\": \"surface\"}], \"table\": [{\"cells\": {\"fill\": {\"color\": \"#EBF0F8\"}, \"line\": {\"color\": \"white\"}}, \"header\": {\"fill\": {\"color\": \"#C8D4E3\"}, \"line\": {\"color\": \"white\"}}, \"type\": \"table\"}]}, \"layout\": {\"annotationdefaults\": {\"arrowcolor\": \"#2a3f5f\", \"arrowhead\": 0, \"arrowwidth\": 1}, \"coloraxis\": {\"colorbar\": {\"outlinewidth\": 0, \"ticks\": \"\"}}, \"colorscale\": {\"diverging\": [[0, \"#8e0152\"], [0.1, \"#c51b7d\"], [0.2, \"#de77ae\"], [0.3, \"#f1b6da\"], [0.4, \"#fde0ef\"], [0.5, \"#f7f7f7\"], [0.6, \"#e6f5d0\"], [0.7, \"#b8e186\"], [0.8, \"#7fbc41\"], [0.9, \"#4d9221\"], [1, \"#276419\"]], \"sequential\": [[0.0, \"#0d0887\"], [0.1111111111111111, \"#46039f\"], [0.2222222222222222, \"#7201a8\"], [0.3333333333333333, \"#9c179e\"], [0.4444444444444444, \"#bd3786\"], [0.5555555555555556, \"#d8576b\"], [0.6666666666666666, \"#ed7953\"], [0.7777777777777778, \"#fb9f3a\"], [0.8888888888888888, \"#fdca26\"], [1.0, \"#f0f921\"]], \"sequentialminus\": [[0.0, \"#0d0887\"], [0.1111111111111111, \"#46039f\"], [0.2222222222222222, \"#7201a8\"], [0.3333333333333333, \"#9c179e\"], [0.4444444444444444, \"#bd3786\"], [0.5555555555555556, \"#d8576b\"], [0.6666666666666666, \"#ed7953\"], [0.7777777777777778, \"#fb9f3a\"], [0.8888888888888888, \"#fdca26\"], [1.0, \"#f0f921\"]]}, \"colorway\": [\"#636efa\", \"#EF553B\", \"#00cc96\", \"#ab63fa\", \"#FFA15A\", \"#19d3f3\", \"#FF6692\", \"#B6E880\", \"#FF97FF\", \"#FECB52\"], \"font\": {\"color\": \"#2a3f5f\"}, \"geo\": {\"bgcolor\": \"white\", \"lakecolor\": \"white\", \"landcolor\": \"#E5ECF6\", \"showlakes\": true, \"showland\": true, \"subunitcolor\": \"white\"}, \"hoverlabel\": {\"align\": \"left\"}, \"hovermode\": \"closest\", \"mapbox\": {\"style\": \"light\"}, \"paper_bgcolor\": \"white\", \"plot_bgcolor\": \"#E5ECF6\", \"polar\": {\"angularaxis\": {\"gridcolor\": \"white\", \"linecolor\": \"white\", \"ticks\": \"\"}, \"bgcolor\": \"#E5ECF6\", \"radialaxis\": {\"gridcolor\": \"white\", \"linecolor\": \"white\", \"ticks\": \"\"}}, \"scene\": {\"xaxis\": {\"backgroundcolor\": \"#E5ECF6\", \"gridcolor\": \"white\", \"gridwidth\": 2, \"linecolor\": \"white\", \"showbackground\": true, \"ticks\": \"\", \"zerolinecolor\": \"white\"}, \"yaxis\": {\"backgroundcolor\": \"#E5ECF6\", \"gridcolor\": \"white\", \"gridwidth\": 2, \"linecolor\": \"white\", \"showbackground\": true, \"ticks\": \"\", \"zerolinecolor\": \"white\"}, \"zaxis\": {\"backgroundcolor\": \"#E5ECF6\", \"gridcolor\": \"white\", \"gridwidth\": 2, \"linecolor\": \"white\", \"showbackground\": true, \"ticks\": \"\", \"zerolinecolor\": \"white\"}}, \"shapedefaults\": {\"line\": {\"color\": \"#2a3f5f\"}}, \"ternary\": {\"aaxis\": {\"gridcolor\": \"white\", \"linecolor\": \"white\", \"ticks\": \"\"}, \"baxis\": {\"gridcolor\": \"white\", \"linecolor\": \"white\", \"ticks\": \"\"}, \"bgcolor\": \"#E5ECF6\", \"caxis\": {\"gridcolor\": \"white\", \"linecolor\": \"white\", \"ticks\": \"\"}}, \"title\": {\"x\": 0.05}, \"xaxis\": {\"automargin\": true, \"gridcolor\": \"white\", \"linecolor\": \"white\", \"ticks\": \"\", \"title\": {\"standoff\": 15}, \"zerolinecolor\": \"white\", \"zerolinewidth\": 2}, \"yaxis\": {\"automargin\": true, \"gridcolor\": \"white\", \"linecolor\": \"white\", \"ticks\": \"\", \"title\": {\"standoff\": 15}, \"zerolinecolor\": \"white\", \"zerolinewidth\": 2}}}, \"title\": {\"text\": \"Quantidade de vendas por m\\u00eas\"}, \"xaxis\": {\"anchor\": \"y\", \"domain\": [0.0, 1.0], \"title\": {\"text\": \"MES\"}}, \"yaxis\": {\"anchor\": \"x\", \"domain\": [0.0, 1.0], \"title\": {\"text\": \"QUANT_VENDAS\"}}},\n",
              "                        {\"responsive\": true}\n",
              "                    ).then(function(){\n",
              "                            \n",
              "var gd = document.getElementById('7338470f-b461-445b-9f9b-9466c3b5b95c');\n",
              "var x = new MutationObserver(function (mutations, observer) {{\n",
              "        var display = window.getComputedStyle(gd).display;\n",
              "        if (!display || display === 'none') {{\n",
              "            console.log([gd, 'removed!']);\n",
              "            Plotly.purge(gd);\n",
              "            observer.disconnect();\n",
              "        }}\n",
              "}});\n",
              "\n",
              "// Listen for the removal of the full notebook cells\n",
              "var notebookContainer = gd.closest('#notebook-container');\n",
              "if (notebookContainer) {{\n",
              "    x.observe(notebookContainer, {childList: true});\n",
              "}}\n",
              "\n",
              "// Listen for the clearing of the current output cell\n",
              "var outputEl = gd.closest('.output');\n",
              "if (outputEl) {{\n",
              "    x.observe(outputEl, {childList: true});\n",
              "}}\n",
              "\n",
              "                        })\n",
              "                };\n",
              "                \n",
              "            </script>\n",
              "        </div>\n",
              "</body>\n",
              "</html>"
            ]
          },
          "metadata": {
            "tags": []
          }
        }
      ]
    },
    {
      "cell_type": "code",
      "metadata": {
        "colab": {
          "base_uri": "https://localhost:8080/",
          "height": 542
        },
        "id": "xIdBOhDL49FK",
        "outputId": "83c954b0-b5b0-46da-b3e8-cddde38ce9ae"
      },
      "source": [
        "graf_lin_quant_bol = px.line(quant_compras_bol_mes, x='MES', y='QUANT_VENDAS', color='NOME_LOJA_CURTO', title='Quantidade de vendas por mês')\n",
        "graf_lin_quant_bol.show()"
      ],
      "execution_count": null,
      "outputs": [
        {
          "output_type": "display_data",
          "data": {
            "text/html": [
              "<html>\n",
              "<head><meta charset=\"utf-8\" /></head>\n",
              "<body>\n",
              "    <div>\n",
              "            <script src=\"https://cdnjs.cloudflare.com/ajax/libs/mathjax/2.7.5/MathJax.js?config=TeX-AMS-MML_SVG\"></script><script type=\"text/javascript\">if (window.MathJax) {MathJax.Hub.Config({SVG: {font: \"STIX-Web\"}});}</script>\n",
              "                <script type=\"text/javascript\">window.PlotlyConfig = {MathJaxConfig: 'local'};</script>\n",
              "        <script src=\"https://cdn.plot.ly/plotly-latest.min.js\"></script>    \n",
              "            <div id=\"466262e8-1572-41ac-92bd-f1e8d6948003\" class=\"plotly-graph-div\" style=\"height:525px; width:100%;\"></div>\n",
              "            <script type=\"text/javascript\">\n",
              "                \n",
              "                    window.PLOTLYENV=window.PLOTLYENV || {};\n",
              "                    \n",
              "                if (document.getElementById(\"466262e8-1572-41ac-92bd-f1e8d6948003\")) {\n",
              "                    Plotly.newPlot(\n",
              "                        '466262e8-1572-41ac-92bd-f1e8d6948003',\n",
              "                        [{\"hoverlabel\": {\"namelength\": 0}, \"hovertemplate\": \"NOME_LOJA_CURTO=FARMACIA ONLINE<br>MES=%{x}<br>QUANT_VENDAS=%{y}\", \"legendgroup\": \"NOME_LOJA_CURTO=FARMACIA ONLINE\", \"line\": {\"color\": \"#636efa\", \"dash\": \"solid\"}, \"mode\": \"lines\", \"name\": \"NOME_LOJA_CURTO=FARMACIA ONLINE\", \"showlegend\": true, \"type\": \"scatter\", \"x\": [\"01\", \"02\", \"03\", \"04\", \"05\", \"06\", \"07\", \"08\", \"09\", \"10\", \"11\", \"12\"], \"xaxis\": \"x\", \"y\": [5, 7, 10, 4, 6, 7, 48, 31, 36, 31, 25, 30], \"yaxis\": \"y\"}, {\"hoverlabel\": {\"namelength\": 0}, \"hovertemplate\": \"NOME_LOJA_CURTO=ONLINE<br>MES=%{x}<br>QUANT_VENDAS=%{y}\", \"legendgroup\": \"NOME_LOJA_CURTO=ONLINE\", \"line\": {\"color\": \"#EF553B\", \"dash\": \"solid\"}, \"mode\": \"lines\", \"name\": \"NOME_LOJA_CURTO=ONLINE\", \"showlegend\": true, \"type\": \"scatter\", \"x\": [\"01\", \"02\", \"03\", \"04\", \"05\", \"06\", \"07\", \"08\", \"09\", \"10\", \"11\", \"12\"], \"xaxis\": \"x\", \"y\": [1692, 1825, 2258, 4513, 5760, 3440, 3208, 2814, 2951, 2728, 3772, 2893], \"yaxis\": \"y\"}],\n",
              "                        {\"legend\": {\"tracegroupgap\": 0}, \"template\": {\"data\": {\"bar\": [{\"error_x\": {\"color\": \"#2a3f5f\"}, \"error_y\": {\"color\": \"#2a3f5f\"}, \"marker\": {\"line\": {\"color\": \"#E5ECF6\", \"width\": 0.5}}, \"type\": \"bar\"}], \"barpolar\": [{\"marker\": {\"line\": {\"color\": \"#E5ECF6\", \"width\": 0.5}}, \"type\": \"barpolar\"}], \"carpet\": [{\"aaxis\": {\"endlinecolor\": \"#2a3f5f\", \"gridcolor\": \"white\", \"linecolor\": \"white\", \"minorgridcolor\": \"white\", \"startlinecolor\": \"#2a3f5f\"}, \"baxis\": {\"endlinecolor\": \"#2a3f5f\", \"gridcolor\": \"white\", \"linecolor\": \"white\", \"minorgridcolor\": \"white\", \"startlinecolor\": \"#2a3f5f\"}, \"type\": \"carpet\"}], \"choropleth\": [{\"colorbar\": {\"outlinewidth\": 0, \"ticks\": \"\"}, \"type\": \"choropleth\"}], \"contour\": [{\"colorbar\": {\"outlinewidth\": 0, \"ticks\": \"\"}, \"colorscale\": [[0.0, \"#0d0887\"], [0.1111111111111111, \"#46039f\"], [0.2222222222222222, \"#7201a8\"], [0.3333333333333333, \"#9c179e\"], [0.4444444444444444, \"#bd3786\"], [0.5555555555555556, \"#d8576b\"], [0.6666666666666666, \"#ed7953\"], [0.7777777777777778, \"#fb9f3a\"], [0.8888888888888888, \"#fdca26\"], [1.0, \"#f0f921\"]], \"type\": \"contour\"}], \"contourcarpet\": [{\"colorbar\": {\"outlinewidth\": 0, \"ticks\": \"\"}, \"type\": \"contourcarpet\"}], \"heatmap\": [{\"colorbar\": {\"outlinewidth\": 0, \"ticks\": \"\"}, \"colorscale\": [[0.0, \"#0d0887\"], [0.1111111111111111, \"#46039f\"], [0.2222222222222222, \"#7201a8\"], [0.3333333333333333, \"#9c179e\"], [0.4444444444444444, \"#bd3786\"], [0.5555555555555556, \"#d8576b\"], [0.6666666666666666, \"#ed7953\"], [0.7777777777777778, \"#fb9f3a\"], [0.8888888888888888, \"#fdca26\"], [1.0, \"#f0f921\"]], \"type\": \"heatmap\"}], \"heatmapgl\": [{\"colorbar\": {\"outlinewidth\": 0, \"ticks\": \"\"}, \"colorscale\": [[0.0, \"#0d0887\"], [0.1111111111111111, \"#46039f\"], [0.2222222222222222, \"#7201a8\"], [0.3333333333333333, \"#9c179e\"], [0.4444444444444444, \"#bd3786\"], [0.5555555555555556, \"#d8576b\"], [0.6666666666666666, \"#ed7953\"], [0.7777777777777778, \"#fb9f3a\"], [0.8888888888888888, \"#fdca26\"], [1.0, \"#f0f921\"]], \"type\": \"heatmapgl\"}], \"histogram\": [{\"marker\": {\"colorbar\": {\"outlinewidth\": 0, \"ticks\": \"\"}}, \"type\": \"histogram\"}], \"histogram2d\": [{\"colorbar\": {\"outlinewidth\": 0, \"ticks\": \"\"}, \"colorscale\": [[0.0, \"#0d0887\"], [0.1111111111111111, \"#46039f\"], [0.2222222222222222, \"#7201a8\"], [0.3333333333333333, \"#9c179e\"], [0.4444444444444444, \"#bd3786\"], [0.5555555555555556, \"#d8576b\"], [0.6666666666666666, \"#ed7953\"], [0.7777777777777778, \"#fb9f3a\"], [0.8888888888888888, \"#fdca26\"], [1.0, \"#f0f921\"]], \"type\": \"histogram2d\"}], \"histogram2dcontour\": [{\"colorbar\": {\"outlinewidth\": 0, \"ticks\": \"\"}, \"colorscale\": [[0.0, \"#0d0887\"], [0.1111111111111111, \"#46039f\"], [0.2222222222222222, \"#7201a8\"], [0.3333333333333333, \"#9c179e\"], [0.4444444444444444, \"#bd3786\"], [0.5555555555555556, \"#d8576b\"], [0.6666666666666666, \"#ed7953\"], [0.7777777777777778, \"#fb9f3a\"], [0.8888888888888888, \"#fdca26\"], [1.0, \"#f0f921\"]], \"type\": \"histogram2dcontour\"}], \"mesh3d\": [{\"colorbar\": {\"outlinewidth\": 0, \"ticks\": \"\"}, \"type\": \"mesh3d\"}], \"parcoords\": [{\"line\": {\"colorbar\": {\"outlinewidth\": 0, \"ticks\": \"\"}}, \"type\": \"parcoords\"}], \"pie\": [{\"automargin\": true, \"type\": \"pie\"}], \"scatter\": [{\"marker\": {\"colorbar\": {\"outlinewidth\": 0, \"ticks\": \"\"}}, \"type\": \"scatter\"}], \"scatter3d\": [{\"line\": {\"colorbar\": {\"outlinewidth\": 0, \"ticks\": \"\"}}, \"marker\": {\"colorbar\": {\"outlinewidth\": 0, \"ticks\": \"\"}}, \"type\": \"scatter3d\"}], \"scattercarpet\": [{\"marker\": {\"colorbar\": {\"outlinewidth\": 0, \"ticks\": \"\"}}, \"type\": \"scattercarpet\"}], \"scattergeo\": [{\"marker\": {\"colorbar\": {\"outlinewidth\": 0, \"ticks\": \"\"}}, \"type\": \"scattergeo\"}], \"scattergl\": [{\"marker\": {\"colorbar\": {\"outlinewidth\": 0, \"ticks\": \"\"}}, \"type\": \"scattergl\"}], \"scattermapbox\": [{\"marker\": {\"colorbar\": {\"outlinewidth\": 0, \"ticks\": \"\"}}, \"type\": \"scattermapbox\"}], \"scatterpolar\": [{\"marker\": {\"colorbar\": {\"outlinewidth\": 0, \"ticks\": \"\"}}, \"type\": \"scatterpolar\"}], \"scatterpolargl\": [{\"marker\": {\"colorbar\": {\"outlinewidth\": 0, \"ticks\": \"\"}}, \"type\": \"scatterpolargl\"}], \"scatterternary\": [{\"marker\": {\"colorbar\": {\"outlinewidth\": 0, \"ticks\": \"\"}}, \"type\": \"scatterternary\"}], \"surface\": [{\"colorbar\": {\"outlinewidth\": 0, \"ticks\": \"\"}, \"colorscale\": [[0.0, \"#0d0887\"], [0.1111111111111111, \"#46039f\"], [0.2222222222222222, \"#7201a8\"], [0.3333333333333333, \"#9c179e\"], [0.4444444444444444, \"#bd3786\"], [0.5555555555555556, \"#d8576b\"], [0.6666666666666666, \"#ed7953\"], [0.7777777777777778, \"#fb9f3a\"], [0.8888888888888888, \"#fdca26\"], [1.0, \"#f0f921\"]], \"type\": \"surface\"}], \"table\": [{\"cells\": {\"fill\": {\"color\": \"#EBF0F8\"}, \"line\": {\"color\": \"white\"}}, \"header\": {\"fill\": {\"color\": \"#C8D4E3\"}, \"line\": {\"color\": \"white\"}}, \"type\": \"table\"}]}, \"layout\": {\"annotationdefaults\": {\"arrowcolor\": \"#2a3f5f\", \"arrowhead\": 0, \"arrowwidth\": 1}, \"coloraxis\": {\"colorbar\": {\"outlinewidth\": 0, \"ticks\": \"\"}}, \"colorscale\": {\"diverging\": [[0, \"#8e0152\"], [0.1, \"#c51b7d\"], [0.2, \"#de77ae\"], [0.3, \"#f1b6da\"], [0.4, \"#fde0ef\"], [0.5, \"#f7f7f7\"], [0.6, \"#e6f5d0\"], [0.7, \"#b8e186\"], [0.8, \"#7fbc41\"], [0.9, \"#4d9221\"], [1, \"#276419\"]], \"sequential\": [[0.0, \"#0d0887\"], [0.1111111111111111, \"#46039f\"], [0.2222222222222222, \"#7201a8\"], [0.3333333333333333, \"#9c179e\"], [0.4444444444444444, \"#bd3786\"], [0.5555555555555556, \"#d8576b\"], [0.6666666666666666, \"#ed7953\"], [0.7777777777777778, \"#fb9f3a\"], [0.8888888888888888, \"#fdca26\"], [1.0, \"#f0f921\"]], \"sequentialminus\": [[0.0, \"#0d0887\"], [0.1111111111111111, \"#46039f\"], [0.2222222222222222, \"#7201a8\"], [0.3333333333333333, \"#9c179e\"], [0.4444444444444444, \"#bd3786\"], [0.5555555555555556, \"#d8576b\"], [0.6666666666666666, \"#ed7953\"], [0.7777777777777778, \"#fb9f3a\"], [0.8888888888888888, \"#fdca26\"], [1.0, \"#f0f921\"]]}, \"colorway\": [\"#636efa\", \"#EF553B\", \"#00cc96\", \"#ab63fa\", \"#FFA15A\", \"#19d3f3\", \"#FF6692\", \"#B6E880\", \"#FF97FF\", \"#FECB52\"], \"font\": {\"color\": \"#2a3f5f\"}, \"geo\": {\"bgcolor\": \"white\", \"lakecolor\": \"white\", \"landcolor\": \"#E5ECF6\", \"showlakes\": true, \"showland\": true, \"subunitcolor\": \"white\"}, \"hoverlabel\": {\"align\": \"left\"}, \"hovermode\": \"closest\", \"mapbox\": {\"style\": \"light\"}, \"paper_bgcolor\": \"white\", \"plot_bgcolor\": \"#E5ECF6\", \"polar\": {\"angularaxis\": {\"gridcolor\": \"white\", \"linecolor\": \"white\", \"ticks\": \"\"}, \"bgcolor\": \"#E5ECF6\", \"radialaxis\": {\"gridcolor\": \"white\", \"linecolor\": \"white\", \"ticks\": \"\"}}, \"scene\": {\"xaxis\": {\"backgroundcolor\": \"#E5ECF6\", \"gridcolor\": \"white\", \"gridwidth\": 2, \"linecolor\": \"white\", \"showbackground\": true, \"ticks\": \"\", \"zerolinecolor\": \"white\"}, \"yaxis\": {\"backgroundcolor\": \"#E5ECF6\", \"gridcolor\": \"white\", \"gridwidth\": 2, \"linecolor\": \"white\", \"showbackground\": true, \"ticks\": \"\", \"zerolinecolor\": \"white\"}, \"zaxis\": {\"backgroundcolor\": \"#E5ECF6\", \"gridcolor\": \"white\", \"gridwidth\": 2, \"linecolor\": \"white\", \"showbackground\": true, \"ticks\": \"\", \"zerolinecolor\": \"white\"}}, \"shapedefaults\": {\"line\": {\"color\": \"#2a3f5f\"}}, \"ternary\": {\"aaxis\": {\"gridcolor\": \"white\", \"linecolor\": \"white\", \"ticks\": \"\"}, \"baxis\": {\"gridcolor\": \"white\", \"linecolor\": \"white\", \"ticks\": \"\"}, \"bgcolor\": \"#E5ECF6\", \"caxis\": {\"gridcolor\": \"white\", \"linecolor\": \"white\", \"ticks\": \"\"}}, \"title\": {\"x\": 0.05}, \"xaxis\": {\"automargin\": true, \"gridcolor\": \"white\", \"linecolor\": \"white\", \"ticks\": \"\", \"title\": {\"standoff\": 15}, \"zerolinecolor\": \"white\", \"zerolinewidth\": 2}, \"yaxis\": {\"automargin\": true, \"gridcolor\": \"white\", \"linecolor\": \"white\", \"ticks\": \"\", \"title\": {\"standoff\": 15}, \"zerolinecolor\": \"white\", \"zerolinewidth\": 2}}}, \"title\": {\"text\": \"Quantidade de vendas por m\\u00eas\"}, \"xaxis\": {\"anchor\": \"y\", \"domain\": [0.0, 1.0], \"title\": {\"text\": \"MES\"}}, \"yaxis\": {\"anchor\": \"x\", \"domain\": [0.0, 1.0], \"title\": {\"text\": \"QUANT_VENDAS\"}}},\n",
              "                        {\"responsive\": true}\n",
              "                    ).then(function(){\n",
              "                            \n",
              "var gd = document.getElementById('466262e8-1572-41ac-92bd-f1e8d6948003');\n",
              "var x = new MutationObserver(function (mutations, observer) {{\n",
              "        var display = window.getComputedStyle(gd).display;\n",
              "        if (!display || display === 'none') {{\n",
              "            console.log([gd, 'removed!']);\n",
              "            Plotly.purge(gd);\n",
              "            observer.disconnect();\n",
              "        }}\n",
              "}});\n",
              "\n",
              "// Listen for the removal of the full notebook cells\n",
              "var notebookContainer = gd.closest('#notebook-container');\n",
              "if (notebookContainer) {{\n",
              "    x.observe(notebookContainer, {childList: true});\n",
              "}}\n",
              "\n",
              "// Listen for the clearing of the current output cell\n",
              "var outputEl = gd.closest('.output');\n",
              "if (outputEl) {{\n",
              "    x.observe(outputEl, {childList: true});\n",
              "}}\n",
              "\n",
              "                        })\n",
              "                };\n",
              "                \n",
              "            </script>\n",
              "        </div>\n",
              "</body>\n",
              "</html>"
            ]
          },
          "metadata": {
            "tags": []
          }
        }
      ]
    },
    {
      "cell_type": "markdown",
      "metadata": {
        "id": "CLYMPmjn5U-r"
      },
      "source": [
        "## Trabalhando com mapas"
      ]
    },
    {
      "cell_type": "code",
      "metadata": {
        "id": "sC7Nb6zf5QWV"
      },
      "source": [
        "df_vendas_fisica_2020['latitude'] = df_vendas_fisica_2020['latitude'].str.replace(\"'\", \"\")\n",
        "df_vendas_fisica_2020['longitude'] = df_vendas_fisica_2020['longitude'].str.replace(\"'\", \"\")"
      ],
      "execution_count": null,
      "outputs": []
    },
    {
      "cell_type": "code",
      "metadata": {
        "id": "2z10LmGS56Dn"
      },
      "source": [
        "df_vendas_fisica_2020['latitude'] = df_vendas_fisica_2020['latitude'].astype(float)\n",
        "df_vendas_fisica_2020['longitude'] = df_vendas_fisica_2020['longitude'].astype(float)"
      ],
      "execution_count": null,
      "outputs": []
    },
    {
      "cell_type": "code",
      "metadata": {
        "id": "F2dIcEH16F8M"
      },
      "source": [
        "quant_comp_geo_fisica = pd.DataFrame(df_vendas_fisica_2020.groupby(['NOME_LOJA_CURTO', 'latitude', 'longitude']).agg({'DATA':'count'})).rename(columns={'DATA':'QUANT_VENDAS'}).reset_index()\n",
        "quant_comp_geo_fisica = quant_comp_geo_fisica.sort_values(['QUANT_VENDAS'], ascending = True)"
      ],
      "execution_count": null,
      "outputs": []
    },
    {
      "cell_type": "code",
      "metadata": {
        "colab": {
          "base_uri": "https://localhost:8080/",
          "height": 542
        },
        "id": "xCBDvN2q6Y6h",
        "outputId": "95a5ac6c-e3cf-4c6c-bde9-9ccb129f5933"
      },
      "source": [
        "map_bol_comp_fisica = px.scatter_mapbox(quant_comp_geo_fisica, lat='latitude', lon='longitude', size='QUANT_VENDAS', hover_name='NOME_LOJA_CURTO', zoom=10, mapbox_style=\"open-street-map\")\n",
        "map_bol_comp_fisica.show()"
      ],
      "execution_count": null,
      "outputs": [
        {
          "output_type": "display_data",
          "data": {
            "text/html": [
              "<html>\n",
              "<head><meta charset=\"utf-8\" /></head>\n",
              "<body>\n",
              "    <div>\n",
              "            <script src=\"https://cdnjs.cloudflare.com/ajax/libs/mathjax/2.7.5/MathJax.js?config=TeX-AMS-MML_SVG\"></script><script type=\"text/javascript\">if (window.MathJax) {MathJax.Hub.Config({SVG: {font: \"STIX-Web\"}});}</script>\n",
              "                <script type=\"text/javascript\">window.PlotlyConfig = {MathJaxConfig: 'local'};</script>\n",
              "        <script src=\"https://cdn.plot.ly/plotly-latest.min.js\"></script>    \n",
              "            <div id=\"981b13ad-d8b2-438f-b2fd-3ed2cb0d4a64\" class=\"plotly-graph-div\" style=\"height:525px; width:100%;\"></div>\n",
              "            <script type=\"text/javascript\">\n",
              "                \n",
              "                    window.PLOTLYENV=window.PLOTLYENV || {};\n",
              "                    \n",
              "                if (document.getElementById(\"981b13ad-d8b2-438f-b2fd-3ed2cb0d4a64\")) {\n",
              "                    Plotly.newPlot(\n",
              "                        '981b13ad-d8b2-438f-b2fd-3ed2cb0d4a64',\n",
              "                        [{\"hoverlabel\": {\"namelength\": 0}, \"hovertemplate\": \"<b>%{hovertext}</b><br><br>QUANT_VENDAS=%{marker.size}<br>latitude=%{lat}<br>longitude=%{lon}\", \"hovertext\": [\"MERCADO CAMAPUA\", \"FARMACIA JATUARANA\", \"FARMACIA CIDADE NOVA\", \"FARMACIA ARIQUEMES\", \"FARMACIA PORTO VELHO\", \"FARMACIA BOA VISTA\", \"FARMACIA JI-PARANA\", \"FARMACIA MILLENNIUM\", \"BARROSO\", \"FARMACIA STUDIO 5\", \"FARMACIA ITACOATIARA\", \"FARMACIA P.FIGUEIRED\", \"FARMACIA AVENIDA\", \"FARMACIA MANAUARA\", \"FARMACIA DJALMA\", \"FARMACIA PONTA NEGRA\", \"FARMACIA SHOP.P.NEGR\", \"FARMACIA MATRIZ\", \"FARMACIA G.CIRCULAR\", \"FARMACIA CAMAPUA\", \"MILLENNIUM\", \"JI-PARANA\", \"ARIQUEMES\", \"PRESIDENTE FIGUEIRED\", \"FARMACIA NOVA CIDADE\", \"JATUARANA\", \"FARMACIA TORQUATO\", \"FARMACIA SHOPPING\", \"PORTO VELHO SHOPPING\", \"RIO BRANCO\", \"MANACAPURU\", \"STUDIO5\", \"PONTA NEGRA SHOPPING\", \"ITACOATIARA\", \"BOA VISTA\", \"EDUCANDOS\", \"PORTO VELHO\", \"MATRIZ\", \"NOVA CIDADE\", \"TORQUATO\", \"PONTA NEGRA\", \"GRANDE CIRCULAR\", \"MANAUARA\", \"AVENIDA\", \"SHOPPING\", \"CAMAPUA\", \"CIDADE NOVA\"], \"lat\": [-3.0322338, -8.7914432, -3.0357045, -9.9224599, -8.7659463, 2.8461023, -10.888064, -3.0980445, -3.1330286, -3.1244871, -3.14291, -2.0513627, -3.1348972, -3.1039422, -3.1080463, -3.0887474, -3.0847158, -3.1392995, -3.0760578, -3.0319292, -3.0980445, -10.888064, -9.9225084, -2.0505664, -3.0107021, -8.7914432, -3.0015138, -3.0980445, -8.742308, -9.9865364, -3.3037701, -3.1244871, -3.0847158, -3.14291, 2.8461023, -3.1396747, -8.7659463, -3.1392995, -3.0107021, -3.0015138, -3.0887474, -3.0760578, -3.1039422, -3.1348972, -3.0980445, -3.0319292, -3.0357045], \"legendgroup\": \"\", \"lon\": [-59.9513912, -63.8846404, -59.9981643, -63.0362588, -63.8984238, -60.7073269, -61.9278292, -60.0241655, -60.0246383, -59.9854295, -58.44624, -60.0266899, -60.0241542, -60.0135939, -60.0257161, -60.0609608, -60.0745733, -60.0262157, -59.9559527, -59.9642928, -60.0241655, -61.9278292, -63.0366771, -60.0269727, -59.9702454, -63.8846404, -60.0318389, -60.0241655, -63.8785421, -67.8505113, -60.6184481, -59.9854295, -60.0745733, -58.44624, -60.7073269, -60.0082218, -63.8984238, -60.0262157, -59.9702454, -60.0318389, -60.0609608, -59.9559527, -60.0135939, -60.0241542, -60.0241655, -59.9642928, -59.9981643], \"marker\": {\"color\": \"#636efa\", \"size\": [126, 152, 200, 326, 348, 391, 397, 405, 493, 536, 800, 821, 934, 935, 954, 985, 1065, 1088, 1144, 1234, 1436, 1495, 1498, 1501, 1511, 1622, 1689, 1707, 2371, 2384, 2681, 2711, 2719, 2803, 2958, 2988, 3683, 3900, 4464, 4495, 5222, 5417, 5693, 5749, 6272, 6776, 6921], \"sizemode\": \"area\", \"sizeref\": 17.3025}, \"mode\": \"markers\", \"name\": \"\", \"showlegend\": false, \"subplot\": \"mapbox\", \"type\": \"scattermapbox\"}],\n",
              "                        {\"legend\": {\"itemsizing\": \"constant\", \"tracegroupgap\": 0}, \"mapbox\": {\"center\": {\"lat\": -4.16879125319149, \"lon\": -60.777031765957425}, \"domain\": {\"x\": [0.0, 1.0], \"y\": [0.0, 1.0]}, \"style\": \"open-street-map\", \"zoom\": 10}, \"margin\": {\"t\": 60}, \"template\": {\"data\": {\"bar\": [{\"error_x\": {\"color\": \"#2a3f5f\"}, \"error_y\": {\"color\": \"#2a3f5f\"}, \"marker\": {\"line\": {\"color\": \"#E5ECF6\", \"width\": 0.5}}, \"type\": \"bar\"}], \"barpolar\": [{\"marker\": {\"line\": {\"color\": \"#E5ECF6\", \"width\": 0.5}}, \"type\": \"barpolar\"}], \"carpet\": [{\"aaxis\": {\"endlinecolor\": \"#2a3f5f\", \"gridcolor\": \"white\", \"linecolor\": \"white\", \"minorgridcolor\": \"white\", \"startlinecolor\": \"#2a3f5f\"}, \"baxis\": {\"endlinecolor\": \"#2a3f5f\", \"gridcolor\": \"white\", \"linecolor\": \"white\", \"minorgridcolor\": \"white\", \"startlinecolor\": \"#2a3f5f\"}, \"type\": \"carpet\"}], \"choropleth\": [{\"colorbar\": {\"outlinewidth\": 0, \"ticks\": \"\"}, \"type\": \"choropleth\"}], \"contour\": [{\"colorbar\": {\"outlinewidth\": 0, \"ticks\": \"\"}, \"colorscale\": [[0.0, \"#0d0887\"], [0.1111111111111111, \"#46039f\"], [0.2222222222222222, \"#7201a8\"], [0.3333333333333333, \"#9c179e\"], [0.4444444444444444, \"#bd3786\"], [0.5555555555555556, \"#d8576b\"], [0.6666666666666666, \"#ed7953\"], [0.7777777777777778, \"#fb9f3a\"], [0.8888888888888888, \"#fdca26\"], [1.0, \"#f0f921\"]], \"type\": \"contour\"}], \"contourcarpet\": [{\"colorbar\": {\"outlinewidth\": 0, \"ticks\": \"\"}, \"type\": \"contourcarpet\"}], \"heatmap\": [{\"colorbar\": {\"outlinewidth\": 0, \"ticks\": \"\"}, \"colorscale\": [[0.0, \"#0d0887\"], [0.1111111111111111, \"#46039f\"], [0.2222222222222222, \"#7201a8\"], [0.3333333333333333, \"#9c179e\"], [0.4444444444444444, \"#bd3786\"], [0.5555555555555556, \"#d8576b\"], [0.6666666666666666, \"#ed7953\"], [0.7777777777777778, \"#fb9f3a\"], [0.8888888888888888, \"#fdca26\"], [1.0, \"#f0f921\"]], \"type\": \"heatmap\"}], \"heatmapgl\": [{\"colorbar\": {\"outlinewidth\": 0, \"ticks\": \"\"}, \"colorscale\": [[0.0, \"#0d0887\"], [0.1111111111111111, \"#46039f\"], [0.2222222222222222, \"#7201a8\"], [0.3333333333333333, \"#9c179e\"], [0.4444444444444444, \"#bd3786\"], [0.5555555555555556, \"#d8576b\"], [0.6666666666666666, \"#ed7953\"], [0.7777777777777778, \"#fb9f3a\"], [0.8888888888888888, \"#fdca26\"], [1.0, \"#f0f921\"]], \"type\": \"heatmapgl\"}], \"histogram\": [{\"marker\": {\"colorbar\": {\"outlinewidth\": 0, \"ticks\": \"\"}}, \"type\": \"histogram\"}], \"histogram2d\": [{\"colorbar\": {\"outlinewidth\": 0, \"ticks\": \"\"}, \"colorscale\": [[0.0, \"#0d0887\"], [0.1111111111111111, \"#46039f\"], [0.2222222222222222, \"#7201a8\"], [0.3333333333333333, \"#9c179e\"], [0.4444444444444444, \"#bd3786\"], [0.5555555555555556, \"#d8576b\"], [0.6666666666666666, \"#ed7953\"], [0.7777777777777778, \"#fb9f3a\"], [0.8888888888888888, \"#fdca26\"], [1.0, \"#f0f921\"]], \"type\": \"histogram2d\"}], \"histogram2dcontour\": [{\"colorbar\": {\"outlinewidth\": 0, \"ticks\": \"\"}, \"colorscale\": [[0.0, \"#0d0887\"], [0.1111111111111111, \"#46039f\"], [0.2222222222222222, \"#7201a8\"], [0.3333333333333333, \"#9c179e\"], [0.4444444444444444, \"#bd3786\"], [0.5555555555555556, \"#d8576b\"], [0.6666666666666666, \"#ed7953\"], [0.7777777777777778, \"#fb9f3a\"], [0.8888888888888888, \"#fdca26\"], [1.0, \"#f0f921\"]], \"type\": \"histogram2dcontour\"}], \"mesh3d\": [{\"colorbar\": {\"outlinewidth\": 0, \"ticks\": \"\"}, \"type\": \"mesh3d\"}], \"parcoords\": [{\"line\": {\"colorbar\": {\"outlinewidth\": 0, \"ticks\": \"\"}}, \"type\": \"parcoords\"}], \"pie\": [{\"automargin\": true, \"type\": \"pie\"}], \"scatter\": [{\"marker\": {\"colorbar\": {\"outlinewidth\": 0, \"ticks\": \"\"}}, \"type\": \"scatter\"}], \"scatter3d\": [{\"line\": {\"colorbar\": {\"outlinewidth\": 0, \"ticks\": \"\"}}, \"marker\": {\"colorbar\": {\"outlinewidth\": 0, \"ticks\": \"\"}}, \"type\": \"scatter3d\"}], \"scattercarpet\": [{\"marker\": {\"colorbar\": {\"outlinewidth\": 0, \"ticks\": \"\"}}, \"type\": \"scattercarpet\"}], \"scattergeo\": [{\"marker\": {\"colorbar\": {\"outlinewidth\": 0, \"ticks\": \"\"}}, \"type\": \"scattergeo\"}], \"scattergl\": [{\"marker\": {\"colorbar\": {\"outlinewidth\": 0, \"ticks\": \"\"}}, \"type\": \"scattergl\"}], \"scattermapbox\": [{\"marker\": {\"colorbar\": {\"outlinewidth\": 0, \"ticks\": \"\"}}, \"type\": \"scattermapbox\"}], \"scatterpolar\": [{\"marker\": {\"colorbar\": {\"outlinewidth\": 0, \"ticks\": \"\"}}, \"type\": \"scatterpolar\"}], \"scatterpolargl\": [{\"marker\": {\"colorbar\": {\"outlinewidth\": 0, \"ticks\": \"\"}}, \"type\": \"scatterpolargl\"}], \"scatterternary\": [{\"marker\": {\"colorbar\": {\"outlinewidth\": 0, \"ticks\": \"\"}}, \"type\": \"scatterternary\"}], \"surface\": [{\"colorbar\": {\"outlinewidth\": 0, \"ticks\": \"\"}, \"colorscale\": [[0.0, \"#0d0887\"], [0.1111111111111111, \"#46039f\"], [0.2222222222222222, \"#7201a8\"], [0.3333333333333333, \"#9c179e\"], [0.4444444444444444, \"#bd3786\"], [0.5555555555555556, \"#d8576b\"], [0.6666666666666666, \"#ed7953\"], [0.7777777777777778, \"#fb9f3a\"], [0.8888888888888888, \"#fdca26\"], [1.0, \"#f0f921\"]], \"type\": \"surface\"}], \"table\": [{\"cells\": {\"fill\": {\"color\": \"#EBF0F8\"}, \"line\": {\"color\": \"white\"}}, \"header\": {\"fill\": {\"color\": \"#C8D4E3\"}, \"line\": {\"color\": \"white\"}}, \"type\": \"table\"}]}, \"layout\": {\"annotationdefaults\": {\"arrowcolor\": \"#2a3f5f\", \"arrowhead\": 0, \"arrowwidth\": 1}, \"coloraxis\": {\"colorbar\": {\"outlinewidth\": 0, \"ticks\": \"\"}}, \"colorscale\": {\"diverging\": [[0, \"#8e0152\"], [0.1, \"#c51b7d\"], [0.2, \"#de77ae\"], [0.3, \"#f1b6da\"], [0.4, \"#fde0ef\"], [0.5, \"#f7f7f7\"], [0.6, \"#e6f5d0\"], [0.7, \"#b8e186\"], [0.8, \"#7fbc41\"], [0.9, \"#4d9221\"], [1, \"#276419\"]], \"sequential\": [[0.0, \"#0d0887\"], [0.1111111111111111, \"#46039f\"], [0.2222222222222222, \"#7201a8\"], [0.3333333333333333, \"#9c179e\"], [0.4444444444444444, \"#bd3786\"], [0.5555555555555556, \"#d8576b\"], [0.6666666666666666, \"#ed7953\"], [0.7777777777777778, \"#fb9f3a\"], [0.8888888888888888, \"#fdca26\"], [1.0, \"#f0f921\"]], \"sequentialminus\": [[0.0, \"#0d0887\"], [0.1111111111111111, \"#46039f\"], [0.2222222222222222, \"#7201a8\"], [0.3333333333333333, \"#9c179e\"], [0.4444444444444444, \"#bd3786\"], [0.5555555555555556, \"#d8576b\"], [0.6666666666666666, \"#ed7953\"], [0.7777777777777778, \"#fb9f3a\"], [0.8888888888888888, \"#fdca26\"], [1.0, \"#f0f921\"]]}, \"colorway\": [\"#636efa\", \"#EF553B\", \"#00cc96\", \"#ab63fa\", \"#FFA15A\", \"#19d3f3\", \"#FF6692\", \"#B6E880\", \"#FF97FF\", \"#FECB52\"], \"font\": {\"color\": \"#2a3f5f\"}, \"geo\": {\"bgcolor\": \"white\", \"lakecolor\": \"white\", \"landcolor\": \"#E5ECF6\", \"showlakes\": true, \"showland\": true, \"subunitcolor\": \"white\"}, \"hoverlabel\": {\"align\": \"left\"}, \"hovermode\": \"closest\", \"mapbox\": {\"style\": \"light\"}, \"paper_bgcolor\": \"white\", \"plot_bgcolor\": \"#E5ECF6\", \"polar\": {\"angularaxis\": {\"gridcolor\": \"white\", \"linecolor\": \"white\", \"ticks\": \"\"}, \"bgcolor\": \"#E5ECF6\", \"radialaxis\": {\"gridcolor\": \"white\", \"linecolor\": \"white\", \"ticks\": \"\"}}, \"scene\": {\"xaxis\": {\"backgroundcolor\": \"#E5ECF6\", \"gridcolor\": \"white\", \"gridwidth\": 2, \"linecolor\": \"white\", \"showbackground\": true, \"ticks\": \"\", \"zerolinecolor\": \"white\"}, \"yaxis\": {\"backgroundcolor\": \"#E5ECF6\", \"gridcolor\": \"white\", \"gridwidth\": 2, \"linecolor\": \"white\", \"showbackground\": true, \"ticks\": \"\", \"zerolinecolor\": \"white\"}, \"zaxis\": {\"backgroundcolor\": \"#E5ECF6\", \"gridcolor\": \"white\", \"gridwidth\": 2, \"linecolor\": \"white\", \"showbackground\": true, \"ticks\": \"\", \"zerolinecolor\": \"white\"}}, \"shapedefaults\": {\"line\": {\"color\": \"#2a3f5f\"}}, \"ternary\": {\"aaxis\": {\"gridcolor\": \"white\", \"linecolor\": \"white\", \"ticks\": \"\"}, \"baxis\": {\"gridcolor\": \"white\", \"linecolor\": \"white\", \"ticks\": \"\"}, \"bgcolor\": \"#E5ECF6\", \"caxis\": {\"gridcolor\": \"white\", \"linecolor\": \"white\", \"ticks\": \"\"}}, \"title\": {\"x\": 0.05}, \"xaxis\": {\"automargin\": true, \"gridcolor\": \"white\", \"linecolor\": \"white\", \"ticks\": \"\", \"title\": {\"standoff\": 15}, \"zerolinecolor\": \"white\", \"zerolinewidth\": 2}, \"yaxis\": {\"automargin\": true, \"gridcolor\": \"white\", \"linecolor\": \"white\", \"ticks\": \"\", \"title\": {\"standoff\": 15}, \"zerolinecolor\": \"white\", \"zerolinewidth\": 2}}}},\n",
              "                        {\"responsive\": true}\n",
              "                    ).then(function(){\n",
              "                            \n",
              "var gd = document.getElementById('981b13ad-d8b2-438f-b2fd-3ed2cb0d4a64');\n",
              "var x = new MutationObserver(function (mutations, observer) {{\n",
              "        var display = window.getComputedStyle(gd).display;\n",
              "        if (!display || display === 'none') {{\n",
              "            console.log([gd, 'removed!']);\n",
              "            Plotly.purge(gd);\n",
              "            observer.disconnect();\n",
              "        }}\n",
              "}});\n",
              "\n",
              "// Listen for the removal of the full notebook cells\n",
              "var notebookContainer = gd.closest('#notebook-container');\n",
              "if (notebookContainer) {{\n",
              "    x.observe(notebookContainer, {childList: true});\n",
              "}}\n",
              "\n",
              "// Listen for the clearing of the current output cell\n",
              "var outputEl = gd.closest('.output');\n",
              "if (outputEl) {{\n",
              "    x.observe(outputEl, {childList: true});\n",
              "}}\n",
              "\n",
              "                        })\n",
              "                };\n",
              "                \n",
              "            </script>\n",
              "        </div>\n",
              "</body>\n",
              "</html>"
            ]
          },
          "metadata": {
            "tags": []
          }
        }
      ]
    }
  ]
}