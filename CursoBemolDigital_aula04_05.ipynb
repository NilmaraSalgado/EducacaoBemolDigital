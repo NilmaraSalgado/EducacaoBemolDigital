{
  "nbformat": 4,
  "nbformat_minor": 0,
  "metadata": {
    "colab": {
      "name": "CursoBemolDigital_aula04_05.ipynb",
      "provenance": [],
      "authorship_tag": "ABX9TyMbqDjyTRUPD7Jg8vZxsPOV",
      "include_colab_link": true
    },
    "kernelspec": {
      "name": "python3",
      "display_name": "Python 3"
    },
    "language_info": {
      "name": "python"
    }
  },
  "cells": [
    {
      "cell_type": "markdown",
      "metadata": {
        "id": "view-in-github",
        "colab_type": "text"
      },
      "source": [
        "<a href=\"https://colab.research.google.com/github/NilmaraSalgado/EducacaoBemolDigital/blob/main/CursoBemolDigital_aula04_05.ipynb\" target=\"_parent\"><img src=\"https://colab.research.google.com/assets/colab-badge.svg\" alt=\"Open In Colab\"/></a>"
      ]
    },
    {
      "cell_type": "markdown",
      "metadata": {
        "id": "KZ6VTv0mima_"
      },
      "source": [
        "# **Introdução**"
      ]
    },
    {
      "cell_type": "markdown",
      "metadata": {
        "id": "TBD5DBsQZ-1A"
      },
      "source": [
        "Nossas atividades serguirão os quatros tópicos abaixo:\n",
        "1. Leitura\n",
        "2. Tratamento\n",
        "3. Manipulação\n",
        "4. Exportação de Relatório\n",
        "\n",
        "Vamos trabalhar com:\n",
        "* Base de dados de vendas on-line (endereço de entrega)\n",
        "* Base de vendas\n",
        "* Base de pedidos (status)\n",
        "* Planilha de descrição de significados de cada grupo\n"
      ]
    },
    {
      "cell_type": "markdown",
      "metadata": {
        "id": "wKc8RMsdj8wD"
      },
      "source": [
        "## Para iniciarmos o trabalho com a manipulação de dados vamos importar a biblioteca Pandas (funções para manipulação e análise de dados).\n"
      ]
    },
    {
      "cell_type": "code",
      "metadata": {
        "id": "XDn6uo-fiSXk"
      },
      "source": [
        "import pandas as pd"
      ],
      "execution_count": null,
      "outputs": []
    },
    {
      "cell_type": "markdown",
      "metadata": {
        "id": "bsMzs9PaimZW"
      },
      "source": [
        "# **1 Leitura de Arquivos**"
      ]
    },
    {
      "cell_type": "markdown",
      "metadata": {
        "id": "6LJvfzm_k4we"
      },
      "source": [
        "### 1.1 Arquivos TXT (CSV)"
      ]
    },
    {
      "cell_type": "markdown",
      "metadata": {
        "id": "1BQogBHhlATs"
      },
      "source": [
        "**Sintaxe:**\n",
        "pd.read_csv(string, sep=string, skiprows=int, encoding=string, dtype=dict\n",
        "\n",
        "**Parâmetros:**\n",
        "1. nome do arquivo\n",
        "2. sep = separador, caractere que separa os dados. Por exemplo, a vírgula.\n",
        "3. skiprows = quantidade de linhas a serem puladas, pois, normalmente, temos linhas com outras informações no início da página.\n",
        "4. encoding = codificação do arquivo (UTF-8 ou latin-1). Já identifica qual é o formato.\n",
        "5. dtype = O python identifica o tipo de variável, então podemos predizer o tipo de cada coluna. Isso contribui para economia de memória."
      ]
    },
    {
      "cell_type": "code",
      "metadata": {
        "id": "Prt7FJSbp9Sw"
      },
      "source": [
        "#guardando na variável df_endereco\n",
        "df_endereco = pd.read_csv('endereco.txt',sep ='|', skiprows = 3, encoding='latin-1', dtype={1:'str'})"
      ],
      "execution_count": 35,
      "outputs": []
    },
    {
      "cell_type": "code",
      "metadata": {
        "id": "XVkNutAEw0AS"
      },
      "source": [
        "df_pedidos = pd.read_csv('pedidos.txt', sep = '|', skiprows = 3, encoding='latin-1', dtype={1:'str'})"
      ],
      "execution_count": 36,
      "outputs": []
    },
    {
      "cell_type": "code",
      "metadata": {
        "id": "5c9JLkW1xQUi"
      },
      "source": [
        "df_vendas = pd.read_csv('vendas.txt', sep='|', skiprows=3, encoding= 'latin-1', dtype={1:'str'})"
      ],
      "execution_count": 37,
      "outputs": []
    },
    {
      "cell_type": "markdown",
      "metadata": {
        "id": "Oa8jE6syxN_K"
      },
      "source": [
        "## 1.2 Arquivos XLS\n"
      ]
    },
    {
      "cell_type": "markdown",
      "metadata": {
        "id": "K2-dZvUcp69B"
      },
      "source": [
        "**Sintaxe:** pd.read_excel(string, skiprows = int, dtype = dict, sheet_name=int ou string)\n",
        "\n",
        "**Parâmetros:**\n",
        "1. nome do arquivo\n",
        "2. skiprows = quantidade de linhas a serem puladas\n",
        "3. dtype = pré dizer o tipo de cada coluna\n",
        "4. sheet_name = index ou o nome da aba"
      ]
    },
    {
      "cell_type": "code",
      "metadata": {
        "id": "bl0ZhRzu3ThY"
      },
      "source": [
        "df_grupos_merc = pd.read_excel('grupos_merc.xlsx', skiprows=0, dtype={0:'str'}, sheet_name=0)"
      ],
      "execution_count": null,
      "outputs": []
    },
    {
      "cell_type": "markdown",
      "metadata": {
        "id": "K63kmFb-4PyS"
      },
      "source": [
        "# **2 Visualização de DataFrames**"
      ]
    },
    {
      "cell_type": "markdown",
      "metadata": {
        "id": "arAeSuke4aLz"
      },
      "source": [
        "## 2.1 Head"
      ]
    },
    {
      "cell_type": "markdown",
      "metadata": {
        "id": "BaHX4WnX4fLP"
      },
      "source": [
        "**Sintaxe:**\n",
        "df.head(n)\n",
        "\n",
        "**Parâmetros:**\n",
        "n um número inteiro\n",
        " * n>0 = retorna as n primeiras linhas do df\n",
        " * n<0 = todas as linhas exceto as n últimas\n"
      ]
    },
    {
      "cell_type": "code",
      "metadata": {
        "colab": {
          "base_uri": "https://localhost:8080/",
          "height": 204
        },
        "id": "Nc9-VzKX5HgU",
        "outputId": "10427aab-6c54-4d22-c0fb-f611d0eac75c"
      },
      "source": [
        "df_grupos_merc.head()"
      ],
      "execution_count": null,
      "outputs": [
        {
          "output_type": "execute_result",
          "data": {
            "text/html": [
              "<div>\n",
              "<style scoped>\n",
              "    .dataframe tbody tr th:only-of-type {\n",
              "        vertical-align: middle;\n",
              "    }\n",
              "\n",
              "    .dataframe tbody tr th {\n",
              "        vertical-align: top;\n",
              "    }\n",
              "\n",
              "    .dataframe thead th {\n",
              "        text-align: right;\n",
              "    }\n",
              "</style>\n",
              "<table border=\"1\" class=\"dataframe\">\n",
              "  <thead>\n",
              "    <tr style=\"text-align: right;\">\n",
              "      <th></th>\n",
              "      <th>GRUPOS</th>\n",
              "      <th>DESCRIÇÃO</th>\n",
              "    </tr>\n",
              "  </thead>\n",
              "  <tbody>\n",
              "    <tr>\n",
              "      <th>0</th>\n",
              "      <td>133</td>\n",
              "      <td>PET SHOP</td>\n",
              "    </tr>\n",
              "    <tr>\n",
              "      <th>1</th>\n",
              "      <td>133001</td>\n",
              "      <td>UTILIDADES CÃES E GATOS</td>\n",
              "    </tr>\n",
              "    <tr>\n",
              "      <th>2</th>\n",
              "      <td>133001001</td>\n",
              "      <td>ACESSÓRIOS PARA PET</td>\n",
              "    </tr>\n",
              "    <tr>\n",
              "      <th>3</th>\n",
              "      <td>133001002</td>\n",
              "      <td>HIGIENE E BELEZA PARA PET</td>\n",
              "    </tr>\n",
              "    <tr>\n",
              "      <th>4</th>\n",
              "      <td>133001003</td>\n",
              "      <td>TRANSPORTE PARA PET</td>\n",
              "    </tr>\n",
              "  </tbody>\n",
              "</table>\n",
              "</div>"
            ],
            "text/plain": [
              "      GRUPOS                  DESCRIÇÃO\n",
              "0        133                   PET SHOP\n",
              "1     133001    UTILIDADES CÃES E GATOS\n",
              "2  133001001        ACESSÓRIOS PARA PET\n",
              "3  133001002  HIGIENE E BELEZA PARA PET\n",
              "4  133001003        TRANSPORTE PARA PET"
            ]
          },
          "metadata": {
            "tags": []
          },
          "execution_count": 21
        }
      ]
    },
    {
      "cell_type": "markdown",
      "metadata": {
        "id": "ouLEgqbj5xjk"
      },
      "source": [
        "## 2.2 Tail"
      ]
    },
    {
      "cell_type": "markdown",
      "metadata": {
        "id": "XUlfao4y50-9"
      },
      "source": [
        "Sintaxe: df.tail(n)\n",
        "\n",
        "Parâmetros: n um número inteiro\n",
        "\n",
        "* n>0 = retorna as n últimas linhas\n",
        "* n<0 - retorna as últimas linhas exceto as n primeiras"
      ]
    },
    {
      "cell_type": "code",
      "metadata": {
        "colab": {
          "base_uri": "https://localhost:8080/",
          "height": 204
        },
        "id": "iJxzLO0F6IUp",
        "outputId": "18eaea5f-f555-4ca7-9aaf-bcefad61a1b8"
      },
      "source": [
        "df_grupos_merc.tail()"
      ],
      "execution_count": null,
      "outputs": [
        {
          "output_type": "execute_result",
          "data": {
            "text/html": [
              "<div>\n",
              "<style scoped>\n",
              "    .dataframe tbody tr th:only-of-type {\n",
              "        vertical-align: middle;\n",
              "    }\n",
              "\n",
              "    .dataframe tbody tr th {\n",
              "        vertical-align: top;\n",
              "    }\n",
              "\n",
              "    .dataframe thead th {\n",
              "        text-align: right;\n",
              "    }\n",
              "</style>\n",
              "<table border=\"1\" class=\"dataframe\">\n",
              "  <thead>\n",
              "    <tr style=\"text-align: right;\">\n",
              "      <th></th>\n",
              "      <th>GRUPOS</th>\n",
              "      <th>DESCRIÇÃO</th>\n",
              "    </tr>\n",
              "  </thead>\n",
              "  <tbody>\n",
              "    <tr>\n",
              "      <th>36</th>\n",
              "      <td>134005002</td>\n",
              "      <td>HIGIENE BUCAL</td>\n",
              "    </tr>\n",
              "    <tr>\n",
              "      <th>37</th>\n",
              "      <td>134005003</td>\n",
              "      <td>GERIÁTRICO</td>\n",
              "    </tr>\n",
              "    <tr>\n",
              "      <th>38</th>\n",
              "      <td>134005004</td>\n",
              "      <td>HIGIENE INFANTIL</td>\n",
              "    </tr>\n",
              "    <tr>\n",
              "      <th>39</th>\n",
              "      <td>134005005</td>\n",
              "      <td>HIGIENE FEMININA</td>\n",
              "    </tr>\n",
              "    <tr>\n",
              "      <th>40</th>\n",
              "      <td>134005006</td>\n",
              "      <td>HIGIENE MASCULINA</td>\n",
              "    </tr>\n",
              "  </tbody>\n",
              "</table>\n",
              "</div>"
            ],
            "text/plain": [
              "       GRUPOS          DESCRIÇÃO\n",
              "36  134005002      HIGIENE BUCAL\n",
              "37  134005003         GERIÁTRICO\n",
              "38  134005004   HIGIENE INFANTIL\n",
              "39  134005005   HIGIENE FEMININA\n",
              "40  134005006  HIGIENE MASCULINA"
            ]
          },
          "metadata": {
            "tags": []
          },
          "execution_count": 22
        }
      ]
    },
    {
      "cell_type": "markdown",
      "metadata": {
        "id": "NJv8IFJl8tHQ"
      },
      "source": [
        "## 2.3 LOC"
      ]
    },
    {
      "cell_type": "markdown",
      "metadata": {
        "id": "fX-Gvmmf8wZv"
      },
      "source": [
        "**Sintaxe:** df.loc[primeira linha: ultima linha, primeira : ultima coluna]"
      ]
    },
    {
      "cell_type": "code",
      "metadata": {
        "colab": {
          "base_uri": "https://localhost:8080/",
          "height": 235
        },
        "id": "AiTeneom89Qw",
        "outputId": "d1387b8f-8e6f-4cbb-efa8-bc0fc357c8a5"
      },
      "source": [
        "df_grupos_merc.loc[5:10,'GRUPOS':'DESCRIÇÃO']"
      ],
      "execution_count": null,
      "outputs": [
        {
          "output_type": "execute_result",
          "data": {
            "text/html": [
              "<div>\n",
              "<style scoped>\n",
              "    .dataframe tbody tr th:only-of-type {\n",
              "        vertical-align: middle;\n",
              "    }\n",
              "\n",
              "    .dataframe tbody tr th {\n",
              "        vertical-align: top;\n",
              "    }\n",
              "\n",
              "    .dataframe thead th {\n",
              "        text-align: right;\n",
              "    }\n",
              "</style>\n",
              "<table border=\"1\" class=\"dataframe\">\n",
              "  <thead>\n",
              "    <tr style=\"text-align: right;\">\n",
              "      <th></th>\n",
              "      <th>GRUPOS</th>\n",
              "      <th>DESCRIÇÃO</th>\n",
              "    </tr>\n",
              "  </thead>\n",
              "  <tbody>\n",
              "    <tr>\n",
              "      <th>5</th>\n",
              "      <td>133002</td>\n",
              "      <td>ALIMENTOS PET</td>\n",
              "    </tr>\n",
              "    <tr>\n",
              "      <th>6</th>\n",
              "      <td>133002001</td>\n",
              "      <td>ALIMENTOS P/ CÃES</td>\n",
              "    </tr>\n",
              "    <tr>\n",
              "      <th>7</th>\n",
              "      <td>133002002</td>\n",
              "      <td>ALIMENTOS P/ GATOS</td>\n",
              "    </tr>\n",
              "    <tr>\n",
              "      <th>8</th>\n",
              "      <td>134</td>\n",
              "      <td>CONVENIÊNCIA</td>\n",
              "    </tr>\n",
              "    <tr>\n",
              "      <th>9</th>\n",
              "      <td>134001</td>\n",
              "      <td>ALIMENTOS</td>\n",
              "    </tr>\n",
              "    <tr>\n",
              "      <th>10</th>\n",
              "      <td>134001001</td>\n",
              "      <td>ALIMENTOS BÁSICOS</td>\n",
              "    </tr>\n",
              "  </tbody>\n",
              "</table>\n",
              "</div>"
            ],
            "text/plain": [
              "       GRUPOS           DESCRIÇÃO\n",
              "5      133002       ALIMENTOS PET\n",
              "6   133002001   ALIMENTOS P/ CÃES\n",
              "7   133002002  ALIMENTOS P/ GATOS\n",
              "8         134        CONVENIÊNCIA\n",
              "9      134001           ALIMENTOS\n",
              "10  134001001   ALIMENTOS BÁSICOS"
            ]
          },
          "metadata": {
            "tags": []
          },
          "execution_count": 23
        }
      ]
    },
    {
      "cell_type": "markdown",
      "metadata": {
        "id": "efzEwfZn9HkZ"
      },
      "source": [
        "## 2.4 ILOC"
      ]
    },
    {
      "cell_type": "markdown",
      "metadata": {
        "id": "TbROIYPA9LKm"
      },
      "source": [
        "**Sintaxe:** df.iloc[primeira linha: ultima linha + 1, indice da primeira coluna : indice da ultima coluna + 1]"
      ]
    },
    {
      "cell_type": "code",
      "metadata": {
        "colab": {
          "base_uri": "https://localhost:8080/",
          "height": 235
        },
        "id": "8RKYHnZr9SXm",
        "outputId": "7db4b986-6041-4113-bad3-49760323d646"
      },
      "source": [
        "df_grupos_merc.iloc[5:11,0:1]"
      ],
      "execution_count": null,
      "outputs": [
        {
          "output_type": "execute_result",
          "data": {
            "text/html": [
              "<div>\n",
              "<style scoped>\n",
              "    .dataframe tbody tr th:only-of-type {\n",
              "        vertical-align: middle;\n",
              "    }\n",
              "\n",
              "    .dataframe tbody tr th {\n",
              "        vertical-align: top;\n",
              "    }\n",
              "\n",
              "    .dataframe thead th {\n",
              "        text-align: right;\n",
              "    }\n",
              "</style>\n",
              "<table border=\"1\" class=\"dataframe\">\n",
              "  <thead>\n",
              "    <tr style=\"text-align: right;\">\n",
              "      <th></th>\n",
              "      <th>GRUPOS</th>\n",
              "    </tr>\n",
              "  </thead>\n",
              "  <tbody>\n",
              "    <tr>\n",
              "      <th>5</th>\n",
              "      <td>133002</td>\n",
              "    </tr>\n",
              "    <tr>\n",
              "      <th>6</th>\n",
              "      <td>133002001</td>\n",
              "    </tr>\n",
              "    <tr>\n",
              "      <th>7</th>\n",
              "      <td>133002002</td>\n",
              "    </tr>\n",
              "    <tr>\n",
              "      <th>8</th>\n",
              "      <td>134</td>\n",
              "    </tr>\n",
              "    <tr>\n",
              "      <th>9</th>\n",
              "      <td>134001</td>\n",
              "    </tr>\n",
              "    <tr>\n",
              "      <th>10</th>\n",
              "      <td>134001001</td>\n",
              "    </tr>\n",
              "  </tbody>\n",
              "</table>\n",
              "</div>"
            ],
            "text/plain": [
              "       GRUPOS\n",
              "5      133002\n",
              "6   133002001\n",
              "7   133002002\n",
              "8         134\n",
              "9      134001\n",
              "10  134001001"
            ]
          },
          "metadata": {
            "tags": []
          },
          "execution_count": 24
        }
      ]
    },
    {
      "cell_type": "markdown",
      "metadata": {
        "id": "3kIcUkOy9dm1"
      },
      "source": [
        "##2.5 Acessar um dado específico"
      ]
    },
    {
      "cell_type": "markdown",
      "metadata": {
        "id": "ZBPyNqra9je-"
      },
      "source": [
        "**Sintaxe:** df[nome da coluna][indice da linha"
      ]
    },
    {
      "cell_type": "code",
      "metadata": {
        "colab": {
          "base_uri": "https://localhost:8080/",
          "height": 35
        },
        "id": "OU_S84d_9rrS",
        "outputId": "ff408c0f-4a8f-4611-bc69-c4942f4d98d2"
      },
      "source": [
        "df_grupos_merc['GRUPOS'][0]"
      ],
      "execution_count": null,
      "outputs": [
        {
          "output_type": "execute_result",
          "data": {
            "application/vnd.google.colaboratory.intrinsic+json": {
              "type": "string"
            },
            "text/plain": [
              "'133'"
            ]
          },
          "metadata": {
            "tags": []
          },
          "execution_count": 26
        }
      ]
    },
    {
      "cell_type": "markdown",
      "metadata": {
        "id": "wE6gXpw9-LeI"
      },
      "source": [
        "# **3 Tratamento de Dados**"
      ]
    },
    {
      "cell_type": "markdown",
      "metadata": {
        "id": "30AcWVFC-SHs"
      },
      "source": [
        "## 3.1 Padronização  dos nomes das colunas"
      ]
    },
    {
      "cell_type": "markdown",
      "metadata": {
        "id": "sp2ijg8CfXcq"
      },
      "source": [
        "### 3.1.1 Rename (Renomear)negrito"
      ]
    },
    {
      "cell_type": "markdown",
      "metadata": {
        "id": "07VRg23k-e3W"
      },
      "source": [
        "**Sintaxe:** df.rename(columns=dict)\n",
        "\n",
        "**Parâmetros:**\n",
        "1. dict: {'nome_atual':'nome_novo', ...texto em itálico}\n"
      ]
    },
    {
      "cell_type": "code",
      "metadata": {
        "colab": {
          "base_uri": "https://localhost:8080/"
        },
        "id": "QJ25cSMn-q8o",
        "outputId": "764d386b-5040-4188-b1a2-bb5324b1c04e"
      },
      "source": [
        "# visualizar colunas. Observar os espaços em branco.\n",
        "df_endereco.columns"
      ],
      "execution_count": null,
      "outputs": [
        {
          "output_type": "execute_result",
          "data": {
            "text/plain": [
              "Index(['Unnamed: 0', '        Ped BOL',\n",
              "       'Bairro                                  ', 'Rg', 'Unnamed: 4'],\n",
              "      dtype='object')"
            ]
          },
          "metadata": {
            "tags": []
          },
          "execution_count": 27
        }
      ]
    },
    {
      "cell_type": "code",
      "metadata": {
        "id": "PnhP9qvQ-vG4"
      },
      "source": [
        "df_endereco = df_endereco.rename(columns={'        Ped BOL':'ped_bol', 'Bairro                                  ':'bairro','Rg':'uf'})\n",
        "df_endereco"
      ],
      "execution_count": null,
      "outputs": []
    },
    {
      "cell_type": "markdown",
      "metadata": {
        "id": "VbWAhA6jfvI5"
      },
      "source": [
        "### 3.1.2 Columns"
      ]
    },
    {
      "cell_type": "markdown",
      "metadata": {
        "id": "3xvj8YovgOLp"
      },
      "source": [
        "**Sintaxe:** df.columns=list\n",
        "\n",
        "**Parâmetros:**\n",
        "1. list: lista com todos os nomes novos das colunas"
      ]
    },
    {
      "cell_type": "code",
      "metadata": {
        "id": "3f4TOjBAgdAz"
      },
      "source": [
        "df_pedidos.columns = ['0','ped_bol','data', 'status', '4']"
      ],
      "execution_count": 38,
      "outputs": []
    },
    {
      "cell_type": "code",
      "metadata": {
        "colab": {
          "base_uri": "https://localhost:8080/",
          "height": 419
        },
        "id": "kZP0k4I7hCfS",
        "outputId": "ac37bc13-8848-4b9e-b17b-80f0952391be"
      },
      "source": [
        "df_pedidos"
      ],
      "execution_count": 39,
      "outputs": [
        {
          "output_type": "execute_result",
          "data": {
            "text/html": [
              "<div>\n",
              "<style scoped>\n",
              "    .dataframe tbody tr th:only-of-type {\n",
              "        vertical-align: middle;\n",
              "    }\n",
              "\n",
              "    .dataframe tbody tr th {\n",
              "        vertical-align: top;\n",
              "    }\n",
              "\n",
              "    .dataframe thead th {\n",
              "        text-align: right;\n",
              "    }\n",
              "</style>\n",
              "<table border=\"1\" class=\"dataframe\">\n",
              "  <thead>\n",
              "    <tr style=\"text-align: right;\">\n",
              "      <th></th>\n",
              "      <th>0</th>\n",
              "      <th>ped_bol</th>\n",
              "      <th>data</th>\n",
              "      <th>status</th>\n",
              "      <th>4</th>\n",
              "    </tr>\n",
              "  </thead>\n",
              "  <tbody>\n",
              "    <tr>\n",
              "      <th>0</th>\n",
              "      <td>---------------------------------------</td>\n",
              "      <td>NaN</td>\n",
              "      <td>NaN</td>\n",
              "      <td>NaN</td>\n",
              "      <td>NaN</td>\n",
              "    </tr>\n",
              "    <tr>\n",
              "      <th>1</th>\n",
              "      <td>NaN</td>\n",
              "      <td>900000000550488</td>\n",
              "      <td>25.03.2020</td>\n",
              "      <td>3D</td>\n",
              "      <td>NaN</td>\n",
              "    </tr>\n",
              "    <tr>\n",
              "      <th>2</th>\n",
              "      <td>NaN</td>\n",
              "      <td>900000000550588</td>\n",
              "      <td>25.03.2020</td>\n",
              "      <td>3D</td>\n",
              "      <td>NaN</td>\n",
              "    </tr>\n",
              "    <tr>\n",
              "      <th>3</th>\n",
              "      <td>NaN</td>\n",
              "      <td>900000000550646</td>\n",
              "      <td>25.03.2020</td>\n",
              "      <td>3D</td>\n",
              "      <td>NaN</td>\n",
              "    </tr>\n",
              "    <tr>\n",
              "      <th>4</th>\n",
              "      <td>NaN</td>\n",
              "      <td>900000000550648</td>\n",
              "      <td>25.03.2020</td>\n",
              "      <td>3D</td>\n",
              "      <td>NaN</td>\n",
              "    </tr>\n",
              "    <tr>\n",
              "      <th>...</th>\n",
              "      <td>...</td>\n",
              "      <td>...</td>\n",
              "      <td>...</td>\n",
              "      <td>...</td>\n",
              "      <td>...</td>\n",
              "    </tr>\n",
              "    <tr>\n",
              "      <th>18650</th>\n",
              "      <td>NaN</td>\n",
              "      <td>900000001316962</td>\n",
              "      <td>03.09.2020</td>\n",
              "      <td>3A</td>\n",
              "      <td>NaN</td>\n",
              "    </tr>\n",
              "    <tr>\n",
              "      <th>18651</th>\n",
              "      <td>NaN</td>\n",
              "      <td>900000001316974</td>\n",
              "      <td>03.09.2020</td>\n",
              "      <td>2I</td>\n",
              "      <td>NaN</td>\n",
              "    </tr>\n",
              "    <tr>\n",
              "      <th>18652</th>\n",
              "      <td>NaN</td>\n",
              "      <td>900000001316980</td>\n",
              "      <td>03.09.2020</td>\n",
              "      <td>2D</td>\n",
              "      <td>NaN</td>\n",
              "    </tr>\n",
              "    <tr>\n",
              "      <th>18653</th>\n",
              "      <td>NaN</td>\n",
              "      <td>900000001317024</td>\n",
              "      <td>03.09.2020</td>\n",
              "      <td>3B</td>\n",
              "      <td>NaN</td>\n",
              "    </tr>\n",
              "    <tr>\n",
              "      <th>18654</th>\n",
              "      <td>---------------------------------------</td>\n",
              "      <td>NaN</td>\n",
              "      <td>NaN</td>\n",
              "      <td>NaN</td>\n",
              "      <td>NaN</td>\n",
              "    </tr>\n",
              "  </tbody>\n",
              "</table>\n",
              "<p>18655 rows × 5 columns</p>\n",
              "</div>"
            ],
            "text/plain": [
              "                                             0          ped_bol  ...      status   4\n",
              "0      ---------------------------------------              NaN  ...         NaN NaN\n",
              "1                                          NaN  900000000550488  ...  3D         NaN\n",
              "2                                          NaN  900000000550588  ...  3D         NaN\n",
              "3                                          NaN  900000000550646  ...  3D         NaN\n",
              "4                                          NaN  900000000550648  ...  3D         NaN\n",
              "...                                        ...              ...  ...         ...  ..\n",
              "18650                                      NaN  900000001316962  ...  3A         NaN\n",
              "18651                                      NaN  900000001316974  ...  2I         NaN\n",
              "18652                                      NaN  900000001316980  ...  2D         NaN\n",
              "18653                                      NaN  900000001317024  ...  3B         NaN\n",
              "18654  ---------------------------------------              NaN  ...         NaN NaN\n",
              "\n",
              "[18655 rows x 5 columns]"
            ]
          },
          "metadata": {
            "tags": []
          },
          "execution_count": 39
        }
      ]
    },
    {
      "cell_type": "markdown",
      "metadata": {
        "id": "YNFc6P-hib_D"
      },
      "source": [
        "### 3.1.3 list comprehecion"
      ]
    },
    {
      "cell_type": "markdown",
      "metadata": {
        "id": "2DZiYvA2iiQt"
      },
      "source": [
        "**Sintaxe:** \n",
        "\n",
        "[operação for item x lista] #aplique a expressão operaçao em cada x da lista.\n",
        "\n",
        "* criar e manipular listas."
      ]
    },
    {
      "cell_type": "code",
      "metadata": {
        "id": "GqGIy6NZkLGs"
      },
      "source": [
        "#lista exemplo\n",
        "lista = [1,2,3]"
      ],
      "execution_count": 41,
      "outputs": []
    },
    {
      "cell_type": "code",
      "metadata": {
        "colab": {
          "base_uri": "https://localhost:8080/"
        },
        "id": "xatfH8yHiZcT",
        "outputId": "ebc0b9c2-7c2d-4172-bd12-1e1702751b28"
      },
      "source": [
        "#exemplo de uso\n",
        "[x*2 for x in lista]"
      ],
      "execution_count": 42,
      "outputs": [
        {
          "output_type": "execute_result",
          "data": {
            "text/plain": [
              "[2, 4, 6]"
            ]
          },
          "metadata": {
            "tags": []
          },
          "execution_count": 42
        }
      ]
    },
    {
      "cell_type": "code",
      "metadata": {
        "colab": {
          "base_uri": "https://localhost:8080/",
          "height": 35
        },
        "id": "xib3-gW1lF1C",
        "outputId": "33803d31-5ab2-4e7e-afc6-d856a60f2c33"
      },
      "source": [
        "#strip - remove caractere  e replace - substitui caractere\n",
        "'Grp.merc.'.lower().replace('.',' ').strip().replace(' ','_').replace('.','_')"
      ],
      "execution_count": 43,
      "outputs": [
        {
          "output_type": "execute_result",
          "data": {
            "application/vnd.google.colaboratory.intrinsic+json": {
              "type": "string"
            },
            "text/plain": [
              "'grp_merc'"
            ]
          },
          "metadata": {
            "tags": []
          },
          "execution_count": 43
        }
      ]
    },
    {
      "cell_type": "code",
      "metadata": {
        "id": "_D-CzvO4l0HW"
      },
      "source": [
        "df_vendas.columns = [x.lower().replace('.',' ').strip().replace(' ','_').replace('.','_') for x in df_vendas.columns]\n",
        "df_vendas"
      ],
      "execution_count": null,
      "outputs": []
    },
    {
      "cell_type": "markdown",
      "metadata": {
        "id": "xbbccQS8mWI6"
      },
      "source": [
        "## 3.2 Eliminando linhas ou colunas"
      ]
    },
    {
      "cell_type": "markdown",
      "metadata": {
        "id": "EayxFeAxmbMH"
      },
      "source": [
        "### 3.2.1 drop"
      ]
    },
    {
      "cell_type": "markdown",
      "metadata": {
        "id": "ctj3-lfznN4R"
      },
      "source": [
        "**Sintaxe:** df.drop(list, axis=int) \n",
        "\n",
        "**Parâmetros:**\n",
        "1. list: lista de colunas ou linhas que se deseja deletar\n",
        "2. int: 0 -> deletando linhas , 1 -> deletando colunas\n"
      ]
    },
    {
      "cell_type": "code",
      "metadata": {
        "id": "Z6Wk8Q7snlS1"
      },
      "source": [
        "#deletando colunas\n",
        "df_vendas = df_vendas.drop(['unnamed:_0', 'unnamed:_6'], axis = 1)"
      ],
      "execution_count": 47,
      "outputs": []
    },
    {
      "cell_type": "code",
      "metadata": {
        "id": "HRCX1PAsnySn"
      },
      "source": [
        "#deletando linhas\n",
        "df_vendas.drop([0,40213], axis = 0)"
      ],
      "execution_count": null,
      "outputs": []
    },
    {
      "cell_type": "markdown",
      "metadata": {
        "id": "JR0H6ev-oKwc"
      },
      "source": [
        "### 3.2.2 Selecionando colunas"
      ]
    },
    {
      "cell_type": "markdown",
      "metadata": {
        "id": "ufaXOrEnoOhD"
      },
      "source": [
        "**Sintaxe:** df[list].copy()\n",
        "\n",
        "**Parâmetros:**\n",
        "\n",
        "1. list: lista de colunas a manter"
      ]
    },
    {
      "cell_type": "code",
      "metadata": {
        "id": "TpXed4S3osRp"
      },
      "source": [
        "#posso alterar a ordem das colunas, pois cria cópia de algum resultado\n",
        "df_pedidos = df_pedidos[['ped_bol','data','status']].copy()"
      ],
      "execution_count": 49,
      "outputs": []
    },
    {
      "cell_type": "markdown",
      "metadata": {
        "id": "WC_pVSrEoT2t"
      },
      "source": [
        "### 3.2.3 dropna"
      ]
    },
    {
      "cell_type": "markdown",
      "metadata": {
        "id": "-9O8CqeUpfSF"
      },
      "source": [
        "**Sintaxe:** df.dropna(axis=int,subset=list)\n",
        "\n",
        "**Parâmetros:**\n",
        "1. axis= 0, linha; 1, colunas\n",
        "2. subset = lista de colunas selecionadas"
      ]
    },
    {
      "cell_type": "code",
      "metadata": {
        "id": "CEjyX9kWp8PQ"
      },
      "source": [
        "df_vendas = df_vendas.dropna(axis = 0, subset= ['ped_bol'])"
      ],
      "execution_count": 50,
      "outputs": []
    },
    {
      "cell_type": "code",
      "metadata": {
        "id": "AjvZ_litqFWA"
      },
      "source": [
        "df_endereco = df_endereco.dropna(axis = 0, subset = ['ped_bol'])"
      ],
      "execution_count": 51,
      "outputs": []
    },
    {
      "cell_type": "code",
      "metadata": {
        "id": "Q9VhImr3qoUq"
      },
      "source": [
        "df_endereco = df_endereco.(axis=1)"
      ],
      "execution_count": null,
      "outputs": []
    },
    {
      "cell_type": "code",
      "metadata": {
        "id": "I6gGL5Xzq7FP"
      },
      "source": [
        "df_pedidos = df_pedidos.dropna(axi=0, subset = ['ped_bol'])"
      ],
      "execution_count": null,
      "outputs": []
    },
    {
      "cell_type": "code",
      "metadata": {
        "id": "dqnz5cRBq7EU"
      },
      "source": [
        "df_grupos_merc = df_grupos_merc.dropna(axis = 0, subset = ['ped_bol'])"
      ],
      "execution_count": null,
      "outputs": []
    },
    {
      "cell_type": "markdown",
      "metadata": {
        "id": "S-aE43I1qR4L"
      },
      "source": [
        "## 3.3 Tipos de colunas"
      ]
    },
    {
      "cell_type": "markdown",
      "metadata": {
        "id": "w-ZdtOy2qVBJ"
      },
      "source": [
        "**Sintaxe:**\n",
        "\n",
        "df.dtypes\n",
        "\n",
        "* verificar tipagens das colunas"
      ]
    },
    {
      "cell_type": "code",
      "metadata": {
        "colab": {
          "base_uri": "https://localhost:8080/"
        },
        "id": "l-Zxv2a6rQ2F",
        "outputId": "c730a5d7-e2db-40bb-f19f-7571beea5d04"
      },
      "source": [
        "df_grupos_merc.dtypes"
      ],
      "execution_count": 52,
      "outputs": [
        {
          "output_type": "execute_result",
          "data": {
            "text/plain": [
              "GRUPOS       object\n",
              "DESCRIÇÃO    object\n",
              "dtype: object"
            ]
          },
          "metadata": {
            "tags": []
          },
          "execution_count": 52
        }
      ]
    }
  ]
}