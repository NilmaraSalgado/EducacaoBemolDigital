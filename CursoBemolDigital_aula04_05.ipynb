{
  "nbformat": 4,
  "nbformat_minor": 0,
  "metadata": {
    "colab": {
      "name": "CursoBemolDigital_aula04_05.ipynb",
      "provenance": [],
      "authorship_tag": "ABX9TyMYp5wCdAuXXUQg3POARUOg",
      "include_colab_link": true
    },
    "kernelspec": {
      "name": "python3",
      "display_name": "Python 3"
    },
    "language_info": {
      "name": "python"
    }
  },
  "cells": [
    {
      "cell_type": "markdown",
      "metadata": {
        "id": "view-in-github",
        "colab_type": "text"
      },
      "source": [
        "<a href=\"https://colab.research.google.com/github/NilmaraSalgado/EducacaoBemolDigital/blob/main/CursoBemolDigital_aula04_05.ipynb\" target=\"_parent\"><img src=\"https://colab.research.google.com/assets/colab-badge.svg\" alt=\"Open In Colab\"/></a>"
      ]
    },
    {
      "cell_type": "markdown",
      "metadata": {
        "id": "KZ6VTv0mima_"
      },
      "source": [
        "# **Introdução**"
      ]
    },
    {
      "cell_type": "markdown",
      "metadata": {
        "id": "wKc8RMsdj8wD"
      },
      "source": [
        "## Para iniciarmos o trabalho com a manipulação de dados vamos importar a biblioteca Pandas\n"
      ]
    },
    {
      "cell_type": "code",
      "metadata": {
        "id": "XDn6uo-fiSXk"
      },
      "source": [
        "import pandas as pd\n"
      ],
      "execution_count": null,
      "outputs": []
    },
    {
      "cell_type": "markdown",
      "metadata": {
        "id": "bsMzs9PaimZW"
      },
      "source": [
        "# **1 Leitura de Arquivos**"
      ]
    },
    {
      "cell_type": "markdown",
      "metadata": {
        "id": "6LJvfzm_k4we"
      },
      "source": [
        "### 1.1 Arquivos TXT (CSV)"
      ]
    },
    {
      "cell_type": "markdown",
      "metadata": {
        "id": "1BQogBHhlATs"
      },
      "source": [
        "**Sintaxe:**\n",
        "pd.read_csv(string, sep=string, skiprows=int, encoding=string, dtype=dict\n",
        "\n",
        "**Parâmetros:**\n",
        "1. nome do arquivo\n",
        "2. sep = separador, caractere que separa os dados\n",
        "3. skiprows = quantidade de linhas a serem puladas\n",
        "4. encoding = codificação do arquivo (UTF-8 ou latin-1)\n",
        "5. dtype = pré dizer o tipo de cada coluna "
      ]
    },
    {
      "cell_type": "code",
      "metadata": {
        "id": "Prt7FJSbp9Sw"
      },
      "source": [
        "df_endereco = pd.read_csv('endereco.txt',sep ='|', skiprows = 3, encoding='latin-1', dtype={1:'str'})"
      ],
      "execution_count": 4,
      "outputs": []
    },
    {
      "cell_type": "code",
      "metadata": {
        "id": "XVkNutAEw0AS"
      },
      "source": [
        "df_pedidos = pd.read_csv('pedidos.txt', sep = '|', skiprows = 3, encoding='latin-1', dtype={1:'str'})"
      ],
      "execution_count": 5,
      "outputs": []
    },
    {
      "cell_type": "code",
      "metadata": {
        "id": "5c9JLkW1xQUi"
      },
      "source": [
        "df_vendas = pd.read_csv('vendas.txt', sep='|', skiprows=3, encoding= 'latin-1', dtype={1:'str'})"
      ],
      "execution_count": 7,
      "outputs": []
    },
    {
      "cell_type": "markdown",
      "metadata": {
        "id": "Oa8jE6syxN_K"
      },
      "source": [
        "## 1.2 Arquivos XLS\n"
      ]
    },
    {
      "cell_type": "markdown",
      "metadata": {
        "id": "K2-dZvUcp69B"
      },
      "source": [
        "**Sintaxe:** pd.read_excel(string, skiprows = int, dtype = dict, sheet_name=int ou string)\n",
        "\n",
        "**Parâmetros:**\n",
        "1. nome do arquivo\n",
        "2. skiprows = quantidade de linhas a serem puladas\n",
        "3. dtype = pré dizer o tipo de cada coluna\n",
        "4. sheet_name = index ou o nome da aba"
      ]
    },
    {
      "cell_type": "code",
      "metadata": {
        "id": "bl0ZhRzu3ThY"
      },
      "source": [
        "df_grupos_merc = pd.read_excel('grupos_merc.xlsx', skiprows=0, dtype={0:'str'}, sheet_name=0)"
      ],
      "execution_count": 20,
      "outputs": []
    },
    {
      "cell_type": "markdown",
      "metadata": {
        "id": "K63kmFb-4PyS"
      },
      "source": [
        "# **2 Visualização de DataFrames**"
      ]
    },
    {
      "cell_type": "markdown",
      "metadata": {
        "id": "arAeSuke4aLz"
      },
      "source": [
        "## 2.1 Head"
      ]
    },
    {
      "cell_type": "markdown",
      "metadata": {
        "id": "BaHX4WnX4fLP"
      },
      "source": [
        "**Sintaxe:**\n",
        "df.head(n)\n",
        "\n",
        "**Parâmetros:**\n",
        "n um número inteiro\n",
        " * n>0 = retorna as n primeiras linhas do df\n",
        " * n<0 = todas as linhas exceto as n últimas\n"
      ]
    },
    {
      "cell_type": "code",
      "metadata": {
        "colab": {
          "base_uri": "https://localhost:8080/",
          "height": 204
        },
        "id": "Nc9-VzKX5HgU",
        "outputId": "10427aab-6c54-4d22-c0fb-f611d0eac75c"
      },
      "source": [
        "df_grupos_merc.head()"
      ],
      "execution_count": 21,
      "outputs": [
        {
          "output_type": "execute_result",
          "data": {
            "text/html": [
              "<div>\n",
              "<style scoped>\n",
              "    .dataframe tbody tr th:only-of-type {\n",
              "        vertical-align: middle;\n",
              "    }\n",
              "\n",
              "    .dataframe tbody tr th {\n",
              "        vertical-align: top;\n",
              "    }\n",
              "\n",
              "    .dataframe thead th {\n",
              "        text-align: right;\n",
              "    }\n",
              "</style>\n",
              "<table border=\"1\" class=\"dataframe\">\n",
              "  <thead>\n",
              "    <tr style=\"text-align: right;\">\n",
              "      <th></th>\n",
              "      <th>GRUPOS</th>\n",
              "      <th>DESCRIÇÃO</th>\n",
              "    </tr>\n",
              "  </thead>\n",
              "  <tbody>\n",
              "    <tr>\n",
              "      <th>0</th>\n",
              "      <td>133</td>\n",
              "      <td>PET SHOP</td>\n",
              "    </tr>\n",
              "    <tr>\n",
              "      <th>1</th>\n",
              "      <td>133001</td>\n",
              "      <td>UTILIDADES CÃES E GATOS</td>\n",
              "    </tr>\n",
              "    <tr>\n",
              "      <th>2</th>\n",
              "      <td>133001001</td>\n",
              "      <td>ACESSÓRIOS PARA PET</td>\n",
              "    </tr>\n",
              "    <tr>\n",
              "      <th>3</th>\n",
              "      <td>133001002</td>\n",
              "      <td>HIGIENE E BELEZA PARA PET</td>\n",
              "    </tr>\n",
              "    <tr>\n",
              "      <th>4</th>\n",
              "      <td>133001003</td>\n",
              "      <td>TRANSPORTE PARA PET</td>\n",
              "    </tr>\n",
              "  </tbody>\n",
              "</table>\n",
              "</div>"
            ],
            "text/plain": [
              "      GRUPOS                  DESCRIÇÃO\n",
              "0        133                   PET SHOP\n",
              "1     133001    UTILIDADES CÃES E GATOS\n",
              "2  133001001        ACESSÓRIOS PARA PET\n",
              "3  133001002  HIGIENE E BELEZA PARA PET\n",
              "4  133001003        TRANSPORTE PARA PET"
            ]
          },
          "metadata": {
            "tags": []
          },
          "execution_count": 21
        }
      ]
    },
    {
      "cell_type": "markdown",
      "metadata": {
        "id": "ouLEgqbj5xjk"
      },
      "source": [
        "## 2.2 Tail"
      ]
    },
    {
      "cell_type": "markdown",
      "metadata": {
        "id": "XUlfao4y50-9"
      },
      "source": [
        "Sintaxe: df.tail(n)\n",
        "\n",
        "Parâmetros: n um número inteiro\n",
        "\n",
        "* n>0 = retorna as n últimas linhas\n",
        "* n<0 - retorna as últimas linhas exceto as n primeiras"
      ]
    },
    {
      "cell_type": "code",
      "metadata": {
        "colab": {
          "base_uri": "https://localhost:8080/",
          "height": 204
        },
        "id": "iJxzLO0F6IUp",
        "outputId": "18eaea5f-f555-4ca7-9aaf-bcefad61a1b8"
      },
      "source": [
        "df_grupos_merc.tail()"
      ],
      "execution_count": 22,
      "outputs": [
        {
          "output_type": "execute_result",
          "data": {
            "text/html": [
              "<div>\n",
              "<style scoped>\n",
              "    .dataframe tbody tr th:only-of-type {\n",
              "        vertical-align: middle;\n",
              "    }\n",
              "\n",
              "    .dataframe tbody tr th {\n",
              "        vertical-align: top;\n",
              "    }\n",
              "\n",
              "    .dataframe thead th {\n",
              "        text-align: right;\n",
              "    }\n",
              "</style>\n",
              "<table border=\"1\" class=\"dataframe\">\n",
              "  <thead>\n",
              "    <tr style=\"text-align: right;\">\n",
              "      <th></th>\n",
              "      <th>GRUPOS</th>\n",
              "      <th>DESCRIÇÃO</th>\n",
              "    </tr>\n",
              "  </thead>\n",
              "  <tbody>\n",
              "    <tr>\n",
              "      <th>36</th>\n",
              "      <td>134005002</td>\n",
              "      <td>HIGIENE BUCAL</td>\n",
              "    </tr>\n",
              "    <tr>\n",
              "      <th>37</th>\n",
              "      <td>134005003</td>\n",
              "      <td>GERIÁTRICO</td>\n",
              "    </tr>\n",
              "    <tr>\n",
              "      <th>38</th>\n",
              "      <td>134005004</td>\n",
              "      <td>HIGIENE INFANTIL</td>\n",
              "    </tr>\n",
              "    <tr>\n",
              "      <th>39</th>\n",
              "      <td>134005005</td>\n",
              "      <td>HIGIENE FEMININA</td>\n",
              "    </tr>\n",
              "    <tr>\n",
              "      <th>40</th>\n",
              "      <td>134005006</td>\n",
              "      <td>HIGIENE MASCULINA</td>\n",
              "    </tr>\n",
              "  </tbody>\n",
              "</table>\n",
              "</div>"
            ],
            "text/plain": [
              "       GRUPOS          DESCRIÇÃO\n",
              "36  134005002      HIGIENE BUCAL\n",
              "37  134005003         GERIÁTRICO\n",
              "38  134005004   HIGIENE INFANTIL\n",
              "39  134005005   HIGIENE FEMININA\n",
              "40  134005006  HIGIENE MASCULINA"
            ]
          },
          "metadata": {
            "tags": []
          },
          "execution_count": 22
        }
      ]
    },
    {
      "cell_type": "markdown",
      "metadata": {
        "id": "NJv8IFJl8tHQ"
      },
      "source": [
        "## 2.3 LOC"
      ]
    },
    {
      "cell_type": "markdown",
      "metadata": {
        "id": "fX-Gvmmf8wZv"
      },
      "source": [
        "**Sintaxe:** df.loc[primeira linha: ultima linha, primeira : ultima coluna]"
      ]
    },
    {
      "cell_type": "code",
      "metadata": {
        "colab": {
          "base_uri": "https://localhost:8080/",
          "height": 235
        },
        "id": "AiTeneom89Qw",
        "outputId": "d1387b8f-8e6f-4cbb-efa8-bc0fc357c8a5"
      },
      "source": [
        "df_grupos_merc.loc[5:10,'GRUPOS':'DESCRIÇÃO']"
      ],
      "execution_count": 23,
      "outputs": [
        {
          "output_type": "execute_result",
          "data": {
            "text/html": [
              "<div>\n",
              "<style scoped>\n",
              "    .dataframe tbody tr th:only-of-type {\n",
              "        vertical-align: middle;\n",
              "    }\n",
              "\n",
              "    .dataframe tbody tr th {\n",
              "        vertical-align: top;\n",
              "    }\n",
              "\n",
              "    .dataframe thead th {\n",
              "        text-align: right;\n",
              "    }\n",
              "</style>\n",
              "<table border=\"1\" class=\"dataframe\">\n",
              "  <thead>\n",
              "    <tr style=\"text-align: right;\">\n",
              "      <th></th>\n",
              "      <th>GRUPOS</th>\n",
              "      <th>DESCRIÇÃO</th>\n",
              "    </tr>\n",
              "  </thead>\n",
              "  <tbody>\n",
              "    <tr>\n",
              "      <th>5</th>\n",
              "      <td>133002</td>\n",
              "      <td>ALIMENTOS PET</td>\n",
              "    </tr>\n",
              "    <tr>\n",
              "      <th>6</th>\n",
              "      <td>133002001</td>\n",
              "      <td>ALIMENTOS P/ CÃES</td>\n",
              "    </tr>\n",
              "    <tr>\n",
              "      <th>7</th>\n",
              "      <td>133002002</td>\n",
              "      <td>ALIMENTOS P/ GATOS</td>\n",
              "    </tr>\n",
              "    <tr>\n",
              "      <th>8</th>\n",
              "      <td>134</td>\n",
              "      <td>CONVENIÊNCIA</td>\n",
              "    </tr>\n",
              "    <tr>\n",
              "      <th>9</th>\n",
              "      <td>134001</td>\n",
              "      <td>ALIMENTOS</td>\n",
              "    </tr>\n",
              "    <tr>\n",
              "      <th>10</th>\n",
              "      <td>134001001</td>\n",
              "      <td>ALIMENTOS BÁSICOS</td>\n",
              "    </tr>\n",
              "  </tbody>\n",
              "</table>\n",
              "</div>"
            ],
            "text/plain": [
              "       GRUPOS           DESCRIÇÃO\n",
              "5      133002       ALIMENTOS PET\n",
              "6   133002001   ALIMENTOS P/ CÃES\n",
              "7   133002002  ALIMENTOS P/ GATOS\n",
              "8         134        CONVENIÊNCIA\n",
              "9      134001           ALIMENTOS\n",
              "10  134001001   ALIMENTOS BÁSICOS"
            ]
          },
          "metadata": {
            "tags": []
          },
          "execution_count": 23
        }
      ]
    },
    {
      "cell_type": "markdown",
      "metadata": {
        "id": "efzEwfZn9HkZ"
      },
      "source": [
        "## 2.4 ILOC"
      ]
    },
    {
      "cell_type": "markdown",
      "metadata": {
        "id": "TbROIYPA9LKm"
      },
      "source": [
        "**Sintaxe:** df.iloc[primeira linha: ultima linha + 1, indice da primeira coluna : indice da ultima coluna + 1]"
      ]
    },
    {
      "cell_type": "code",
      "metadata": {
        "colab": {
          "base_uri": "https://localhost:8080/",
          "height": 235
        },
        "id": "8RKYHnZr9SXm",
        "outputId": "7db4b986-6041-4113-bad3-49760323d646"
      },
      "source": [
        "df_grupos_merc.iloc[5:11,0:1]"
      ],
      "execution_count": 24,
      "outputs": [
        {
          "output_type": "execute_result",
          "data": {
            "text/html": [
              "<div>\n",
              "<style scoped>\n",
              "    .dataframe tbody tr th:only-of-type {\n",
              "        vertical-align: middle;\n",
              "    }\n",
              "\n",
              "    .dataframe tbody tr th {\n",
              "        vertical-align: top;\n",
              "    }\n",
              "\n",
              "    .dataframe thead th {\n",
              "        text-align: right;\n",
              "    }\n",
              "</style>\n",
              "<table border=\"1\" class=\"dataframe\">\n",
              "  <thead>\n",
              "    <tr style=\"text-align: right;\">\n",
              "      <th></th>\n",
              "      <th>GRUPOS</th>\n",
              "    </tr>\n",
              "  </thead>\n",
              "  <tbody>\n",
              "    <tr>\n",
              "      <th>5</th>\n",
              "      <td>133002</td>\n",
              "    </tr>\n",
              "    <tr>\n",
              "      <th>6</th>\n",
              "      <td>133002001</td>\n",
              "    </tr>\n",
              "    <tr>\n",
              "      <th>7</th>\n",
              "      <td>133002002</td>\n",
              "    </tr>\n",
              "    <tr>\n",
              "      <th>8</th>\n",
              "      <td>134</td>\n",
              "    </tr>\n",
              "    <tr>\n",
              "      <th>9</th>\n",
              "      <td>134001</td>\n",
              "    </tr>\n",
              "    <tr>\n",
              "      <th>10</th>\n",
              "      <td>134001001</td>\n",
              "    </tr>\n",
              "  </tbody>\n",
              "</table>\n",
              "</div>"
            ],
            "text/plain": [
              "       GRUPOS\n",
              "5      133002\n",
              "6   133002001\n",
              "7   133002002\n",
              "8         134\n",
              "9      134001\n",
              "10  134001001"
            ]
          },
          "metadata": {
            "tags": []
          },
          "execution_count": 24
        }
      ]
    },
    {
      "cell_type": "markdown",
      "metadata": {
        "id": "3kIcUkOy9dm1"
      },
      "source": [
        "##2.5 Acessar um dado específico"
      ]
    },
    {
      "cell_type": "markdown",
      "metadata": {
        "id": "ZBPyNqra9je-"
      },
      "source": [
        "**Sintaxe:** df[nome da coluna][indice da linha"
      ]
    },
    {
      "cell_type": "code",
      "metadata": {
        "colab": {
          "base_uri": "https://localhost:8080/",
          "height": 35
        },
        "id": "OU_S84d_9rrS",
        "outputId": "ff408c0f-4a8f-4611-bc69-c4942f4d98d2"
      },
      "source": [
        "df_grupos_merc['GRUPOS'][0]"
      ],
      "execution_count": 26,
      "outputs": [
        {
          "output_type": "execute_result",
          "data": {
            "application/vnd.google.colaboratory.intrinsic+json": {
              "type": "string"
            },
            "text/plain": [
              "'133'"
            ]
          },
          "metadata": {
            "tags": []
          },
          "execution_count": 26
        }
      ]
    },
    {
      "cell_type": "markdown",
      "metadata": {
        "id": "wE6gXpw9-LeI"
      },
      "source": [
        "# **3 Tratamento de Dados**"
      ]
    },
    {
      "cell_type": "markdown",
      "metadata": {
        "id": "30AcWVFC-SHs"
      },
      "source": [
        "## 3.1 Renomear Colunas"
      ]
    },
    {
      "cell_type": "markdown",
      "metadata": {
        "id": "07VRg23k-e3W"
      },
      "source": [
        "**Sintaxe:** df.rename(columns=dict)\n",
        "\n",
        "**Parâmetros:\n",
        "1. dict: {'nome_atual':'nome_novo', ...texto em itálico}\n"
      ]
    },
    {
      "cell_type": "code",
      "metadata": {
        "colab": {
          "base_uri": "https://localhost:8080/"
        },
        "id": "QJ25cSMn-q8o",
        "outputId": "764d386b-5040-4188-b1a2-bb5324b1c04e"
      },
      "source": [
        "# visualizar colunas\n",
        "df_endereco.columns"
      ],
      "execution_count": 27,
      "outputs": [
        {
          "output_type": "execute_result",
          "data": {
            "text/plain": [
              "Index(['Unnamed: 0', '        Ped BOL',\n",
              "       'Bairro                                  ', 'Rg', 'Unnamed: 4'],\n",
              "      dtype='object')"
            ]
          },
          "metadata": {
            "tags": []
          },
          "execution_count": 27
        }
      ]
    },
    {
      "cell_type": "code",
      "metadata": {
        "id": "PnhP9qvQ-vG4"
      },
      "source": [
        "df_endereco = df_endereco.rename(columns={' Ped BOL':'ped_bol', 'Bairro ':'bairro','Rg':'RF'})"
      ],
      "execution_count": 29,
      "outputs": []
    }
  ]
}