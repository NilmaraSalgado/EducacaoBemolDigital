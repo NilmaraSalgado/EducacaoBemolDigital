{
  "nbformat": 4,
  "nbformat_minor": 0,
  "metadata": {
    "colab": {
      "name": "cursoBemolDigital_Aula_01_02_03.ipynb",
      "provenance": [],
      "authorship_tag": "ABX9TyM0H0rc73z1lZcP7OvmmpZO",
      "include_colab_link": true
    },
    "kernelspec": {
      "name": "python3",
      "display_name": "Python 3"
    },
    "language_info": {
      "name": "python"
    }
  },
  "cells": [
    {
      "cell_type": "markdown",
      "metadata": {
        "id": "view-in-github",
        "colab_type": "text"
      },
      "source": [
        "<a href=\"https://colab.research.google.com/github/NilmaraSalgado/EducacaoBemolDigital/blob/main/cursoBemolDigital_Aula_01_02_03.ipynb\" target=\"_parent\"><img src=\"https://colab.research.google.com/assets/colab-badge.svg\" alt=\"Open In Colab\"/></a>"
      ]
    },
    {
      "cell_type": "markdown",
      "metadata": {
        "id": "nmOIPr2tbERC"
      },
      "source": [
        "# **ANÁLISE DE DADOS PARA NEGÓCIOS**"
      ]
    },
    {
      "cell_type": "markdown",
      "metadata": {
        "id": "crdoilNrbNLD"
      },
      "source": [
        "## **1o Módulo - Introdução à Programação em Pytohn** Instrutora: Fernanda Leitão"
      ]
    },
    {
      "cell_type": "markdown",
      "metadata": {
        "id": "0GmNa-pscF6y"
      },
      "source": [
        "### I Conceitos Introdutórios\n",
        "Computação; Conexão; Dados; Informação (organização de conjuntos de dados)"
      ]
    },
    {
      "cell_type": "markdown",
      "metadata": {
        "id": "EkLVaR63cxgD"
      },
      "source": [
        "### II Algoritmos \n",
        "Sequência finita de passos que levam  a execução de uma certa tarefa ou resolução de um problema. Vejam como um conceito do dia a dia."
      ]
    },
    {
      "cell_type": "markdown",
      "metadata": {
        "id": "V-BifpuwkrP1"
      },
      "source": [
        "### III Linguagem de Programação\n",
        "Adaptação às normas sintáticas e semânticas"
      ]
    },
    {
      "cell_type": "markdown",
      "metadata": {
        "id": "KQLb3Qmwk4Oh"
      },
      "source": [
        "### IV Python\n",
        "Linguagem de alto nível\n",
        "Sintaxe clara e concisa\n",
        "Interpretada (bytecode)"
      ]
    },
    {
      "cell_type": "markdown",
      "metadata": {
        "id": "lAGzwcmdk9HZ"
      },
      "source": [
        "### V Ambiente de Desenvolvimento Integrado\n",
        "Nossas famosas IDE´s \n",
        "Google Colaboratoryé um serviço de armazenamento em nuvem de notebooks voltados à criação e execução de códigos em Python, diretamente em um navegador, sem a necessidade de nenhum tipo de instalação de software em uma máquina (https://kenzie.com.br/blog/google-colab/)."
      ]
    },
    {
      "cell_type": "markdown",
      "metadata": {
        "id": "KJYWSfb7lcyA"
      },
      "source": [
        ""
      ]
    },
    {
      "cell_type": "markdown",
      "metadata": {
        "id": "p9TVZWONxatg"
      },
      "source": [
        "### VI Memória\n",
        "Pense em gavetas, armários, potinhos para guardar informações rsrsrs. Mas lembre-se que os espaços acabam e você sempre vai precisar adquirir outro potinho e orgnizar melhor o que você já tem, ou seja, o recurso é limitado.\n",
        "Outra característica importante é o investimento. Observe se você precisa de um armário novo, com novas gavetas ou somente caixas organizadoras seriam suficiente? ;)"
      ]
    },
    {
      "cell_type": "markdown",
      "metadata": {
        "id": "fT6TIDecyPTY"
      },
      "source": [
        "### VII Prática"
      ]
    },
    {
      "cell_type": "code",
      "metadata": {
        "id": "Rn6JqrxSyVnG"
      },
      "source": [
        "#Criação de variável (Aqui tenho somente 1 potinho para guardar 1 valor)\n",
        "idade = 21\n",
        "numero = 2"
      ],
      "execution_count": null,
      "outputs": []
    },
    {
      "cell_type": "code",
      "metadata": {
        "colab": {
          "base_uri": "https://localhost:8080/"
        },
        "id": "elDpO7FOydsE",
        "outputId": "c9128491-03b2-479c-9f6d-8d22ccfd8e3c"
      },
      "source": [
        "#Soma\n",
        "idade + numero\n"
      ],
      "execution_count": null,
      "outputs": [
        {
          "output_type": "execute_result",
          "data": {
            "text/plain": [
              "23"
            ]
          },
          "metadata": {
            "tags": []
          },
          "execution_count": 5
        }
      ]
    },
    {
      "cell_type": "code",
      "metadata": {
        "colab": {
          "base_uri": "https://localhost:8080/"
        },
        "id": "3QWcK1oMzHUr",
        "outputId": "1dfb85a9-21ab-4012-a25b-7a5cdd82f676"
      },
      "source": [
        "resultado = idade + numero\n",
        "resultado"
      ],
      "execution_count": null,
      "outputs": [
        {
          "output_type": "execute_result",
          "data": {
            "text/plain": [
              "23"
            ]
          },
          "metadata": {
            "tags": []
          },
          "execution_count": 7
        }
      ]
    },
    {
      "cell_type": "code",
      "metadata": {
        "id": "XYJZiTGLy2Ti"
      },
      "source": [
        "#Subtração\n",
        "idade - numero"
      ],
      "execution_count": null,
      "outputs": []
    },
    {
      "cell_type": "code",
      "metadata": {
        "id": "d5mWhSCb0fef"
      },
      "source": [
        "#Multiplicação\n",
        "idade * numero"
      ],
      "execution_count": null,
      "outputs": []
    },
    {
      "cell_type": "code",
      "metadata": {
        "colab": {
          "base_uri": "https://localhost:8080/"
        },
        "id": "6BF05XnH0lBX",
        "outputId": "c16cdaa6-8dab-4d21-9019-7579f5984165"
      },
      "source": [
        "#Divisão\n",
        "#Atenção para o tipo float\n",
        "idade / numero"
      ],
      "execution_count": null,
      "outputs": [
        {
          "output_type": "execute_result",
          "data": {
            "text/plain": [
              "10.5"
            ]
          },
          "metadata": {
            "tags": []
          },
          "execution_count": 8
        }
      ]
    },
    {
      "cell_type": "code",
      "metadata": {
        "colab": {
          "base_uri": "https://localhost:8080/"
        },
        "id": "lNlZ_YE203Fe",
        "outputId": "868a2119-0d10-48fd-f0e0-93878e644240"
      },
      "source": [
        "#Potência (multiplicação de fatores iguais)\n",
        "numero ** 3"
      ],
      "execution_count": null,
      "outputs": [
        {
          "output_type": "execute_result",
          "data": {
            "text/plain": [
              "8"
            ]
          },
          "metadata": {
            "tags": []
          },
          "execution_count": 9
        }
      ]
    },
    {
      "cell_type": "code",
      "metadata": {
        "colab": {
          "base_uri": "https://localhost:8080/"
        },
        "id": "9nTcL-Bm1Cgx",
        "outputId": "1b5053c7-4d15-4293-d37b-5c17973abf69"
      },
      "source": [
        "#Raiz quadrada\n",
        "numero ** (1/2)\n"
      ],
      "execution_count": null,
      "outputs": [
        {
          "output_type": "execute_result",
          "data": {
            "text/plain": [
              "1.4142135623730951"
            ]
          },
          "metadata": {
            "tags": []
          },
          "execution_count": 10
        }
      ]
    },
    {
      "cell_type": "markdown",
      "metadata": {
        "id": "aox0adAO1Wgu"
      },
      "source": [
        "# LISTA\n"
      ]
    },
    {
      "cell_type": "code",
      "metadata": {
        "colab": {
          "base_uri": "https://localhost:8080/"
        },
        "id": "RlspuHXr1QkX",
        "outputId": "b9bac2c3-7592-41b9-fb0b-ae945028a897"
      },
      "source": [
        "L = [5,3,8,9]\n",
        "L"
      ],
      "execution_count": null,
      "outputs": [
        {
          "output_type": "execute_result",
          "data": {
            "text/plain": [
              "[5, 3, 8, 9]"
            ]
          },
          "metadata": {
            "tags": []
          },
          "execution_count": 12
        }
      ]
    },
    {
      "cell_type": "code",
      "metadata": {
        "colab": {
          "base_uri": "https://localhost:8080/"
        },
        "id": "ocZzHHcR1uKW",
        "outputId": "e282346b-a7e9-4a21-d051-0d7748c70b58"
      },
      "source": [
        "#Acessando o valor de uma lista. Atenção ao índice\n",
        "L[2]"
      ],
      "execution_count": null,
      "outputs": [
        {
          "output_type": "execute_result",
          "data": {
            "text/plain": [
              "8"
            ]
          },
          "metadata": {
            "tags": []
          },
          "execution_count": 13
        }
      ]
    },
    {
      "cell_type": "code",
      "metadata": {
        "colab": {
          "base_uri": "https://localhost:8080/"
        },
        "id": "IqxxsnTj3CJ8",
        "outputId": "636154d4-d7f5-4344-8418-fe73bc7c7b14"
      },
      "source": [
        "#Acessando o último item da lista\n",
        "L[-1]"
      ],
      "execution_count": null,
      "outputs": [
        {
          "output_type": "execute_result",
          "data": {
            "text/plain": [
              "9"
            ]
          },
          "metadata": {
            "tags": []
          },
          "execution_count": 14
        }
      ]
    },
    {
      "cell_type": "code",
      "metadata": {
        "colab": {
          "base_uri": "https://localhost:8080/"
        },
        "id": "kMtajlQk3KeM",
        "outputId": "45b64383-17eb-4e94-d1f4-df9e25fe54ec"
      },
      "source": [
        "#Operação de Slicing (fatia ou parte de algo)\n",
        "#Observe que é onde o intervalo vai terminar +1\n",
        "L[1:3]"
      ],
      "execution_count": null,
      "outputs": [
        {
          "output_type": "execute_result",
          "data": {
            "text/plain": [
              "[3, 8]"
            ]
          },
          "metadata": {
            "tags": []
          },
          "execution_count": 16
        }
      ]
    },
    {
      "cell_type": "code",
      "metadata": {
        "colab": {
          "base_uri": "https://localhost:8080/"
        },
        "id": "y_3CmZpC3y0x",
        "outputId": "c68e96fe-764a-4308-bb80-11fa01f5f3aa"
      },
      "source": [
        "#Operações aritméticas\n",
        "L[0] + L[1]"
      ],
      "execution_count": null,
      "outputs": [
        {
          "output_type": "execute_result",
          "data": {
            "text/plain": [
              "8"
            ]
          },
          "metadata": {
            "tags": []
          },
          "execution_count": 17
        }
      ]
    },
    {
      "cell_type": "markdown",
      "metadata": {
        "id": "dVL6hKi64CYD"
      },
      "source": [
        "# Strings\n",
        "\"biscoito\" ou 'biscoito'"
      ]
    },
    {
      "cell_type": "code",
      "metadata": {
        "colab": {
          "base_uri": "https://localhost:8080/",
          "height": 35
        },
        "id": "QAgc_74x37OJ",
        "outputId": "612a1469-e2d6-4f81-93ba-91b67909f1ac"
      },
      "source": [
        "nome = \"Nilmara\"\n",
        "nome"
      ],
      "execution_count": null,
      "outputs": [
        {
          "output_type": "execute_result",
          "data": {
            "application/vnd.google.colaboratory.intrinsic+json": {
              "type": "string"
            },
            "text/plain": [
              "'Nilmara'"
            ]
          },
          "metadata": {
            "tags": []
          },
          "execution_count": 20
        }
      ]
    },
    {
      "cell_type": "code",
      "metadata": {
        "colab": {
          "base_uri": "https://localhost:8080/",
          "height": 35
        },
        "id": "gpHe8fiM4PrL",
        "outputId": "23fb76d7-7982-4c5b-d707-c7253327457f"
      },
      "source": [
        "nome[0:3]"
      ],
      "execution_count": null,
      "outputs": [
        {
          "output_type": "execute_result",
          "data": {
            "application/vnd.google.colaboratory.intrinsic+json": {
              "type": "string"
            },
            "text/plain": [
              "'Nil'"
            ]
          },
          "metadata": {
            "tags": []
          },
          "execution_count": 23
        }
      ]
    },
    {
      "cell_type": "code",
      "metadata": {
        "colab": {
          "base_uri": "https://localhost:8080/",
          "height": 35
        },
        "id": "vkB5iRjz4d_E",
        "outputId": "8eb95ae1-134c-484b-9884-f0c5975e88f2"
      },
      "source": [
        "nome[0]"
      ],
      "execution_count": null,
      "outputs": [
        {
          "output_type": "execute_result",
          "data": {
            "application/vnd.google.colaboratory.intrinsic+json": {
              "type": "string"
            },
            "text/plain": [
              "'N'"
            ]
          },
          "metadata": {
            "tags": []
          },
          "execution_count": 24
        }
      ]
    },
    {
      "cell_type": "markdown",
      "metadata": {
        "id": "9VV6Exs85kQW"
      },
      "source": [
        "#Funções\n",
        "Importante para resolver situações rápidas\n",
        "Observe que ao digitar '.' você vai visualizar um menu de contexto com N funções"
      ]
    },
    {
      "cell_type": "code",
      "metadata": {
        "colab": {
          "base_uri": "https://localhost:8080/",
          "height": 35
        },
        "id": "ONryhymU54m3",
        "outputId": "e6153232-7865-4afb-ecd0-7bd95a0a4e3b"
      },
      "source": [
        "apelido = nome[0:3]\n",
        "apelido"
      ],
      "execution_count": null,
      "outputs": [
        {
          "output_type": "execute_result",
          "data": {
            "application/vnd.google.colaboratory.intrinsic+json": {
              "type": "string"
            },
            "text/plain": [
              "'Nil'"
            ]
          },
          "metadata": {
            "tags": []
          },
          "execution_count": 26
        }
      ]
    },
    {
      "cell_type": "code",
      "metadata": {
        "colab": {
          "base_uri": "https://localhost:8080/",
          "height": 35
        },
        "id": "LpzUXwAb6YST",
        "outputId": "a23807e0-5632-49d2-d98a-937f9b4c3422"
      },
      "source": [
        "apelido.lower()"
      ],
      "execution_count": null,
      "outputs": [
        {
          "output_type": "execute_result",
          "data": {
            "application/vnd.google.colaboratory.intrinsic+json": {
              "type": "string"
            },
            "text/plain": [
              "'nil'"
            ]
          },
          "metadata": {
            "tags": []
          },
          "execution_count": 27
        }
      ]
    },
    {
      "cell_type": "markdown",
      "metadata": {
        "id": "pqgKGR-W6ghd"
      },
      "source": [
        "#Dicionários\n",
        "Tipos de dados compostos — strings, listas e tuplas — são coleções sequenciais. Isto significa que os itens na coleção estão ordenados da esquerda para a direita e eles usam números inteiros como índices para acessar os valores que eles contêm. Dicionário é um tipo diferente de coleção. Ele é um tipo de mapeamento nativo do Python. Um mapa é uma coleção associativa desordenada. A associação, ou mapeamento, é feita a partir de uma chave, que pode ser qualquer tipo imutável, para um valor, que pode ser qualquer objeto de dados do Python.\n",
        "(https://panda.ime.usp.br/pensepy/static/pensepy/11-Dicionarios/dicionarios.html#:~:text=Dicion%C3%A1rio%20%C3%A9%20um%20tipo%20diferente,objeto%20de%20dados%20do%20Python.&text=Dicion%C3%A1rio%20%C3%A9%20um%20tipo%20diferente,objeto%20de%20dados%20do%20Python)"
      ]
    },
    {
      "cell_type": "code",
      "metadata": {
        "colab": {
          "base_uri": "https://localhost:8080/"
        },
        "id": "blRm-0yd8PKN",
        "outputId": "0399f8b5-df41-4d0d-effd-8071c3a3dbce"
      },
      "source": [
        "#Sintaxe de um dicionário\n",
        "#produtos = ['biscoito','cafe']\n",
        "#precos = [2.99,4.69]\n",
        "#Relacionar 2 listas \n",
        "\n",
        "precos = {'biscoito':2.99,'café':4.69}\n",
        "precos"
      ],
      "execution_count": null,
      "outputs": [
        {
          "output_type": "execute_result",
          "data": {
            "text/plain": [
              "{'biscoito': 2.99, 'café': 4.69}"
            ]
          },
          "metadata": {
            "tags": []
          },
          "execution_count": 34
        }
      ]
    },
    {
      "cell_type": "code",
      "metadata": {
        "colab": {
          "base_uri": "https://localhost:8080/"
        },
        "id": "DMhjrKAv9alo",
        "outputId": "8acebfd7-1325-416d-95b7-2a5f34f252dc"
      },
      "source": [
        "#Acessar produtos, operações\n",
        "precos['biscoito']"
      ],
      "execution_count": null,
      "outputs": [
        {
          "output_type": "execute_result",
          "data": {
            "text/plain": [
              "2.99"
            ]
          },
          "metadata": {
            "tags": []
          },
          "execution_count": 35
        }
      ]
    },
    {
      "cell_type": "code",
      "metadata": {
        "colab": {
          "base_uri": "https://localhost:8080/"
        },
        "id": "RSR5eybr9nHH",
        "outputId": "f96f3635-32b6-41bd-e25b-5645c3e2ce50"
      },
      "source": [
        "precos['biscoito'] * 5"
      ],
      "execution_count": null,
      "outputs": [
        {
          "output_type": "execute_result",
          "data": {
            "text/plain": [
              "14.950000000000001"
            ]
          },
          "metadata": {
            "tags": []
          },
          "execution_count": 39
        }
      ]
    },
    {
      "cell_type": "code",
      "metadata": {
        "colab": {
          "base_uri": "https://localhost:8080/"
        },
        "id": "WmeI7D609zFo",
        "outputId": "99ca1ea0-fc0c-4dc8-c19e-2886d80336a4"
      },
      "source": [
        "round(precos['biscoito'] * 5)"
      ],
      "execution_count": null,
      "outputs": [
        {
          "output_type": "execute_result",
          "data": {
            "text/plain": [
              "15"
            ]
          },
          "metadata": {
            "tags": []
          },
          "execution_count": 37
        }
      ]
    },
    {
      "cell_type": "code",
      "metadata": {
        "colab": {
          "base_uri": "https://localhost:8080/"
        },
        "id": "BJo_NSXD9-6n",
        "outputId": "b12779ec-034f-474b-f528-ee4d6a84ed16"
      },
      "source": [
        "precos['biscoito']*2 + precos['café']"
      ],
      "execution_count": null,
      "outputs": [
        {
          "output_type": "execute_result",
          "data": {
            "text/plain": [
              "(10.670000000000002, 2)"
            ]
          },
          "metadata": {
            "tags": []
          },
          "execution_count": 41
        }
      ]
    },
    {
      "cell_type": "markdown",
      "metadata": {
        "id": "mM4fp-cQ-M-2"
      },
      "source": [
        "#Operadores relacionais\n",
        "==   !=   < ou <=   > ou >="
      ]
    },
    {
      "cell_type": "code",
      "metadata": {
        "colab": {
          "base_uri": "https://localhost:8080/"
        },
        "id": "shdxlj8D-YHe",
        "outputId": "c249917a-bbbd-4ee0-dae6-690ff28e8ebb"
      },
      "source": [
        "precos['biscoito'] == precos['café']"
      ],
      "execution_count": null,
      "outputs": [
        {
          "output_type": "execute_result",
          "data": {
            "text/plain": [
              "False"
            ]
          },
          "metadata": {
            "tags": []
          },
          "execution_count": 42
        }
      ]
    },
    {
      "cell_type": "code",
      "metadata": {
        "colab": {
          "base_uri": "https://localhost:8080/"
        },
        "id": "CeKwcA1p-f3x",
        "outputId": "861a02f1-24f8-411b-8ed0-2dc038f11cbc"
      },
      "source": [
        "precos['biscoito'] != precos['café']"
      ],
      "execution_count": null,
      "outputs": [
        {
          "output_type": "execute_result",
          "data": {
            "text/plain": [
              "True"
            ]
          },
          "metadata": {
            "tags": []
          },
          "execution_count": 43
        }
      ]
    },
    {
      "cell_type": "code",
      "metadata": {
        "colab": {
          "base_uri": "https://localhost:8080/"
        },
        "id": "I4XPB0Oa-zSd",
        "outputId": "5f50533d-6af4-4e4b-9be9-f73e69e678bf"
      },
      "source": [
        "precos['biscoito'] <= 5"
      ],
      "execution_count": null,
      "outputs": [
        {
          "output_type": "execute_result",
          "data": {
            "text/plain": [
              "True"
            ]
          },
          "metadata": {
            "tags": []
          },
          "execution_count": 45
        }
      ]
    },
    {
      "cell_type": "code",
      "metadata": {
        "colab": {
          "base_uri": "https://localhost:8080/"
        },
        "id": "hcA14Kx2-nsI",
        "outputId": "f96d9cd3-394e-459d-a142-d4c75f8a8eb1"
      },
      "source": [
        "apelido == nome[0:3]"
      ],
      "execution_count": null,
      "outputs": [
        {
          "output_type": "execute_result",
          "data": {
            "text/plain": [
              "True"
            ]
          },
          "metadata": {
            "tags": []
          },
          "execution_count": 44
        }
      ]
    },
    {
      "cell_type": "markdown",
      "metadata": {
        "id": "2tQQByNg_g4K"
      },
      "source": [
        "## **Desafio**\n",
        "1. Criar dicionário DadosCliente. Coloque informações: primeiroNome, idade, telefone, grauEscolaridade\n",
        "2. Acesse informações e compare se idade > = 18"
      ]
    },
    {
      "cell_type": "code",
      "metadata": {
        "colab": {
          "base_uri": "https://localhost:8080/"
        },
        "id": "qytanV67_4X1",
        "outputId": "2fc3a6be-12a6-4d47-e513-0b3aa36b3f68"
      },
      "source": [
        "dadosCliente = {'primeiroNome':'Nilmara','idade':43,'telefone':'92 9 8000-0000'}\n",
        "dadosCliente"
      ],
      "execution_count": null,
      "outputs": [
        {
          "output_type": "execute_result",
          "data": {
            "text/plain": [
              "{'idade': 43, 'primeiroNome': 'Nilmara', 'telefone': '92 9 8000-0000'}"
            ]
          },
          "metadata": {
            "tags": []
          },
          "execution_count": 48
        }
      ]
    },
    {
      "cell_type": "code",
      "metadata": {
        "colab": {
          "base_uri": "https://localhost:8080/"
        },
        "id": "SKtLGSF8AMGW",
        "outputId": "dc6b1825-43fe-4b8f-9474-b9c1544c6e86"
      },
      "source": [
        "dadosCliente['idade']>= 18"
      ],
      "execution_count": null,
      "outputs": [
        {
          "output_type": "execute_result",
          "data": {
            "text/plain": [
              "True"
            ]
          },
          "metadata": {
            "tags": []
          },
          "execution_count": 49
        }
      ]
    },
    {
      "cell_type": "markdown",
      "metadata": {
        "id": "hFgdF3lqAcIW"
      },
      "source": [
        "#Operadores Lógicos\n",
        "1. not negar expressão\n",
        "2. and retorno true se ambas expressões são verdadeiras\n",
        "3. or retorno false se ambas experessões são falsas\n"
      ]
    },
    {
      "cell_type": "code",
      "metadata": {
        "colab": {
          "base_uri": "https://localhost:8080/"
        },
        "id": "GYoH9szHAYpe",
        "outputId": "41902102-c132-4f4f-d6a1-aef74f146304"
      },
      "source": [
        "#Dicionário\n",
        "precos = {'biscoito':2.99,\n",
        "          'cafe': 4.69,\n",
        "          'suco': 7.99}\n",
        "precos"
      ],
      "execution_count": null,
      "outputs": [
        {
          "output_type": "execute_result",
          "data": {
            "text/plain": [
              "{'biscoito': 2.99, 'cafe': 4.69, 'suco': 7.99}"
            ]
          },
          "metadata": {
            "tags": []
          },
          "execution_count": 53
        }
      ]
    },
    {
      "cell_type": "code",
      "metadata": {
        "colab": {
          "base_uri": "https://localhost:8080/"
        },
        "id": "XgyoRmMzBklD",
        "outputId": "fe0cf0aa-5141-453d-b7ca-6f45b3844f78"
      },
      "source": [
        "#Not\n",
        "precos['suco'] < 2.50"
      ],
      "execution_count": null,
      "outputs": [
        {
          "output_type": "execute_result",
          "data": {
            "text/plain": [
              "False"
            ]
          },
          "metadata": {
            "tags": []
          },
          "execution_count": 54
        }
      ]
    },
    {
      "cell_type": "code",
      "metadata": {
        "colab": {
          "base_uri": "https://localhost:8080/"
        },
        "id": "zkKa2pN8BuqS",
        "outputId": "1f1ec0f4-9d85-4768-dbca-f8d64917e797"
      },
      "source": [
        "not precos['suco'] < 2.50"
      ],
      "execution_count": null,
      "outputs": [
        {
          "output_type": "execute_result",
          "data": {
            "text/plain": [
              "True"
            ]
          },
          "metadata": {
            "tags": []
          },
          "execution_count": 55
        }
      ]
    },
    {
      "cell_type": "code",
      "metadata": {
        "colab": {
          "base_uri": "https://localhost:8080/"
        },
        "id": "ontmlRWzB4R8",
        "outputId": "6815e801-95e2-4a16-a572-7518de7b524a"
      },
      "source": [
        "#And\n",
        "precos['suco'] < 2.50 and precos['biscoito'] > 5.00"
      ],
      "execution_count": null,
      "outputs": [
        {
          "output_type": "execute_result",
          "data": {
            "text/plain": [
              "False"
            ]
          },
          "metadata": {
            "tags": []
          },
          "execution_count": 57
        }
      ]
    },
    {
      "cell_type": "code",
      "metadata": {
        "colab": {
          "base_uri": "https://localhost:8080/"
        },
        "id": "biQNfyk5CDKs",
        "outputId": "4ea013b7-aa80-4e37-b17f-259c0fa900f9"
      },
      "source": [
        "#Or\n",
        "precos['suco'] < 8.50 and precos['biscoito'] < 5.00"
      ],
      "execution_count": null,
      "outputs": [
        {
          "output_type": "execute_result",
          "data": {
            "text/plain": [
              "True"
            ]
          },
          "metadata": {
            "tags": []
          },
          "execution_count": 59
        }
      ]
    },
    {
      "cell_type": "markdown",
      "metadata": {
        "id": "4Gvd5FkKCOI-"
      },
      "source": [
        "#Desvio Condicional\n",
        "1. If\n",
        "2. If - Else\n",
        "3. If - Elif"
      ]
    },
    {
      "cell_type": "markdown",
      "metadata": {
        "id": "09TsDRu8BHjB"
      },
      "source": [
        ""
      ]
    },
    {
      "cell_type": "code",
      "metadata": {
        "colab": {
          "base_uri": "https://localhost:8080/"
        },
        "id": "4kiTkCLSDYOE",
        "outputId": "74025589-f4d6-48f8-cf24-035280304e54"
      },
      "source": [
        "#If\n",
        "#If (condição):\n",
        "#    código aqui\n",
        "if (idade > 18):\n",
        "  print (\"Permissão para dirigir\")"
      ],
      "execution_count": null,
      "outputs": [
        {
          "output_type": "stream",
          "text": [
            "Permissão para dirigir\n"
          ],
          "name": "stdout"
        }
      ]
    },
    {
      "cell_type": "code",
      "metadata": {
        "colab": {
          "base_uri": "https://localhost:8080/"
        },
        "id": "QgdXhVJ6EFJu",
        "outputId": "4d8a3436-e06d-499d-d691-901aeb916228"
      },
      "source": [
        "#If - Else\n",
        "#if (condição):\n",
        "#    código aqui\n",
        "#else:\n",
        "#    código aqui\n",
        "if (idade < 18):\n",
        "  print (\"Sem Permissão para dirigir\")\n",
        "else:\n",
        "  print (\"Permissão para dirigir\")"
      ],
      "execution_count": null,
      "outputs": [
        {
          "output_type": "stream",
          "text": [
            "Permissão para dirigir\n"
          ],
          "name": "stdout"
        }
      ]
    },
    {
      "cell_type": "code",
      "metadata": {
        "colab": {
          "base_uri": "https://localhost:8080/"
        },
        "id": "z_tWwQboEp-h",
        "outputId": "b83abe46-c574-48f5-ec71-2617a7ef5e11"
      },
      "source": [
        "carteira = 20\n",
        "if (idade > 18) and (carteira > precos['biscoito']):\n",
        "  print(\"compra realizada\")\n",
        "  carteira = carteira - precos['suco']\n",
        "else:\n",
        "  print(\"compra não realizada\")\n",
        "print(carteira)"
      ],
      "execution_count": null,
      "outputs": [
        {
          "output_type": "stream",
          "text": [
            "compra realizada\n",
            "12.01\n"
          ],
          "name": "stdout"
        }
      ]
    },
    {
      "cell_type": "code",
      "metadata": {
        "colab": {
          "base_uri": "https://localhost:8080/"
        },
        "id": "r4KMwqVTFWP0",
        "outputId": "7aeaa8eb-982e-43f7-84ea-ea9a889d91bb"
      },
      "source": [
        "#If - Elif\n",
        "#if (condição):\n",
        "#    código aqui\n",
        "#elif:\n",
        "#    código aqui\n",
        "#else:\n",
        "#    código aqui\n",
        "carteira = 20\n",
        "if (idade < 18) and (carteira > precos['biscoito']):\n",
        "  print(\"compra realizada\")\n",
        "  carteira = carteira - precos['suco']\n",
        "elif (idade < 18) and (carteira > precos['biscoito'] * 5):\n",
        "  print(\"compra não realizada\")\n",
        "  carteira = carteira - precos['suco']\n",
        "elif (idade < 18) and (prec['cafe']> precos['biscoito'] ):\n",
        "  print(\"compra não realizada\")\n",
        "  carteira = carteira - precos['suco']\n",
        "else:\n",
        "  print(\"compra não realizada\")\n",
        "print(carteira)"
      ],
      "execution_count": null,
      "outputs": [
        {
          "output_type": "stream",
          "text": [
            "compra não realizada\n",
            "20\n"
          ],
          "name": "stdout"
        }
      ]
    },
    {
      "cell_type": "markdown",
      "metadata": {
        "id": "PROKTrNTGWN8"
      },
      "source": [
        "# Funções"
      ]
    },
    {
      "cell_type": "code",
      "metadata": {
        "colab": {
          "base_uri": "https://localhost:8080/"
        },
        "id": "8Cv92qtTGaMu",
        "outputId": "f6739511-a7fa-43a7-a8f9-6e4df829fcdb"
      },
      "source": [
        "#Arredonda e coloca a quantidade de casas decimais necessária\n",
        "round(2.3333,2)"
      ],
      "execution_count": null,
      "outputs": [
        {
          "output_type": "execute_result",
          "data": {
            "text/plain": [
              "2.33"
            ]
          },
          "metadata": {
            "tags": []
          },
          "execution_count": 69
        }
      ]
    },
    {
      "cell_type": "code",
      "metadata": {
        "id": "BoNjbFvsG1xJ"
      },
      "source": [
        "#Impressão\n",
        "print(\"Olá\")"
      ],
      "execution_count": null,
      "outputs": []
    },
    {
      "cell_type": "code",
      "metadata": {
        "colab": {
          "base_uri": "https://localhost:8080/",
          "height": 52
        },
        "id": "_NNQtE5PHXXV",
        "outputId": "223092fc-92fb-4247-ad53-22648c60cff1"
      },
      "source": [
        "#Entar com dados. \n",
        "#Observe que input converte para texto\n",
        "idade = input()\n",
        "idade"
      ],
      "execution_count": null,
      "outputs": [
        {
          "output_type": "stream",
          "text": [
            "20\n"
          ],
          "name": "stdout"
        },
        {
          "output_type": "execute_result",
          "data": {
            "application/vnd.google.colaboratory.intrinsic+json": {
              "type": "string"
            },
            "text/plain": [
              "'20'"
            ]
          },
          "metadata": {
            "tags": []
          },
          "execution_count": 71
        }
      ]
    },
    {
      "cell_type": "code",
      "metadata": {
        "colab": {
          "base_uri": "https://localhost:8080/"
        },
        "id": "G9UOEkb7HXQV",
        "outputId": "7d5c0809-2e54-4dd4-dd7a-89c30db6666f"
      },
      "source": [
        "idade = int(input())\n",
        "idade"
      ],
      "execution_count": null,
      "outputs": [
        {
          "output_type": "stream",
          "text": [
            "43\n"
          ],
          "name": "stdout"
        },
        {
          "output_type": "execute_result",
          "data": {
            "text/plain": [
              "43"
            ]
          },
          "metadata": {
            "tags": []
          },
          "execution_count": 72
        }
      ]
    },
    {
      "cell_type": "code",
      "metadata": {
        "colab": {
          "base_uri": "https://localhost:8080/",
          "height": 35
        },
        "id": "5PwcjG_SHXJe",
        "outputId": "fa7b0d03-a6de-49ff-b011-c5b55c87ebfc"
      },
      "source": [
        "valorTexto = str(4.56)\n",
        "valorTexto"
      ],
      "execution_count": null,
      "outputs": [
        {
          "output_type": "execute_result",
          "data": {
            "application/vnd.google.colaboratory.intrinsic+json": {
              "type": "string"
            },
            "text/plain": [
              "'4.56'"
            ]
          },
          "metadata": {
            "tags": []
          },
          "execution_count": 74
        }
      ]
    },
    {
      "cell_type": "code",
      "metadata": {
        "colab": {
          "base_uri": "https://localhost:8080/"
        },
        "id": "i6eLFDRsHXIc",
        "outputId": "dc898932-c0f7-4bf2-9882-9d9e8d23d933"
      },
      "source": [
        "nome = 'JOÃO'\n",
        "list (nome)"
      ],
      "execution_count": null,
      "outputs": [
        {
          "output_type": "execute_result",
          "data": {
            "text/plain": [
              "['J', 'O', 'Ã', 'O']"
            ]
          },
          "metadata": {
            "tags": []
          },
          "execution_count": 75
        }
      ]
    },
    {
      "cell_type": "code",
      "metadata": {
        "colab": {
          "base_uri": "https://localhost:8080/",
          "height": 180
        },
        "id": "aawoXOW4Im7P",
        "outputId": "9c497b47-7aa4-49af-8237-e8c7a363f709"
      },
      "source": [
        "#Não de string para int - ERROR\n",
        "int(nome)"
      ],
      "execution_count": null,
      "outputs": [
        {
          "output_type": "error",
          "ename": "ValueError",
          "evalue": "ignored",
          "traceback": [
            "\u001b[0;31m---------------------------------------------------------------------------\u001b[0m",
            "\u001b[0;31mValueError\u001b[0m                                Traceback (most recent call last)",
            "\u001b[0;32m<ipython-input-76-76c25d89cece>\u001b[0m in \u001b[0;36m<module>\u001b[0;34m()\u001b[0m\n\u001b[1;32m      1\u001b[0m \u001b[0;31m#Não de string para int\u001b[0m\u001b[0;34m\u001b[0m\u001b[0;34m\u001b[0m\u001b[0;34m\u001b[0m\u001b[0m\n\u001b[0;32m----> 2\u001b[0;31m \u001b[0mint\u001b[0m\u001b[0;34m(\u001b[0m\u001b[0mnome\u001b[0m\u001b[0;34m)\u001b[0m\u001b[0;34m\u001b[0m\u001b[0;34m\u001b[0m\u001b[0m\n\u001b[0m",
            "\u001b[0;31mValueError\u001b[0m: invalid literal for int() with base 10: 'JOÃO'"
          ]
        }
      ]
    },
    {
      "cell_type": "markdown",
      "metadata": {
        "id": "0pv6-lbHLXx3"
      },
      "source": [
        "# Exercício\n",
        "Faça um Programa que peça os 3 lados de um triângulo. O programa deverá informar se os valores podem ser um triângulo.\n",
        "Dicas:\n",
        "* Três lados formam um triângulo quando a soma de quaisquer dois lados for maior que o terceiro;\n",
        "\n",
        "Incremento: caso os lados formem um triângulo, informar se o mesmo é equilátero, isósceles ou escaleno.\n",
        "Dicas:\n",
        "* Triângulo Equilátero: três lados iguais;\n",
        "* Triângulo Isósceles: quaisquer dois lados iguais;\n",
        "* Triângulo Escaleno: três lados diferentes;"
      ]
    },
    {
      "cell_type": "code",
      "metadata": {
        "colab": {
          "base_uri": "https://localhost:8080/"
        },
        "id": "bjLz1cApME7D",
        "outputId": "886019f8-6dc9-4163-a474-881c8eabef53"
      },
      "source": [
        "print (\"Verificar Triângulo\")\n",
        "print (\"Entre com valores para A \")\n",
        "ladoA = int(input())\n",
        "print (\"Entre com valores para B \")\n",
        "ladoB = int(input())\n",
        "print (\"Entre com valores para C \")\n",
        "ladoC = int(input())\n",
        "\n",
        "if ((ladoA + ladoB) >= ladoC) and ((ladoA + ladoC) >= ladoB) and ((ladoB + ladoC) >= ladoA):\n",
        "  print(\"É triângulo\")\n",
        "  if (ladoA == ladoB) and (ladoB == ladoC) and (ladoA == ladoC):\n",
        "    print(\"Equilatero\")\n",
        "  elif (ladoA == ladoB) or (ladoB == ladoC) or (ladoA == ladoC):\n",
        "    print(\"Isósceles\")\n",
        "  elif (ladoA != ladoB) and (ladoB != ladoC) and (ladoA != ladoC):\n",
        "    print(\"Escaleno\")\n",
        "else:\n",
        "  print(\"Não é triângulo\")"
      ],
      "execution_count": null,
      "outputs": [
        {
          "output_type": "stream",
          "text": [
            "Verificar Triângulo\n",
            "Entre com valores para A \n",
            "2\n",
            "Entre com valores para B \n",
            "3\n",
            "Entre com valores para C \n",
            "4\n",
            "É triângulo\n",
            "Escaleno\n"
          ],
          "name": "stdout"
        }
      ]
    },
    {
      "cell_type": "markdown",
      "metadata": {
        "id": "PM20V4e1TDgg"
      },
      "source": [
        "#Desafios\n"
      ]
    },
    {
      "cell_type": "markdown",
      "metadata": {
        "id": "WuoodAXFTY5q"
      },
      "source": [
        "1. O time de contas a receber solicitou do time de manipulação de dados que fizesse um código onde reproduzisse a fórmula do cálculo de juros e multa aplicados aos contratos que o sistema realiza para facilitar a aplicação e cálculo quando algum cliente desejar tirar dúvidas sobre pagamentos. Faça um programa que peça o valor do contrato e a quantidade de dias de atraso e imprima na tela o valor total da parcela, onde:\n",
        "\n",
        "● para 1 dia de atraso:\n",
        "juros = valor do contrato * 0.00397\n",
        "multa = 0\n",
        "\n",
        "● para mais de um dia de atraso:\n",
        "juros = valor do contrato * 0.00397 * dias de atraso\n",
        "multa = valor do contrato * 0.02\n"
      ]
    },
    {
      "cell_type": "code",
      "metadata": {
        "colab": {
          "base_uri": "https://localhost:8080/"
        },
        "id": "XtTWCOdYTGav",
        "outputId": "7d91ecd9-8528-4198-ac26-ef97f41a0239"
      },
      "source": [
        "print(\"Contas a Receber\")\n",
        "print(\"Digite valor contrato\")\n",
        "valorContrato = float(input())\n",
        "print(\"Digite a quantidade de dias em atraso ou 0 se estiver em dia\")\n",
        "diasAtraso = int(input())\n",
        "\n",
        "if (diasAtraso == 1):\n",
        "  juros = valorContrato +  (valorContrato * 0.00397)\n",
        "  print(\"Total\", str(juros))\n",
        "elif (diasAtraso > 1):\n",
        "  juros = valorContrato + ((valorContrato * 0.00397) * (valorContrato * 0.02))\n",
        "  print(\"Total\", str(juros))\n",
        "else:\n",
        "  print(\"Não há a juros\")\n",
        "\n"
      ],
      "execution_count": null,
      "outputs": [
        {
          "output_type": "stream",
          "text": [
            "Contas a Receber\n",
            "Digite valor contrato\n",
            "200\n",
            "Digite a quantidade de dias em atraso ou 0 se estiver em dia\n",
            "0\n",
            "Não há a juros\n"
          ],
          "name": "stdout"
        }
      ]
    },
    {
      "cell_type": "markdown",
      "metadata": {
        "id": "5J2hFWk3XVIo"
      },
      "source": [
        "2. O time de compras da bemol solicitou um código que, a partir do número do produto, identifique se aquele item é um item do mercado bemol, bemol farma ou\n",
        "bemol varejo. Faça um programa que peça um código de produto e imprima na tela qual ramo ele pertence visto que: códigos que começam com 133 e 134 são itens de\n",
        "mercado; 130 e 132 são itens farma; 100 a 129 são itens varejo. Qualquer código que não comece com esses valores são itens não cadastrados.\n"
      ]
    },
    {
      "cell_type": "code",
      "metadata": {
        "colab": {
          "base_uri": "https://localhost:8080/"
        },
        "id": "0fzsDQ_Pc9HP",
        "outputId": "a65ae539-e854-4b41-e8fd-0a297a5b696a"
      },
      "source": [
        "print (\"Código do produto\")\n",
        "codigoProduto = str(input())\n",
        "if (int(codigoProduto[:3]) == 133) or (int(codigoProduto[:3]) == 134):\n",
        "  print(\"Itens de mercado\")\n",
        "elif (int(codigoProduto[:3]) == 130) or (int(codigoProduto[:3]) == 132):\n",
        "  print(\"Itens de farma \")\n",
        "elif (int(codigoProduto[:3]) >= 100) and (int(codigoProduto[:3]) <= 129):\n",
        "  print(\"Itens de varejo\")\n",
        "else:\n",
        "  print(\"Item não cadastrado\")"
      ],
      "execution_count": null,
      "outputs": [
        {
          "output_type": "stream",
          "text": [
            "Código do produto\n",
            "130\n",
            "Itens de farma \n"
          ],
          "name": "stdout"
        }
      ]
    },
    {
      "cell_type": "markdown",
      "metadata": {
        "id": "u1kY4PZIXYgH"
      },
      "source": [
        "3. A Bemol Varejo sempre está fornecendo pontos de bônus para seus clientes(compras, pagamentos de parcelas, adiantamentos, datas comemorativas, etc). Esses pontos de bônus podem ser usados para descontos em outras compras ou pagamentos e o valor deles depende do nível do cliente que pode ser: AZUL, PRATA, OURO, DIAMANTE E DIAMANTE+. Faça um programa que peça o número de pontos\n",
        "total que um cliente tenha acumulado e calcule o valor que ele pode ter de retorno de acordo com a sua pedra, onde a cada 1500 pontos:\n",
        "* Cliente Azul tem 10 reais de retorno;\n",
        "* Cliente Prata tem 12.5 reais de retorno;\n",
        "* Cliente Ouro tem 15 reais de retorno;\n",
        "* Cliente Diamante tem 17.5 reais de retorno;\n",
        "* Cliente Diamante+ tem 20 reais de retorno;"
      ]
    },
    {
      "cell_type": "code",
      "metadata": {
        "colab": {
          "base_uri": "https://localhost:8080/"
        },
        "id": "_3v6ikjnh7_A",
        "outputId": "287cbf2a-7ad0-4d96-9898-d538cf4a1da8"
      },
      "source": [
        "print (\"Programa de Bônus\")\n",
        "print (\"Qual o nível do cliente: AZUL, PRATA, OURO, DIAMANTE, DIAMANTE+ ?\")\n",
        "pedra = str(input().upper())\n",
        "print (\"Qual a quantidade de pontos acumulados?\")\n",
        "pontos = int(input())\n",
        "if (pedra == 'AZUL'):\n",
        "  print(\"Cliente Azul \")\n",
        "  valorRetorno = round((pontos/1500) * 10,2)\n",
        "  print('Valor acumulado', str(valorRetorno))\n",
        "elif (pedra == 'PRATA'):\n",
        "  print(\"Cliente Prata \")\n",
        "  valorRetorno = round((pontos/1500) * 12.5,2)\n",
        "  print('Valor acumulado', str(valorRetorno))\n",
        "elif (pedra == 'OURO'):\n",
        "  print(\"Cliente Outro\")\n",
        "  valorRetorno = round((pontos/1500) * 15,2)\n",
        "  print('Valor acumulado', str(valorRetorno))\n",
        "elif (pedra == 'DIAMANTE'):\n",
        "  print(\"Cliente Diamante\")\n",
        "  valorRetorno = round((pontos/1500) * 17.5,2)\n",
        "  print('Valor acumulado', str(valorRetorno))\n",
        "elif (pedra == 'DIAMANTE+'):\n",
        "  print(\"Cliente Diamante+\")\n",
        "  valorRetorno = round((pontos/1500) * 20,2)\n",
        "  print('Valor acumulado', str(valorRetorno))\n",
        "else:\n",
        "  print(\"Nível não cadastrado\")"
      ],
      "execution_count": null,
      "outputs": [
        {
          "output_type": "stream",
          "text": [
            "Programa de Bônus\n",
            "Qual o nível do cliente: AZUL, PRATA, OURO, DIAMANTE, DIAMANTE+ ?\n",
            "azul\n",
            "Qual a quantidade de pontos acumulados?\n",
            "150\n",
            "Cliente Azul \n",
            "Valor acumulado 1.0\n"
          ],
          "name": "stdout"
        }
      ]
    },
    {
      "cell_type": "markdown",
      "metadata": {
        "id": "CxK682P0Im2Q"
      },
      "source": [
        "#Funções\n",
        "def nome (parâmetros - valores necessários para execução de uma função):\n"
      ]
    },
    {
      "cell_type": "code",
      "metadata": {
        "id": "RuWRqLbyI3Gn"
      },
      "source": [
        "def somar(n1,n2):\n",
        "  resultado = n1+n2\n",
        "  return resultado ##quando quero guardar o valor dentro de uma variável\n"
      ],
      "execution_count": null,
      "outputs": []
    },
    {
      "cell_type": "code",
      "metadata": {
        "colab": {
          "base_uri": "https://localhost:8080/"
        },
        "id": "VfWjd17kJzyi",
        "outputId": "220d3765-0402-441f-d0cf-ffe9aaa23b8a"
      },
      "source": [
        "somar(10,30) ##chamar função\n"
      ],
      "execution_count": null,
      "outputs": [
        {
          "output_type": "execute_result",
          "data": {
            "text/plain": [
              "40"
            ]
          },
          "metadata": {
            "tags": []
          },
          "execution_count": 2
        }
      ]
    },
    {
      "cell_type": "code",
      "metadata": {
        "id": "Kbc_qVJrJ96Z"
      },
      "source": [
        "def somar (n1,n2):\n",
        "  resultado = n1 + n2\n",
        "  print(resultado)"
      ],
      "execution_count": null,
      "outputs": []
    },
    {
      "cell_type": "code",
      "metadata": {
        "colab": {
          "base_uri": "https://localhost:8080/"
        },
        "id": "UZ9W0ntKKFiZ",
        "outputId": "53ed94d1-a4b9-406a-b4fe-4849c503b1ee"
      },
      "source": [
        "somar(20,50)"
      ],
      "execution_count": null,
      "outputs": [
        {
          "output_type": "stream",
          "text": [
            "70\n"
          ],
          "name": "stdout"
        }
      ]
    },
    {
      "cell_type": "markdown",
      "metadata": {
        "id": "4odEfvcPKLfZ"
      },
      "source": [
        "Faça um programa que crie uma função que receba um valor decimal com notação brasileira e retorne o valor de notação americana e do tipo float"
      ]
    },
    {
      "cell_type": "code",
      "metadata": {
        "id": "_qGhIUjUKYES"
      },
      "source": [
        "def converteNotacao(valor): ## 1.000,59\n",
        "  novoValor = valor.replace('.','') ## 1000,59\n",
        "  novoValor = novoValor.replace(',','.') ## 1000.59\n",
        "  return float(novoValor)\n"
      ],
      "execution_count": null,
      "outputs": []
    },
    {
      "cell_type": "code",
      "metadata": {
        "colab": {
          "base_uri": "https://localhost:8080/"
        },
        "id": "C0Js_tj8KqkD",
        "outputId": "a29196dd-7257-4e9c-faa3-1f0a54f12f4e"
      },
      "source": [
        "converteNotacao('1.000,59')"
      ],
      "execution_count": null,
      "outputs": [
        {
          "output_type": "execute_result",
          "data": {
            "text/plain": [
              "1000.59"
            ]
          },
          "metadata": {
            "tags": []
          },
          "execution_count": 6
        }
      ]
    },
    {
      "cell_type": "code",
      "metadata": {
        "id": "bJ06nyxanHtq"
      },
      "source": [
        "def converteNotacao(valor): ## 1.078,59\n",
        "  novoValor = valor.replace('.','').replace(',','.') ## em uma única linha\n",
        "  return float(novoValor)"
      ],
      "execution_count": null,
      "outputs": []
    },
    {
      "cell_type": "code",
      "metadata": {
        "colab": {
          "base_uri": "https://localhost:8080/"
        },
        "id": "ndwJYwoUnWfs",
        "outputId": "2bf4809b-8e1e-42ff-e18b-9c28185147cd"
      },
      "source": [
        "converteNotacao('1.078,59')"
      ],
      "execution_count": null,
      "outputs": [
        {
          "output_type": "execute_result",
          "data": {
            "text/plain": [
              "1078.59"
            ]
          },
          "metadata": {
            "tags": []
          },
          "execution_count": 8
        }
      ]
    },
    {
      "cell_type": "code",
      "metadata": {
        "colab": {
          "base_uri": "https://localhost:8080/"
        },
        "id": "MncEkx3CnmmF",
        "outputId": "a25776dc-ca4d-49fe-9325-f2509cbdbfc8"
      },
      "source": [
        "# Função Type - Verificando tipos\n",
        "type(20)"
      ],
      "execution_count": null,
      "outputs": [
        {
          "output_type": "execute_result",
          "data": {
            "text/plain": [
              "int"
            ]
          },
          "metadata": {
            "tags": []
          },
          "execution_count": 9
        }
      ]
    },
    {
      "cell_type": "code",
      "metadata": {
        "colab": {
          "base_uri": "https://localhost:8080/",
          "height": 35
        },
        "id": "O9w_NQKzs5yv",
        "outputId": "e58a63b7-cc3a-488d-a269-d40ca39bf7b4"
      },
      "source": [
        "# Replace - substituição\n",
        "'Nilmara'.replace('i','e')"
      ],
      "execution_count": null,
      "outputs": [
        {
          "output_type": "execute_result",
          "data": {
            "application/vnd.google.colaboratory.intrinsic+json": {
              "type": "string"
            },
            "text/plain": [
              "'Nelmara'"
            ]
          },
          "metadata": {
            "tags": []
          },
          "execution_count": 10
        }
      ]
    },
    {
      "cell_type": "markdown",
      "metadata": {
        "id": "fA49sifnnyQv"
      },
      "source": [
        "# Estrutura de Repetição\n",
        "for i in rang(n): - range <-> delimitador"
      ]
    },
    {
      "cell_type": "code",
      "metadata": {
        "colab": {
          "base_uri": "https://localhost:8080/"
        },
        "id": "1BcmeWqktQQH",
        "outputId": "ae4b13de-722f-473d-f43e-cd0aaa6e55ec"
      },
      "source": [
        "for num in range(6):\n",
        "  print(num)"
      ],
      "execution_count": null,
      "outputs": [
        {
          "output_type": "stream",
          "text": [
            "0\n",
            "1\n",
            "2\n",
            "3\n",
            "4\n",
            "5\n"
          ],
          "name": "stdout"
        }
      ]
    },
    {
      "cell_type": "code",
      "metadata": {
        "id": "slE_WUeVq5uI"
      },
      "source": [
        "idades = [20, 55, 35, 65, 89]\n",
        "nomes = ['maria','lucas','paulo','francisco']"
      ],
      "execution_count": null,
      "outputs": []
    },
    {
      "cell_type": "code",
      "metadata": {
        "colab": {
          "base_uri": "https://localhost:8080/"
        },
        "id": "RN23aXudtqlg",
        "outputId": "859106a1-e1f8-48a5-872d-ba9f4d633a8d"
      },
      "source": [
        "#Utilizando lista\n",
        "for idade in idades:\n",
        "  print('A sua idade é: ',idade)"
      ],
      "execution_count": null,
      "outputs": [
        {
          "output_type": "stream",
          "text": [
            "A sua idade é:  20\n",
            "A sua idade é:  55\n",
            "A sua idade é:  35\n",
            "A sua idade é:  65\n",
            "A sua idade é:  89\n"
          ],
          "name": "stdout"
        }
      ]
    },
    {
      "cell_type": "code",
      "metadata": {
        "colab": {
          "base_uri": "https://localhost:8080/"
        },
        "id": "QtWAsyFnqvbK",
        "outputId": "22b25126-c18d-4a0b-bfbe-56fa14618e89"
      },
      "source": [
        "# Utilizando a função len com lista de idades\n",
        "for i in range(len(idades)):\n",
        "  print(\"A sua idade é: \", idades[i])\n"
      ],
      "execution_count": null,
      "outputs": [
        {
          "output_type": "stream",
          "text": [
            "A sua idade é:  20\n",
            "A sua idade é:  55\n",
            "A sua idade é:  35\n",
            "A sua idade é:  65\n",
            "A sua idade é:  89\n"
          ],
          "name": "stdout"
        }
      ]
    },
    {
      "cell_type": "code",
      "metadata": {
        "colab": {
          "base_uri": "https://localhost:8080/"
        },
        "id": "4cw9tBhvulGB",
        "outputId": "d57c0615-ae1b-4e6a-d154-0a0f9cbccf16"
      },
      "source": [
        "# Utilizando a função len com lista de nomes\n",
        "for nome in range(len(nomes)):\n",
        "  print(\"A sua idade é: \", nomes[nome])"
      ],
      "execution_count": null,
      "outputs": [
        {
          "output_type": "stream",
          "text": [
            "A sua idade é:  maria\n",
            "A sua idade é:  lucas\n",
            "A sua idade é:  paulo\n",
            "A sua idade é:  francisco\n"
          ],
          "name": "stdout"
        }
      ]
    },
    {
      "cell_type": "code",
      "metadata": {
        "id": "s70OXfL5u37w"
      },
      "source": [
        "clientes = {'Nomes': ['Maria', 'Fernanda', 'Lucas'],\n",
        "            'Idade': [20, 21, 27]}"
      ],
      "execution_count": null,
      "outputs": []
    },
    {
      "cell_type": "code",
      "metadata": {
        "colab": {
          "base_uri": "https://localhost:8080/"
        },
        "id": "67LF6Gp2u50i",
        "outputId": "d143aaf7-f199-4383-fba0-51bdab01a231"
      },
      "source": [
        "# Utilizando repetição com dicionário\n",
        "for idade in clientes['Idade']:\n",
        "  print('A idade do cliente é:', idade)"
      ],
      "execution_count": null,
      "outputs": [
        {
          "output_type": "stream",
          "text": [
            "A idade do cliente é: 20\n",
            "A idade do cliente é: 21\n",
            "A idade do cliente é: 27\n"
          ],
          "name": "stdout"
        }
      ]
    },
    {
      "cell_type": "markdown",
      "metadata": {
        "id": "sc2Fep1q05No"
      },
      "source": [
        "# Exercício\n",
        "Vamos de tabuada :)"
      ]
    },
    {
      "cell_type": "code",
      "metadata": {
        "colab": {
          "base_uri": "https://localhost:8080/"
        },
        "id": "cIlP6KbE0_0j",
        "outputId": "bb9ae6b9-fbdf-4ee3-bc60-aeccf60d33d1"
      },
      "source": [
        "numero = int(input(\"Digite o valor:\"))"
      ],
      "execution_count": null,
      "outputs": [
        {
          "output_type": "stream",
          "text": [
            "Digite o valor:5\n"
          ],
          "name": "stdout"
        }
      ]
    },
    {
      "cell_type": "code",
      "metadata": {
        "colab": {
          "base_uri": "https://localhost:8080/"
        },
        "id": "Oic6AtFV1Ie2",
        "outputId": "600df37f-93a3-4d11-cecd-5ae960bb17df"
      },
      "source": [
        "for i in range(1,11):\n",
        "  print (numero,'x', i, '=', numero * i)"
      ],
      "execution_count": null,
      "outputs": [
        {
          "output_type": "stream",
          "text": [
            "5 x 1 = 5\n",
            "5 x 2 = 10\n",
            "5 x 3 = 15\n",
            "5 x 4 = 20\n",
            "5 x 5 = 25\n",
            "5 x 6 = 30\n",
            "5 x 7 = 35\n",
            "5 x 8 = 40\n",
            "5 x 9 = 45\n",
            "5 x 10 = 50\n"
          ],
          "name": "stdout"
        }
      ]
    },
    {
      "cell_type": "markdown",
      "metadata": {
        "id": "FmpW4hLwn_nF"
      },
      "source": [
        "### Função\n",
        "1. Faça um programa que crie uma função para calcular a fórmula de Bhaskara e retorne os valores de x1 e x2. Em caso de dúvidas de como retornar dois valores em um único retorno de função, separe-os por vírgulas."
      ]
    },
    {
      "cell_type": "code",
      "metadata": {
        "id": "M_h58M3ZoFgn"
      },
      "source": [
        "def calcularBhaskara(valorA, valorB, valorC, delta):\n",
        " \n",
        "  x1 = -(valorB+ (delta**(1/2)) / (2*valorA))\n",
        "  x2 = -(valorB- (delta**(1/2)) / (2*valorA))\n",
        "  return(x1,x2)\n"
      ],
      "execution_count": null,
      "outputs": []
    },
    {
      "cell_type": "code",
      "metadata": {
        "colab": {
          "base_uri": "https://localhost:8080/"
        },
        "id": "XyeAubkipVDh",
        "outputId": "54668739-7f71-4afb-f799-3bdfedd02575"
      },
      "source": [
        "print(\"Calcular fórmula de Bhaskara\")\n",
        "valorA = (int(input(\"a \")))\n",
        "valorB = (int(input(\"b \")))\n",
        "valorC = (int(input(\"c \")))\n",
        "delta = (valorB*valorB) - (4*valorA*valorC)\n",
        "calcularBhaskara(valorA, valorB, valorC, delta)\n",
        "print(\"X1 = \",x1, \"X2 = \", x2)"
      ],
      "execution_count": null,
      "outputs": [
        {
          "output_type": "stream",
          "text": [
            "Calcular fórmula de Bhaskara\n",
            "a 1\n",
            "b 2\n",
            "c 4\n",
            "X1 =  2 X2 =  3\n"
          ],
          "name": "stdout"
        }
      ]
    },
    {
      "cell_type": "code",
      "metadata": {
        "id": "PvGVS5JlzXz4"
      },
      "source": [
        ""
      ],
      "execution_count": null,
      "outputs": []
    },
    {
      "cell_type": "markdown",
      "metadata": {
        "id": "IqyZ9lpDoGLG"
      },
      "source": [
        "2. Faça um programa que crie uma função para calcular a quantidade de segundos de uma determinada quantidade de horas. Como parâmetro da função deve-se receber uma string com seguinte formatação: ‘HH:MM:SS’ e deve-se retornar a quantidade de segundos total em inteiro. Exemplo: ‘03:50:35’ de entrada tem 13835 como saída.\n"
      ]
    },
    {
      "cell_type": "code",
      "metadata": {
        "id": "WurGfFNcoNrt"
      },
      "source": [
        "def calcularHorasEmSegundos(horas_int):\n",
        "  minutos = int(horas_int * 60)\n",
        "  print(minutos)\n",
        "  segundos = minutos * 60\n",
        "  print(segundos)\n",
        "  return(segundos)\n",
        "\n"
      ],
      "execution_count": null,
      "outputs": []
    },
    {
      "cell_type": "code",
      "metadata": {
        "id": "BYymHoQuWCgG"
      },
      "source": [
        "print(\"Transformar horas em segundos\")\n",
        "horas = input(\"HH:MM:SS\")\n",
        "horas_int = \n",
        "segundos = calcularHorasEmSegundos(horas_int)\n",
        "print(\"Segundos: \", segundos)"
      ],
      "execution_count": null,
      "outputs": []
    },
    {
      "cell_type": "markdown",
      "metadata": {
        "id": "r32gMibOoOQN"
      },
      "source": [
        "### Repetição\n",
        "1. Faça um programa que peça um número calcule o fatorial desse número. Para calcular o fatorial de um número, deve-calcular a multiplicação dele com todos os inteiros anteriores a ele até 1. Exemplo: fatorial do número 5 é 5 * 4 * 3 * 2 * 1 = 120."
      ]
    },
    {
      "cell_type": "code",
      "metadata": {
        "id": "hwM27XkjoSXM"
      },
      "source": [
        "\n",
        "def calcularFatorial(numero):\n",
        "  fatorial = 1\n",
        "  for i in range(2,numero):\n",
        "    fatorial = fatorial * i\n",
        "    print(fatorial)\n",
        "\n"
      ],
      "execution_count": null,
      "outputs": []
    },
    {
      "cell_type": "code",
      "metadata": {
        "colab": {
          "base_uri": "https://localhost:8080/"
        },
        "id": "02qXAIvBRoxX",
        "outputId": "df07e0a9-f6ff-49eb-ed16-6c81514fb760"
      },
      "source": [
        "print(\"Cálculo de Fatorial\")\n",
        "numero = int(input(\"Digite valor \"))\n",
        "calcularFatorial(numero)"
      ],
      "execution_count": null,
      "outputs": [
        {
          "output_type": "stream",
          "text": [
            "Cálculo de Fatorial\n"
          ],
          "name": "stdout"
        }
      ]
    }
  ]
}