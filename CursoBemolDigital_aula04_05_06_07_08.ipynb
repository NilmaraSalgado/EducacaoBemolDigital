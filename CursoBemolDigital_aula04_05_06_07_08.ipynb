{
  "nbformat": 4,
  "nbformat_minor": 0,
  "metadata": {
    "colab": {
      "name": "CursoBemolDigital_aula04_05_06_07_08.ipynb",
      "provenance": [],
      "authorship_tag": "ABX9TyNo61b0o7RRdXKH2Bx0VMZ4",
      "include_colab_link": true
    },
    "kernelspec": {
      "name": "python3",
      "display_name": "Python 3"
    },
    "language_info": {
      "name": "python"
    }
  },
  "cells": [
    {
      "cell_type": "markdown",
      "metadata": {
        "id": "view-in-github",
        "colab_type": "text"
      },
      "source": [
        "<a href=\"https://colab.research.google.com/github/NilmaraSalgado/EducacaoBemolDigital/blob/main/CursoBemolDigital_aula04_05_06_07_08.ipynb\" target=\"_parent\"><img src=\"https://colab.research.google.com/assets/colab-badge.svg\" alt=\"Open In Colab\"/></a>"
      ]
    },
    {
      "cell_type": "markdown",
      "metadata": {
        "id": "KZ6VTv0mima_"
      },
      "source": [
        "# **Introdução**"
      ]
    },
    {
      "cell_type": "markdown",
      "metadata": {
        "id": "TBD5DBsQZ-1A"
      },
      "source": [
        "Nossas atividades serguirão os quatros tópicos abaixo:\n",
        "1. Leitura\n",
        "2. Tratamento\n",
        "3. Manipulação\n",
        "4. Exportação de Relatório\n",
        "\n",
        "Vamos trabalhar com:\n",
        "* Base de dados de vendas on-line (endereço de entrega)\n",
        "* Base de vendas\n",
        "* Base de pedidos (status)\n",
        "* Planilha de descrição de significados de cada grupo\n"
      ]
    },
    {
      "cell_type": "markdown",
      "metadata": {
        "id": "wKc8RMsdj8wD"
      },
      "source": [
        "## Para iniciarmos o trabalho com a manipulação de dados vamos importar a biblioteca Pandas (funções para manipulação e análise de dados).\n"
      ]
    },
    {
      "cell_type": "code",
      "metadata": {
        "colab": {
          "base_uri": "https://localhost:8080/"
        },
        "id": "cGn9m9jVkMlp",
        "outputId": "8e43d2a5-9968-4edb-b0b1-1318a1977026"
      },
      "source": [
        "# instalação da biblioteca unicode para trabalho com formato de letras.\n",
        "!pip install unidecode"
      ],
      "execution_count": 1,
      "outputs": [
        {
          "output_type": "stream",
          "text": [
            "Collecting unidecode\n",
            "\u001b[?25l  Downloading https://files.pythonhosted.org/packages/9e/25/723487ca2a52ebcee88a34d7d1f5a4b80b793f179ee0f62d5371938dfa01/Unidecode-1.2.0-py2.py3-none-any.whl (241kB)\n",
            "\r\u001b[K     |█▍                              | 10kB 13.9MB/s eta 0:00:01\r\u001b[K     |██▊                             | 20kB 8.4MB/s eta 0:00:01\r\u001b[K     |████                            | 30kB 7.8MB/s eta 0:00:01\r\u001b[K     |█████▍                          | 40kB 7.2MB/s eta 0:00:01\r\u001b[K     |██████▉                         | 51kB 4.3MB/s eta 0:00:01\r\u001b[K     |████████▏                       | 61kB 5.0MB/s eta 0:00:01\r\u001b[K     |█████████▌                      | 71kB 5.3MB/s eta 0:00:01\r\u001b[K     |██████████▉                     | 81kB 5.6MB/s eta 0:00:01\r\u001b[K     |████████████▏                   | 92kB 5.8MB/s eta 0:00:01\r\u001b[K     |█████████████▋                  | 102kB 5.1MB/s eta 0:00:01\r\u001b[K     |███████████████                 | 112kB 5.1MB/s eta 0:00:01\r\u001b[K     |████████████████▎               | 122kB 5.1MB/s eta 0:00:01\r\u001b[K     |█████████████████▋              | 133kB 5.1MB/s eta 0:00:01\r\u001b[K     |███████████████████             | 143kB 5.1MB/s eta 0:00:01\r\u001b[K     |████████████████████▍           | 153kB 5.1MB/s eta 0:00:01\r\u001b[K     |█████████████████████▊          | 163kB 5.1MB/s eta 0:00:01\r\u001b[K     |███████████████████████         | 174kB 5.1MB/s eta 0:00:01\r\u001b[K     |████████████████████████▍       | 184kB 5.1MB/s eta 0:00:01\r\u001b[K     |█████████████████████████▊      | 194kB 5.1MB/s eta 0:00:01\r\u001b[K     |███████████████████████████▏    | 204kB 5.1MB/s eta 0:00:01\r\u001b[K     |████████████████████████████▌   | 215kB 5.1MB/s eta 0:00:01\r\u001b[K     |█████████████████████████████▉  | 225kB 5.1MB/s eta 0:00:01\r\u001b[K     |███████████████████████████████▏| 235kB 5.1MB/s eta 0:00:01\r\u001b[K     |████████████████████████████████| 245kB 5.1MB/s \n",
            "\u001b[?25hInstalling collected packages: unidecode\n",
            "Successfully installed unidecode-1.2.0\n"
          ],
          "name": "stdout"
        }
      ]
    },
    {
      "cell_type": "code",
      "metadata": {
        "id": "XDn6uo-fiSXk"
      },
      "source": [
        "import pandas as pd\n",
        "from unidecode import unidecode\n",
        "# imporação para o tópico 8\n",
        "import plotly.express as px\n",
        "import plotly.graph_objects as go\n",
        "from plotly.subplots import make_subplots"
      ],
      "execution_count": 2,
      "outputs": []
    },
    {
      "cell_type": "markdown",
      "metadata": {
        "id": "bsMzs9PaimZW"
      },
      "source": [
        "# **1 Leitura de Arquivos**"
      ]
    },
    {
      "cell_type": "markdown",
      "metadata": {
        "id": "6LJvfzm_k4we"
      },
      "source": [
        "### 1.1 Arquivos TXT (CSV)"
      ]
    },
    {
      "cell_type": "markdown",
      "metadata": {
        "id": "1BQogBHhlATs"
      },
      "source": [
        "**Sintaxe:**\n",
        "pd.read_csv(string, sep=string, skiprows=int, encoding=string, dtype=dict\n",
        "\n",
        "**Parâmetros:**\n",
        "1. nome do arquivo\n",
        "2. sep = separador, caractere que separa os dados. Por exemplo, a vírgula.\n",
        "3. skiprows = quantidade de linhas a serem puladas, pois, normalmente, temos linhas com outras informações no início da página.\n",
        "4. encoding = codificação do arquivo (UTF-8 ou latin-1). Já identifica qual é o formato.\n",
        "5. dtype = O python identifica o tipo de variável, então podemos predizer o tipo de cada coluna. Isso contribui para economia de memória."
      ]
    },
    {
      "cell_type": "code",
      "metadata": {
        "id": "Prt7FJSbp9Sw"
      },
      "source": [
        "#guardando na variável df_endereco\n",
        "df_endereco = pd.read_csv('endereco.txt',sep ='|', skiprows = 3, encoding='latin-1', dtype={1:'str'})"
      ],
      "execution_count": 3,
      "outputs": []
    },
    {
      "cell_type": "code",
      "metadata": {
        "id": "XVkNutAEw0AS"
      },
      "source": [
        "df_pedidos = pd.read_csv('pedidos.txt', sep = '|', skiprows = 3, encoding='latin-1', dtype={1:'str'})"
      ],
      "execution_count": 4,
      "outputs": []
    },
    {
      "cell_type": "code",
      "metadata": {
        "id": "5c9JLkW1xQUi"
      },
      "source": [
        "df_vendas = pd.read_csv('vendas.txt', sep='|', skiprows=3, encoding= 'latin-1', dtype={1:'str'})"
      ],
      "execution_count": 5,
      "outputs": []
    },
    {
      "cell_type": "markdown",
      "metadata": {
        "id": "Oa8jE6syxN_K"
      },
      "source": [
        "## 1.2 Arquivos XLS\n"
      ]
    },
    {
      "cell_type": "markdown",
      "metadata": {
        "id": "K2-dZvUcp69B"
      },
      "source": [
        "**Sintaxe:** pd.read_excel(string, skiprows = int, dtype = dict, sheet_name=int ou string)\n",
        "\n",
        "**Parâmetros:**\n",
        "1. nome do arquivo\n",
        "2. skiprows = quantidade de linhas a serem puladas\n",
        "3. dtype = pré dizer o tipo de cada coluna\n",
        "4. sheet_name = index ou o nome da aba"
      ]
    },
    {
      "cell_type": "code",
      "metadata": {
        "id": "bl0ZhRzu3ThY"
      },
      "source": [
        "df_grupos_merc = pd.read_excel('grupos_merc.xlsx', skiprows=0, dtype={0:'str'}, sheet_name=0)"
      ],
      "execution_count": 6,
      "outputs": []
    },
    {
      "cell_type": "markdown",
      "metadata": {
        "id": "K63kmFb-4PyS"
      },
      "source": [
        "# **2 Visualização de DataFrames**"
      ]
    },
    {
      "cell_type": "markdown",
      "metadata": {
        "id": "arAeSuke4aLz"
      },
      "source": [
        "## 2.1 Head"
      ]
    },
    {
      "cell_type": "markdown",
      "metadata": {
        "id": "BaHX4WnX4fLP"
      },
      "source": [
        "**Sintaxe:**\n",
        "df.head(n)\n",
        "\n",
        "**Parâmetros:**\n",
        "n um número inteiro\n",
        " * n>0 = retorna as n primeiras linhas do df\n",
        " * n<0 = todas as linhas exceto as n últimas\n"
      ]
    },
    {
      "cell_type": "code",
      "metadata": {
        "colab": {
          "base_uri": "https://localhost:8080/",
          "height": 0
        },
        "id": "Nc9-VzKX5HgU",
        "outputId": "a8b1c595-ab49-4cb9-cf52-77ba3a13f3c9"
      },
      "source": [
        "df_grupos_merc.head()"
      ],
      "execution_count": 7,
      "outputs": [
        {
          "output_type": "execute_result",
          "data": {
            "text/html": [
              "<div>\n",
              "<style scoped>\n",
              "    .dataframe tbody tr th:only-of-type {\n",
              "        vertical-align: middle;\n",
              "    }\n",
              "\n",
              "    .dataframe tbody tr th {\n",
              "        vertical-align: top;\n",
              "    }\n",
              "\n",
              "    .dataframe thead th {\n",
              "        text-align: right;\n",
              "    }\n",
              "</style>\n",
              "<table border=\"1\" class=\"dataframe\">\n",
              "  <thead>\n",
              "    <tr style=\"text-align: right;\">\n",
              "      <th></th>\n",
              "      <th>GRUPOS</th>\n",
              "      <th>DESCRIÇÃO</th>\n",
              "    </tr>\n",
              "  </thead>\n",
              "  <tbody>\n",
              "    <tr>\n",
              "      <th>0</th>\n",
              "      <td>133</td>\n",
              "      <td>PET SHOP</td>\n",
              "    </tr>\n",
              "    <tr>\n",
              "      <th>1</th>\n",
              "      <td>133001</td>\n",
              "      <td>UTILIDADES CÃES E GATOS</td>\n",
              "    </tr>\n",
              "    <tr>\n",
              "      <th>2</th>\n",
              "      <td>133001001</td>\n",
              "      <td>ACESSÓRIOS PARA PET</td>\n",
              "    </tr>\n",
              "    <tr>\n",
              "      <th>3</th>\n",
              "      <td>133001002</td>\n",
              "      <td>HIGIENE E BELEZA PARA PET</td>\n",
              "    </tr>\n",
              "    <tr>\n",
              "      <th>4</th>\n",
              "      <td>133001003</td>\n",
              "      <td>TRANSPORTE PARA PET</td>\n",
              "    </tr>\n",
              "  </tbody>\n",
              "</table>\n",
              "</div>"
            ],
            "text/plain": [
              "      GRUPOS                  DESCRIÇÃO\n",
              "0        133                   PET SHOP\n",
              "1     133001    UTILIDADES CÃES E GATOS\n",
              "2  133001001        ACESSÓRIOS PARA PET\n",
              "3  133001002  HIGIENE E BELEZA PARA PET\n",
              "4  133001003        TRANSPORTE PARA PET"
            ]
          },
          "metadata": {
            "tags": []
          },
          "execution_count": 7
        }
      ]
    },
    {
      "cell_type": "markdown",
      "metadata": {
        "id": "ouLEgqbj5xjk"
      },
      "source": [
        "## 2.2 Tail"
      ]
    },
    {
      "cell_type": "markdown",
      "metadata": {
        "id": "XUlfao4y50-9"
      },
      "source": [
        "Sintaxe: df.tail(n)\n",
        "\n",
        "Parâmetros: n um número inteiro\n",
        "\n",
        "* n>0 = retorna as n últimas linhas\n",
        "* n<0 - retorna as últimas linhas exceto as n primeiras"
      ]
    },
    {
      "cell_type": "code",
      "metadata": {
        "colab": {
          "base_uri": "https://localhost:8080/",
          "height": 0
        },
        "id": "iJxzLO0F6IUp",
        "outputId": "145956ef-93d0-4bb7-ef74-cf38982d0aec"
      },
      "source": [
        "df_grupos_merc.tail()"
      ],
      "execution_count": 8,
      "outputs": [
        {
          "output_type": "execute_result",
          "data": {
            "text/html": [
              "<div>\n",
              "<style scoped>\n",
              "    .dataframe tbody tr th:only-of-type {\n",
              "        vertical-align: middle;\n",
              "    }\n",
              "\n",
              "    .dataframe tbody tr th {\n",
              "        vertical-align: top;\n",
              "    }\n",
              "\n",
              "    .dataframe thead th {\n",
              "        text-align: right;\n",
              "    }\n",
              "</style>\n",
              "<table border=\"1\" class=\"dataframe\">\n",
              "  <thead>\n",
              "    <tr style=\"text-align: right;\">\n",
              "      <th></th>\n",
              "      <th>GRUPOS</th>\n",
              "      <th>DESCRIÇÃO</th>\n",
              "    </tr>\n",
              "  </thead>\n",
              "  <tbody>\n",
              "    <tr>\n",
              "      <th>36</th>\n",
              "      <td>134005002</td>\n",
              "      <td>HIGIENE BUCAL</td>\n",
              "    </tr>\n",
              "    <tr>\n",
              "      <th>37</th>\n",
              "      <td>134005003</td>\n",
              "      <td>GERIÁTRICO</td>\n",
              "    </tr>\n",
              "    <tr>\n",
              "      <th>38</th>\n",
              "      <td>134005004</td>\n",
              "      <td>HIGIENE INFANTIL</td>\n",
              "    </tr>\n",
              "    <tr>\n",
              "      <th>39</th>\n",
              "      <td>134005005</td>\n",
              "      <td>HIGIENE FEMININA</td>\n",
              "    </tr>\n",
              "    <tr>\n",
              "      <th>40</th>\n",
              "      <td>134005006</td>\n",
              "      <td>HIGIENE MASCULINA</td>\n",
              "    </tr>\n",
              "  </tbody>\n",
              "</table>\n",
              "</div>"
            ],
            "text/plain": [
              "       GRUPOS          DESCRIÇÃO\n",
              "36  134005002      HIGIENE BUCAL\n",
              "37  134005003         GERIÁTRICO\n",
              "38  134005004   HIGIENE INFANTIL\n",
              "39  134005005   HIGIENE FEMININA\n",
              "40  134005006  HIGIENE MASCULINA"
            ]
          },
          "metadata": {
            "tags": []
          },
          "execution_count": 8
        }
      ]
    },
    {
      "cell_type": "markdown",
      "metadata": {
        "id": "NJv8IFJl8tHQ"
      },
      "source": [
        "## 2.3 LOC"
      ]
    },
    {
      "cell_type": "markdown",
      "metadata": {
        "id": "fX-Gvmmf8wZv"
      },
      "source": [
        "**Sintaxe:** df.loc[primeira linha: ultima linha, primeira : ultima coluna]"
      ]
    },
    {
      "cell_type": "code",
      "metadata": {
        "colab": {
          "base_uri": "https://localhost:8080/",
          "height": 0
        },
        "id": "AiTeneom89Qw",
        "outputId": "f4326efd-1111-45e0-decd-96d5a95630ad"
      },
      "source": [
        "df_grupos_merc.loc[5:10,'GRUPOS':'DESCRIÇÃO']"
      ],
      "execution_count": 9,
      "outputs": [
        {
          "output_type": "execute_result",
          "data": {
            "text/html": [
              "<div>\n",
              "<style scoped>\n",
              "    .dataframe tbody tr th:only-of-type {\n",
              "        vertical-align: middle;\n",
              "    }\n",
              "\n",
              "    .dataframe tbody tr th {\n",
              "        vertical-align: top;\n",
              "    }\n",
              "\n",
              "    .dataframe thead th {\n",
              "        text-align: right;\n",
              "    }\n",
              "</style>\n",
              "<table border=\"1\" class=\"dataframe\">\n",
              "  <thead>\n",
              "    <tr style=\"text-align: right;\">\n",
              "      <th></th>\n",
              "      <th>GRUPOS</th>\n",
              "      <th>DESCRIÇÃO</th>\n",
              "    </tr>\n",
              "  </thead>\n",
              "  <tbody>\n",
              "    <tr>\n",
              "      <th>5</th>\n",
              "      <td>133002</td>\n",
              "      <td>ALIMENTOS PET</td>\n",
              "    </tr>\n",
              "    <tr>\n",
              "      <th>6</th>\n",
              "      <td>133002001</td>\n",
              "      <td>ALIMENTOS P/ CÃES</td>\n",
              "    </tr>\n",
              "    <tr>\n",
              "      <th>7</th>\n",
              "      <td>133002002</td>\n",
              "      <td>ALIMENTOS P/ GATOS</td>\n",
              "    </tr>\n",
              "    <tr>\n",
              "      <th>8</th>\n",
              "      <td>134</td>\n",
              "      <td>CONVENIÊNCIA</td>\n",
              "    </tr>\n",
              "    <tr>\n",
              "      <th>9</th>\n",
              "      <td>134001</td>\n",
              "      <td>ALIMENTOS</td>\n",
              "    </tr>\n",
              "    <tr>\n",
              "      <th>10</th>\n",
              "      <td>134001001</td>\n",
              "      <td>ALIMENTOS BÁSICOS</td>\n",
              "    </tr>\n",
              "  </tbody>\n",
              "</table>\n",
              "</div>"
            ],
            "text/plain": [
              "       GRUPOS           DESCRIÇÃO\n",
              "5      133002       ALIMENTOS PET\n",
              "6   133002001   ALIMENTOS P/ CÃES\n",
              "7   133002002  ALIMENTOS P/ GATOS\n",
              "8         134        CONVENIÊNCIA\n",
              "9      134001           ALIMENTOS\n",
              "10  134001001   ALIMENTOS BÁSICOS"
            ]
          },
          "metadata": {
            "tags": []
          },
          "execution_count": 9
        }
      ]
    },
    {
      "cell_type": "markdown",
      "metadata": {
        "id": "efzEwfZn9HkZ"
      },
      "source": [
        "## 2.4 ILOC"
      ]
    },
    {
      "cell_type": "markdown",
      "metadata": {
        "id": "TbROIYPA9LKm"
      },
      "source": [
        "**Sintaxe:** df.iloc[primeira linha: ultima linha + 1, indice da primeira coluna : indice da ultima coluna + 1]"
      ]
    },
    {
      "cell_type": "code",
      "metadata": {
        "colab": {
          "base_uri": "https://localhost:8080/",
          "height": 0
        },
        "id": "8RKYHnZr9SXm",
        "outputId": "4cfcf48b-d695-4e1e-d9d4-de8580d2fda1"
      },
      "source": [
        "df_grupos_merc.iloc[5:11,0:1]"
      ],
      "execution_count": 10,
      "outputs": [
        {
          "output_type": "execute_result",
          "data": {
            "text/html": [
              "<div>\n",
              "<style scoped>\n",
              "    .dataframe tbody tr th:only-of-type {\n",
              "        vertical-align: middle;\n",
              "    }\n",
              "\n",
              "    .dataframe tbody tr th {\n",
              "        vertical-align: top;\n",
              "    }\n",
              "\n",
              "    .dataframe thead th {\n",
              "        text-align: right;\n",
              "    }\n",
              "</style>\n",
              "<table border=\"1\" class=\"dataframe\">\n",
              "  <thead>\n",
              "    <tr style=\"text-align: right;\">\n",
              "      <th></th>\n",
              "      <th>GRUPOS</th>\n",
              "    </tr>\n",
              "  </thead>\n",
              "  <tbody>\n",
              "    <tr>\n",
              "      <th>5</th>\n",
              "      <td>133002</td>\n",
              "    </tr>\n",
              "    <tr>\n",
              "      <th>6</th>\n",
              "      <td>133002001</td>\n",
              "    </tr>\n",
              "    <tr>\n",
              "      <th>7</th>\n",
              "      <td>133002002</td>\n",
              "    </tr>\n",
              "    <tr>\n",
              "      <th>8</th>\n",
              "      <td>134</td>\n",
              "    </tr>\n",
              "    <tr>\n",
              "      <th>9</th>\n",
              "      <td>134001</td>\n",
              "    </tr>\n",
              "    <tr>\n",
              "      <th>10</th>\n",
              "      <td>134001001</td>\n",
              "    </tr>\n",
              "  </tbody>\n",
              "</table>\n",
              "</div>"
            ],
            "text/plain": [
              "       GRUPOS\n",
              "5      133002\n",
              "6   133002001\n",
              "7   133002002\n",
              "8         134\n",
              "9      134001\n",
              "10  134001001"
            ]
          },
          "metadata": {
            "tags": []
          },
          "execution_count": 10
        }
      ]
    },
    {
      "cell_type": "markdown",
      "metadata": {
        "id": "3kIcUkOy9dm1"
      },
      "source": [
        "##2.5 Acessar um dado específico"
      ]
    },
    {
      "cell_type": "markdown",
      "metadata": {
        "id": "ZBPyNqra9je-"
      },
      "source": [
        "**Sintaxe:** df[nome da coluna][indice da linha"
      ]
    },
    {
      "cell_type": "code",
      "metadata": {
        "colab": {
          "base_uri": "https://localhost:8080/",
          "height": 0
        },
        "id": "OU_S84d_9rrS",
        "outputId": "d27fef57-66e6-4113-a342-4fa7a9a7285a"
      },
      "source": [
        "df_grupos_merc['GRUPOS'][0]"
      ],
      "execution_count": 11,
      "outputs": [
        {
          "output_type": "execute_result",
          "data": {
            "application/vnd.google.colaboratory.intrinsic+json": {
              "type": "string"
            },
            "text/plain": [
              "'133'"
            ]
          },
          "metadata": {
            "tags": []
          },
          "execution_count": 11
        }
      ]
    },
    {
      "cell_type": "markdown",
      "metadata": {
        "id": "wE6gXpw9-LeI"
      },
      "source": [
        "# **3 Tratamento de Dados**"
      ]
    },
    {
      "cell_type": "markdown",
      "metadata": {
        "id": "30AcWVFC-SHs"
      },
      "source": [
        "## 3.1 Padronização  dos nomes das colunas"
      ]
    },
    {
      "cell_type": "markdown",
      "metadata": {
        "id": "sp2ijg8CfXcq"
      },
      "source": [
        "### 3.1.1 Rename (Renomear)negrito"
      ]
    },
    {
      "cell_type": "markdown",
      "metadata": {
        "id": "07VRg23k-e3W"
      },
      "source": [
        "**Sintaxe:** df.rename(columns=dict)\n",
        "\n",
        "**Parâmetros:**\n",
        "1. dict: {'nome_atual':'nome_novo', ...texto em itálico}\n"
      ]
    },
    {
      "cell_type": "code",
      "metadata": {
        "colab": {
          "base_uri": "https://localhost:8080/"
        },
        "id": "QJ25cSMn-q8o",
        "outputId": "4e9eab88-c207-4c2e-e07c-f7d5ee4a6a85"
      },
      "source": [
        "# visualizar colunas. Observar os espaços em branco.\n",
        "df_endereco.columns"
      ],
      "execution_count": 12,
      "outputs": [
        {
          "output_type": "execute_result",
          "data": {
            "text/plain": [
              "Index(['Unnamed: 0', '        Ped BOL',\n",
              "       'Bairro                                  ', 'Rg', 'Unnamed: 4'],\n",
              "      dtype='object')"
            ]
          },
          "metadata": {
            "tags": []
          },
          "execution_count": 12
        }
      ]
    },
    {
      "cell_type": "code",
      "metadata": {
        "id": "PnhP9qvQ-vG4",
        "colab": {
          "base_uri": "https://localhost:8080/",
          "height": 0
        },
        "outputId": "a82b9546-c0fb-4adb-f602-6259c2849b7d"
      },
      "source": [
        "df_endereco = df_endereco.rename(columns={'        Ped BOL':'ped_bol', 'Bairro                                  ':'bairro','Rg':'uf'})\n",
        "df_endereco"
      ],
      "execution_count": 13,
      "outputs": [
        {
          "output_type": "execute_result",
          "data": {
            "text/html": [
              "<div>\n",
              "<style scoped>\n",
              "    .dataframe tbody tr th:only-of-type {\n",
              "        vertical-align: middle;\n",
              "    }\n",
              "\n",
              "    .dataframe tbody tr th {\n",
              "        vertical-align: top;\n",
              "    }\n",
              "\n",
              "    .dataframe thead th {\n",
              "        text-align: right;\n",
              "    }\n",
              "</style>\n",
              "<table border=\"1\" class=\"dataframe\">\n",
              "  <thead>\n",
              "    <tr style=\"text-align: right;\">\n",
              "      <th></th>\n",
              "      <th>Unnamed: 0</th>\n",
              "      <th>ped_bol</th>\n",
              "      <th>bairro</th>\n",
              "      <th>uf</th>\n",
              "      <th>Unnamed: 4</th>\n",
              "    </tr>\n",
              "  </thead>\n",
              "  <tbody>\n",
              "    <tr>\n",
              "      <th>0</th>\n",
              "      <td>----------------------------------------------...</td>\n",
              "      <td>NaN</td>\n",
              "      <td>NaN</td>\n",
              "      <td>NaN</td>\n",
              "      <td>NaN</td>\n",
              "    </tr>\n",
              "    <tr>\n",
              "      <th>1</th>\n",
              "      <td>NaN</td>\n",
              "      <td>900000000550488</td>\n",
              "      <td>FLORES</td>\n",
              "      <td>AM</td>\n",
              "      <td>NaN</td>\n",
              "    </tr>\n",
              "    <tr>\n",
              "      <th>2</th>\n",
              "      <td>NaN</td>\n",
              "      <td>900000000550488</td>\n",
              "      <td>FLORES</td>\n",
              "      <td>AM</td>\n",
              "      <td>NaN</td>\n",
              "    </tr>\n",
              "    <tr>\n",
              "      <th>3</th>\n",
              "      <td>NaN</td>\n",
              "      <td>900000000550588</td>\n",
              "      <td>CIDADE NOVA</td>\n",
              "      <td>AM</td>\n",
              "      <td>NaN</td>\n",
              "    </tr>\n",
              "    <tr>\n",
              "      <th>4</th>\n",
              "      <td>NaN</td>\n",
              "      <td>900000000550588</td>\n",
              "      <td>CIDADE NOVA</td>\n",
              "      <td>AM</td>\n",
              "      <td>NaN</td>\n",
              "    </tr>\n",
              "    <tr>\n",
              "      <th>...</th>\n",
              "      <td>...</td>\n",
              "      <td>...</td>\n",
              "      <td>...</td>\n",
              "      <td>...</td>\n",
              "      <td>...</td>\n",
              "    </tr>\n",
              "    <tr>\n",
              "      <th>37305</th>\n",
              "      <td>NaN</td>\n",
              "      <td>900000001316980</td>\n",
              "      <td>CIDADE NOVA</td>\n",
              "      <td>AM</td>\n",
              "      <td>NaN</td>\n",
              "    </tr>\n",
              "    <tr>\n",
              "      <th>37306</th>\n",
              "      <td>NaN</td>\n",
              "      <td>900000001316980</td>\n",
              "      <td>CIDADE NOVA</td>\n",
              "      <td>AM</td>\n",
              "      <td>NaN</td>\n",
              "    </tr>\n",
              "    <tr>\n",
              "      <th>37307</th>\n",
              "      <td>NaN</td>\n",
              "      <td>900000001317024</td>\n",
              "      <td>NOVA CIDADE</td>\n",
              "      <td>AM</td>\n",
              "      <td>NaN</td>\n",
              "    </tr>\n",
              "    <tr>\n",
              "      <th>37308</th>\n",
              "      <td>NaN</td>\n",
              "      <td>900000001317024</td>\n",
              "      <td>TARUMA</td>\n",
              "      <td>AM</td>\n",
              "      <td>NaN</td>\n",
              "    </tr>\n",
              "    <tr>\n",
              "      <th>37309</th>\n",
              "      <td>----------------------------------------------...</td>\n",
              "      <td>NaN</td>\n",
              "      <td>NaN</td>\n",
              "      <td>NaN</td>\n",
              "      <td>NaN</td>\n",
              "    </tr>\n",
              "  </tbody>\n",
              "</table>\n",
              "<p>37310 rows × 5 columns</p>\n",
              "</div>"
            ],
            "text/plain": [
              "                                              Unnamed: 0  ... Unnamed: 4\n",
              "0      ----------------------------------------------...  ...        NaN\n",
              "1                                                    NaN  ...        NaN\n",
              "2                                                    NaN  ...        NaN\n",
              "3                                                    NaN  ...        NaN\n",
              "4                                                    NaN  ...        NaN\n",
              "...                                                  ...  ...        ...\n",
              "37305                                                NaN  ...        NaN\n",
              "37306                                                NaN  ...        NaN\n",
              "37307                                                NaN  ...        NaN\n",
              "37308                                                NaN  ...        NaN\n",
              "37309  ----------------------------------------------...  ...        NaN\n",
              "\n",
              "[37310 rows x 5 columns]"
            ]
          },
          "metadata": {
            "tags": []
          },
          "execution_count": 13
        }
      ]
    },
    {
      "cell_type": "markdown",
      "metadata": {
        "id": "VbWAhA6jfvI5"
      },
      "source": [
        "### 3.1.2 Columns"
      ]
    },
    {
      "cell_type": "markdown",
      "metadata": {
        "id": "3xvj8YovgOLp"
      },
      "source": [
        "**Sintaxe:** df.columns=list\n",
        "\n",
        "**Parâmetros:**\n",
        "1. list: lista com todos os nomes novos das colunas"
      ]
    },
    {
      "cell_type": "code",
      "metadata": {
        "id": "3f4TOjBAgdAz"
      },
      "source": [
        "df_pedidos.columns = ['0','ped_bol','data', 'status', '4']"
      ],
      "execution_count": 14,
      "outputs": []
    },
    {
      "cell_type": "code",
      "metadata": {
        "colab": {
          "base_uri": "https://localhost:8080/",
          "height": 0
        },
        "id": "kZP0k4I7hCfS",
        "outputId": "6e40c60c-d6ae-4e01-880a-4c9379696a6b"
      },
      "source": [
        "df_pedidos"
      ],
      "execution_count": 15,
      "outputs": [
        {
          "output_type": "execute_result",
          "data": {
            "text/html": [
              "<div>\n",
              "<style scoped>\n",
              "    .dataframe tbody tr th:only-of-type {\n",
              "        vertical-align: middle;\n",
              "    }\n",
              "\n",
              "    .dataframe tbody tr th {\n",
              "        vertical-align: top;\n",
              "    }\n",
              "\n",
              "    .dataframe thead th {\n",
              "        text-align: right;\n",
              "    }\n",
              "</style>\n",
              "<table border=\"1\" class=\"dataframe\">\n",
              "  <thead>\n",
              "    <tr style=\"text-align: right;\">\n",
              "      <th></th>\n",
              "      <th>0</th>\n",
              "      <th>ped_bol</th>\n",
              "      <th>data</th>\n",
              "      <th>status</th>\n",
              "      <th>4</th>\n",
              "    </tr>\n",
              "  </thead>\n",
              "  <tbody>\n",
              "    <tr>\n",
              "      <th>0</th>\n",
              "      <td>---------------------------------------</td>\n",
              "      <td>NaN</td>\n",
              "      <td>NaN</td>\n",
              "      <td>NaN</td>\n",
              "      <td>NaN</td>\n",
              "    </tr>\n",
              "    <tr>\n",
              "      <th>1</th>\n",
              "      <td>NaN</td>\n",
              "      <td>900000000550488</td>\n",
              "      <td>25.03.2020</td>\n",
              "      <td>3D</td>\n",
              "      <td>NaN</td>\n",
              "    </tr>\n",
              "    <tr>\n",
              "      <th>2</th>\n",
              "      <td>NaN</td>\n",
              "      <td>900000000550588</td>\n",
              "      <td>25.03.2020</td>\n",
              "      <td>3D</td>\n",
              "      <td>NaN</td>\n",
              "    </tr>\n",
              "    <tr>\n",
              "      <th>3</th>\n",
              "      <td>NaN</td>\n",
              "      <td>900000000550646</td>\n",
              "      <td>25.03.2020</td>\n",
              "      <td>3D</td>\n",
              "      <td>NaN</td>\n",
              "    </tr>\n",
              "    <tr>\n",
              "      <th>4</th>\n",
              "      <td>NaN</td>\n",
              "      <td>900000000550648</td>\n",
              "      <td>25.03.2020</td>\n",
              "      <td>3D</td>\n",
              "      <td>NaN</td>\n",
              "    </tr>\n",
              "    <tr>\n",
              "      <th>...</th>\n",
              "      <td>...</td>\n",
              "      <td>...</td>\n",
              "      <td>...</td>\n",
              "      <td>...</td>\n",
              "      <td>...</td>\n",
              "    </tr>\n",
              "    <tr>\n",
              "      <th>18650</th>\n",
              "      <td>NaN</td>\n",
              "      <td>900000001316962</td>\n",
              "      <td>03.09.2020</td>\n",
              "      <td>3A</td>\n",
              "      <td>NaN</td>\n",
              "    </tr>\n",
              "    <tr>\n",
              "      <th>18651</th>\n",
              "      <td>NaN</td>\n",
              "      <td>900000001316974</td>\n",
              "      <td>03.09.2020</td>\n",
              "      <td>2I</td>\n",
              "      <td>NaN</td>\n",
              "    </tr>\n",
              "    <tr>\n",
              "      <th>18652</th>\n",
              "      <td>NaN</td>\n",
              "      <td>900000001316980</td>\n",
              "      <td>03.09.2020</td>\n",
              "      <td>2D</td>\n",
              "      <td>NaN</td>\n",
              "    </tr>\n",
              "    <tr>\n",
              "      <th>18653</th>\n",
              "      <td>NaN</td>\n",
              "      <td>900000001317024</td>\n",
              "      <td>03.09.2020</td>\n",
              "      <td>3B</td>\n",
              "      <td>NaN</td>\n",
              "    </tr>\n",
              "    <tr>\n",
              "      <th>18654</th>\n",
              "      <td>---------------------------------------</td>\n",
              "      <td>NaN</td>\n",
              "      <td>NaN</td>\n",
              "      <td>NaN</td>\n",
              "      <td>NaN</td>\n",
              "    </tr>\n",
              "  </tbody>\n",
              "</table>\n",
              "<p>18655 rows × 5 columns</p>\n",
              "</div>"
            ],
            "text/plain": [
              "                                             0          ped_bol  ...      status   4\n",
              "0      ---------------------------------------              NaN  ...         NaN NaN\n",
              "1                                          NaN  900000000550488  ...  3D         NaN\n",
              "2                                          NaN  900000000550588  ...  3D         NaN\n",
              "3                                          NaN  900000000550646  ...  3D         NaN\n",
              "4                                          NaN  900000000550648  ...  3D         NaN\n",
              "...                                        ...              ...  ...         ...  ..\n",
              "18650                                      NaN  900000001316962  ...  3A         NaN\n",
              "18651                                      NaN  900000001316974  ...  2I         NaN\n",
              "18652                                      NaN  900000001316980  ...  2D         NaN\n",
              "18653                                      NaN  900000001317024  ...  3B         NaN\n",
              "18654  ---------------------------------------              NaN  ...         NaN NaN\n",
              "\n",
              "[18655 rows x 5 columns]"
            ]
          },
          "metadata": {
            "tags": []
          },
          "execution_count": 15
        }
      ]
    },
    {
      "cell_type": "markdown",
      "metadata": {
        "id": "YNFc6P-hib_D"
      },
      "source": [
        "### 3.1.3 list comprehecion"
      ]
    },
    {
      "cell_type": "markdown",
      "metadata": {
        "id": "2DZiYvA2iiQt"
      },
      "source": [
        "**Sintaxe:** \n",
        "\n",
        "[operação for item x lista] #aplique a expressão operaçao em cada x da lista.\n",
        "\n",
        "* criar e manipular listas."
      ]
    },
    {
      "cell_type": "code",
      "metadata": {
        "id": "GqGIy6NZkLGs"
      },
      "source": [
        "#lista exemplo\n",
        "lista = [1,2,3]"
      ],
      "execution_count": 16,
      "outputs": []
    },
    {
      "cell_type": "code",
      "metadata": {
        "colab": {
          "base_uri": "https://localhost:8080/"
        },
        "id": "xatfH8yHiZcT",
        "outputId": "80483afd-c6a2-4130-8def-4db0375dbbb6"
      },
      "source": [
        "#exemplo de uso\n",
        "[x*2 for x in lista]"
      ],
      "execution_count": 17,
      "outputs": [
        {
          "output_type": "execute_result",
          "data": {
            "text/plain": [
              "[2, 4, 6]"
            ]
          },
          "metadata": {
            "tags": []
          },
          "execution_count": 17
        }
      ]
    },
    {
      "cell_type": "code",
      "metadata": {
        "colab": {
          "base_uri": "https://localhost:8080/",
          "height": 0
        },
        "id": "xib3-gW1lF1C",
        "outputId": "b74c96ce-52e9-4bc8-d93a-e82f6d9e0389"
      },
      "source": [
        "#strip - remove caractere  e replace - substitui caractere\n",
        "'Grp.merc.'.lower().replace('.',' ').strip().replace(' ','_').replace('.','_')"
      ],
      "execution_count": 18,
      "outputs": [
        {
          "output_type": "execute_result",
          "data": {
            "application/vnd.google.colaboratory.intrinsic+json": {
              "type": "string"
            },
            "text/plain": [
              "'grp_merc'"
            ]
          },
          "metadata": {
            "tags": []
          },
          "execution_count": 18
        }
      ]
    },
    {
      "cell_type": "code",
      "metadata": {
        "id": "_D-CzvO4l0HW",
        "colab": {
          "base_uri": "https://localhost:8080/",
          "height": 0
        },
        "outputId": "5e05b7b8-5419-4358-96ad-ba0d6f65f5f7"
      },
      "source": [
        "df_vendas.columns = [x.lower().replace('.',' ').strip().replace(' ','_').replace('.','_') for x in df_vendas.columns]\n",
        "df_vendas"
      ],
      "execution_count": 19,
      "outputs": [
        {
          "output_type": "execute_result",
          "data": {
            "text/html": [
              "<div>\n",
              "<style scoped>\n",
              "    .dataframe tbody tr th:only-of-type {\n",
              "        vertical-align: middle;\n",
              "    }\n",
              "\n",
              "    .dataframe tbody tr th {\n",
              "        vertical-align: top;\n",
              "    }\n",
              "\n",
              "    .dataframe thead th {\n",
              "        text-align: right;\n",
              "    }\n",
              "</style>\n",
              "<table border=\"1\" class=\"dataframe\">\n",
              "  <thead>\n",
              "    <tr style=\"text-align: right;\">\n",
              "      <th></th>\n",
              "      <th>unnamed:_0</th>\n",
              "      <th>ped_bol</th>\n",
              "      <th>material</th>\n",
              "      <th>quantidade</th>\n",
              "      <th>montante</th>\n",
              "      <th>grp_merc</th>\n",
              "      <th>unnamed:_6</th>\n",
              "    </tr>\n",
              "  </thead>\n",
              "  <tbody>\n",
              "    <tr>\n",
              "      <th>0</th>\n",
              "      <td>----------------------------------------------...</td>\n",
              "      <td>NaN</td>\n",
              "      <td>NaN</td>\n",
              "      <td>NaN</td>\n",
              "      <td>NaN</td>\n",
              "      <td>NaN</td>\n",
              "      <td>NaN</td>\n",
              "    </tr>\n",
              "    <tr>\n",
              "      <th>1</th>\n",
              "      <td>NaN</td>\n",
              "      <td>900000000550488</td>\n",
              "      <td>205792.0</td>\n",
              "      <td>1,000</td>\n",
              "      <td>169,00</td>\n",
              "      <td>134001001.0</td>\n",
              "      <td>NaN</td>\n",
              "    </tr>\n",
              "    <tr>\n",
              "      <th>2</th>\n",
              "      <td>NaN</td>\n",
              "      <td>900000000550588</td>\n",
              "      <td>205792.0</td>\n",
              "      <td>1,000</td>\n",
              "      <td>169,00</td>\n",
              "      <td>134001001.0</td>\n",
              "      <td>NaN</td>\n",
              "    </tr>\n",
              "    <tr>\n",
              "      <th>3</th>\n",
              "      <td>NaN</td>\n",
              "      <td>900000000550646</td>\n",
              "      <td>205791.0</td>\n",
              "      <td>3,000</td>\n",
              "      <td>417,00</td>\n",
              "      <td>134001001.0</td>\n",
              "      <td>NaN</td>\n",
              "    </tr>\n",
              "    <tr>\n",
              "      <th>4</th>\n",
              "      <td>NaN</td>\n",
              "      <td>900000000550648</td>\n",
              "      <td>205792.0</td>\n",
              "      <td>1,000</td>\n",
              "      <td>169,00</td>\n",
              "      <td>134001001.0</td>\n",
              "      <td>NaN</td>\n",
              "    </tr>\n",
              "    <tr>\n",
              "      <th>...</th>\n",
              "      <td>...</td>\n",
              "      <td>...</td>\n",
              "      <td>...</td>\n",
              "      <td>...</td>\n",
              "      <td>...</td>\n",
              "      <td>...</td>\n",
              "      <td>...</td>\n",
              "    </tr>\n",
              "    <tr>\n",
              "      <th>40209</th>\n",
              "      <td>NaN</td>\n",
              "      <td>900000001316980</td>\n",
              "      <td>206251.0</td>\n",
              "      <td>3,000</td>\n",
              "      <td>5,55</td>\n",
              "      <td>134001005.0</td>\n",
              "      <td>NaN</td>\n",
              "    </tr>\n",
              "    <tr>\n",
              "      <th>40210</th>\n",
              "      <td>NaN</td>\n",
              "      <td>900000001316980</td>\n",
              "      <td>205869.0</td>\n",
              "      <td>3,000</td>\n",
              "      <td>34,50</td>\n",
              "      <td>134001001.0</td>\n",
              "      <td>NaN</td>\n",
              "    </tr>\n",
              "    <tr>\n",
              "      <th>40211</th>\n",
              "      <td>NaN</td>\n",
              "      <td>900000001316980</td>\n",
              "      <td>206247.0</td>\n",
              "      <td>6,000</td>\n",
              "      <td>34,20</td>\n",
              "      <td>134001006.0</td>\n",
              "      <td>NaN</td>\n",
              "    </tr>\n",
              "    <tr>\n",
              "      <th>40212</th>\n",
              "      <td>NaN</td>\n",
              "      <td>900000001317024</td>\n",
              "      <td>205767.0</td>\n",
              "      <td>1,000</td>\n",
              "      <td>174,00</td>\n",
              "      <td>134001003.0</td>\n",
              "      <td>NaN</td>\n",
              "    </tr>\n",
              "    <tr>\n",
              "      <th>40213</th>\n",
              "      <td>----------------------------------------------...</td>\n",
              "      <td>NaN</td>\n",
              "      <td>NaN</td>\n",
              "      <td>NaN</td>\n",
              "      <td>NaN</td>\n",
              "      <td>NaN</td>\n",
              "      <td>NaN</td>\n",
              "    </tr>\n",
              "  </tbody>\n",
              "</table>\n",
              "<p>40214 rows × 7 columns</p>\n",
              "</div>"
            ],
            "text/plain": [
              "                                              unnamed:_0  ... unnamed:_6\n",
              "0      ----------------------------------------------...  ...        NaN\n",
              "1                                                    NaN  ...        NaN\n",
              "2                                                    NaN  ...        NaN\n",
              "3                                                    NaN  ...        NaN\n",
              "4                                                    NaN  ...        NaN\n",
              "...                                                  ...  ...        ...\n",
              "40209                                                NaN  ...        NaN\n",
              "40210                                                NaN  ...        NaN\n",
              "40211                                                NaN  ...        NaN\n",
              "40212                                                NaN  ...        NaN\n",
              "40213  ----------------------------------------------...  ...        NaN\n",
              "\n",
              "[40214 rows x 7 columns]"
            ]
          },
          "metadata": {
            "tags": []
          },
          "execution_count": 19
        }
      ]
    },
    {
      "cell_type": "markdown",
      "metadata": {
        "id": "xbbccQS8mWI6"
      },
      "source": [
        "## 3.2 Eliminando linhas ou colunas"
      ]
    },
    {
      "cell_type": "markdown",
      "metadata": {
        "id": "EayxFeAxmbMH"
      },
      "source": [
        "### 3.2.1 drop"
      ]
    },
    {
      "cell_type": "markdown",
      "metadata": {
        "id": "ctj3-lfznN4R"
      },
      "source": [
        "**Sintaxe:** df.drop(list, axis=int) \n",
        "\n",
        "**Parâmetros:**\n",
        "1. list: lista de colunas ou linhas que se deseja deletar\n",
        "2. int: 0 -> deletando linhas , 1 -> deletando colunas\n"
      ]
    },
    {
      "cell_type": "code",
      "metadata": {
        "id": "Z6Wk8Q7snlS1"
      },
      "source": [
        "#deletando colunas\n",
        "df_vendas = df_vendas.drop(['unnamed:_0', 'unnamed:_6'], axis = 1)"
      ],
      "execution_count": 20,
      "outputs": []
    },
    {
      "cell_type": "code",
      "metadata": {
        "id": "HRCX1PAsnySn",
        "colab": {
          "base_uri": "https://localhost:8080/",
          "height": 0
        },
        "outputId": "6bcf4bb7-5dc3-4e42-cc81-210b7728419b"
      },
      "source": [
        "#deletando linhas\n",
        "df_vendas.drop([0,40213], axis = 0)"
      ],
      "execution_count": 21,
      "outputs": [
        {
          "output_type": "execute_result",
          "data": {
            "text/html": [
              "<div>\n",
              "<style scoped>\n",
              "    .dataframe tbody tr th:only-of-type {\n",
              "        vertical-align: middle;\n",
              "    }\n",
              "\n",
              "    .dataframe tbody tr th {\n",
              "        vertical-align: top;\n",
              "    }\n",
              "\n",
              "    .dataframe thead th {\n",
              "        text-align: right;\n",
              "    }\n",
              "</style>\n",
              "<table border=\"1\" class=\"dataframe\">\n",
              "  <thead>\n",
              "    <tr style=\"text-align: right;\">\n",
              "      <th></th>\n",
              "      <th>ped_bol</th>\n",
              "      <th>material</th>\n",
              "      <th>quantidade</th>\n",
              "      <th>montante</th>\n",
              "      <th>grp_merc</th>\n",
              "    </tr>\n",
              "  </thead>\n",
              "  <tbody>\n",
              "    <tr>\n",
              "      <th>1</th>\n",
              "      <td>900000000550488</td>\n",
              "      <td>205792.0</td>\n",
              "      <td>1,000</td>\n",
              "      <td>169,00</td>\n",
              "      <td>134001001.0</td>\n",
              "    </tr>\n",
              "    <tr>\n",
              "      <th>2</th>\n",
              "      <td>900000000550588</td>\n",
              "      <td>205792.0</td>\n",
              "      <td>1,000</td>\n",
              "      <td>169,00</td>\n",
              "      <td>134001001.0</td>\n",
              "    </tr>\n",
              "    <tr>\n",
              "      <th>3</th>\n",
              "      <td>900000000550646</td>\n",
              "      <td>205791.0</td>\n",
              "      <td>3,000</td>\n",
              "      <td>417,00</td>\n",
              "      <td>134001001.0</td>\n",
              "    </tr>\n",
              "    <tr>\n",
              "      <th>4</th>\n",
              "      <td>900000000550648</td>\n",
              "      <td>205792.0</td>\n",
              "      <td>1,000</td>\n",
              "      <td>169,00</td>\n",
              "      <td>134001001.0</td>\n",
              "    </tr>\n",
              "    <tr>\n",
              "      <th>5</th>\n",
              "      <td>900000000550841</td>\n",
              "      <td>205792.0</td>\n",
              "      <td>1,000</td>\n",
              "      <td>169,00</td>\n",
              "      <td>134001001.0</td>\n",
              "    </tr>\n",
              "    <tr>\n",
              "      <th>...</th>\n",
              "      <td>...</td>\n",
              "      <td>...</td>\n",
              "      <td>...</td>\n",
              "      <td>...</td>\n",
              "      <td>...</td>\n",
              "    </tr>\n",
              "    <tr>\n",
              "      <th>40208</th>\n",
              "      <td>900000001316980</td>\n",
              "      <td>206195.0</td>\n",
              "      <td>2,000</td>\n",
              "      <td>4,10</td>\n",
              "      <td>134001005.0</td>\n",
              "    </tr>\n",
              "    <tr>\n",
              "      <th>40209</th>\n",
              "      <td>900000001316980</td>\n",
              "      <td>206251.0</td>\n",
              "      <td>3,000</td>\n",
              "      <td>5,55</td>\n",
              "      <td>134001005.0</td>\n",
              "    </tr>\n",
              "    <tr>\n",
              "      <th>40210</th>\n",
              "      <td>900000001316980</td>\n",
              "      <td>205869.0</td>\n",
              "      <td>3,000</td>\n",
              "      <td>34,50</td>\n",
              "      <td>134001001.0</td>\n",
              "    </tr>\n",
              "    <tr>\n",
              "      <th>40211</th>\n",
              "      <td>900000001316980</td>\n",
              "      <td>206247.0</td>\n",
              "      <td>6,000</td>\n",
              "      <td>34,20</td>\n",
              "      <td>134001006.0</td>\n",
              "    </tr>\n",
              "    <tr>\n",
              "      <th>40212</th>\n",
              "      <td>900000001317024</td>\n",
              "      <td>205767.0</td>\n",
              "      <td>1,000</td>\n",
              "      <td>174,00</td>\n",
              "      <td>134001003.0</td>\n",
              "    </tr>\n",
              "  </tbody>\n",
              "</table>\n",
              "<p>40212 rows × 5 columns</p>\n",
              "</div>"
            ],
            "text/plain": [
              "               ped_bol  material  quantidade    montante     grp_merc\n",
              "1      900000000550488  205792.0      1,000      169,00   134001001.0\n",
              "2      900000000550588  205792.0      1,000      169,00   134001001.0\n",
              "3      900000000550646  205791.0      3,000      417,00   134001001.0\n",
              "4      900000000550648  205792.0      1,000      169,00   134001001.0\n",
              "5      900000000550841  205792.0      1,000      169,00   134001001.0\n",
              "...                ...       ...         ...         ...          ...\n",
              "40208  900000001316980  206195.0      2,000        4,10   134001005.0\n",
              "40209  900000001316980  206251.0      3,000        5,55   134001005.0\n",
              "40210  900000001316980  205869.0      3,000       34,50   134001001.0\n",
              "40211  900000001316980  206247.0      6,000       34,20   134001006.0\n",
              "40212  900000001317024  205767.0      1,000      174,00   134001003.0\n",
              "\n",
              "[40212 rows x 5 columns]"
            ]
          },
          "metadata": {
            "tags": []
          },
          "execution_count": 21
        }
      ]
    },
    {
      "cell_type": "markdown",
      "metadata": {
        "id": "JR0H6ev-oKwc"
      },
      "source": [
        "### 3.2.2 Selecionando colunas"
      ]
    },
    {
      "cell_type": "markdown",
      "metadata": {
        "id": "ufaXOrEnoOhD"
      },
      "source": [
        "**Sintaxe:** df[list].copy()\n",
        "\n",
        "**Parâmetros:**\n",
        "\n",
        "1. list: lista de colunas a manter"
      ]
    },
    {
      "cell_type": "code",
      "metadata": {
        "id": "TpXed4S3osRp"
      },
      "source": [
        "#posso alterar a ordem das colunas, pois cria cópia de algum resultado\n",
        "df_pedidos = df_pedidos[['ped_bol','data','status']].copy()"
      ],
      "execution_count": 22,
      "outputs": []
    },
    {
      "cell_type": "markdown",
      "metadata": {
        "id": "WC_pVSrEoT2t"
      },
      "source": [
        "### 3.2.3 dropna"
      ]
    },
    {
      "cell_type": "markdown",
      "metadata": {
        "id": "-9O8CqeUpfSF"
      },
      "source": [
        "**Sintaxe:** df.dropna(axis=int,subset=list)\n",
        "\n",
        "**Parâmetros:**\n",
        "1. axis= 0, linha; 1, colunas\n",
        "2. subset = lista de colunas selecionadas"
      ]
    },
    {
      "cell_type": "code",
      "metadata": {
        "id": "CEjyX9kWp8PQ"
      },
      "source": [
        "df_vendas = df_vendas.dropna(axis = 0, subset= ['ped_bol'])"
      ],
      "execution_count": 23,
      "outputs": []
    },
    {
      "cell_type": "code",
      "metadata": {
        "id": "AjvZ_litqFWA"
      },
      "source": [
        "df_endereco = df_endereco.dropna(axis = 0, subset = ['ped_bol'])"
      ],
      "execution_count": 24,
      "outputs": []
    },
    {
      "cell_type": "code",
      "metadata": {
        "id": "Q9VhImr3qoUq"
      },
      "source": [
        "df_endereco = df_endereco.dropna(axis=1)"
      ],
      "execution_count": 25,
      "outputs": []
    },
    {
      "cell_type": "code",
      "metadata": {
        "id": "I6gGL5Xzq7FP"
      },
      "source": [
        "df_pedidos = df_pedidos.dropna(axis=0, subset = ['ped_bol'])"
      ],
      "execution_count": 26,
      "outputs": []
    },
    {
      "cell_type": "code",
      "metadata": {
        "id": "dqnz5cRBq7EU",
        "colab": {
          "base_uri": "https://localhost:8080/",
          "height": 282
        },
        "outputId": "fa251d16-6eb4-44f1-820e-1c2ee96dd5bf"
      },
      "source": [
        "df_grupos_merc = df_grupos_merc.dropna(axis = 0, subset = ['ped_bol'])"
      ],
      "execution_count": 27,
      "outputs": [
        {
          "output_type": "error",
          "ename": "KeyError",
          "evalue": "ignored",
          "traceback": [
            "\u001b[0;31m---------------------------------------------------------------------------\u001b[0m",
            "\u001b[0;31mKeyError\u001b[0m                                  Traceback (most recent call last)",
            "\u001b[0;32m<ipython-input-27-5c02245afab5>\u001b[0m in \u001b[0;36m<module>\u001b[0;34m()\u001b[0m\n\u001b[0;32m----> 1\u001b[0;31m \u001b[0mdf_grupos_merc\u001b[0m \u001b[0;34m=\u001b[0m \u001b[0mdf_grupos_merc\u001b[0m\u001b[0;34m.\u001b[0m\u001b[0mdropna\u001b[0m\u001b[0;34m(\u001b[0m\u001b[0maxis\u001b[0m \u001b[0;34m=\u001b[0m \u001b[0;36m0\u001b[0m\u001b[0;34m,\u001b[0m \u001b[0msubset\u001b[0m \u001b[0;34m=\u001b[0m \u001b[0;34m[\u001b[0m\u001b[0;34m'ped_bol'\u001b[0m\u001b[0;34m]\u001b[0m\u001b[0;34m)\u001b[0m\u001b[0;34m\u001b[0m\u001b[0;34m\u001b[0m\u001b[0m\n\u001b[0m",
            "\u001b[0;32m/usr/local/lib/python3.7/dist-packages/pandas/core/frame.py\u001b[0m in \u001b[0;36mdropna\u001b[0;34m(self, axis, how, thresh, subset, inplace)\u001b[0m\n\u001b[1;32m   5002\u001b[0m             \u001b[0mcheck\u001b[0m \u001b[0;34m=\u001b[0m \u001b[0mindices\u001b[0m \u001b[0;34m==\u001b[0m \u001b[0;34m-\u001b[0m\u001b[0;36m1\u001b[0m\u001b[0;34m\u001b[0m\u001b[0;34m\u001b[0m\u001b[0m\n\u001b[1;32m   5003\u001b[0m             \u001b[0;32mif\u001b[0m \u001b[0mcheck\u001b[0m\u001b[0;34m.\u001b[0m\u001b[0many\u001b[0m\u001b[0;34m(\u001b[0m\u001b[0;34m)\u001b[0m\u001b[0;34m:\u001b[0m\u001b[0;34m\u001b[0m\u001b[0;34m\u001b[0m\u001b[0m\n\u001b[0;32m-> 5004\u001b[0;31m                 \u001b[0;32mraise\u001b[0m \u001b[0mKeyError\u001b[0m\u001b[0;34m(\u001b[0m\u001b[0mlist\u001b[0m\u001b[0;34m(\u001b[0m\u001b[0mnp\u001b[0m\u001b[0;34m.\u001b[0m\u001b[0mcompress\u001b[0m\u001b[0;34m(\u001b[0m\u001b[0mcheck\u001b[0m\u001b[0;34m,\u001b[0m \u001b[0msubset\u001b[0m\u001b[0;34m)\u001b[0m\u001b[0;34m)\u001b[0m\u001b[0;34m)\u001b[0m\u001b[0;34m\u001b[0m\u001b[0;34m\u001b[0m\u001b[0m\n\u001b[0m\u001b[1;32m   5005\u001b[0m             \u001b[0magg_obj\u001b[0m \u001b[0;34m=\u001b[0m \u001b[0mself\u001b[0m\u001b[0;34m.\u001b[0m\u001b[0mtake\u001b[0m\u001b[0;34m(\u001b[0m\u001b[0mindices\u001b[0m\u001b[0;34m,\u001b[0m \u001b[0maxis\u001b[0m\u001b[0;34m=\u001b[0m\u001b[0magg_axis\u001b[0m\u001b[0;34m)\u001b[0m\u001b[0;34m\u001b[0m\u001b[0;34m\u001b[0m\u001b[0m\n\u001b[1;32m   5006\u001b[0m \u001b[0;34m\u001b[0m\u001b[0m\n",
            "\u001b[0;31mKeyError\u001b[0m: ['ped_bol']"
          ]
        }
      ]
    },
    {
      "cell_type": "markdown",
      "metadata": {
        "id": "S-aE43I1qR4L"
      },
      "source": [
        "## 3.3 Tipos de colunas"
      ]
    },
    {
      "cell_type": "markdown",
      "metadata": {
        "id": "w-ZdtOy2qVBJ"
      },
      "source": [
        "**Sintaxe:**\n",
        "\n",
        "df.dtypes\n",
        "\n",
        "* verificar tipagens das colunas"
      ]
    },
    {
      "cell_type": "code",
      "metadata": {
        "id": "l-Zxv2a6rQ2F"
      },
      "source": [
        "df_grupos_merc.dtypes"
      ],
      "execution_count": null,
      "outputs": []
    },
    {
      "cell_type": "markdown",
      "metadata": {
        "id": "wkEr7MtaYaGZ"
      },
      "source": [
        "**Sintaxe:** \n",
        "\n",
        " df['coluna'].unique()\n",
        "\n",
        "  * Conseguir visualizar se as strings de uma coluna tem caracteres \"lixo\"\n"
      ]
    },
    {
      "cell_type": "code",
      "metadata": {
        "id": "AqkC2FR6YnWo"
      },
      "source": [
        "df_grupos_merc['descricao'].unique()"
      ],
      "execution_count": null,
      "outputs": []
    },
    {
      "cell_type": "code",
      "metadata": {
        "id": "sgh2OVWVY2FB"
      },
      "source": [
        "df_status.dtypes"
      ],
      "execution_count": null,
      "outputs": []
    },
    {
      "cell_type": "code",
      "metadata": {
        "id": "w1OHEyGEY87R"
      },
      "source": [
        "#Para aplicar funções especícas de string em uma coluna completa de um dataframe usar o .str antes da função\n",
        "df_status['ped_bol'] = df_status['ped_bol'].str.strip()"
      ],
      "execution_count": null,
      "outputs": []
    },
    {
      "cell_type": "code",
      "metadata": {
        "id": "wpwaYOCnZBBx"
      },
      "source": [
        "df_status['status'] = df_status['status'].str.strip()\n"
      ],
      "execution_count": null,
      "outputs": []
    },
    {
      "cell_type": "markdown",
      "metadata": {
        "id": "sktefdcpZKEB"
      },
      "source": [
        "**Sintaxe:**\n",
        "\n",
        "pd.to_datetime(df['coluna'], format=string) \n",
        "\n",
        "Alterando do tipo string para o datetime\n",
        "1. string: formato da data como string\n",
        "dia -> %d , mês -> %m , ano -> %Y , hora -> %H, minuto -> %M, segundo -> %S"
      ]
    },
    {
      "cell_type": "code",
      "metadata": {
        "id": "Jf2u-HurZSUz"
      },
      "source": [
        "df_status['data'] = pd.to_datetime(df_status['data'], format='%d.%m.%Y')\n"
      ],
      "execution_count": null,
      "outputs": []
    },
    {
      "cell_type": "code",
      "metadata": {
        "id": "2ITB67j4ZW0c"
      },
      "source": [
        "df_vendas.dtypes"
      ],
      "execution_count": null,
      "outputs": []
    },
    {
      "cell_type": "code",
      "metadata": {
        "id": "dbuPvuXpZdCd"
      },
      "source": [
        "df_vendas['ped_bol'] = df_vendas['ped_bol'].str.strip()\n"
      ],
      "execution_count": null,
      "outputs": []
    },
    {
      "cell_type": "code",
      "metadata": {
        "id": "79WT9Sk2Zgus"
      },
      "source": [
        "df_vendas['material'] = df_vendas['material'].str.strip()"
      ],
      "execution_count": null,
      "outputs": []
    },
    {
      "cell_type": "code",
      "metadata": {
        "id": "trsanJ_bZjmE"
      },
      "source": [
        "df_vendas['grp_merc'] = df_vendas['grp_merc'].str.strip()\n",
        "  "
      ],
      "execution_count": null,
      "outputs": []
    },
    {
      "cell_type": "markdown",
      "metadata": {
        "id": "96EOkqPNZneD"
      },
      "source": [
        "**Sintaxe:**\n",
        "df['coluna'].astype(n) \n",
        "\n",
        "* Para alterar tipo entre inteiros, decimais e caracters: Onde n pode ser: 1. int - para converter para inteiro 2. str - para converter para string 3. oat - para converter para decima"
      ]
    },
    {
      "cell_type": "code",
      "metadata": {
        "id": "sGdDvlSoZvZ9"
      },
      "source": [
        "df_vendas['quantidade'] = df_vendas['quantidade'].str.strip().str.replace('.','').str.replace(',','.').astype(float).astype(i"
      ],
      "execution_count": null,
      "outputs": []
    },
    {
      "cell_type": "code",
      "metadata": {
        "id": "A0bOqcM1ai5P"
      },
      "source": [
        "df_vendas['montante'] = df_vendas['montante'].str.strip().str.replace('.','').str.replace(',','.').astype(float)"
      ],
      "execution_count": null,
      "outputs": []
    },
    {
      "cell_type": "code",
      "metadata": {
        "id": "P8Ntz_Cnak4v"
      },
      "source": [
        "df_endereco['ped_bol'] = df_endereco['ped_bol'].str.strip()"
      ],
      "execution_count": null,
      "outputs": []
    },
    {
      "cell_type": "code",
      "metadata": {
        "id": "6p8Gc7z1amYB"
      },
      "source": [
        "df_endereco['bairro'] = df_endereco['bairro'].str.strip()"
      ],
      "execution_count": null,
      "outputs": []
    },
    {
      "cell_type": "code",
      "metadata": {
        "id": "ToWR-y0fanpf"
      },
      "source": [
        "df_endereco['uf'] = df_endereco['uf'].str.strip()"
      ],
      "execution_count": null,
      "outputs": []
    },
    {
      "cell_type": "markdown",
      "metadata": {
        "id": "AKfnI7iijR6_"
      },
      "source": [
        "### Tratar o formato das letras"
      ]
    },
    {
      "cell_type": "markdown",
      "metadata": {
        "id": "GEVEh8m9l7e_"
      },
      "source": [
        "**Sintaxe:** \n",
        "df.apply (função, axis = 1) -> tabela inteira\n",
        "df['coluna'].apply (função) -> coluna específica\n",
        "\n",
        "Observação: Será instalado a biblioteca unidecode\n",
        "\n"
      ]
    },
    {
      "cell_type": "code",
      "metadata": {
        "id": "EKvXlBJKjw3w"
      },
      "source": [
        "df_endereco['bairro'].apply(unidecode)"
      ],
      "execution_count": null,
      "outputs": []
    },
    {
      "cell_type": "code",
      "metadata": {
        "id": "iuIs-ZDHmGkf"
      },
      "source": [
        "#Observar que estamos alterando, mas atribuindo somente para 1 coluna\n",
        "df_endereco = df_endereco['bairro'].apply(unidecode).str.upper()"
      ],
      "execution_count": null,
      "outputs": []
    },
    {
      "cell_type": "markdown",
      "metadata": {
        "id": "kQ3dDLADikjf"
      },
      "source": [
        "# **4 Tratamento de Dados (Regra de Negócio)**"
      ]
    },
    {
      "cell_type": "markdown",
      "metadata": {
        "id": "yacvhPSjiuwW"
      },
      "source": [
        "## 4.1  Drop duplicates"
      ]
    },
    {
      "cell_type": "markdown",
      "metadata": {
        "id": "iubXzF5oi2Du"
      },
      "source": [
        "**Sintaxe:**\n",
        "df.drop_duplicates(subset=list, keep = string) \n",
        "1. list: selecionar as colunas que se deseja eliminar os duplicados \n",
        "2. keep: 'rst' -> mantém a primeira linha / 'last' -> mantém a última linha\n",
        "\n",
        "* Elimando linhas duplicadas\n"
      ]
    },
    {
      "cell_type": "code",
      "metadata": {
        "id": "W2GGzvrPjGK9"
      },
      "source": [
        "df_endereco = df_endereco.drop_duplicates(subset=['ped_bol'], keep = 'last')"
      ],
      "execution_count": null,
      "outputs": []
    },
    {
      "cell_type": "markdown",
      "metadata": {
        "id": "vT08Mz6N25tv"
      },
      "source": [
        "**Sintaxe:** \n",
        "df.reset_index(drop=boolean) \n",
        "\n",
        "1. boolean: True -> apaga a coluna index que será criada / False -> mantém"
      ]
    },
    {
      "cell_type": "code",
      "metadata": {
        "id": "wC52jPB52-uE"
      },
      "source": [
        "df_endereco = df_endereco.reset_index(drop=True)"
      ],
      "execution_count": null,
      "outputs": []
    },
    {
      "cell_type": "markdown",
      "metadata": {
        "id": "gTouLbYj3Bi8"
      },
      "source": [
        "## 4.2 Filtros"
      ]
    },
    {
      "cell_type": "markdown",
      "metadata": {
        "id": "WnrIU6Cl3QWV"
      },
      "source": [
        "**Sintaxe:**\n",
        " df[condição].copy() \n",
        " df[(condição 1) operador lógico (condição 2) ...].copy() \n",
        " \n",
        " 1. operador: and (e) -> &, or (ou) -> |, not (negar) -> ~ \n",
        " 2. condicao: == (igual), != (diferente), < ou <=, > ou >="
      ]
    },
    {
      "cell_type": "code",
      "metadata": {
        "id": "yBoAOjMn3Z6t"
      },
      "source": [
        "df_status = df_status[(df_status['status']!='4A') & (df_status['status'] != '4B')].copy()"
      ],
      "execution_count": null,
      "outputs": []
    },
    {
      "cell_type": "markdown",
      "metadata": {
        "id": "IQvuOVJ35u5Y"
      },
      "source": [
        "## 4.3 Agrupamento de Dados"
      ]
    },
    {
      "cell_type": "markdown",
      "metadata": {
        "id": "JiJu-1lW7zq5"
      },
      "source": [
        "**Sintaxe:** \n",
        "df.groupby(list).agg(dict)\n",
        " 1. list: lista de colunas a serem agrupadas \n",
        " 2. dict: informar o que fazer com o restante das colunas\n",
        " {'coluna1': 'função1', 'coluna2': 'função2',...} \n",
        " * função: 'rst', 'last', 'min', 'max', 'sum', 'median', 'mean'\n"
      ]
    },
    {
      "cell_type": "code",
      "metadata": {
        "id": "BuZWLmrV5xVH"
      },
      "source": [
        "df_vendas = df_vendas.groupby(['ped_bol', 'grp_merc']).agg({'quantidade':'sum', 'montante':'sum'}).reset_index()"
      ],
      "execution_count": null,
      "outputs": []
    },
    {
      "cell_type": "markdown",
      "metadata": {
        "id": "C504i1067-zY"
      },
      "source": [
        "# **5 Correlação de Dados**"
      ]
    },
    {
      "cell_type": "markdown",
      "metadata": {
        "id": "kXenndq98Mqz"
      },
      "source": [
        "**Sintaxe:** \n",
        "pd.merge(df_esquerda, df_direita, on=list, how=string)\n",
        " 1. list: colunas em comum entre as duas tabelas \n",
        " 2. how: como ele vai unir as duas tabelas\n",
        " \n",
        "'left' -> priorizar a tabela da esquerda 'right'-> priorizar a tabela da direita 'inner' -> igualmente para as duas 'outer' -> retorna todos os dados\n"
      ]
    },
    {
      "cell_type": "code",
      "metadata": {
        "id": "tfOTtHoljXu2"
      },
      "source": [
        "#Criando um DataFrame 1  para demonstrar o uso da correlação de dados\n",
        "df1 = pd.DataFrame({'material': ['FOGÃO', 'GELADEIRA'], 'valor':[350, 1200]})\n",
        "df1"
      ],
      "execution_count": null,
      "outputs": []
    },
    {
      "cell_type": "code",
      "metadata": {
        "id": "b-ibDlxQjw0w"
      },
      "source": [
        "#Criando um DataFrame 2  para demonstrar o uso da correlação de dados\n",
        "df2 = pd.DataFrame({'material': ['GELADEIRA', 'XBOX'], 'quantidade':[2, 5]})\n",
        "df2\n"
      ],
      "execution_count": null,
      "outputs": []
    },
    {
      "cell_type": "code",
      "metadata": {
        "id": "bT-iBip2j72Q"
      },
      "source": [
        "pd.merge(df1, df2, on=['material'], how='left')"
      ],
      "execution_count": null,
      "outputs": []
    },
    {
      "cell_type": "code",
      "metadata": {
        "id": "itQawN3Tj8Ww"
      },
      "source": [
        "pd.merge(df1, df2, on=['material'], how='right')\n"
      ],
      "execution_count": null,
      "outputs": []
    },
    {
      "cell_type": "code",
      "metadata": {
        "id": "jFYkJejhkB-J"
      },
      "source": [
        "pd.merge(df1, df2, on=['material'], how='inner')\n"
      ],
      "execution_count": null,
      "outputs": []
    },
    {
      "cell_type": "code",
      "metadata": {
        "id": "HOBWEGmwkG9Z"
      },
      "source": [
        "pd.merge(df1, df2, on=['material'], how='outer')\n"
      ],
      "execution_count": null,
      "outputs": []
    },
    {
      "cell_type": "markdown",
      "metadata": {
        "id": "Eu6uHr5c8qMs"
      },
      "source": [
        "* Para setar um valor aos registros faltantes. Por exemplo: setar 0 \n",
        "\n",
        "**fillna(valor)**\n",
        "\n",
        " **Sintaxe:** df.fillna(valor) df['coluna'].fillna(valor)\n",
        "\n",
        "valor -> string, int, float, boolean"
      ]
    },
    {
      "cell_type": "code",
      "metadata": {
        "id": "JmXT3M3x9Mtp"
      },
      "source": [
        "pd.merge(df1, df2, on=['material'], how='outer').fillna(0)"
      ],
      "execution_count": null,
      "outputs": []
    },
    {
      "cell_type": "markdown",
      "metadata": {
        "id": "6VIRmWBa9okL"
      },
      "source": [
        "**Agora vamos trabalhar no nosso merge**"
      ]
    },
    {
      "cell_type": "code",
      "metadata": {
        "id": "OZJ1YjPy9fWb"
      },
      "source": [
        "df_status.head(2)"
      ],
      "execution_count": null,
      "outputs": []
    },
    {
      "cell_type": "code",
      "metadata": {
        "id": "UZUA-FV69iVD"
      },
      "source": [
        "df_endereco.head(2)"
      ],
      "execution_count": null,
      "outputs": []
    },
    {
      "cell_type": "code",
      "metadata": {
        "id": "inOpXTNN9weq"
      },
      "source": [
        "df_dados = pd.merge(df_status, df_endereco, on=['ped_bol'], how='left')"
      ],
      "execution_count": null,
      "outputs": []
    },
    {
      "cell_type": "code",
      "metadata": {
        "id": "7Pfn_AHS90hr"
      },
      "source": [
        "df_dados.head(2)"
      ],
      "execution_count": null,
      "outputs": []
    },
    {
      "cell_type": "code",
      "metadata": {
        "id": "razgy5FV91Zs"
      },
      "source": [
        "df_vendas.head(2)"
      ],
      "execution_count": null,
      "outputs": []
    },
    {
      "cell_type": "code",
      "metadata": {
        "id": "z2LVpYTK9_Mi"
      },
      "source": [
        "df_dados = pd.merge(df_dados, df_vendas, on=['ped_bol'], how='left')"
      ],
      "execution_count": null,
      "outputs": []
    },
    {
      "cell_type": "code",
      "metadata": {
        "id": "NpoTcIdh-DnD"
      },
      "source": [
        "df_dados.head(2)"
      ],
      "execution_count": null,
      "outputs": []
    },
    {
      "cell_type": "code",
      "metadata": {
        "id": "TIgQYEFD-M3M"
      },
      "source": [
        "df_grupos.head(2)"
      ],
      "execution_count": null,
      "outputs": []
    },
    {
      "cell_type": "code",
      "metadata": {
        "id": "dxtcuoRX-Tmk"
      },
      "source": [
        "df_dados = pd.merge(df_dados, df_grupos, on=['grp_merc'], how='left')"
      ],
      "execution_count": null,
      "outputs": []
    },
    {
      "cell_type": "markdown",
      "metadata": {
        "id": "lbRxPP8v-h0B"
      },
      "source": [
        "# **6 Manipulação de Dados**"
      ]
    },
    {
      "cell_type": "markdown",
      "metadata": {
        "id": "rNPvARrS-vUk"
      },
      "source": [
        "## 6.1 Identificação de Outliers"
      ]
    },
    {
      "cell_type": "code",
      "metadata": {
        "id": "pdFA_nxr-2fG"
      },
      "source": [
        "# descreve a estrutura de tabelas com suas colunas e tipo de dados\n",
        "df_dados['montante'].describe() "
      ],
      "execution_count": null,
      "outputs": []
    },
    {
      "cell_type": "code",
      "metadata": {
        "id": "cBsG0evjF-y7"
      },
      "source": [
        "df_dados['montante'].plot.hist()"
      ],
      "execution_count": null,
      "outputs": []
    },
    {
      "cell_type": "code",
      "metadata": {
        "id": "_QXiDNfeHYdA"
      },
      "source": [
        "df_dados.boxplot(column='montante')"
      ],
      "execution_count": null,
      "outputs": []
    },
    {
      "cell_type": "code",
      "metadata": {
        "id": "Wyzk2IIFHaNP"
      },
      "source": [
        "df_dados[df_dados['montante']==18720]"
      ],
      "execution_count": null,
      "outputs": []
    },
    {
      "cell_type": "code",
      "metadata": {
        "id": "mEfUs_GlHdiP"
      },
      "source": [
        "df_dados.shape"
      ],
      "execution_count": null,
      "outputs": []
    },
    {
      "cell_type": "code",
      "metadata": {
        "id": "uE3qN3fEHg5v"
      },
      "source": [
        "df_dados = df_dados[df_dados['montante']<2500].copy()"
      ],
      "execution_count": null,
      "outputs": []
    },
    {
      "cell_type": "markdown",
      "metadata": {
        "id": "weMCn1bYIL9J"
      },
      "source": [
        "## 6.2 UF"
      ]
    },
    {
      "cell_type": "code",
      "metadata": {
        "id": "VBjRP0hXIVL7"
      },
      "source": [
        "df_uf = df_dados.groupby(['uf']).agg({'montante':'sum'}).reset_index()"
      ],
      "execution_count": null,
      "outputs": []
    },
    {
      "cell_type": "markdown",
      "metadata": {
        "id": "SHL_X9_LIWgK"
      },
      "source": [
        "**Ordenar Valores**\n",
        "\n",
        "**Sintaxe:** df.sort_values(list, ascending = list)\n",
        "\n",
        "list: colunas bases a serem ordenadas\n",
        "list: valores booleanos = True: ordenar em ordem crescente / False: ordenar em ordem decrescente"
      ]
    },
    {
      "cell_type": "code",
      "metadata": {
        "id": "U9thECR2Ig37"
      },
      "source": [
        "df_uf = df_uf.sort_values(['montante'], ascending = False).reset_index(drop=True)"
      ],
      "execution_count": null,
      "outputs": []
    },
    {
      "cell_type": "code",
      "metadata": {
        "id": "633qevslImRP"
      },
      "source": [
        "soma = df_uf['montante'].sum()"
      ],
      "execution_count": null,
      "outputs": []
    },
    {
      "cell_type": "code",
      "metadata": {
        "id": "EiB3etGIIpBD"
      },
      "source": [
        "df_uf['%_vendas'] =  df_uf['montante'] / soma"
      ],
      "execution_count": null,
      "outputs": []
    },
    {
      "cell_type": "code",
      "metadata": {
        "id": "LttImQDgIrhc"
      },
      "source": [
        "df_uf.head()"
      ],
      "execution_count": null,
      "outputs": []
    },
    {
      "cell_type": "markdown",
      "metadata": {
        "id": "uqAEAcnZIxiT"
      },
      "source": [
        "## 6.3 Bairro"
      ]
    },
    {
      "cell_type": "code",
      "metadata": {
        "id": "Eijte2udI2Kk"
      },
      "source": [
        "df_temp = df_dados.groupby(['uf','bairro']).agg({'montante':'sum'}).reset_index()"
      ],
      "execution_count": null,
      "outputs": []
    },
    {
      "cell_type": "code",
      "metadata": {
        "id": "-ZePWXn5JGCt"
      },
      "source": [
        "df_temp['uf'].unique()"
      ],
      "execution_count": null,
      "outputs": []
    },
    {
      "cell_type": "code",
      "metadata": {
        "id": "aBvW54eCJGwl"
      },
      "source": [
        "df_temp2 = df_temp[df_temp['uf']=='SP'].copy()"
      ],
      "execution_count": null,
      "outputs": []
    },
    {
      "cell_type": "code",
      "metadata": {
        "id": "EetflgpYJJeI"
      },
      "source": [
        "df_temp2 = df_temp2.sort_values(['montante'],ascending=False)"
      ],
      "execution_count": null,
      "outputs": []
    },
    {
      "cell_type": "code",
      "metadata": {
        "id": "cSlQOBu0JMbM"
      },
      "source": [
        "soma = df_temp2['montante'].sum()"
      ],
      "execution_count": null,
      "outputs": []
    },
    {
      "cell_type": "code",
      "metadata": {
        "id": "uk9JGQDMJOJV"
      },
      "source": [
        "df_temp2['%_vendas'] = df_temp2['montante'] / soma"
      ],
      "execution_count": null,
      "outputs": []
    },
    {
      "cell_type": "code",
      "metadata": {
        "id": "3kCy8GF7JRPD"
      },
      "source": [
        "df_temp3 = df_temp[df_temp['uf']=='AM'].copy()"
      ],
      "execution_count": null,
      "outputs": []
    },
    {
      "cell_type": "code",
      "metadata": {
        "id": "BpChycgxJQT8"
      },
      "source": [
        "df_temp3 = df_temp3.sort_values(['montante'],ascending=False)"
      ],
      "execution_count": null,
      "outputs": []
    },
    {
      "cell_type": "code",
      "metadata": {
        "id": "xqSCOe1mJVkM"
      },
      "source": [
        "soma = df_temp3['montante'].sum()"
      ],
      "execution_count": null,
      "outputs": []
    },
    {
      "cell_type": "code",
      "metadata": {
        "id": "vr4ElE18JXa8"
      },
      "source": [
        "df_temp3 = df_temp3.head(10).copy()"
      ],
      "execution_count": null,
      "outputs": []
    },
    {
      "cell_type": "code",
      "metadata": {
        "id": "hmmYt0iLJZB0"
      },
      "source": [
        "df_temp3['%_vendas'] = df_temp3['montante'] / soma"
      ],
      "execution_count": null,
      "outputs": []
    },
    {
      "cell_type": "code",
      "metadata": {
        "id": "2wJQyuqJJaf1"
      },
      "source": [
        "df_temp2.head(2)"
      ],
      "execution_count": null,
      "outputs": []
    },
    {
      "cell_type": "code",
      "metadata": {
        "id": "hmHYsIbNJckN"
      },
      "source": [
        "df_temp3.head(2)"
      ],
      "execution_count": null,
      "outputs": []
    },
    {
      "cell_type": "markdown",
      "metadata": {
        "id": "KYO1TyZzJe8V"
      },
      "source": [
        "**Concatenar tabelas**\n",
        "\n",
        "**Sintaxe:** pd.concat(list)\n",
        "\n",
        "list: lista de tabelas a serem unidas"
      ]
    },
    {
      "cell_type": "code",
      "metadata": {
        "id": "s03fH_B5JnC3"
      },
      "source": [
        "pd.concat([df_temp2,df_temp3])"
      ],
      "execution_count": null,
      "outputs": []
    },
    {
      "cell_type": "code",
      "metadata": {
        "id": "_fzcOMjDJn-V"
      },
      "source": [
        "df_bairro = pd.DataFrame()"
      ],
      "execution_count": null,
      "outputs": []
    },
    {
      "cell_type": "code",
      "metadata": {
        "id": "AwS-_g1oJpro"
      },
      "source": [
        "for UF in df_temp['uf'].unique():\n",
        "  df_temp2 = df_temp[df_temp['uf']==UF].copy()\n",
        "  df_temp2 = df_temp2.sort_values(['montante'],ascending=False)\n",
        "  soma = df_temp2['montante'].sum()\n",
        "  df_temp2 = df_temp2.head(10).copy()\n",
        "  df_temp2['%_vendas'] = df_temp2['montante'] / soma\n",
        "  df_bairro = pd.concat([df_bairro,df_temp2])"
      ],
      "execution_count": null,
      "outputs": []
    },
    {
      "cell_type": "markdown",
      "metadata": {
        "id": "svgOeSi6Jsmm"
      },
      "source": [
        "##6.4 Grupo de Mercadorias"
      ]
    },
    {
      "cell_type": "markdown",
      "metadata": {
        "id": "kTeo4o-jJzPt"
      },
      "source": [
        "**Categorias ABC**\n",
        "\n",
        "1. A -> representam até 70% do faturamento\n",
        "2. B -> representam até 90% do faturamento\n",
        "3. C -? representem os últimos 10%"
      ]
    },
    {
      "cell_type": "code",
      "metadata": {
        "id": "s15SYOyNJ1hm"
      },
      "source": [
        "df_temp = df_dados.groupby(['uf','bairro','descricao']).agg({'montante':'sum'}).reset_index()"
      ],
      "execution_count": null,
      "outputs": []
    },
    {
      "cell_type": "code",
      "metadata": {
        "id": "nDKqtR3lJ9jF"
      },
      "source": [
        "df_temp2 = df_temp[df_temp['uf']=='AM'].copy()"
      ],
      "execution_count": null,
      "outputs": []
    },
    {
      "cell_type": "code",
      "metadata": {
        "id": "IQoc2up1J_UF"
      },
      "source": [
        "df_temp3 = df_temp2[df_temp2['bairro']=='ZUMBI DOS PALMARES'].copy()"
      ],
      "execution_count": null,
      "outputs": []
    },
    {
      "cell_type": "code",
      "metadata": {
        "id": "8NVgnWdPKBkh"
      },
      "source": [
        "soma = df_temp3['montante'].sum()"
      ],
      "execution_count": null,
      "outputs": []
    },
    {
      "cell_type": "code",
      "metadata": {
        "id": "6lSQgIcyKDbF"
      },
      "source": [
        "df_temp3['%_vendas'] = df_temp3['montante'] / soma"
      ],
      "execution_count": null,
      "outputs": []
    },
    {
      "cell_type": "code",
      "metadata": {
        "id": "HJ_FJvvNKFSl"
      },
      "source": [
        "df_temp3 = df_temp3.sort_values('%_vendas',ascending=False)"
      ],
      "execution_count": null,
      "outputs": []
    },
    {
      "cell_type": "code",
      "metadata": {
        "id": "fKeLPP-uKHPu"
      },
      "source": [
        "df_temp3['categoria'] = df_temp3['%_vendas'].expanding().sum()"
      ],
      "execution_count": null,
      "outputs": []
    },
    {
      "cell_type": "code",
      "metadata": {
        "id": "7_Bt91E6KI-P"
      },
      "source": [
        "def categorizar_abc(valor):\n",
        "  if valor<=0.7:\n",
        "    return 'A'\n",
        "  elif valor<=0.9:\n",
        "    return 'B'\n",
        "  else:\n",
        "    return 'C'"
      ],
      "execution_count": null,
      "outputs": []
    },
    {
      "cell_type": "code",
      "metadata": {
        "id": "7Cgqa6bIKLs2"
      },
      "source": [
        "df_temp3['categoria_abc'] = df_temp3['categoria'].apply(categorizar_abc)"
      ],
      "execution_count": null,
      "outputs": []
    },
    {
      "cell_type": "code",
      "metadata": {
        "id": "09K5UKokKOKA"
      },
      "source": [
        "df_categorias = pd.DataFrame()\n",
        "\n",
        "for UF in df_temp['uf'].unique():\n",
        "  df_temp2 = df_temp[df_temp['uf']==UF].copy()\n",
        "  for BAIRRO in df_temp2['bairro'].unique(): \n",
        "    df_temp3 = df_temp2[df_temp2['bairro']==BAIRRO].copy()\n",
        "    soma = df_temp3['montante'].sum()\n",
        "    df_temp3['%_vendas'] = df_temp3['montante'] / soma\n",
        "    df_temp3 = df_temp3.sort_values('%_vendas',ascending=False)\n",
        "    df_temp3['categoria'] = df_temp3['%_vendas'].expanding().sum()\n",
        "    df_temp3['categoria_abc'] = df_temp3['categoria'].apply(categorizar_abc)\n",
        "    df_categorias = pd.concat([df_categorias,df_temp3])"
      ],
      "execution_count": null,
      "outputs": []
    },
    {
      "cell_type": "code",
      "metadata": {
        "id": "r_2aD1IeKSiK"
      },
      "source": [
        "df_uf.head()"
      ],
      "execution_count": null,
      "outputs": []
    },
    {
      "cell_type": "code",
      "metadata": {
        "id": "kLkHDib8KVTv"
      },
      "source": [
        "df_bairro.head()"
      ],
      "execution_count": null,
      "outputs": []
    },
    {
      "cell_type": "code",
      "metadata": {
        "id": "xq0ZutJoKXhG"
      },
      "source": [
        "df_categorias.head()"
      ],
      "execution_count": null,
      "outputs": []
    },
    {
      "cell_type": "markdown",
      "metadata": {
        "id": "rKW3sHSvKZJB"
      },
      "source": [
        "# **7 Exportando os Dados**"
      ]
    },
    {
      "cell_type": "markdown",
      "metadata": {
        "id": "Q-MvZNgXKf8S"
      },
      "source": [
        "## 7.1 Exportando em Excel"
      ]
    },
    {
      "cell_type": "markdown",
      "metadata": {
        "id": "UCXFNywlKmA3"
      },
      "source": [
        "**Sintaxe:**\n",
        "writer = pd.ExcelWriter(string)\n",
        "\n",
        "df.to_excel(writer, sheet_name = string)\n",
        "df2.to_excel(writer, sheet_name = string2)\n",
        "\n",
        "writer.save()\n",
        "\n",
        "1. string: nome do arquivo em excel\n",
        "2. sheet_name: nome da aba"
      ]
    },
    {
      "cell_type": "code",
      "metadata": {
        "id": "sLnVlVpfKtmY"
      },
      "source": [
        "writer = pd.ExcelWriter('Localidade.xlsx')\n",
        "\n",
        "df_uf.to_excel(writer, sheet_name = 'Estado', index=False)\n",
        "df_bairro.to_excel(writer, sheet_name = 'Bairro', index=False)\n",
        "\n",
        "writer.save()"
      ],
      "execution_count": null,
      "outputs": []
    },
    {
      "cell_type": "markdown",
      "metadata": {
        "id": "OthwGomGKdsd"
      },
      "source": [
        "## 7.2 Exportando em CSV ou TXT"
      ]
    },
    {
      "cell_type": "markdown",
      "metadata": {
        "id": "uxSG_utkK2wZ"
      },
      "source": [
        "**Sintaxe:**\n",
        "df.to_csv(string,sep=string,index=boolean)\n",
        "\n",
        "string= nome do arquivo\n",
        "sep = separador de dados\n",
        "index= True: exportar com index, False: exportar sem index"
      ]
    },
    {
      "cell_type": "code",
      "metadata": {
        "id": "L3RIr5BjK7VK"
      },
      "source": [
        "df_categorias.to_csv('categorias_abc.csv',sep=',',index=False)"
      ],
      "execution_count": null,
      "outputs": []
    },
    {
      "cell_type": "markdown",
      "metadata": {
        "id": "l8gJvTP9GGIU"
      },
      "source": [
        "# **8 Visualização de dados**"
      ]
    },
    {
      "cell_type": "markdown",
      "metadata": {
        "id": "F3Aol2zyGyk4"
      },
      "source": [
        "## 8.1 Carregando as tabelas de vendas e categoria ABC"
      ]
    },
    {
      "cell_type": "markdown",
      "metadata": {
        "id": "VUrWk3HdG49B"
      },
      "source": [
        "### 8.1.1 Tabela de vendas por Estado:"
      ]
    },
    {
      "cell_type": "code",
      "metadata": {
        "id": "8sVz0kA-G7gC"
      },
      "source": [
        "vendas_est = pd.read_excel('Localidade.xlsx', sheet_name='Estado')\n",
        "vendas_est"
      ],
      "execution_count": null,
      "outputs": []
    },
    {
      "cell_type": "markdown",
      "metadata": {
        "id": "Ed-dOIbTHDWy"
      },
      "source": [
        "### 8.1.2 Tabela de vendas por bairros:"
      ]
    },
    {
      "cell_type": "code",
      "metadata": {
        "id": "Yv3GrPR4HGfa"
      },
      "source": [
        "vendas_bai = pd.read_excel('Localidade.xlsx', sheet_name='Bairro')\n",
        "vendas_bai"
      ],
      "execution_count": null,
      "outputs": []
    },
    {
      "cell_type": "markdown",
      "metadata": {
        "id": "Lx44zO9bHLv0"
      },
      "source": [
        "### 8.1.3 Tabela de categorização ABC:"
      ]
    },
    {
      "cell_type": "code",
      "metadata": {
        "id": "VWZ7PcvQIkib"
      },
      "source": [
        ""
      ],
      "execution_count": null,
      "outputs": []
    }
  ]
}