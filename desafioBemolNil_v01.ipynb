{
  "nbformat": 4,
  "nbformat_minor": 0,
  "metadata": {
    "colab": {
      "name": "desafioBemolNil_v01.ipynb",
      "provenance": [],
      "collapsed_sections": [],
      "authorship_tag": "ABX9TyMbtlNwVTH7Ej0liFop07jw",
      "include_colab_link": true
    },
    "kernelspec": {
      "name": "python3",
      "display_name": "Python 3"
    },
    "language_info": {
      "name": "python"
    }
  },
  "cells": [
    {
      "cell_type": "markdown",
      "metadata": {
        "id": "view-in-github",
        "colab_type": "text"
      },
      "source": [
        "<a href=\"https://colab.research.google.com/github/NilmaraSalgado/EducacaoBemolDigital/blob/main/desafioBemolNil_v01.ipynb\" target=\"_parent\"><img src=\"https://colab.research.google.com/assets/colab-badge.svg\" alt=\"Open In Colab\"/></a>"
      ]
    },
    {
      "cell_type": "markdown",
      "metadata": {
        "id": "_VZZeWgY_doe"
      },
      "source": [
        "**1.** Uma informação importante para varejistas, como a Bemol, é o Lead Time (LT) de entrega das mercadorias compradas. Ou seja, o período de espera até o recebimento de um produto, contando a partir da confirmação de compra com o fornecedor. Sabendo disso, queremos que você nos ajude a identificar o **LT médio de entrega** que alguns dos nossos fornecedores possuem, a partir de um breve histórico.\n",
        "\n",
        "Para resolver esse problema, nós extraímos dois arquivos para você trabalhar:\n",
        "**entregas_tab.txt** e **prods_tab.csv**. O primeiro, apresenta os dados em um formato específico do nosso sistema, separados por pipes (|). Já o segundo arquivo contém dados separados por vírgulas (.CSV), porém com algumas deficiências de formatação. Ambos os arquivos necessitam de um bom préprocessamento visando manter apenas informações relevantes, uma vez que há alguns ruídos como linhas repetidas ou em branco, caracteres indesejados, dados ausentes e espaços indesejados.\n",
        "\n",
        "Com esses arquivos, você deverá identificar o **tempo médio (em dias)** que dado fornecedor leva para entregar seus produtos ao nosso Centro de Distribuição.\n",
        "* O arquivo entregas_tab.txt apresenta um histórico contendo datas de compra e entrega de alguns produtos.\n",
        "* O arquivo prods_tab.csv contém o código dos fornecedores, além de dados como a descrição e o identificador dos produtos que ele vende. \n",
        "\n",
        "Você deverá usar esses dois arquivos para **gerar uma saída** com apenas duas colunas:  **fornecedor e lt**. \n",
        "\n",
        "**2.** Faça um merge utilizando os dois arquivos:\n",
        "clientes.txt\n",
        "bonus.txt\n",
        " A chave principal que relaciona um arquivo com o outro é o cliente. Vale lembrar que o arquivo\n",
        "**clientes.txt** está sem cabeçalho, também é seu desafio criá-los.\n",
        "A primeira coluna é o cliente, o restante das colunas fica a seu critério colocar o nome que quiser.\n",
        "Ao final, **classificar os clientes por pedras** (AZUL, PRATA, OURO, DIAMANTE e DIAMANTE+)\n",
        "Regras:\n",
        "pontos totais = saldo + historico\n",
        "AZUL: até 6000\n",
        "PRATA: até 10000\n",
        "OURO: até 20000\n",
        "DIAMANTE: até 50000\n",
        "DIAMANTE+: acima de 50000\n",
        "Sua saída deve ser um arquivo chamado \"DADOS.txt\". "
      ]
    },
    {
      "cell_type": "code",
      "metadata": {
        "id": "l0Vsa7nYGrOh"
      },
      "source": [
        "import pandas as pd"
      ],
      "execution_count": null,
      "outputs": []
    },
    {
      "cell_type": "markdown",
      "metadata": {
        "id": "05b3zS645poQ"
      },
      "source": [
        "## **1 Leitura de Arquivos**"
      ]
    },
    {
      "cell_type": "code",
      "metadata": {
        "id": "LEGTXfl3_zQH"
      },
      "source": [
        "#guardando na variável df_endereco (txt ou csv)\n",
        "df_bonus = pd.read_csv('bonus.txt',sep ='|', delimiter=\";\", skiprows = 0, encoding='latin-1', dtype={1:'str'})"
      ],
      "execution_count": null,
      "outputs": []
    },
    {
      "cell_type": "code",
      "metadata": {
        "id": "VzvY4E8IGAav"
      },
      "source": [
        "df_cliente = pd.read_csv('clientes.txt', sep = '|', skiprows = 0, encoding='latin-1',dtype={1:'str'})"
      ],
      "execution_count": null,
      "outputs": []
    },
    {
      "cell_type": "code",
      "metadata": {
        "id": "ibp_a1BFGUBA"
      },
      "source": [
        "df_entrega = pd.read_csv('entregas_tab.txt', sep='|', skiprows = 5, encoding='latin-1', dtype={1:'str'})"
      ],
      "execution_count": null,
      "outputs": []
    },
    {
      "cell_type": "code",
      "metadata": {
        "id": "whWgtBmuHz7d"
      },
      "source": [
        "df_prods_tab = pd.read_csv('prods_tab.csv', sep=',', skiprows = 0, encoding='latin-1', dtype={1:'str'})"
      ],
      "execution_count": null,
      "outputs": []
    },
    {
      "cell_type": "code",
      "metadata": {
        "id": "Mnw7OBoT9X-s"
      },
      "source": [
        "df_dados = pd.read_excel('dados.xlsx', skiprows=1, dtype={0:'str'}, sheet_name=0)"
      ],
      "execution_count": null,
      "outputs": []
    },
    {
      "cell_type": "markdown",
      "metadata": {
        "id": "UWcmZb5UIOvS"
      },
      "source": [
        "## **2 Visualizar DataFrames**"
      ]
    },
    {
      "cell_type": "code",
      "metadata": {
        "id": "ONCgUFhYITSz"
      },
      "source": [
        "df_bonus.head()"
      ],
      "execution_count": null,
      "outputs": []
    },
    {
      "cell_type": "code",
      "metadata": {
        "id": "3EIVxMLVIZHd"
      },
      "source": [
        "df_cliente.head()"
      ],
      "execution_count": null,
      "outputs": []
    },
    {
      "cell_type": "code",
      "metadata": {
        "id": "pocwMSWVIf6W"
      },
      "source": [
        "df_entrega.head()"
      ],
      "execution_count": null,
      "outputs": []
    },
    {
      "cell_type": "code",
      "metadata": {
        "colab": {
          "base_uri": "https://localhost:8080/",
          "height": 204
        },
        "id": "vtE9HpfcIltG",
        "outputId": "e6981f89-5c5c-47b3-e3b5-354fc89b8243"
      },
      "source": [
        "df_prods_tab.head()"
      ],
      "execution_count": null,
      "outputs": [
        {
          "output_type": "execute_result",
          "data": {
            "text/html": [
              "<div>\n",
              "<style scoped>\n",
              "    .dataframe tbody tr th:only-of-type {\n",
              "        vertical-align: middle;\n",
              "    }\n",
              "\n",
              "    .dataframe tbody tr th {\n",
              "        vertical-align: top;\n",
              "    }\n",
              "\n",
              "    .dataframe thead th {\n",
              "        text-align: right;\n",
              "    }\n",
              "</style>\n",
              "<table border=\"1\" class=\"dataframe\">\n",
              "  <thead>\n",
              "    <tr style=\"text-align: right;\">\n",
              "      <th></th>\n",
              "      <th>ID. Forn.</th>\n",
              "      <th>Prod. DESC.</th>\n",
              "      <th>SKU.</th>\n",
              "      <th>GRP. MERC. 3</th>\n",
              "      <th>COD. MARC.</th>\n",
              "    </tr>\n",
              "  </thead>\n",
              "  <tbody>\n",
              "    <tr>\n",
              "      <th>0</th>\n",
              "      <td>NaN</td>\n",
              "      <td>NaN</td>\n",
              "      <td>NaN</td>\n",
              "      <td>NaN</td>\n",
              "      <td>NaN</td>\n",
              "    </tr>\n",
              "    <tr>\n",
              "      <th>1</th>\n",
              "      <td>302100012</td>\n",
              "      <td>GELADEIRA FROST FREE INVERTER IB53X ELECTROLUX...</td>\n",
              "      <td>100312-</td>\n",
              "      <td>996</td>\n",
              "      <td>302</td>\n",
              "    </tr>\n",
              "    <tr>\n",
              "      <th>2</th>\n",
              "      <td>302100012</td>\n",
              "      <td>GELADEIRA FROST FREE DB84 ELECTROLUX 598 LITRO...</td>\n",
              "      <td>89 721 ?</td>\n",
              "      <td>NaN</td>\n",
              "      <td>NaN</td>\n",
              "    </tr>\n",
              "    <tr>\n",
              "      <th>3</th>\n",
              "      <td>302100012</td>\n",
              "      <td>Frigobar Electrolux RE80 79 Litros Classe A 11...</td>\n",
              "      <td>?1920-- 63</td>\n",
              "      <td>996</td>\n",
              "      <td>302</td>\n",
              "    </tr>\n",
              "    <tr>\n",
              "      <th>4</th>\n",
              "      <td>NaN</td>\n",
              "      <td>NaN</td>\n",
              "      <td>NaN</td>\n",
              "      <td>NaN</td>\n",
              "      <td>NaN</td>\n",
              "    </tr>\n",
              "  </tbody>\n",
              "</table>\n",
              "</div>"
            ],
            "text/plain": [
              "   ID. Forn.  ... COD. MARC.\n",
              "0        NaN  ...        NaN\n",
              "1  302100012  ...        302\n",
              "2  302100012  ...        NaN\n",
              "3  302100012  ...        302\n",
              "4        NaN  ...        NaN\n",
              "\n",
              "[5 rows x 5 columns]"
            ]
          },
          "metadata": {
            "tags": []
          },
          "execution_count": 42
        }
      ]
    },
    {
      "cell_type": "code",
      "metadata": {
        "id": "6i5kY5IWIqX2"
      },
      "source": [
        "df_dados.head()"
      ],
      "execution_count": null,
      "outputs": []
    },
    {
      "cell_type": "code",
      "metadata": {
        "id": "KiLjLM7xpRTt"
      },
      "source": [
        "#alocar colunas para visualizção\n",
        "df_bonus.iloc[1:8,0:11]"
      ],
      "execution_count": null,
      "outputs": []
    },
    {
      "cell_type": "markdown",
      "metadata": {
        "id": "nRyiNaVNpF9P"
      },
      "source": [
        "## **3 Tratamento de Dados**"
      ]
    },
    {
      "cell_type": "code",
      "metadata": {
        "id": "WI7R-VNBIqOG",
        "colab": {
          "base_uri": "https://localhost:8080/"
        },
        "outputId": "3f24e0c8-ab10-4822-93d1-60df996c957a"
      },
      "source": [
        "# visualizar colunas. Observar os espaços em branco.\n",
        "df_entrega.columns"
      ],
      "execution_count": null,
      "outputs": [
        {
          "output_type": "execute_result",
          "data": {
            "text/plain": [
              "Index(['Unnamed: 0', 'SKU.   ', 'DT.Compra', 'Dt.Chegada', 'SKTD',\n",
              "       'Unnamed: 5'],\n",
              "      dtype='object')"
            ]
          },
          "metadata": {
            "tags": []
          },
          "execution_count": 15
        }
      ]
    },
    {
      "cell_type": "code",
      "metadata": {
        "colab": {
          "base_uri": "https://localhost:8080/",
          "height": 359
        },
        "id": "uFs7ZlcMKMOw",
        "outputId": "afa9604d-71c0-4429-ac8a-ba169ba27c0a"
      },
      "source": [
        "#renomear\n",
        "df_entrega = df_entrega.rename(columns={'Unnamed: 0':'semNome','codigo':'codigoEntrega','DT.Compra':'dataCompra','Dt.Chegada':'dataChegada','SKTD':'codigo 2', 'Unnamed: 5':'semNome2'})\n",
        "df_entrega"
      ],
      "execution_count": null,
      "outputs": [
        {
          "output_type": "execute_result",
          "data": {
            "text/html": [
              "<div>\n",
              "<style scoped>\n",
              "    .dataframe tbody tr th:only-of-type {\n",
              "        vertical-align: middle;\n",
              "    }\n",
              "\n",
              "    .dataframe tbody tr th {\n",
              "        vertical-align: top;\n",
              "    }\n",
              "\n",
              "    .dataframe thead th {\n",
              "        text-align: right;\n",
              "    }\n",
              "</style>\n",
              "<table border=\"1\" class=\"dataframe\">\n",
              "  <thead>\n",
              "    <tr style=\"text-align: right;\">\n",
              "      <th></th>\n",
              "      <th>codigoEntrega</th>\n",
              "      <th>dataCompra</th>\n",
              "      <th>dataChegada</th>\n",
              "      <th>codigo 2</th>\n",
              "    </tr>\n",
              "  </thead>\n",
              "  <tbody>\n",
              "    <tr>\n",
              "      <th>0</th>\n",
              "      <td>---------------------------------</td>\n",
              "      <td>NaN</td>\n",
              "      <td>NaN</td>\n",
              "      <td>NaN</td>\n",
              "    </tr>\n",
              "    <tr>\n",
              "      <th>1</th>\n",
              "      <td>100312</td>\n",
              "      <td>2017-12-02</td>\n",
              "      <td>2018-01-05</td>\n",
              "      <td>27.0</td>\n",
              "    </tr>\n",
              "    <tr>\n",
              "      <th>2</th>\n",
              "      <td>89721</td>\n",
              "      <td>2017-12-02</td>\n",
              "      <td>2018-01-05</td>\n",
              "      <td>26.0</td>\n",
              "    </tr>\n",
              "    <tr>\n",
              "      <th>3</th>\n",
              "      <td>192063</td>\n",
              "      <td>2017-12-05</td>\n",
              "      <td>2018-01-04</td>\n",
              "      <td>25.0</td>\n",
              "    </tr>\n",
              "    <tr>\n",
              "      <th>4</th>\n",
              "      <td>182285</td>\n",
              "      <td>2017-12-05</td>\n",
              "      <td>2018-01-07</td>\n",
              "      <td>24.0</td>\n",
              "    </tr>\n",
              "    <tr>\n",
              "      <th>5</th>\n",
              "      <td>32934</td>\n",
              "      <td>2017-12-10</td>\n",
              "      <td>2018-01-05</td>\n",
              "      <td>21.0</td>\n",
              "    </tr>\n",
              "    <tr>\n",
              "      <th>6</th>\n",
              "      <td>43495</td>\n",
              "      <td>2017-12-02</td>\n",
              "      <td>2018-01-12</td>\n",
              "      <td>22.0</td>\n",
              "    </tr>\n",
              "    <tr>\n",
              "      <th>7</th>\n",
              "      <td>4342</td>\n",
              "      <td>2017-12-02</td>\n",
              "      <td>2018-01-10</td>\n",
              "      <td>23.0</td>\n",
              "    </tr>\n",
              "    <tr>\n",
              "      <th>8</th>\n",
              "      <td>3124</td>\n",
              "      <td>2017-12-04</td>\n",
              "      <td>2018-01-04</td>\n",
              "      <td>28.0</td>\n",
              "    </tr>\n",
              "    <tr>\n",
              "      <th>9</th>\n",
              "      <td>43495</td>\n",
              "      <td>2017-12-07</td>\n",
              "      <td>2018-01-05</td>\n",
              "      <td>23.0</td>\n",
              "    </tr>\n",
              "  </tbody>\n",
              "</table>\n",
              "</div>"
            ],
            "text/plain": [
              "                       codigoEntrega   dataCompra   dataChegada  codigo 2\n",
              "0  ---------------------------------          NaN           NaN       NaN\n",
              "1                            100312   2017-12-02   2018-01-05        27.0\n",
              "2                            89721    2017-12-02   2018-01-05        26.0\n",
              "3                            192063   2017-12-05   2018-01-04        25.0\n",
              "4                            182285   2017-12-05   2018-01-07        24.0\n",
              "5                            32934    2017-12-10   2018-01-05        21.0\n",
              "6                            43495    2017-12-02   2018-01-12        22.0\n",
              "7                            4342     2017-12-02   2018-01-10        23.0\n",
              "8                            3124     2017-12-04   2018-01-04        28.0\n",
              "9                            43495    2017-12-07   2018-01-05        23.0"
            ]
          },
          "metadata": {
            "tags": []
          },
          "execution_count": 50
        }
      ]
    },
    {
      "cell_type": "code",
      "metadata": {
        "id": "Q5TH-iL4MunT"
      },
      "source": [
        "#deletando colunas\n",
        "df_entrega = df_entrega.drop(['semNome', 'semNome2'], axis = 1)"
      ],
      "execution_count": null,
      "outputs": []
    },
    {
      "cell_type": "code",
      "metadata": {
        "id": "Qx9tlWW6NT38"
      },
      "source": [
        "df_entrega"
      ],
      "execution_count": null,
      "outputs": []
    },
    {
      "cell_type": "code",
      "metadata": {
        "id": "cDqZn-RJNlrM"
      },
      "source": [
        "#deletando linhas\n",
        "df_entrega.drop([0], axis = 0)"
      ],
      "execution_count": null,
      "outputs": []
    },
    {
      "cell_type": "code",
      "metadata": {
        "colab": {
          "base_uri": "https://localhost:8080/"
        },
        "id": "1jjKu5tTQL6O",
        "outputId": "8c76cb44-0000-41f5-84c2-355c263ccf64"
      },
      "source": [
        "# visualizar colunas. Observar os espaços em branco.\n",
        "df_prods_tab.columns"
      ],
      "execution_count": null,
      "outputs": [
        {
          "output_type": "execute_result",
          "data": {
            "text/plain": [
              "Index(['ID. Forn.', 'Prod. DESC.', 'SKU.', 'GRP. MERC. 3', 'COD. MARC.'], dtype='object')"
            ]
          },
          "metadata": {
            "tags": []
          },
          "execution_count": 43
        }
      ]
    },
    {
      "cell_type": "code",
      "metadata": {
        "colab": {
          "base_uri": "https://localhost:8080/",
          "height": 545
        },
        "id": "Xp9HQX-jQRqc",
        "outputId": "31a4ea73-07ec-4756-878e-7fb3a6a98356"
      },
      "source": [
        "#renomear\n",
        "df_prods_tab = df_prods_tab.rename(columns={'ID. Forn.':'fornecedor','Prod. DESC.':'descricao','codigo':'codigoProduto','GRP. MERC. 3':'grupoMercadoria','COD. MARC.':'marca' })\n",
        "df_prods_tab"
      ],
      "execution_count": null,
      "outputs": [
        {
          "output_type": "execute_result",
          "data": {
            "text/html": [
              "<div>\n",
              "<style scoped>\n",
              "    .dataframe tbody tr th:only-of-type {\n",
              "        vertical-align: middle;\n",
              "    }\n",
              "\n",
              "    .dataframe tbody tr th {\n",
              "        vertical-align: top;\n",
              "    }\n",
              "\n",
              "    .dataframe thead th {\n",
              "        text-align: right;\n",
              "    }\n",
              "</style>\n",
              "<table border=\"1\" class=\"dataframe\">\n",
              "  <thead>\n",
              "    <tr style=\"text-align: right;\">\n",
              "      <th></th>\n",
              "      <th>fornecedor</th>\n",
              "      <th>descricao</th>\n",
              "      <th>codigoProduto</th>\n",
              "      <th>grupoMercadoria</th>\n",
              "      <th>marca</th>\n",
              "    </tr>\n",
              "  </thead>\n",
              "  <tbody>\n",
              "    <tr>\n",
              "      <th>0</th>\n",
              "      <td>NaN</td>\n",
              "      <td>NaN</td>\n",
              "      <td>NaN</td>\n",
              "      <td>NaN</td>\n",
              "      <td>NaN</td>\n",
              "    </tr>\n",
              "    <tr>\n",
              "      <th>1</th>\n",
              "      <td>302100012</td>\n",
              "      <td>GELADEIRA FROST FREE INVERTER IB53X ELECTROLUX...</td>\n",
              "      <td>100312-</td>\n",
              "      <td>996</td>\n",
              "      <td>302</td>\n",
              "    </tr>\n",
              "    <tr>\n",
              "      <th>2</th>\n",
              "      <td>302100012</td>\n",
              "      <td>GELADEIRA FROST FREE DB84 ELECTROLUX 598 LITRO...</td>\n",
              "      <td>89 721 ?</td>\n",
              "      <td>NaN</td>\n",
              "      <td>NaN</td>\n",
              "    </tr>\n",
              "    <tr>\n",
              "      <th>3</th>\n",
              "      <td>302100012</td>\n",
              "      <td>Frigobar Electrolux RE80 79 Litros Classe A 11...</td>\n",
              "      <td>?1920-- 63</td>\n",
              "      <td>996</td>\n",
              "      <td>302</td>\n",
              "    </tr>\n",
              "    <tr>\n",
              "      <th>4</th>\n",
              "      <td>NaN</td>\n",
              "      <td>NaN</td>\n",
              "      <td>NaN</td>\n",
              "      <td>NaN</td>\n",
              "      <td>NaN</td>\n",
              "    </tr>\n",
              "    <tr>\n",
              "      <th>5</th>\n",
              "      <td>ID. Forn.</td>\n",
              "      <td>Prod. DESC.</td>\n",
              "      <td>SKU.</td>\n",
              "      <td>GRP. MERC. 3</td>\n",
              "      <td>COD. MARC.</td>\n",
              "    </tr>\n",
              "    <tr>\n",
              "      <th>6</th>\n",
              "      <td>302100012</td>\n",
              "      <td>Geladeira Electrolux SS72X Side by Side Frost ...</td>\n",
              "      <td>18228 5</td>\n",
              "      <td>996</td>\n",
              "      <td>302</td>\n",
              "    </tr>\n",
              "    <tr>\n",
              "      <th>7</th>\n",
              "      <td>NaN</td>\n",
              "      <td>NaN</td>\n",
              "      <td>NaN</td>\n",
              "      <td>NaN</td>\n",
              "      <td>NaN</td>\n",
              "    </tr>\n",
              "    <tr>\n",
              "      <th>8</th>\n",
              "      <td>ID. Forn.</td>\n",
              "      <td>Prod. DESC.</td>\n",
              "      <td>SKU.</td>\n",
              "      <td>GRP. MERC. 3</td>\n",
              "      <td>COD. MARC.</td>\n",
              "    </tr>\n",
              "    <tr>\n",
              "      <th>9</th>\n",
              "      <td>NaN</td>\n",
              "      <td>NaN</td>\n",
              "      <td>NaN</td>\n",
              "      <td>NaN</td>\n",
              "      <td>NaN</td>\n",
              "    </tr>\n",
              "    <tr>\n",
              "      <th>10</th>\n",
              "      <td>9009101002</td>\n",
              "      <td>Smartphone Apple iPhone XS 256GB 4G Tela 5,8\"\"...</td>\n",
              "      <td>32 934</td>\n",
              "      <td>102</td>\n",
              "      <td>401</td>\n",
              "    </tr>\n",
              "    <tr>\n",
              "      <th>11</th>\n",
              "      <td>9030121093</td>\n",
              "      <td>SMARTPHONE SAMSUNG GALAXY NOTE 8 N950F 64GB 2C...</td>\n",
              "      <td>4??349 5</td>\n",
              "      <td>102</td>\n",
              "      <td>607</td>\n",
              "    </tr>\n",
              "    <tr>\n",
              "      <th>12</th>\n",
              "      <td>320621093</td>\n",
              "      <td>BONECA MULTIKIDS BUSH BABY WORLD SHIMMIES BR106</td>\n",
              "      <td>4342I</td>\n",
              "      <td>766</td>\n",
              "      <td>481</td>\n",
              "    </tr>\n",
              "    <tr>\n",
              "      <th>13</th>\n",
              "      <td>320621093</td>\n",
              "      <td>Brinquedo Kit de Voley Disney Princesas Líder ...</td>\n",
              "      <td>3 1---24-</td>\n",
              "      <td>766</td>\n",
              "      <td>481</td>\n",
              "    </tr>\n",
              "    <tr>\n",
              "      <th>14</th>\n",
              "      <td>9030121093</td>\n",
              "      <td>SMARTPHONE SAMSUNG GALAXY A8+ A730 64GB 2CHIPS...</td>\n",
              "      <td>1 92501</td>\n",
              "      <td>NaN</td>\n",
              "      <td>607</td>\n",
              "    </tr>\n",
              "    <tr>\n",
              "      <th>15</th>\n",
              "      <td>NaN</td>\n",
              "      <td>NaN</td>\n",
              "      <td>NaN</td>\n",
              "      <td>NaN</td>\n",
              "      <td>NaN</td>\n",
              "    </tr>\n",
              "  </tbody>\n",
              "</table>\n",
              "</div>"
            ],
            "text/plain": [
              "    fornecedor  ...       marca\n",
              "0          NaN  ...         NaN\n",
              "1    302100012  ...         302\n",
              "2    302100012  ...         NaN\n",
              "3    302100012  ...         302\n",
              "4          NaN  ...         NaN\n",
              "5    ID. Forn.  ...  COD. MARC.\n",
              "6    302100012  ...         302\n",
              "7          NaN  ...         NaN\n",
              "8    ID. Forn.  ...  COD. MARC.\n",
              "9          NaN  ...         NaN\n",
              "10  9009101002  ...         401\n",
              "11  9030121093  ...         607\n",
              "12   320621093  ...         481\n",
              "13   320621093  ...         481\n",
              "14  9030121093  ...         607\n",
              "15         NaN  ...         NaN\n",
              "\n",
              "[16 rows x 5 columns]"
            ]
          },
          "metadata": {
            "tags": []
          },
          "execution_count": 51
        }
      ]
    },
    {
      "cell_type": "code",
      "metadata": {
        "colab": {
          "base_uri": "https://localhost:8080/",
          "height": 328
        },
        "id": "0hUNrXhQSLaa",
        "outputId": "401ab0f2-fe38-48b1-ddd0-f925d33326d4"
      },
      "source": [
        "#deletando linhas\n",
        "df_prods_tab.drop([0,4,5,7,8,9,15], axis = 0)"
      ],
      "execution_count": null,
      "outputs": [
        {
          "output_type": "execute_result",
          "data": {
            "text/html": [
              "<div>\n",
              "<style scoped>\n",
              "    .dataframe tbody tr th:only-of-type {\n",
              "        vertical-align: middle;\n",
              "    }\n",
              "\n",
              "    .dataframe tbody tr th {\n",
              "        vertical-align: top;\n",
              "    }\n",
              "\n",
              "    .dataframe thead th {\n",
              "        text-align: right;\n",
              "    }\n",
              "</style>\n",
              "<table border=\"1\" class=\"dataframe\">\n",
              "  <thead>\n",
              "    <tr style=\"text-align: right;\">\n",
              "      <th></th>\n",
              "      <th>fornecedor</th>\n",
              "      <th>descricao</th>\n",
              "      <th>codigoProduto</th>\n",
              "      <th>grupoMercadoria</th>\n",
              "      <th>marca</th>\n",
              "    </tr>\n",
              "  </thead>\n",
              "  <tbody>\n",
              "    <tr>\n",
              "      <th>1</th>\n",
              "      <td>302100012</td>\n",
              "      <td>GELADEIRA FROST FREE INVERTER IB53X ELECTROLUX...</td>\n",
              "      <td>100312-</td>\n",
              "      <td>996</td>\n",
              "      <td>302</td>\n",
              "    </tr>\n",
              "    <tr>\n",
              "      <th>2</th>\n",
              "      <td>302100012</td>\n",
              "      <td>GELADEIRA FROST FREE DB84 ELECTROLUX 598 LITRO...</td>\n",
              "      <td>89 721 ?</td>\n",
              "      <td>NaN</td>\n",
              "      <td>NaN</td>\n",
              "    </tr>\n",
              "    <tr>\n",
              "      <th>3</th>\n",
              "      <td>302100012</td>\n",
              "      <td>Frigobar Electrolux RE80 79 Litros Classe A 11...</td>\n",
              "      <td>?1920-- 63</td>\n",
              "      <td>996</td>\n",
              "      <td>302</td>\n",
              "    </tr>\n",
              "    <tr>\n",
              "      <th>6</th>\n",
              "      <td>302100012</td>\n",
              "      <td>Geladeira Electrolux SS72X Side by Side Frost ...</td>\n",
              "      <td>18228 5</td>\n",
              "      <td>996</td>\n",
              "      <td>302</td>\n",
              "    </tr>\n",
              "    <tr>\n",
              "      <th>10</th>\n",
              "      <td>9009101002</td>\n",
              "      <td>Smartphone Apple iPhone XS 256GB 4G Tela 5,8\"\"...</td>\n",
              "      <td>32 934</td>\n",
              "      <td>102</td>\n",
              "      <td>401</td>\n",
              "    </tr>\n",
              "    <tr>\n",
              "      <th>11</th>\n",
              "      <td>9030121093</td>\n",
              "      <td>SMARTPHONE SAMSUNG GALAXY NOTE 8 N950F 64GB 2C...</td>\n",
              "      <td>4??349 5</td>\n",
              "      <td>102</td>\n",
              "      <td>607</td>\n",
              "    </tr>\n",
              "    <tr>\n",
              "      <th>12</th>\n",
              "      <td>320621093</td>\n",
              "      <td>BONECA MULTIKIDS BUSH BABY WORLD SHIMMIES BR106</td>\n",
              "      <td>4342I</td>\n",
              "      <td>766</td>\n",
              "      <td>481</td>\n",
              "    </tr>\n",
              "    <tr>\n",
              "      <th>13</th>\n",
              "      <td>320621093</td>\n",
              "      <td>Brinquedo Kit de Voley Disney Princesas Líder ...</td>\n",
              "      <td>3 1---24-</td>\n",
              "      <td>766</td>\n",
              "      <td>481</td>\n",
              "    </tr>\n",
              "    <tr>\n",
              "      <th>14</th>\n",
              "      <td>9030121093</td>\n",
              "      <td>SMARTPHONE SAMSUNG GALAXY A8+ A730 64GB 2CHIPS...</td>\n",
              "      <td>1 92501</td>\n",
              "      <td>NaN</td>\n",
              "      <td>607</td>\n",
              "    </tr>\n",
              "  </tbody>\n",
              "</table>\n",
              "</div>"
            ],
            "text/plain": [
              "    fornecedor  ... marca\n",
              "1    302100012  ...   302\n",
              "2    302100012  ...   NaN\n",
              "3    302100012  ...   302\n",
              "6    302100012  ...   302\n",
              "10  9009101002  ...   401\n",
              "11  9030121093  ...   607\n",
              "12   320621093  ...   481\n",
              "13   320621093  ...   481\n",
              "14  9030121093  ...   607\n",
              "\n",
              "[9 rows x 5 columns]"
            ]
          },
          "metadata": {
            "tags": []
          },
          "execution_count": 52
        }
      ]
    }
  ]
}