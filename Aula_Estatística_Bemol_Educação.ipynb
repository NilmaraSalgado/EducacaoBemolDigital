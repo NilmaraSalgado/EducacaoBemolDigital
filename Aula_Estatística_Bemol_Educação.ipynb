{
  "nbformat": 4,
  "nbformat_minor": 0,
  "metadata": {
    "colab": {
      "name": "Aula_Estatística_Bemol_Educação.ipynb",
      "provenance": [],
      "collapsed_sections": [],
      "include_colab_link": true
    },
    "kernelspec": {
      "name": "python3",
      "display_name": "Python 3"
    },
    "language_info": {
      "name": "python"
    }
  },
  "cells": [
    {
      "cell_type": "markdown",
      "metadata": {
        "id": "view-in-github",
        "colab_type": "text"
      },
      "source": [
        "<a href=\"https://colab.research.google.com/github/NilmaraSalgado/EducacaoBemolDigital/blob/cursoEstatistica/Aula_Estat%C3%ADstica_Bemol_Educa%C3%A7%C3%A3o.ipynb\" target=\"_parent\"><img src=\"https://colab.research.google.com/assets/colab-badge.svg\" alt=\"Open In Colab\"/></a>"
      ]
    },
    {
      "cell_type": "markdown",
      "metadata": {
        "id": "gEZCuji075uI"
      },
      "source": [
        "## **Aula 5: Problema Prático: Utilizando resultados de Teste A/B**"
      ]
    },
    {
      "cell_type": "markdown",
      "metadata": {
        "id": "eTMBoTFiaB-s"
      },
      "source": [
        "### 1 Definir o objetivo da análise"
      ]
    },
    {
      "cell_type": "markdown",
      "metadata": {
        "id": "RdT9ZMqMIG5l"
      },
      "source": [
        "**Queremos avaliar a satisfação de nossos clientes em relação ao produto X recém lançado.**\n",
        "\n",
        "- NPS - Net Promoter Score\n",
        "- Teste A/B\n",
        "\n",
        "   Dois tipos de mensagens foram enviadas. \n",
        "  - **Texto A:** *BEMOL: Olá, NOME! você utilizou o produto X. Avalie sua experiência com o serviço de 0 a 10. Resposta gratuita. Obrigado!*\n",
        "\n",
        "  - **Texto B:** *BEMOL: Olá, você utilizou o produto X. Avalie sua experiência com o serviço de 0 a 10. Resposta gratuita.*"
      ]
    },
    {
      "cell_type": "markdown",
      "metadata": {
        "id": "kvAbxdbAaOc3"
      },
      "source": [
        "### 2 Coletar os dados"
      ]
    },
    {
      "cell_type": "markdown",
      "metadata": {
        "id": "xWXn_SjXIPcV"
      },
      "source": [
        "* **ID_SMS.csv** \n",
        "  - IDS_SMS (coluna) str : identificador único do SMS\n",
        "  - tp (coluna) str : tipo do texto SMS A ou B\n",
        "\n",
        "* **RESPOSTAS.xlsx**\n",
        "  - ID_SMS (coluna) str : identificador único do SMS\n",
        "  - RESPONSE (coluna) str : resposta dos clientes"
      ]
    },
    {
      "cell_type": "markdown",
      "metadata": {
        "id": "2d9lGwgmZe_K"
      },
      "source": [
        "### 3 Carregar os dados no ambiente de análise e remover os campos desnecessários"
      ]
    },
    {
      "cell_type": "code",
      "metadata": {
        "id": "BFdR1OgedN3Y"
      },
      "source": [
        "import pandas as pd"
      ],
      "execution_count": null,
      "outputs": []
    },
    {
      "cell_type": "code",
      "metadata": {
        "id": "N7XJhKGKrrmF"
      },
      "source": [
        "# apesar de chamarmos frame de dados, considere como se você estivesse abrindo\n",
        "# uma planilha no Excel\n",
        "df_ids = pd.read_csv('./IDS_SMS.csv')\n",
        "df_respostas = pd.read_excel('./RESPOSTAS.xlsx')"
      ],
      "execution_count": null,
      "outputs": []
    },
    {
      "cell_type": "code",
      "metadata": {
        "id": "Pls5GtCNr4a1"
      },
      "source": [
        "# identificando o quantidade de linhas e colunas dos dados\n",
        "df_ids.shape"
      ],
      "execution_count": null,
      "outputs": []
    },
    {
      "cell_type": "code",
      "metadata": {
        "id": "nfxMUtifr5Xx"
      },
      "source": [
        "df_respostas.shape"
      ],
      "execution_count": null,
      "outputs": []
    },
    {
      "cell_type": "code",
      "metadata": {
        "id": "3-pylW2lr5MM"
      },
      "source": [
        "# prévia da base\n",
        "df_ids.head()"
      ],
      "execution_count": null,
      "outputs": []
    },
    {
      "cell_type": "code",
      "metadata": {
        "id": "uTVIIayyr5CU"
      },
      "source": [
        "df_respostas.head()"
      ],
      "execution_count": null,
      "outputs": []
    },
    {
      "cell_type": "code",
      "metadata": {
        "id": "w21d4zWur441"
      },
      "source": [
        "# verificando quantos valores nulos temos por colunas.\n",
        "df_ids.isna().sum()"
      ],
      "execution_count": null,
      "outputs": []
    },
    {
      "cell_type": "code",
      "metadata": {
        "id": "dr41mFcBr4tB"
      },
      "source": [
        "df_respostas.isna().sum()"
      ],
      "execution_count": null,
      "outputs": []
    },
    {
      "cell_type": "code",
      "metadata": {
        "id": "9dl-2PEGsjCX"
      },
      "source": [
        "# mostrando os valores nulos da tabela de resposta\n",
        "df_respostas[df_respostas['RESPONSE'].isnull()]"
      ],
      "execution_count": null,
      "outputs": []
    },
    {
      "cell_type": "code",
      "metadata": {
        "id": "bXt4piEGsyKG"
      },
      "source": [
        "# removendo os valores nulos da tabela de resposta\n",
        "df_respostas.dropna(inplace=True)"
      ],
      "execution_count": null,
      "outputs": []
    },
    {
      "cell_type": "code",
      "metadata": {
        "id": "VxlmJiFcsyBE"
      },
      "source": [
        "# verificando novamente valores nulos após remover\n",
        "df_respostas.isna().sum()"
      ],
      "execution_count": null,
      "outputs": []
    },
    {
      "cell_type": "code",
      "metadata": {
        "id": "p6Lyn6vFsxU5"
      },
      "source": [
        "# frequencia de valores\n",
        "df_ids['tp'].value_counts()"
      ],
      "execution_count": null,
      "outputs": []
    },
    {
      "cell_type": "code",
      "metadata": {
        "id": "5SZ-QYBisjng"
      },
      "source": [
        "df_respostas['RESPONSE'].value_counts().head(30)"
      ],
      "execution_count": null,
      "outputs": []
    },
    {
      "cell_type": "code",
      "metadata": {
        "id": "Lxyx-HXMuftp"
      },
      "source": [
        "# interessante, tem números escrito por extenso\n",
        "filtro = df_respostas['RESPONSE'].str.lower().isin(['dez','oito'])"
      ],
      "execution_count": null,
      "outputs": []
    },
    {
      "cell_type": "code",
      "metadata": {
        "id": "-9UCgy_Jugwf"
      },
      "source": [
        "# já é um indicativo que podemos tentar ajustar algumas notas.\n",
        "df_respostas[filtro]"
      ],
      "execution_count": null,
      "outputs": []
    },
    {
      "cell_type": "code",
      "metadata": {
        "id": "t3yJdsvkugl_"
      },
      "source": [
        "# vamos tentar identificar notas dentro de respostas com texto\n",
        "# a. ou vc remove\n",
        "# b. ou vc trata"
      ],
      "execution_count": null,
      "outputs": []
    },
    {
      "cell_type": "code",
      "metadata": {
        "id": "Ql7LZ9Hrugck"
      },
      "source": [
        "#importar módulo para trabalhar com expressões regulares\n",
        "import re"
      ],
      "execution_count": null,
      "outputs": []
    },
    {
      "cell_type": "code",
      "metadata": {
        "id": "VakIbmS1ugSd"
      },
      "source": [
        "#função para extrair nota do texto\n",
        "def extrair_nota(texto):\n",
        "  '''\n",
        "    Extrai o número do texto\n",
        "  '''\n",
        "  try:\n",
        "    return re.findall(r'\\d+', str(texto))[0]\n",
        "  except:\n",
        "    return texto"
      ],
      "execution_count": null,
      "outputs": []
    },
    {
      "cell_type": "code",
      "metadata": {
        "id": "T0sKGxEOvXYO"
      },
      "source": [
        "# se ficou curioso olha uns testes aqui da função\n",
        "extrair_nota('nossa, eu gostei muito nota 10')"
      ],
      "execution_count": null,
      "outputs": []
    },
    {
      "cell_type": "code",
      "metadata": {
        "id": "CBa1kww4vXO-"
      },
      "source": [
        "extrair_nota('muito bom, adorei')"
      ],
      "execution_count": null,
      "outputs": []
    },
    {
      "cell_type": "code",
      "metadata": {
        "id": "sr9wgJF4vW1I"
      },
      "source": [
        "extrair_nota('gente, nota 100000 vocês são d+')"
      ],
      "execution_count": null,
      "outputs": []
    },
    {
      "cell_type": "code",
      "metadata": {
        "id": "9ESIuQOov_lW"
      },
      "source": [
        "df_respostas.head(10)"
      ],
      "execution_count": null,
      "outputs": []
    },
    {
      "cell_type": "code",
      "metadata": {
        "id": "y96Ky-M3v3W1"
      },
      "source": [
        "# criando uma coluna nova e armazenando as notas extraídas\n",
        "df_respostas['NOTA_EXTRAIDA'] = df_respostas['RESPONSE'].apply(extrair_nota)"
      ],
      "execution_count": null,
      "outputs": []
    },
    {
      "cell_type": "code",
      "metadata": {
        "id": "9h3nPFG2v2d_"
      },
      "source": [
        "df_respostas['NOTA_EXTRAIDA'].value_counts()"
      ],
      "execution_count": null,
      "outputs": []
    },
    {
      "cell_type": "code",
      "metadata": {
        "id": "dUKDHRLBwS9a"
      },
      "source": [
        "# antes de tirar as notas que não são palavras, vamos tentar transformar \n",
        "# os texto de números escrito por extenso\n",
        "\n",
        "filtro_npe = df_respostas['NOTA_EXTRAIDA'].str.lower().isin(['oito','dez'])\n",
        "filtro_n = df_respostas['NOTA_EXTRAIDA'].str.isnumeric()"
      ],
      "execution_count": null,
      "outputs": []
    },
    {
      "cell_type": "code",
      "metadata": {
        "id": "nEUVJGjmwT29"
      },
      "source": [
        "# vamos rescrever nossa planilha com base nos filtros\n",
        "df_respostas = df_respostas[filtro_npe | filtro_n].copy()"
      ],
      "execution_count": null,
      "outputs": []
    },
    {
      "cell_type": "code",
      "metadata": {
        "id": "PvkVxGuPwTs1"
      },
      "source": [
        "df_respostas['NOTA_EXTRAIDA'].value_counts()"
      ],
      "execution_count": null,
      "outputs": []
    },
    {
      "cell_type": "code",
      "metadata": {
        "id": "S5MHeE2ywTfY"
      },
      "source": [
        "#função para retornar valor númerico\n",
        "def conv_extenso_num(nota):\n",
        "  if nota.lower() == 'dez':\n",
        "    return 10\n",
        "  elif nota.lower() == 'oito':\n",
        "    return 8\n",
        "  else:\n",
        "    return nota"
      ],
      "execution_count": null,
      "outputs": []
    },
    {
      "cell_type": "code",
      "metadata": {
        "id": "o0esLnnVxLu4"
      },
      "source": [
        "df_respostas['NOTA_EXTRAIDA2'] = df_respostas['NOTA_EXTRAIDA'].apply(conv_extenso_num)"
      ],
      "execution_count": null,
      "outputs": []
    },
    {
      "cell_type": "code",
      "metadata": {
        "id": "SjZg1OCSxLbx"
      },
      "source": [
        "df_respostas.head()"
      ],
      "execution_count": null,
      "outputs": []
    },
    {
      "cell_type": "code",
      "metadata": {
        "id": "fPA6JqJSxYOq"
      },
      "source": [
        "# agora sim temos somente numeros em nossa coluna notas\n",
        "df_respostas['NOTA_EXTRAIDA2'].value_counts()"
      ],
      "execution_count": null,
      "outputs": []
    },
    {
      "cell_type": "code",
      "metadata": {
        "id": "IE0HsMlTxhSl"
      },
      "source": [
        "df_respostas['NOTA_EXTRAIDA2'] = df_respostas['NOTA_EXTRAIDA2'].astype(int)"
      ],
      "execution_count": null,
      "outputs": []
    },
    {
      "cell_type": "code",
      "metadata": {
        "id": "eK7e0ytqxkZH"
      },
      "source": [
        "df_respostas['NOTA_EXTRAIDA2'].value_counts()"
      ],
      "execution_count": null,
      "outputs": []
    },
    {
      "cell_type": "code",
      "metadata": {
        "id": "gxk8ND4szF-E"
      },
      "source": [
        "# podemos converter os super notas em notas 10\n",
        "f = lambda nota: 10 if nota > 10 else nota\n",
        "df_respostas['NOTA_EXTRAIDA2'] = df_respostas['NOTA_EXTRAIDA2'].apply(f)"
      ],
      "execution_count": null,
      "outputs": []
    },
    {
      "cell_type": "code",
      "metadata": {
        "id": "ZmvbpX_hzGQ6"
      },
      "source": [
        "df_respostas['NOTA_EXTRAIDA2'].value_counts()"
      ],
      "execution_count": null,
      "outputs": []
    },
    {
      "cell_type": "code",
      "metadata": {
        "id": "Bcs-zAkFzYHT"
      },
      "source": [
        "# calculando as frequencias\n",
        "def calc_freq_a(notas):\n",
        "  return len(notas)\n",
        "\n",
        "def calc_freq_r(notas):\n",
        "  return len(notas) / df_respostas.shape[0] * 100"
      ],
      "execution_count": null,
      "outputs": []
    },
    {
      "cell_type": "code",
      "metadata": {
        "id": "ArPjxZ2rzX-N"
      },
      "source": [
        "calcs = {'ID_SMS':[calc_freq_a, calc_freq_r]}\n",
        "\n",
        "df_respostas.groupby(by=['NOTA_EXTRAIDA2'], as_index=False).\\\n",
        "             agg(calcs).sort_values('NOTA_EXTRAIDA2', ascending=False)"
      ],
      "execution_count": null,
      "outputs": []
    },
    {
      "cell_type": "code",
      "metadata": {
        "id": "6r0wkioLzwqu"
      },
      "source": [
        "# vez que fosse solicitado.\n",
        "df_respostas = df_respostas[['ID_SMS','NOTA_EXTRAIDA2']].rename(columns={'NOTA_EXTRAIDA2':'NOTA'})"
      ],
      "execution_count": null,
      "outputs": []
    },
    {
      "cell_type": "code",
      "metadata": {
        "id": "lrKOA37k0Sir"
      },
      "source": [
        "df_ids.head()"
      ],
      "execution_count": null,
      "outputs": []
    },
    {
      "cell_type": "code",
      "metadata": {
        "id": "1e6zTq8mzwn1"
      },
      "source": [
        "df_respostas.head()"
      ],
      "execution_count": null,
      "outputs": []
    },
    {
      "cell_type": "code",
      "metadata": {
        "id": "VOXe_Eq7zXz-"
      },
      "source": [
        "# identificando o tipo de texto da nota\n",
        "df_notas = df_respostas.merge(df_ids)"
      ],
      "execution_count": null,
      "outputs": []
    },
    {
      "cell_type": "code",
      "metadata": {
        "id": "jmp6lIgP0gkD"
      },
      "source": [
        "df_notas.shape"
      ],
      "execution_count": null,
      "outputs": []
    },
    {
      "cell_type": "code",
      "metadata": {
        "id": "bxQeWFaz0jJ_"
      },
      "source": [
        "df_notas.isna().sum()"
      ],
      "execution_count": null,
      "outputs": []
    },
    {
      "cell_type": "code",
      "metadata": {
        "id": "uQ7zRr1r0Z9c"
      },
      "source": [
        "df_notas.sample(10).head(10)"
      ],
      "execution_count": null,
      "outputs": []
    },
    {
      "cell_type": "code",
      "metadata": {
        "id": "oUxTY9UxzXUZ"
      },
      "source": [
        "df_notas.columns = ['ID','NOTA','TIPO']"
      ],
      "execution_count": null,
      "outputs": []
    },
    {
      "cell_type": "code",
      "metadata": {
        "id": "M-QVb0780z-k"
      },
      "source": [
        "df_notas.sample(10).head(10)"
      ],
      "execution_count": null,
      "outputs": []
    },
    {
      "cell_type": "markdown",
      "metadata": {
        "id": "EanyAB4tUvTy"
      },
      "source": [
        "### 4 Começar analisar os dados"
      ]
    },
    {
      "cell_type": "code",
      "metadata": {
        "id": "WPcoDHA-1CnZ"
      },
      "source": [
        "dic_agg = {'NOTA':['count','min','max','std','mean']}"
      ],
      "execution_count": null,
      "outputs": []
    },
    {
      "cell_type": "code",
      "metadata": {
        "id": "AqUQjR6N1C-5"
      },
      "source": [
        "resumo = df_notas.groupby(by=['TIPO'], as_index=False).agg(dic_agg)\n",
        "resumo"
      ],
      "execution_count": null,
      "outputs": []
    },
    {
      "cell_type": "code",
      "metadata": {
        "id": "cepGkqWf22-z"
      },
      "source": [
        "df_ids['tp'].value_counts()"
      ],
      "execution_count": null,
      "outputs": []
    },
    {
      "cell_type": "code",
      "metadata": {
        "id": "5-FJLx1m23WW"
      },
      "source": [
        "# vamos criar um coluna para armazenar a quantidade de sms enviado\n",
        "resumo['sms_enviados'] = 1500\n",
        "resumo"
      ],
      "execution_count": null,
      "outputs": []
    },
    {
      "cell_type": "code",
      "metadata": {
        "id": "LPIg5Mts3h56"
      },
      "source": [
        "cols = ['TIPO'] + list(filter(None, resumo.columns.droplevel()))\\\n",
        "                + ['sms_enviados']\n",
        "\n",
        "resumo.columns = cols"
      ],
      "execution_count": null,
      "outputs": []
    },
    {
      "cell_type": "code",
      "metadata": {
        "id": "raGpbram3iWz"
      },
      "source": [
        "resumo"
      ],
      "execution_count": null,
      "outputs": []
    },
    {
      "cell_type": "code",
      "metadata": {
        "id": "1bZM-MUl3iLK"
      },
      "source": [
        "resumo['engajamento'] = resumo['count'] / resumo['sms_enviados']"
      ],
      "execution_count": null,
      "outputs": []
    },
    {
      "cell_type": "code",
      "metadata": {
        "id": "HWfy1dbx3ubc"
      },
      "source": [
        "resumo"
      ],
      "execution_count": null,
      "outputs": []
    },
    {
      "cell_type": "markdown",
      "metadata": {
        "id": "c5MaqXKEJBVu"
      },
      "source": [
        "**NPS - Net Promoter Score**\n",
        "\n",
        "1. Promotores (nota 9 ou 10)\n",
        "2. Neutros (nota 7 ou 8)\n",
        "3. Detratores (nota de 0 a 6)\n",
        "\n",
        "Como cacular?\n",
        "* *% CLIENTES PROMOTORES – % CLIENTES DETRATORES = NPS*\n"
      ]
    },
    {
      "cell_type": "code",
      "metadata": {
        "id": "1D2wptyb5QSa"
      },
      "source": [
        "# criando uma função para calcular a classe de NPS\n",
        "def classe_nps(nota):\n",
        "  if (nota >= 9):\n",
        "    return 'PROMOTORES'\n",
        "  elif (nota >= 7) & (nota <= 8):\n",
        "    return 'NEUTROS'\n",
        "  else:\n",
        "    return 'DETRATORES' "
      ],
      "execution_count": null,
      "outputs": []
    },
    {
      "cell_type": "code",
      "metadata": {
        "id": "_vOQn-dO5Xb9"
      },
      "source": [
        "# para as notas de NPS não se \n",
        "df_notas_a = df_notas[df_notas['TIPO'] == 'Texto A'].copy()\n",
        "df_notas_b = df_notas[df_notas['TIPO'] == 'Texto B'].copy()"
      ],
      "execution_count": null,
      "outputs": []
    },
    {
      "cell_type": "code",
      "metadata": {
        "id": "SbCyJGvf5YK_"
      },
      "source": [
        "df_notas_a = df_notas_a.groupby(by='NOTA', as_index=False).agg({'TIPO':'count'})\n",
        "df_notas_b = df_notas_b.groupby(by='NOTA', as_index=False).agg({'TIPO':'count'})"
      ],
      "execution_count": null,
      "outputs": []
    },
    {
      "cell_type": "code",
      "metadata": {
        "id": "o_eFDB3c5tgD"
      },
      "source": [
        "df_notas_a['classe'] = df_notas_a['NOTA'].apply(classe_nps)\n",
        "df_notas_b['classe'] = df_notas_b['NOTA'].apply(classe_nps)"
      ],
      "execution_count": null,
      "outputs": []
    },
    {
      "cell_type": "code",
      "metadata": {
        "id": "L3lj-uLn5X_c"
      },
      "source": [
        "df_notas_a"
      ],
      "execution_count": null,
      "outputs": []
    },
    {
      "cell_type": "code",
      "metadata": {
        "id": "dNIKVUvi5lfi"
      },
      "source": [
        "df_notas_b"
      ],
      "execution_count": null,
      "outputs": []
    },
    {
      "cell_type": "code",
      "metadata": {
        "id": "mmPl0eYy5X09"
      },
      "source": [
        "nps_a = df_notas_a.groupby(by='classe', as_index=False).agg({'TIPO':'sum'})\n",
        "nps_b = df_notas_b.groupby(by='classe', as_index=False).agg({'TIPO':'sum'})"
      ],
      "execution_count": null,
      "outputs": []
    },
    {
      "cell_type": "code",
      "metadata": {
        "id": "8j8iTsst56z3"
      },
      "source": [
        "nps_a"
      ],
      "execution_count": null,
      "outputs": []
    },
    {
      "cell_type": "code",
      "metadata": {
        "id": "F7A0NAwf58QE"
      },
      "source": [
        "nps_b"
      ],
      "execution_count": null,
      "outputs": []
    },
    {
      "cell_type": "code",
      "metadata": {
        "id": "1aUzhe-s6DYC"
      },
      "source": [
        "# frequencia relativa das classes\n",
        "nps_a['freq_rel_classe'] = nps_a['TIPO'] / nps_a['TIPO'].sum()\n",
        "nps_b['freq_rel_classe'] = nps_b['TIPO'] / nps_b['TIPO'].sum()"
      ],
      "execution_count": null,
      "outputs": []
    },
    {
      "cell_type": "code",
      "metadata": {
        "id": "EXAz5zs-6SV9"
      },
      "source": [
        "nps_b"
      ],
      "execution_count": null,
      "outputs": []
    },
    {
      "cell_type": "markdown",
      "metadata": {
        "id": "NHDyYvSUf9pM"
      },
      "source": [
        "### 5 Interpretar/apresentar os resultados"
      ]
    },
    {
      "cell_type": "code",
      "metadata": {
        "id": "a8ESDFC_dPMF"
      },
      "source": [
        "nps_a"
      ],
      "execution_count": null,
      "outputs": []
    },
    {
      "cell_type": "code",
      "metadata": {
        "id": "Kjmx7kR91AP9"
      },
      "source": [
        "nps_final_a = round(0.983425 - 0.008287,2)\n",
        "print(f'NPS A: {nps_final_a * 100}')"
      ],
      "execution_count": null,
      "outputs": []
    },
    {
      "cell_type": "code",
      "metadata": {
        "id": "lhSP0W_H6jMv"
      },
      "source": [
        "nps_b"
      ],
      "execution_count": null,
      "outputs": []
    },
    {
      "cell_type": "code",
      "metadata": {
        "id": "zRjYl-7_5PxO"
      },
      "source": [
        "nps_final_b = round(0.966667 - 0.007576,2)\n",
        "print(f'NPS B: {nps_final_b * 100}')"
      ],
      "execution_count": null,
      "outputs": []
    }
  ]
}